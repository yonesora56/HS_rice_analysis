{
 "cells": [
  {
   "cell_type": "markdown",
   "metadata": {},
   "source": [
    "## HN-score for each sample\n",
    "\n",
    "#### Files Required\n",
    "\n",
    "1. meta-data file\n",
    "2. HN-ration file\n",
    "\n",
    "#### basical approach\n",
    "\n",
    "- Counting per sample by replacing the column name in the file for which the expression ratio is calculated (e.g. SRR22741460 to \"shoot\") with the sample name listed in the metadata"
   ]
  },
  {
   "cell_type": "code",
   "execution_count": 1,
   "metadata": {},
   "outputs": [],
   "source": [
    "import datetime\n",
    "import polars as pl"
   ]
  },
  {
   "cell_type": "code",
   "execution_count": 2,
   "metadata": {},
   "outputs": [
    {
     "name": "stdout",
     "output_type": "stream",
     "text": [
      "2025-05-31 07:16:02.083767\n"
     ]
    }
   ],
   "source": [
    "now = datetime.datetime.now()\n",
    "print(now)"
   ]
  },
  {
   "cell_type": "code",
   "execution_count": 3,
   "metadata": {},
   "outputs": [],
   "source": [
    "# set the threshold\n",
    "threshold = 5"
   ]
  },
  {
   "cell_type": "code",
   "execution_count": 4,
   "metadata": {},
   "outputs": [
    {
     "data": {
      "text/html": [
       "<div><style>\n",
       ".dataframe > thead > tr,\n",
       ".dataframe > tbody > tr {\n",
       "  text-align: right;\n",
       "  white-space: pre-wrap;\n",
       "}\n",
       "</style>\n",
       "<small>shape: (5, 25)</small><table border=\"1\" class=\"dataframe\"><thead><tr><th>All-pair</th><th>Project-pair</th><th>Organism</th><th>Sub-species</th><th>Cultivar</th><th>Genotype</th><th>Simple stress condition</th><th>SRP accession</th><th>GEO Accession</th><th>Stress</th><th>Control</th><th>Library_Layout</th><th>Stress temperature (day/night) (℃)</th><th>Control temperature (day/night)(℃)</th><th>Time</th><th>Heat recovery</th><th>Treatment condition</th><th>Tissue</th><th>Period</th><th>Instrument</th><th>LibrarySelection</th><th>DOI</th><th>GSM_Pair_name</th><th>note</th><th>Technical Note</th></tr><tr><td>i64</td><td>i64</td><td>str</td><td>str</td><td>str</td><td>str</td><td>str</td><td>str</td><td>str</td><td>str</td><td>str</td><td>str</td><td>str</td><td>str</td><td>str</td><td>str</td><td>str</td><td>str</td><td>str</td><td>str</td><td>str</td><td>str</td><td>str</td><td>str</td><td>str</td></tr></thead><tbody><tr><td>1</td><td>1</td><td>&quot;O.sativa&quot;</td><td>&quot;ssp. japonica&quot;</td><td>&quot;Lagrue&quot;</td><td>&quot;WT&quot;</td><td>&quot;HNT_30C_28C_10h&quot;</td><td>&quot;SRP413097&quot;</td><td>&quot;GSE220996&quot;</td><td>&quot;SRR22741460&quot;</td><td>&quot;SRR22741464&quot;</td><td>&quot;PAIRED&quot;</td><td>&quot;30/28&quot;</td><td>&quot;30/22.2&quot;</td><td>&quot;10h&quot;</td><td>null</td><td>&quot;green house&quot;</td><td>&quot;seed-endosperm-R6-caryopsis&quot;</td><td>&quot;R2 stage (booting) - R6 stage …</td><td>&quot;Illumina HiSeq 2000&quot;</td><td>&quot;cDNA&quot;</td><td>&quot;10.1038/s41598-023-31399-w&quot;</td><td>null</td><td>&quot;LaGrue(HNT-tolerant), high-nig…</td><td>null</td></tr><tr><td>2</td><td>2</td><td>&quot;O.sativa&quot;</td><td>&quot;ssp. japonica&quot;</td><td>&quot;Lagrue&quot;</td><td>&quot;WT&quot;</td><td>&quot;HNT_30C_28C_10h&quot;</td><td>&quot;SRP413097&quot;</td><td>&quot;GSE220996&quot;</td><td>&quot;SRR22741461&quot;</td><td>&quot;SRR22741465&quot;</td><td>&quot;PAIRED&quot;</td><td>&quot;30/28&quot;</td><td>&quot;30/22.2&quot;</td><td>&quot;10h&quot;</td><td>null</td><td>&quot;green house&quot;</td><td>&quot;seed-endosperm-R6-caryopsis&quot;</td><td>&quot;R2 stage (booting) - R6 stage …</td><td>&quot;Illumina HiSeq 2000&quot;</td><td>&quot;cDNA&quot;</td><td>&quot;10.1038/s41598-023-31399-w&quot;</td><td>null</td><td>&quot;LaGrue(HNT-tolerant), high-nig…</td><td>null</td></tr><tr><td>3</td><td>3</td><td>&quot;O.sativa&quot;</td><td>&quot;ssp. japonica&quot;</td><td>&quot;Lagrue&quot;</td><td>&quot;WT&quot;</td><td>&quot;HNT_30C_28C_10h&quot;</td><td>&quot;SRP413097&quot;</td><td>&quot;GSE220996&quot;</td><td>&quot;SRR22741462&quot;</td><td>&quot;SRR22741466&quot;</td><td>&quot;PAIRED&quot;</td><td>&quot;30/28&quot;</td><td>&quot;30/22.2&quot;</td><td>&quot;10h&quot;</td><td>null</td><td>&quot;green house&quot;</td><td>&quot;seed-endosperm-R6-caryopsis&quot;</td><td>&quot;R2 stage (booting) - R6 stage …</td><td>&quot;Illumina HiSeq 2000&quot;</td><td>&quot;cDNA&quot;</td><td>&quot;10.1038/s41598-023-31399-w&quot;</td><td>null</td><td>&quot;LaGrue(HNT-tolerant), high-nig…</td><td>null</td></tr><tr><td>4</td><td>4</td><td>&quot;O.sativa&quot;</td><td>&quot;ssp. japonica&quot;</td><td>&quot;Lagrue&quot;</td><td>&quot;WT&quot;</td><td>&quot;HNT_30C_28C_10h&quot;</td><td>&quot;SRP413097&quot;</td><td>&quot;GSE220996&quot;</td><td>&quot;SRR22741463&quot;</td><td>&quot;SRR22741467&quot;</td><td>&quot;PAIRED&quot;</td><td>&quot;30/28&quot;</td><td>&quot;30/22.2&quot;</td><td>&quot;10h&quot;</td><td>null</td><td>&quot;green house&quot;</td><td>&quot;seed-endosperm-R6-caryopsis&quot;</td><td>&quot;R2 stage (booting) - R6 stage …</td><td>&quot;Illumina HiSeq 2000&quot;</td><td>&quot;cDNA&quot;</td><td>&quot;10.1038/s41598-023-31399-w&quot;</td><td>null</td><td>&quot;LaGrue(HNT-tolerant), high-nig…</td><td>null</td></tr><tr><td>5</td><td>5</td><td>&quot;O.sativa&quot;</td><td>&quot;ssp. japonica&quot;</td><td>&quot;Cypress&quot;</td><td>&quot;WT&quot;</td><td>&quot;HNT_30C_28C_10h&quot;</td><td>&quot;SRP413097&quot;</td><td>&quot;GSE220996&quot;</td><td>&quot;SRR22741468&quot;</td><td>&quot;SRR22741472&quot;</td><td>&quot;PAIRED&quot;</td><td>&quot;30/28&quot;</td><td>&quot;30/22.2&quot;</td><td>&quot;10h&quot;</td><td>null</td><td>&quot;green house&quot;</td><td>&quot;seed-endosperm-R6-caryopsis&quot;</td><td>&quot;R2 stage (booting) - R6 stage …</td><td>&quot;Illumina HiSeq 2000&quot;</td><td>&quot;cDNA&quot;</td><td>&quot;10.1038/s41598-023-31399-w&quot;</td><td>null</td><td>&quot;Cypress(HNT-sensitive), high-n…</td><td>null</td></tr></tbody></table></div>"
      ],
      "text/plain": [
       "shape: (5, 25)\n",
       "┌──────────┬────────────┬──────────┬───────────┬───┬───────────┬───────────┬───────────┬───────────┐\n",
       "│ All-pair ┆ Project-pa ┆ Organism ┆ Sub-speci ┆ … ┆ DOI       ┆ GSM_Pair_ ┆ note      ┆ Technical │\n",
       "│ ---      ┆ ir         ┆ ---      ┆ es        ┆   ┆ ---       ┆ name      ┆ ---       ┆ Note      │\n",
       "│ i64      ┆ ---        ┆ str      ┆ ---       ┆   ┆ str       ┆ ---       ┆ str       ┆ ---       │\n",
       "│          ┆ i64        ┆          ┆ str       ┆   ┆           ┆ str       ┆           ┆ str       │\n",
       "╞══════════╪════════════╪══════════╪═══════════╪═══╪═══════════╪═══════════╪═══════════╪═══════════╡\n",
       "│ 1        ┆ 1          ┆ O.sativa ┆ ssp.      ┆ … ┆ 10.1038/s ┆ null      ┆ LaGrue(HN ┆ null      │\n",
       "│          ┆            ┆          ┆ japonica  ┆   ┆ 41598-023 ┆           ┆ T-toleran ┆           │\n",
       "│          ┆            ┆          ┆           ┆   ┆ -31399-w  ┆           ┆ t),       ┆           │\n",
       "│          ┆            ┆          ┆           ┆   ┆           ┆           ┆ high-nig… ┆           │\n",
       "│ 2        ┆ 2          ┆ O.sativa ┆ ssp.      ┆ … ┆ 10.1038/s ┆ null      ┆ LaGrue(HN ┆ null      │\n",
       "│          ┆            ┆          ┆ japonica  ┆   ┆ 41598-023 ┆           ┆ T-toleran ┆           │\n",
       "│          ┆            ┆          ┆           ┆   ┆ -31399-w  ┆           ┆ t),       ┆           │\n",
       "│          ┆            ┆          ┆           ┆   ┆           ┆           ┆ high-nig… ┆           │\n",
       "│ 3        ┆ 3          ┆ O.sativa ┆ ssp.      ┆ … ┆ 10.1038/s ┆ null      ┆ LaGrue(HN ┆ null      │\n",
       "│          ┆            ┆          ┆ japonica  ┆   ┆ 41598-023 ┆           ┆ T-toleran ┆           │\n",
       "│          ┆            ┆          ┆           ┆   ┆ -31399-w  ┆           ┆ t),       ┆           │\n",
       "│          ┆            ┆          ┆           ┆   ┆           ┆           ┆ high-nig… ┆           │\n",
       "│ 4        ┆ 4          ┆ O.sativa ┆ ssp.      ┆ … ┆ 10.1038/s ┆ null      ┆ LaGrue(HN ┆ null      │\n",
       "│          ┆            ┆          ┆ japonica  ┆   ┆ 41598-023 ┆           ┆ T-toleran ┆           │\n",
       "│          ┆            ┆          ┆           ┆   ┆ -31399-w  ┆           ┆ t),       ┆           │\n",
       "│          ┆            ┆          ┆           ┆   ┆           ┆           ┆ high-nig… ┆           │\n",
       "│ 5        ┆ 5          ┆ O.sativa ┆ ssp.      ┆ … ┆ 10.1038/s ┆ null      ┆ Cypress(H ┆ null      │\n",
       "│          ┆            ┆          ┆ japonica  ┆   ┆ 41598-023 ┆           ┆ NT-sensit ┆           │\n",
       "│          ┆            ┆          ┆           ┆   ┆ -31399-w  ┆           ┆ ive),     ┆           │\n",
       "│          ┆            ┆          ┆           ┆   ┆           ┆           ┆ high-n…   ┆           │\n",
       "└──────────┴────────────┴──────────┴───────────┴───┴───────────┴───────────┴───────────┴───────────┘"
      ]
     },
     "metadata": {},
     "output_type": "display_data"
    }
   ],
   "source": [
    "# polars method: https://docs.pola.rs/api/python/stable/reference/expressions/api/polars.Expr.str.replace_all.html#polars-expr-str-replace-all\n",
    "\n",
    "metadata = pl.read_csv(\n",
    "    \"../Data/01_Metadata/HS_rice_meta-data.csv\",\n",
    "    separator=\",\"\n",
    ").with_columns([\n",
    "    pl.col(\"Tissue\") # remove space\n",
    "        .str.replace_all(\",\", \" \")  # , to space\n",
    "        .str.replace_all(r\"\\s+\", \" \")  # replace continuous spaces with one space\n",
    "        .str.replace_all(r\"[()]\", \"\")  # remove parentheses (  )\n",
    "        .str.replace_all(r\"\\s+$\", \"\")  # remove trailing spaces ('\\s+' matches any whitespace character, and '$' matches the end of the string)\n",
    "        .str.replace_all(\" \", \"-\")  # replace remaining spaces with hyphen\n",
    "    ]\n",
    ")\n",
    "display(metadata.head())"
   ]
  },
  {
   "cell_type": "code",
   "execution_count": 5,
   "metadata": {},
   "outputs": [
    {
     "data": {
      "text/html": [
       "<div><style>\n",
       ".dataframe > thead > tr,\n",
       ".dataframe > tbody > tr {\n",
       "  text-align: right;\n",
       "  white-space: pre-wrap;\n",
       "}\n",
       "</style>\n",
       "<small>shape: (35_691, 361)</small><table border=\"1\" class=\"dataframe\"><thead><tr><th>GENEID</th><th>SRR22741460</th><th>SRR22741461</th><th>SRR22741462</th><th>SRR22741463</th><th>SRR22741468</th><th>SRR22741469</th><th>SRR22741470</th><th>SRR22741471</th><th>SRR10991576</th><th>SRR10991577</th><th>SRR10991578</th><th>SRR10991582</th><th>SRR10991583</th><th>SRR10991584</th><th>SRR8140273</th><th>SRR8140274</th><th>SRR8140275</th><th>SRR8140276</th><th>SRR8140277</th><th>SRR8140278</th><th>SRR8140285</th><th>SRR8140286</th><th>SRR8140287</th><th>SRR8140288</th><th>SRR8140289</th><th>SRR8140290</th><th>SRR10423442</th><th>SRR10423443</th><th>SRR10423444</th><th>SRR10423430</th><th>SRR10423431</th><th>SRR10423432</th><th>SRR10423433</th><th>SRR10423434</th><th>SRR10423435</th><th>SRR10423418</th><th>&hellip;</th><th>SRR15060432</th><th>SRR15060433</th><th>SRR15060434</th><th>SRR15060435</th><th>SRR15060436</th><th>SRR15060437</th><th>SRR15060438</th><th>SRR15060439</th><th>SRR15060440</th><th>SRR15060441</th><th>SRR15060442</th><th>SRR15060443</th><th>SRR15060444</th><th>SRR15060445</th><th>SRR15060446</th><th>SRR15060447</th><th>SRR15060448</th><th>SRR15060449</th><th>SRR15060450</th><th>SRR15060451</th><th>SRR15060452</th><th>SRR15060453</th><th>SRR15060454</th><th>SRR15060455</th><th>SRR15060456</th><th>SRR22854097</th><th>SRR22854098</th><th>SRR22854099</th><th>SRR22854094</th><th>SRR22854095</th><th>SRR22854096</th><th>SRR23051879</th><th>SRR23051878</th><th>SRR23051877</th><th>SRR23051876</th><th>SRR23051875</th><th>SRR23051874</th></tr><tr><td>str</td><td>f64</td><td>f64</td><td>f64</td><td>f64</td><td>f64</td><td>f64</td><td>f64</td><td>f64</td><td>f64</td><td>f64</td><td>f64</td><td>f64</td><td>f64</td><td>f64</td><td>f64</td><td>f64</td><td>f64</td><td>f64</td><td>f64</td><td>f64</td><td>f64</td><td>f64</td><td>f64</td><td>f64</td><td>f64</td><td>f64</td><td>f64</td><td>f64</td><td>f64</td><td>f64</td><td>f64</td><td>f64</td><td>f64</td><td>f64</td><td>f64</td><td>f64</td><td>&hellip;</td><td>f64</td><td>f64</td><td>f64</td><td>f64</td><td>f64</td><td>f64</td><td>f64</td><td>f64</td><td>f64</td><td>f64</td><td>f64</td><td>f64</td><td>f64</td><td>f64</td><td>f64</td><td>f64</td><td>f64</td><td>f64</td><td>f64</td><td>f64</td><td>f64</td><td>f64</td><td>f64</td><td>f64</td><td>f64</td><td>f64</td><td>f64</td><td>f64</td><td>f64</td><td>f64</td><td>f64</td><td>f64</td><td>f64</td><td>f64</td><td>f64</td><td>f64</td><td>f64</td></tr></thead><tbody><tr><td>&quot;EPlORYSAT000373610&quot;</td><td>1.0</td><td>1.0</td><td>64.003051</td><td>64.326859</td><td>0.015755</td><td>1.0</td><td>1.0</td><td>1.0</td><td>1.0</td><td>1.0</td><td>1.0</td><td>1.0</td><td>1.0</td><td>1.0</td><td>1.0</td><td>1.0</td><td>1.0</td><td>1.0</td><td>1.0</td><td>1.0</td><td>1.0</td><td>1.0</td><td>1.0</td><td>1.0</td><td>1.0</td><td>1.0</td><td>1.0</td><td>1.0</td><td>1.0</td><td>1.0</td><td>1.0</td><td>1.0</td><td>1.0</td><td>1.0</td><td>1.0</td><td>1.0</td><td>&hellip;</td><td>1.0</td><td>1.0</td><td>1.0</td><td>1.0</td><td>1.0</td><td>1.0</td><td>1.0</td><td>1.0</td><td>1.0</td><td>1.0</td><td>1.0</td><td>1.0</td><td>188.995833</td><td>1.0</td><td>1.0</td><td>1.0</td><td>1.0</td><td>1.0</td><td>1.0</td><td>1.0</td><td>1.0</td><td>200.462188</td><td>1.0</td><td>1.0</td><td>1.0</td><td>0.017064</td><td>1.0</td><td>70.185139</td><td>1.284229</td><td>1.0</td><td>1.0</td><td>1.0</td><td>1.0</td><td>1.0</td><td>1.0</td><td>1.0</td><td>1.0</td></tr><tr><td>&quot;EPlORYSAT000373621&quot;</td><td>1.0</td><td>1.0</td><td>1.0</td><td>1.0</td><td>1.0</td><td>1.0</td><td>1.0</td><td>1.0</td><td>1.0</td><td>1.0</td><td>1.0</td><td>1.0</td><td>1.0</td><td>1.0</td><td>1.0</td><td>1.0</td><td>1.0</td><td>1.0</td><td>1.0</td><td>1.0</td><td>1.0</td><td>1.0</td><td>1.0</td><td>1.0</td><td>1.0</td><td>1.0</td><td>1.0</td><td>1.0</td><td>1.0</td><td>1.0</td><td>1.0</td><td>1.0</td><td>1.0</td><td>1.0</td><td>1.0</td><td>1.0</td><td>&hellip;</td><td>1.0</td><td>1.0</td><td>1.0</td><td>1.0</td><td>1.0</td><td>1.0</td><td>1.0</td><td>1.0</td><td>1.0</td><td>1.0</td><td>1.0</td><td>1.0</td><td>1.0</td><td>1.0</td><td>1.0</td><td>1.0</td><td>1.0</td><td>1.0</td><td>1.0</td><td>1.0</td><td>1.0</td><td>1.0</td><td>1.0</td><td>1.0</td><td>1.0</td><td>1.0</td><td>1.0</td><td>1.0</td><td>1.0</td><td>1.0</td><td>1.0</td><td>1.0</td><td>1.0</td><td>1.0</td><td>1.0</td><td>1.0</td><td>1.0</td></tr><tr><td>&quot;EPlORYSAT000373643&quot;</td><td>1.0</td><td>1.0</td><td>1.0</td><td>1.0</td><td>1.0</td><td>1.0</td><td>1.0</td><td>1.0</td><td>1.0</td><td>1.0</td><td>1.0</td><td>1.0</td><td>1.0</td><td>1.0</td><td>1.0</td><td>1.0</td><td>1.0</td><td>1.0</td><td>1.0</td><td>1.0</td><td>1.0</td><td>1.0</td><td>1.0</td><td>1.0</td><td>1.0</td><td>1.0</td><td>1.0</td><td>1.0</td><td>1.0</td><td>1.0</td><td>1.0</td><td>1.0</td><td>1.0</td><td>1.0</td><td>1.0</td><td>1.0</td><td>&hellip;</td><td>1.0</td><td>1.0</td><td>1.0</td><td>1.0</td><td>1.0</td><td>1.0</td><td>1.0</td><td>1.0</td><td>1.0</td><td>1.0</td><td>1.0</td><td>1.0</td><td>1.0</td><td>1.0</td><td>1.0</td><td>1.0</td><td>1.0</td><td>1.0</td><td>1.0</td><td>1.0</td><td>1.0</td><td>1.0</td><td>1.0</td><td>1.0</td><td>1.0</td><td>1.0</td><td>1.0</td><td>1.0</td><td>1.0</td><td>1.0</td><td>1.0</td><td>1.0</td><td>1.0</td><td>1.0</td><td>1.0</td><td>1.0</td><td>1.0</td></tr><tr><td>&quot;EPlORYSAT000373795&quot;</td><td>1.0</td><td>1.0</td><td>1.0</td><td>1.0</td><td>1.0</td><td>1.0</td><td>1.0</td><td>1.0</td><td>1.0</td><td>1.0</td><td>1.0</td><td>1.0</td><td>1.0</td><td>1.0</td><td>1.0</td><td>1.0</td><td>1.0</td><td>1.0</td><td>1.0</td><td>1.0</td><td>1.0</td><td>1.0</td><td>1.0</td><td>1.0</td><td>1.0</td><td>1.0</td><td>1.0</td><td>1.0</td><td>1.0</td><td>1.0</td><td>1.0</td><td>1.0</td><td>1.0</td><td>1.0</td><td>1.0</td><td>1.0</td><td>&hellip;</td><td>1.0</td><td>1.0</td><td>1.0</td><td>1.0</td><td>1.0</td><td>1.0</td><td>1.0</td><td>1.0</td><td>1.0</td><td>1.0</td><td>1.0</td><td>1.0</td><td>1.0</td><td>1.0</td><td>1.0</td><td>1.0</td><td>1.0</td><td>1.0</td><td>1.0</td><td>1.0</td><td>1.0</td><td>1.0</td><td>1.0</td><td>1.0</td><td>1.0</td><td>1.0</td><td>1.0</td><td>1.0</td><td>1.0</td><td>1.0</td><td>1.0</td><td>1.0</td><td>1.0</td><td>1.0</td><td>1.0</td><td>1.0</td><td>1.0</td></tr><tr><td>&quot;EPlORYSAT000373851&quot;</td><td>1.0</td><td>1.0</td><td>1.0</td><td>1.0</td><td>1.0</td><td>1.0</td><td>1.0</td><td>1.0</td><td>1.0</td><td>1.0</td><td>1.0</td><td>1.0</td><td>1.0</td><td>1.0</td><td>1.0</td><td>1.0</td><td>1.0</td><td>1.0</td><td>1.0</td><td>1.0</td><td>1.0</td><td>1.0</td><td>1.0</td><td>1.0</td><td>1.0</td><td>1.0</td><td>1.0</td><td>1.0</td><td>1.0</td><td>1.0</td><td>1.0</td><td>1.0</td><td>1.0</td><td>1.0</td><td>1.0</td><td>1.0</td><td>&hellip;</td><td>1.0</td><td>1.0</td><td>1.0</td><td>1.0</td><td>1.0</td><td>1.0</td><td>1.0</td><td>1.0</td><td>1.0</td><td>1.0</td><td>1.0</td><td>1.0</td><td>1.0</td><td>1.0</td><td>1.0</td><td>1.0</td><td>1.0</td><td>1.0</td><td>1.0</td><td>1.0</td><td>1.0</td><td>1.0</td><td>1.0</td><td>1.0</td><td>1.0</td><td>1.0</td><td>1.0</td><td>1.0</td><td>1.0</td><td>1.0</td><td>1.0</td><td>1.0</td><td>1.0</td><td>1.0</td><td>1.0</td><td>1.0</td><td>1.0</td></tr><tr><td>&hellip;</td><td>&hellip;</td><td>&hellip;</td><td>&hellip;</td><td>&hellip;</td><td>&hellip;</td><td>&hellip;</td><td>&hellip;</td><td>&hellip;</td><td>&hellip;</td><td>&hellip;</td><td>&hellip;</td><td>&hellip;</td><td>&hellip;</td><td>&hellip;</td><td>&hellip;</td><td>&hellip;</td><td>&hellip;</td><td>&hellip;</td><td>&hellip;</td><td>&hellip;</td><td>&hellip;</td><td>&hellip;</td><td>&hellip;</td><td>&hellip;</td><td>&hellip;</td><td>&hellip;</td><td>&hellip;</td><td>&hellip;</td><td>&hellip;</td><td>&hellip;</td><td>&hellip;</td><td>&hellip;</td><td>&hellip;</td><td>&hellip;</td><td>&hellip;</td><td>&hellip;</td><td>&hellip;</td><td>&hellip;</td><td>&hellip;</td><td>&hellip;</td><td>&hellip;</td><td>&hellip;</td><td>&hellip;</td><td>&hellip;</td><td>&hellip;</td><td>&hellip;</td><td>&hellip;</td><td>&hellip;</td><td>&hellip;</td><td>&hellip;</td><td>&hellip;</td><td>&hellip;</td><td>&hellip;</td><td>&hellip;</td><td>&hellip;</td><td>&hellip;</td><td>&hellip;</td><td>&hellip;</td><td>&hellip;</td><td>&hellip;</td><td>&hellip;</td><td>&hellip;</td><td>&hellip;</td><td>&hellip;</td><td>&hellip;</td><td>&hellip;</td><td>&hellip;</td><td>&hellip;</td><td>&hellip;</td><td>&hellip;</td><td>&hellip;</td><td>&hellip;</td><td>&hellip;</td><td>&hellip;</td></tr><tr><td>&quot;Os12g0641100&quot;</td><td>0.330482</td><td>0.881209</td><td>0.498074</td><td>0.510708</td><td>0.808446</td><td>0.986463</td><td>1.23701</td><td>0.690745</td><td>1.967604</td><td>2.090501</td><td>1.667619</td><td>0.663144</td><td>0.915042</td><td>1.175697</td><td>0.290975</td><td>0.287567</td><td>0.243554</td><td>0.240388</td><td>0.361402</td><td>0.367039</td><td>0.361091</td><td>0.361422</td><td>0.356863</td><td>0.362518</td><td>0.45673</td><td>0.463282</td><td>5.218504</td><td>3.569581</td><td>3.710993</td><td>2.168091</td><td>1.36272</td><td>1.019475</td><td>2.594985</td><td>1.684937</td><td>1.135803</td><td>10.381417</td><td>&hellip;</td><td>1.254025</td><td>0.520597</td><td>1.459464</td><td>0.983362</td><td>0.992884</td><td>1.093461</td><td>1.780748</td><td>1.34706</td><td>1.17272</td><td>2.118824</td><td>1.495923</td><td>1.029656</td><td>0.80882</td><td>1.615215</td><td>1.139736</td><td>0.948756</td><td>0.962316</td><td>0.721113</td><td>1.061525</td><td>1.037891</td><td>1.287411</td><td>2.775175</td><td>0.525017</td><td>2.270865</td><td>0.577094</td><td>0.639495</td><td>0.560287</td><td>0.520431</td><td>0.792163</td><td>0.735383</td><td>0.738452</td><td>1.377318</td><td>0.974089</td><td>0.60175</td><td>0.558296</td><td>0.972543</td><td>1.624633</td></tr><tr><td>&quot;Os12g0641200&quot;</td><td>1.0</td><td>1.0</td><td>1.0</td><td>1.0</td><td>1.0</td><td>1.0</td><td>1.0</td><td>1.0</td><td>1.34581</td><td>1.337851</td><td>0.722855</td><td>0.202596</td><td>0.310684</td><td>0.482447</td><td>2.147339</td><td>2.66812</td><td>2.470606</td><td>2.420584</td><td>1.210811</td><td>1.68822</td><td>1.782365</td><td>2.02234</td><td>0.864469</td><td>0.57654</td><td>2.820844</td><td>3.900592</td><td>1.0</td><td>1.0</td><td>1.363146</td><td>0.224637</td><td>2.561818</td><td>5.592903</td><td>0.891283</td><td>1.0</td><td>2.886571</td><td>0.399646</td><td>&hellip;</td><td>1.626003</td><td>0.554418</td><td>2.327543</td><td>0.708659</td><td>1.253904</td><td>0.747667</td><td>1.21419</td><td>1.394378</td><td>0.3072</td><td>1.54719</td><td>0.853705</td><td>0.422481</td><td>0.317257</td><td>2.731734</td><td>1.396359</td><td>1.205544</td><td>0.483574</td><td>0.733506</td><td>0.479358</td><td>0.468497</td><td>1.266185</td><td>1.540311</td><td>0.340326</td><td>0.938826</td><td>0.744195</td><td>0.902789</td><td>0.293271</td><td>0.734621</td><td>2.713237</td><td>0.723214</td><td>1.469847</td><td>8.251797</td><td>12.227851</td><td>3.864073</td><td>1.986833</td><td>0.582545</td><td>14.041889</td></tr><tr><td>&quot;Os12g0641300&quot;</td><td>1.0</td><td>1.0</td><td>1.0</td><td>1.0</td><td>0.316684</td><td>1.0</td><td>1.0</td><td>1.0</td><td>1.814044</td><td>1.959658</td><td>1.651451</td><td>0.363303</td><td>0.489477</td><td>0.513967</td><td>2.183846</td><td>2.08417</td><td>1.371521</td><td>1.332527</td><td>1.70133</td><td>1.59343</td><td>2.331243</td><td>2.217381</td><td>1.709113</td><td>1.78951</td><td>2.844805</td><td>2.677968</td><td>0.253169</td><td>0.211079</td><td>0.145295</td><td>1.157339</td><td>1.6192</td><td>1.448443</td><td>1.300356</td><td>2.497598</td><td>1.559386</td><td>1.36379</td><td>&hellip;</td><td>1.137144</td><td>0.462542</td><td>1.408695</td><td>0.915513</td><td>0.854722</td><td>0.741904</td><td>1.555971</td><td>1.282565</td><td>1.182925</td><td>1.995457</td><td>1.473107</td><td>1.037217</td><td>0.94501</td><td>2.389791</td><td>1.674603</td><td>1.253617</td><td>1.145706</td><td>0.964097</td><td>1.156783</td><td>1.536818</td><td>0.871979</td><td>1.831006</td><td>0.543172</td><td>2.212088</td><td>0.656573</td><td>1.132524</td><td>0.721943</td><td>0.54759</td><td>1.798458</td><td>1.377382</td><td>1.720096</td><td>1.417665</td><td>1.672338</td><td>1.197103</td><td>0.377292</td><td>1.064871</td><td>1.447654</td></tr><tr><td>&quot;Os12g0641400&quot;</td><td>0.656297</td><td>0.944844</td><td>0.682396</td><td>0.827123</td><td>0.600326</td><td>1.508617</td><td>0.951318</td><td>0.385374</td><td>1.11855</td><td>1.06925</td><td>1.000182</td><td>0.951502</td><td>1.288889</td><td>1.349027</td><td>0.777332</td><td>0.783799</td><td>0.715868</td><td>0.711444</td><td>0.690354</td><td>0.699451</td><td>0.817806</td><td>0.806047</td><td>0.577829</td><td>0.580564</td><td>0.900966</td><td>0.90491</td><td>2.492621</td><td>3.345792</td><td>2.583717</td><td>1.302779</td><td>1.227777</td><td>0.929066</td><td>1.208109</td><td>1.311805</td><td>0.985016</td><td>1.73784</td><td>&hellip;</td><td>1.14999</td><td>0.401833</td><td>1.203462</td><td>0.904723</td><td>0.752594</td><td>0.545916</td><td>0.987183</td><td>0.839881</td><td>0.904542</td><td>1.304546</td><td>1.016111</td><td>0.715164</td><td>0.688706</td><td>1.305155</td><td>0.979802</td><td>0.888161</td><td>0.72413</td><td>0.595877</td><td>0.785112</td><td>0.914574</td><td>0.664386</td><td>1.343614</td><td>0.443142</td><td>1.710404</td><td>0.427035</td><td>0.573803</td><td>0.430716</td><td>0.43136</td><td>0.943933</td><td>0.783158</td><td>0.879249</td><td>0.73665</td><td>1.022858</td><td>0.340235</td><td>0.377274</td><td>0.546013</td><td>1.023622</td></tr><tr><td>&quot;Os12g0641500&quot;</td><td>0.854</td><td>1.063454</td><td>0.821973</td><td>1.081992</td><td>0.896639</td><td>0.827501</td><td>1.177691</td><td>0.871535</td><td>1.795138</td><td>1.864458</td><td>1.489137</td><td>1.389437</td><td>2.199542</td><td>2.876902</td><td>0.411915</td><td>0.419311</td><td>0.348308</td><td>0.343535</td><td>0.480602</td><td>0.49441</td><td>0.556721</td><td>0.556653</td><td>0.465437</td><td>0.466151</td><td>0.646637</td><td>0.65308</td><td>9.08905</td><td>5.356792</td><td>11.442835</td><td>2.955065</td><td>1.156059</td><td>1.259709</td><td>2.453632</td><td>1.427103</td><td>1.322571</td><td>4.541973</td><td>&hellip;</td><td>1.223966</td><td>0.4179</td><td>1.268587</td><td>0.841521</td><td>1.169084</td><td>1.112873</td><td>1.949383</td><td>1.470266</td><td>1.041914</td><td>1.873556</td><td>1.35495</td><td>0.844412</td><td>0.854512</td><td>1.713295</td><td>1.243602</td><td>1.005852</td><td>0.970481</td><td>0.733052</td><td>0.999838</td><td>1.092754</td><td>1.292979</td><td>2.592577</td><td>0.481811</td><td>2.315379</td><td>0.512562</td><td>0.975283</td><td>0.532336</td><td>0.536193</td><td>1.636216</td><td>1.094168</td><td>0.965324</td><td>1.285873</td><td>1.251288</td><td>0.621946</td><td>1.115922</td><td>1.046188</td><td>1.598548</td></tr></tbody></table></div>"
      ],
      "text/plain": [
       "shape: (35_691, 361)\n",
       "┌───────────┬───────────┬───────────┬───────────┬───┬───────────┬───────────┬───────────┬──────────┐\n",
       "│ GENEID    ┆ SRR227414 ┆ SRR227414 ┆ SRR227414 ┆ … ┆ SRR230518 ┆ SRR230518 ┆ SRR230518 ┆ SRR23051 │\n",
       "│ ---       ┆ 60        ┆ 61        ┆ 62        ┆   ┆ 77        ┆ 76        ┆ 75        ┆ 874      │\n",
       "│ str       ┆ ---       ┆ ---       ┆ ---       ┆   ┆ ---       ┆ ---       ┆ ---       ┆ ---      │\n",
       "│           ┆ f64       ┆ f64       ┆ f64       ┆   ┆ f64       ┆ f64       ┆ f64       ┆ f64      │\n",
       "╞═══════════╪═══════════╪═══════════╪═══════════╪═══╪═══════════╪═══════════╪═══════════╪══════════╡\n",
       "│ EPlORYSAT ┆ 1.0       ┆ 1.0       ┆ 64.003051 ┆ … ┆ 1.0       ┆ 1.0       ┆ 1.0       ┆ 1.0      │\n",
       "│ 000373610 ┆           ┆           ┆           ┆   ┆           ┆           ┆           ┆          │\n",
       "│ EPlORYSAT ┆ 1.0       ┆ 1.0       ┆ 1.0       ┆ … ┆ 1.0       ┆ 1.0       ┆ 1.0       ┆ 1.0      │\n",
       "│ 000373621 ┆           ┆           ┆           ┆   ┆           ┆           ┆           ┆          │\n",
       "│ EPlORYSAT ┆ 1.0       ┆ 1.0       ┆ 1.0       ┆ … ┆ 1.0       ┆ 1.0       ┆ 1.0       ┆ 1.0      │\n",
       "│ 000373643 ┆           ┆           ┆           ┆   ┆           ┆           ┆           ┆          │\n",
       "│ EPlORYSAT ┆ 1.0       ┆ 1.0       ┆ 1.0       ┆ … ┆ 1.0       ┆ 1.0       ┆ 1.0       ┆ 1.0      │\n",
       "│ 000373795 ┆           ┆           ┆           ┆   ┆           ┆           ┆           ┆          │\n",
       "│ EPlORYSAT ┆ 1.0       ┆ 1.0       ┆ 1.0       ┆ … ┆ 1.0       ┆ 1.0       ┆ 1.0       ┆ 1.0      │\n",
       "│ 000373851 ┆           ┆           ┆           ┆   ┆           ┆           ┆           ┆          │\n",
       "│ …         ┆ …         ┆ …         ┆ …         ┆ … ┆ …         ┆ …         ┆ …         ┆ …        │\n",
       "│ Os12g0641 ┆ 0.330482  ┆ 0.881209  ┆ 0.498074  ┆ … ┆ 0.60175   ┆ 0.558296  ┆ 0.972543  ┆ 1.624633 │\n",
       "│ 100       ┆           ┆           ┆           ┆   ┆           ┆           ┆           ┆          │\n",
       "│ Os12g0641 ┆ 1.0       ┆ 1.0       ┆ 1.0       ┆ … ┆ 3.864073  ┆ 1.986833  ┆ 0.582545  ┆ 14.04188 │\n",
       "│ 200       ┆           ┆           ┆           ┆   ┆           ┆           ┆           ┆ 9        │\n",
       "│ Os12g0641 ┆ 1.0       ┆ 1.0       ┆ 1.0       ┆ … ┆ 1.197103  ┆ 0.377292  ┆ 1.064871  ┆ 1.447654 │\n",
       "│ 300       ┆           ┆           ┆           ┆   ┆           ┆           ┆           ┆          │\n",
       "│ Os12g0641 ┆ 0.656297  ┆ 0.944844  ┆ 0.682396  ┆ … ┆ 0.340235  ┆ 0.377274  ┆ 0.546013  ┆ 1.023622 │\n",
       "│ 400       ┆           ┆           ┆           ┆   ┆           ┆           ┆           ┆          │\n",
       "│ Os12g0641 ┆ 0.854     ┆ 1.063454  ┆ 0.821973  ┆ … ┆ 0.621946  ┆ 1.115922  ┆ 1.046188  ┆ 1.598548 │\n",
       "│ 500       ┆           ┆           ┆           ┆   ┆           ┆           ┆           ┆          │\n",
       "└───────────┴───────────┴───────────┴───────────┴───┴───────────┴───────────┴───────────┴──────────┘"
      ]
     },
     "metadata": {},
     "output_type": "display_data"
    }
   ],
   "source": [
    "HNratio = pl.read_csv(\n",
    "    \"../Data/05_HNratio/HNratio_rice_250524_all.csv\", \n",
    "    separator=\",\"\n",
    ")\n",
    "\n",
    "display(HNratio)"
   ]
  },
  {
   "cell_type": "code",
   "execution_count": 6,
   "metadata": {},
   "outputs": [
    {
     "name": "stdout",
     "output_type": "stream",
     "text": [
      "{'SRR22741460': 'HNT_30C_28C_10h', 'SRR22741461': 'HNT_30C_28C_10h', 'SRR22741462': 'HNT_30C_28C_10h', 'SRR22741463': 'HNT_30C_28C_10h', 'SRR22741468': 'HNT_30C_28C_10h', 'SRR22741469': 'HNT_30C_28C_10h', 'SRR22741470': 'HNT_30C_28C_10h', 'SRR22741471': 'HNT_30C_28C_10h', 'SRR10991576': 'HSt_45C_36h', 'SRR10991577': 'HSt_45C_36h', 'SRR10991578': 'HSt_45C_36h', 'SRR10991582': 'HSt_45C_36h', 'SRR10991583': 'HSt_45C_36h', 'SRR10991584': 'HSt_45C_36h', 'SRR8140273': 'HSt_45C_4h', 'SRR8140274': 'HSt_45C_4h', 'SRR8140275': 'HSt_45C_4h', 'SRR8140276': 'HSt_45C_4h', 'SRR8140277': 'HSt_45C_4h', 'SRR8140278': 'HSt_45C_4h', 'SRR8140285': 'HSt_45C_4h', 'SRR8140286': 'HSt_45C_4h', 'SRR8140287': 'HSt_45C_4h', 'SRR8140288': 'HSt_45C_4h', 'SRR8140289': 'HSt_45C_4h', 'SRR8140290': 'HSt_45C_4h', 'SRR10423442': 'HSt_35C_longterm', 'SRR10423443': 'HSt_35C_longterm', 'SRR10423444': 'HSt_35C_longterm', 'SRR10423430': 'HSt_35C_longterm', 'SRR10423431': 'HSt_35C_longterm', 'SRR10423432': 'HSt_35C_longterm', 'SRR10423433': 'HSt_35C_longterm', 'SRR10423434': 'HSt_35C_longterm', 'SRR10423435': 'HSt_35C_longterm', 'SRR10423418': 'HSt_35C_longterm', 'SRR10423419': 'HSt_35C_longterm', 'SRR10423420': 'HSt_35C_longterm', 'SRR10423421': 'HSt_35C_longterm', 'SRR10423422': 'HSt_35C_longterm', 'SRR10423423': 'HSt_35C_longterm', 'SRR5796950': 'HSh_42C_10min', 'SRR5796951': 'HSh_42C_10min', 'SRR5796952': 'HSh_42C_10min_recov', 'SRR5796953': 'HSh_42C_10min_recov', 'SRR5796954': 'HSh_42C_10min_recov', 'SRR5796955': 'HSh_42C_10min_recov', 'SRR5796956': 'HSh_42C_10min_recov', 'SRR5796957': 'HSh_42C_10min_recov', 'SRR5796958': 'HSh_42C_10min_recov', 'SRR5796959': 'HSh_42C_10min_recov', 'SRR2931075': 'HSh_40C_15min_recov', 'SRR2931076': 'HSh_40C_15min', 'SRR2931077': 'HSh_40C_30min', 'SRR2931078': 'HSh_40C_30min', 'SRR2931079': 'HSh_40C_45min', 'SRR2931080': 'HSh_40C_45min', 'SRR2931081': 'HSh_40C_60min', 'SRR2931082': 'HSh_40C_60min', 'SRR2931083': 'HSh_40C_75min', 'SRR2931084': 'HSh_40C_75min', 'SRR2931085': 'HSh_40C_90min', 'SRR2931086': 'HSh_40C_90min', 'SRR2931087': 'HSh_40C_105min', 'SRR2931088': 'HSh_40C_105min', 'SRR2931089': 'HSh_40C_120min', 'SRR2931090': 'HSh_40C_120min', 'SRR2931091': 'HSh_40C_135min', 'SRR2931092': 'HSh_40C_135min', 'SRR2931093': 'HSh_40C_150min', 'SRR2931094': 'HSh_40C_150min', 'SRR2931095': 'HSh_40C_165min', 'SRR2931096': 'HSh_40C_165min', 'SRR2931097': 'HSh_40C_180min', 'SRR2931098': 'HSh_40C_180min', 'SRR2931099': 'HSh_40C_195min', 'SRR2931100': 'HSh_40C_195min', 'SRR2931101': 'HSh_40C_210min', 'SRR2931102': 'HSh_40C_210min', 'SRR2931103': 'HSh_40C_225min', 'SRR2931104': 'HSh_40C_225min', 'SRR2931105': 'HSh_40C_240min', 'SRR2931106': 'HSh_40C_240min', 'SRR2931107': 'HSh_40C_135min_recov', 'SRR2931108': 'HSh_40C_135min_recov', 'SRR2931109': 'HSh_40C_150min_recov', 'SRR2931110': 'HSh_40C_150min_recov', 'SRR2931111': 'HSh_40C_165min_recov', 'SRR2931112': 'HSh_40C_165min_recov', 'SRR2931113': 'HSh_40C_180min_recov', 'SRR2931114': 'HSh_40C_180min_recov', 'SRR2931115': 'HSh_40C_195min_recov', 'SRR2931116': 'HSh_40C_195min_recov', 'SRR2931117': 'HSh_40C_210min_recov', 'SRR2931118': 'HSh_40C_210min_recov', 'SRR2931119': 'HSh_40C_225min_recov', 'SRR2931120': 'HSh_40C_225min_recov', 'SRR2931121': 'HSh_40C_240min_recov', 'SRR2931122': 'HSh_40C_240min_recov', 'SRR2931195': 'HSh_40C_15min', 'SRR2931196': 'HSh_40C_15min', 'SRR2931197': 'HSh_40C_30min', 'SRR2931198': 'HSh_40C_30min', 'SRR2931199': 'HSh_40C_45min', 'SRR2931200': 'HSh_40C_45min', 'SRR2931201': 'HSh_40C_60min', 'SRR2931202': 'HSh_40C_60min', 'SRR2931203': 'HSh_40C_75min', 'SRR2931204': 'HSh_40C_75min', 'SRR2931205': 'HSh_40C_90min', 'SRR2931206': 'HSh_40C_90min', 'SRR2931207': 'HSh_40C_105min', 'SRR2931208': 'HSh_40C_105min', 'SRR2931209': 'HSh_40C_120min', 'SRR2931210': 'HSh_40C_120min', 'SRR2931211': 'HSh_40C_135min', 'SRR2931212': 'HSh_40C_135min', 'SRR2931213': 'HSh_40C_150min', 'SRR2931214': 'HSh_40C_150min', 'SRR2931215': 'HSh_40C_165min', 'SRR2931216': 'HSh_40C_165min', 'SRR2931217': 'HSh_40C_180min', 'SRR2931218': 'HSh_40C_180min', 'SRR2931219': 'HSh_40C_195min', 'SRR2931220': 'HSh_40C_195min', 'SRR2931221': 'HSh_40C_210min', 'SRR2931222': 'HSh_40C_210min', 'SRR2931223': 'HSh_40C_225min', 'SRR2931224': 'HSh_40C_225min', 'SRR2931225': 'HSh_40C_240min', 'SRR2931226': 'HSh_40C_240min', 'SRR2931227': 'HSh_40C_135min_recov', 'SRR2931228': 'HSh_40C_150min_recov', 'SRR2931229': 'HSh_40C_150min_recov', 'SRR2931230': 'HSh_40C_165min_recov', 'SRR2931231': 'HSh_40C_165min_recov', 'SRR2931232': 'HSh_40C_180min_recov', 'SRR2931233': 'HSh_40C_180min_recov', 'SRR2931234': 'HSh_40C_195min_recov', 'SRR2931235': 'HSh_40C_195min_recov', 'SRR2931236': 'HSh_40C_210min_recov', 'SRR2931237': 'HSh_40C_210min_recov', 'SRR2931238': 'HSh_40C_225min_recov', 'SRR2931239': 'HSh_40C_225min_recov', 'SRR2931240': 'HSh_40C_240min_recov', 'SRR2931241': 'HSh_40C_240min_recov', 'SRR2931313': 'HSh_40C_15min', 'SRR2931314': 'HSh_40C_15min', 'SRR2931315': 'HSh_40C_30min', 'SRR2931316': 'HSh_40C_30min', 'SRR2931317': 'HSh_40C_45min', 'SRR2931318': 'HSh_40C_45min', 'SRR2931319': 'HSh_40C_60min', 'SRR2931320': 'HSh_40C_60min', 'SRR2931321': 'HSh_40C_75min', 'SRR2931322': 'HSh_40C_75min', 'SRR2931323': 'HSh_40C_90min', 'SRR2931324': 'HSh_40C_90min', 'SRR2931325': 'HSh_40C_105min', 'SRR2931326': 'HSh_40C_105min', 'SRR2931327': 'HSh_40C_120min', 'SRR2931328': 'HSh_40C_120min', 'SRR2931329': 'HSh_40C_135min', 'SRR2931330': 'HSh_40C_135min', 'SRR2931331': 'HSh_40C_150min', 'SRR2931332': 'HSh_40C_150min', 'SRR2931333': 'HSh_40C_165min', 'SRR2931334': 'HSh_40C_165min', 'SRR2931335': 'HSh_40C_180min', 'SRR2931336': 'HSh_40C_180min', 'SRR2931337': 'HSh_40C_195min', 'SRR2931338': 'HSh_40C_195min', 'SRR2931339': 'HSh_40C_210min', 'SRR2931340': 'HSh_40C_210min', 'SRR2931341': 'HSh_40C_225min', 'SRR2931342': 'HSh_40C_225min', 'SRR2931343': 'HSh_40C_240min', 'SRR2931344': 'HSh_40C_240min', 'SRR2931345': 'HSh_40C_135min_recov', 'SRR2931346': 'HSh_40C_135min_recov', 'SRR2931347': 'HSh_40C_150min_recov', 'SRR2931348': 'HSh_40C_150min_recov', 'SRR2931349': 'HSh_40C_165min_recov', 'SRR2931350': 'HSh_40C_165min_recov', 'SRR2931351': 'HSh_40C_180min_recov', 'SRR2931352': 'HSh_40C_180min_recov', 'SRR2931353': 'HSh_40C_195min_recov', 'SRR2931354': 'HSh_40C_195min_recov', 'SRR2931355': 'HSh_40C_210min_recov', 'SRR2931356': 'HSh_40C_210min_recov', 'SRR2931357': 'HSh_40C_225min_recov', 'SRR2931358': 'HSh_40C_225min_recov', 'SRR2931359': 'HSh_40C_240min_recov', 'SRR2931360': 'HSh_40C_240min_recov', 'SRR2931431': 'HSh_40C_15min', 'SRR2931432': 'HSh_40C_15min', 'SRR2931433': 'HSh_40C_30min', 'SRR2931434': 'HSh_40C_30min', 'SRR2931435': 'HSh_40C_45min', 'SRR2931436': 'HSh_40C_45min', 'SRR2931437': 'HSh_40C_60min', 'SRR2931438': 'HSh_40C_60min', 'SRR2931439': 'HSh_40C_75min', 'SRR2931440': 'HSh_40C_75min', 'SRR2931441': 'HSh_40C_90min', 'SRR2931442': 'HSh_40C_90min', 'SRR2931443': 'HSh_40C_105min', 'SRR2931444': 'HSh_40C_105min', 'SRR2931445': 'HSh_40C_120min', 'SRR2931446': 'HSh_40C_120min', 'SRR2931447': 'HSh_40C_135min', 'SRR2931448': 'HSh_40C_135min', 'SRR2931449': 'HSh_40C_150min', 'SRR2931450': 'HSh_40C_150min', 'SRR2931451': 'HSh_40C_165min', 'SRR2931452': 'HSh_40C_165min', 'SRR2931453': 'HSh_40C_180min', 'SRR2931454': 'HSh_40C_180min', 'SRR2931455': 'HSh_40C_195min', 'SRR2931456': 'HSh_40C_195min', 'SRR2931457': 'HSh_40C_210min', 'SRR2931458': 'HSh_40C_210min', 'SRR2931459': 'HSh_40C_225min', 'SRR2931460': 'HSh_40C_225min', 'SRR2931461': 'HSh_40C_240min', 'SRR2931462': 'HSh_40C_240min', 'SRR2931463': 'HSh_40C_135min_recov', 'SRR2931464': 'HSh_40C_135min_recov', 'SRR2931465': 'HSh_40C_150min_recov', 'SRR2931466': 'HSh_40C_150min_recov', 'SRR2931467': 'HSh_40C_165min_recov', 'SRR2931468': 'HSh_40C_165min_recov', 'SRR2931469': 'HSh_40C_180min_recov', 'SRR2931470': 'HSh_40C_180min_recov', 'SRR2931471': 'HSh_40C_195min_recov', 'SRR2931472': 'HSh_40C_195min_recov', 'SRR2931473': 'HSh_40C_210min_recov', 'SRR2931474': 'HSh_40C_210min_recov', 'SRR2931475': 'HSh_40C_225min_recov', 'SRR2931476': 'HSh_40C_225min_recov', 'SRR2931477': 'HSh_40C_240min_recov', 'SRR2931478': 'HSh_40C_240min_recov', 'SRR2338868': 'HTS_35C_28C_5days', 'SRR2338869': 'HTS_35C_28C_5days', 'SRR611649': 'HTS_30C_18days', 'SRR611651': 'HTS_30C_18days', 'SRR7760294': 'HTS_38C_7h', 'SRR7760295': 'HTS_38C_7h', 'SRR7760296': 'HTS_38C_7h', 'SRR7760300': 'HTS_38C_7h', 'SRR7760301': 'HTS_38C_7h', 'SRR7760302': 'HTS_38C_7h', 'SRR5311320': 'HTS_35C_29C_unknown', 'SRR5311321': 'HTS_35C_29C_unknown', 'SRR5311322': 'HTS_35C_29C_unknown', 'SRR5311323': 'HTS_35C_29C_unknown', 'SRR5311324': 'HTS_35C_29C_unknown', 'SRR5311325': 'HTS_35C_29C_unknown', 'SRR5311332': 'HTS_35C_29C_unknown', 'SRR5311333': 'HTS_35C_29C_unknown', 'SRR5311334': 'HTS_35C_29C_unknown', 'SRR5311335': 'HTS_35C_29C_unknown', 'SRR5311336': 'HTS_35C_29C_unknown', 'SRR5311337': 'HTS_35C_29C_unknown', 'SRR5311340': 'HTS_35C_29C_unknown', 'SRR5311341': 'HTS_35C_29C_unknown', 'SRR15060375': 'HNT_28C_28C_unknown', 'SRR15060376': 'HNT_28C_28C_unknown', 'SRR15060377': 'HNT_28C_28C_unknown', 'SRR15060378': 'HNT_28C_28C_unknown', 'SRR15060379': 'HNT_28C_28C_unknown', 'SRR15060380': 'HNT_28C_28C_unknown', 'SRR15060381': 'HNT_28C_28C_unknown', 'SRR15060382': 'HNT_28C_28C_unknown', 'SRR15060383': 'HNT_28C_28C_unknown', 'SRR15060384': 'HNT_28C_28C_unknown', 'SRR15060385': 'HNT_28C_28C_unknown', 'SRR15060386': 'HNT_28C_28C_unknown', 'SRR15060387': 'HNT_28C_28C_unknown', 'SRR15060388': 'HNT_28C_28C_unknown', 'SRR15060389': 'HNT_28C_28C_unknown', 'SRR15060390': 'HNT_28C_28C_unknown', 'SRR15060391': 'HNT_28C_28C_unknown', 'SRR15060392': 'HNT_28C_28C_unknown', 'SRR15060393': 'HNT_28C_28C_unknown', 'SRR15060394': 'HNT_28C_28C_unknown', 'SRR15060395': 'HNT_28C_28C_unknown', 'SRR15060396': 'HNT_28C_28C_unknown', 'SRR15060397': 'HNT_28C_28C_unknown', 'SRR15060398': 'HNT_28C_28C_unknown', 'SRR15060399': 'HNT_28C_28C_unknown', 'SRR15060400': 'HNT_28C_28C_unknown', 'SRR15060401': 'HNT_28C_28C_unknown', 'SRR15060402': 'HNT_28C_28C_unknown', 'SRR15060403': 'HNT_28C_28C_unknown', 'SRR15060404': 'HNT_28C_28C_unknown', 'SRR15060405': 'HNT_28C_28C_unknown', 'SRR15060406': 'HNT_28C_28C_unknown', 'SRR15060407': 'HNT_28C_28C_unknown', 'SRR15060408': 'HNT_28C_28C_unknown', 'SRR15060409': 'HNT_28C_28C_unknown', 'SRR15060410': 'HNT_28C_28C_unknown', 'SRR15060411': 'HNT_28C_28C_unknown', 'SRR15060412': 'HNT_28C_28C_unknown', 'SRR15060413': 'HNT_28C_28C_unknown', 'SRR15060414': 'HNT_28C_28C_unknown', 'SRR15060415': 'HNT_28C_28C_unknown', 'SRR15060416': 'HNT_28C_28C_unknown', 'SRR15060417': 'HNT_28C_28C_unknown', 'SRR15060418': 'HNT_28C_28C_unknown', 'SRR15060419': 'HNT_28C_28C_unknown', 'SRR15060420': 'HNT_28C_28C_unknown', 'SRR15060421': 'HNT_28C_28C_unknown', 'SRR15060422': 'HNT_28C_28C_unknown', 'SRR15060423': 'HNT_28C_28C_unknown', 'SRR15060424': 'HNT_28C_28C_unknown', 'SRR15060425': 'HNT_28C_28C_unknown', 'SRR15060426': 'HNT_28C_28C_unknown', 'SRR15060427': 'HNT_28C_28C_unknown', 'SRR15060428': 'HNT_28C_28C_unknown', 'SRR15060429': 'HNT_28C_28C_unknown', 'SRR15060430': 'HNT_28C_28C_unknown', 'SRR15060431': 'HNT_28C_28C_unknown', 'SRR15060432': 'HNT_28C_28C_unknown', 'SRR15060433': 'HNT_28C_28C_unknown', 'SRR15060434': 'HNT_28C_28C_unknown', 'SRR15060435': 'HNT_28C_28C_unknown', 'SRR15060436': 'HNT_28C_28C_unknown', 'SRR15060437': 'HNT_28C_28C_unknown', 'SRR15060438': 'HNT_28C_28C_unknown', 'SRR15060439': 'HNT_28C_28C_unknown', 'SRR15060440': 'HNT_28C_28C_unknown', 'SRR15060441': 'HNT_28C_28C_unknown', 'SRR15060442': 'HNT_28C_28C_unknown', 'SRR15060443': 'HNT_28C_28C_unknown', 'SRR15060444': 'HNT_28C_28C_unknown', 'SRR15060445': 'HNT_28C_28C_unknown', 'SRR15060446': 'HNT_28C_28C_unknown', 'SRR15060447': 'HNT_28C_28C_unknown', 'SRR15060448': 'HNT_28C_28C_unknown', 'SRR15060449': 'HNT_28C_28C_unknown', 'SRR15060450': 'HNT_28C_28C_unknown', 'SRR15060451': 'HNT_28C_28C_unknown', 'SRR15060452': 'HNT_28C_28C_unknown', 'SRR15060453': 'HNT_28C_28C_unknown', 'SRR15060454': 'HNT_28C_28C_unknown', 'SRR15060455': 'HNT_28C_28C_unknown', 'SRR15060456': 'HNT_28C_28C_unknown', 'SRR22854097': 'HSh_40C_30min', 'SRR22854098': 'HSh_40C_30min', 'SRR22854099': 'HSh_40C_30min', 'SRR22854094': 'HSh_40C_60min', 'SRR22854095': 'HSh_40C_60min', 'SRR22854096': 'HSh_40C_60min', 'SRR23051879': 'HSt_45C_18h', 'SRR23051878': 'HSt_45C_18h', 'SRR23051877': 'HSt_45C_18h', 'SRR23051876': 'HSt_45C_18h', 'SRR23051875': 'HSt_45C_18h', 'SRR23051874': 'HSt_45C_18h'}\n"
     ]
    },
    {
     "data": {
      "text/html": [
       "<div><style>\n",
       ".dataframe > thead > tr,\n",
       ".dataframe > tbody > tr {\n",
       "  text-align: right;\n",
       "  white-space: pre-wrap;\n",
       "}\n",
       "</style>\n",
       "<small>shape: (35_691, 361)</small><table border=\"1\" class=\"dataframe\"><thead><tr><th>GENEID</th><th>HNT_30C_28C_10h</th><th>HNT_30C_28C_10h_1</th><th>HNT_30C_28C_10h_2</th><th>HNT_30C_28C_10h_3</th><th>HNT_30C_28C_10h_4</th><th>HNT_30C_28C_10h_5</th><th>HNT_30C_28C_10h_6</th><th>HNT_30C_28C_10h_7</th><th>HSt_45C_36h</th><th>HSt_45C_36h_1</th><th>HSt_45C_36h_2</th><th>HSt_45C_36h_3</th><th>HSt_45C_36h_4</th><th>HSt_45C_36h_5</th><th>HSt_45C_4h</th><th>HSt_45C_4h_1</th><th>HSt_45C_4h_2</th><th>HSt_45C_4h_3</th><th>HSt_45C_4h_4</th><th>HSt_45C_4h_5</th><th>HSt_45C_4h_6</th><th>HSt_45C_4h_7</th><th>HSt_45C_4h_8</th><th>HSt_45C_4h_9</th><th>HSt_45C_4h_10</th><th>HSt_45C_4h_11</th><th>HSt_35C_longterm</th><th>HSt_35C_longterm_1</th><th>HSt_35C_longterm_2</th><th>HSt_35C_longterm_3</th><th>HSt_35C_longterm_4</th><th>HSt_35C_longterm_5</th><th>HSt_35C_longterm_6</th><th>HSt_35C_longterm_7</th><th>HSt_35C_longterm_8</th><th>HSt_35C_longterm_9</th><th>&hellip;</th><th>HNT_28C_28C_unknown_57</th><th>HNT_28C_28C_unknown_58</th><th>HNT_28C_28C_unknown_59</th><th>HNT_28C_28C_unknown_60</th><th>HNT_28C_28C_unknown_61</th><th>HNT_28C_28C_unknown_62</th><th>HNT_28C_28C_unknown_63</th><th>HNT_28C_28C_unknown_64</th><th>HNT_28C_28C_unknown_65</th><th>HNT_28C_28C_unknown_66</th><th>HNT_28C_28C_unknown_67</th><th>HNT_28C_28C_unknown_68</th><th>HNT_28C_28C_unknown_69</th><th>HNT_28C_28C_unknown_70</th><th>HNT_28C_28C_unknown_71</th><th>HNT_28C_28C_unknown_72</th><th>HNT_28C_28C_unknown_73</th><th>HNT_28C_28C_unknown_74</th><th>HNT_28C_28C_unknown_75</th><th>HNT_28C_28C_unknown_76</th><th>HNT_28C_28C_unknown_77</th><th>HNT_28C_28C_unknown_78</th><th>HNT_28C_28C_unknown_79</th><th>HNT_28C_28C_unknown_80</th><th>HNT_28C_28C_unknown_81</th><th>HSh_40C_30min_8</th><th>HSh_40C_30min_9</th><th>HSh_40C_30min_10</th><th>HSh_40C_60min_8</th><th>HSh_40C_60min_9</th><th>HSh_40C_60min_10</th><th>HSt_45C_18h</th><th>HSt_45C_18h_1</th><th>HSt_45C_18h_2</th><th>HSt_45C_18h_3</th><th>HSt_45C_18h_4</th><th>HSt_45C_18h_5</th></tr><tr><td>str</td><td>f64</td><td>f64</td><td>f64</td><td>f64</td><td>f64</td><td>f64</td><td>f64</td><td>f64</td><td>f64</td><td>f64</td><td>f64</td><td>f64</td><td>f64</td><td>f64</td><td>f64</td><td>f64</td><td>f64</td><td>f64</td><td>f64</td><td>f64</td><td>f64</td><td>f64</td><td>f64</td><td>f64</td><td>f64</td><td>f64</td><td>f64</td><td>f64</td><td>f64</td><td>f64</td><td>f64</td><td>f64</td><td>f64</td><td>f64</td><td>f64</td><td>f64</td><td>&hellip;</td><td>f64</td><td>f64</td><td>f64</td><td>f64</td><td>f64</td><td>f64</td><td>f64</td><td>f64</td><td>f64</td><td>f64</td><td>f64</td><td>f64</td><td>f64</td><td>f64</td><td>f64</td><td>f64</td><td>f64</td><td>f64</td><td>f64</td><td>f64</td><td>f64</td><td>f64</td><td>f64</td><td>f64</td><td>f64</td><td>f64</td><td>f64</td><td>f64</td><td>f64</td><td>f64</td><td>f64</td><td>f64</td><td>f64</td><td>f64</td><td>f64</td><td>f64</td><td>f64</td></tr></thead><tbody><tr><td>&quot;EPlORYSAT000373610&quot;</td><td>1.0</td><td>1.0</td><td>64.003051</td><td>64.326859</td><td>0.015755</td><td>1.0</td><td>1.0</td><td>1.0</td><td>1.0</td><td>1.0</td><td>1.0</td><td>1.0</td><td>1.0</td><td>1.0</td><td>1.0</td><td>1.0</td><td>1.0</td><td>1.0</td><td>1.0</td><td>1.0</td><td>1.0</td><td>1.0</td><td>1.0</td><td>1.0</td><td>1.0</td><td>1.0</td><td>1.0</td><td>1.0</td><td>1.0</td><td>1.0</td><td>1.0</td><td>1.0</td><td>1.0</td><td>1.0</td><td>1.0</td><td>1.0</td><td>&hellip;</td><td>1.0</td><td>1.0</td><td>1.0</td><td>1.0</td><td>1.0</td><td>1.0</td><td>1.0</td><td>1.0</td><td>1.0</td><td>1.0</td><td>1.0</td><td>1.0</td><td>188.995833</td><td>1.0</td><td>1.0</td><td>1.0</td><td>1.0</td><td>1.0</td><td>1.0</td><td>1.0</td><td>1.0</td><td>200.462188</td><td>1.0</td><td>1.0</td><td>1.0</td><td>0.017064</td><td>1.0</td><td>70.185139</td><td>1.284229</td><td>1.0</td><td>1.0</td><td>1.0</td><td>1.0</td><td>1.0</td><td>1.0</td><td>1.0</td><td>1.0</td></tr><tr><td>&quot;EPlORYSAT000373621&quot;</td><td>1.0</td><td>1.0</td><td>1.0</td><td>1.0</td><td>1.0</td><td>1.0</td><td>1.0</td><td>1.0</td><td>1.0</td><td>1.0</td><td>1.0</td><td>1.0</td><td>1.0</td><td>1.0</td><td>1.0</td><td>1.0</td><td>1.0</td><td>1.0</td><td>1.0</td><td>1.0</td><td>1.0</td><td>1.0</td><td>1.0</td><td>1.0</td><td>1.0</td><td>1.0</td><td>1.0</td><td>1.0</td><td>1.0</td><td>1.0</td><td>1.0</td><td>1.0</td><td>1.0</td><td>1.0</td><td>1.0</td><td>1.0</td><td>&hellip;</td><td>1.0</td><td>1.0</td><td>1.0</td><td>1.0</td><td>1.0</td><td>1.0</td><td>1.0</td><td>1.0</td><td>1.0</td><td>1.0</td><td>1.0</td><td>1.0</td><td>1.0</td><td>1.0</td><td>1.0</td><td>1.0</td><td>1.0</td><td>1.0</td><td>1.0</td><td>1.0</td><td>1.0</td><td>1.0</td><td>1.0</td><td>1.0</td><td>1.0</td><td>1.0</td><td>1.0</td><td>1.0</td><td>1.0</td><td>1.0</td><td>1.0</td><td>1.0</td><td>1.0</td><td>1.0</td><td>1.0</td><td>1.0</td><td>1.0</td></tr><tr><td>&quot;EPlORYSAT000373643&quot;</td><td>1.0</td><td>1.0</td><td>1.0</td><td>1.0</td><td>1.0</td><td>1.0</td><td>1.0</td><td>1.0</td><td>1.0</td><td>1.0</td><td>1.0</td><td>1.0</td><td>1.0</td><td>1.0</td><td>1.0</td><td>1.0</td><td>1.0</td><td>1.0</td><td>1.0</td><td>1.0</td><td>1.0</td><td>1.0</td><td>1.0</td><td>1.0</td><td>1.0</td><td>1.0</td><td>1.0</td><td>1.0</td><td>1.0</td><td>1.0</td><td>1.0</td><td>1.0</td><td>1.0</td><td>1.0</td><td>1.0</td><td>1.0</td><td>&hellip;</td><td>1.0</td><td>1.0</td><td>1.0</td><td>1.0</td><td>1.0</td><td>1.0</td><td>1.0</td><td>1.0</td><td>1.0</td><td>1.0</td><td>1.0</td><td>1.0</td><td>1.0</td><td>1.0</td><td>1.0</td><td>1.0</td><td>1.0</td><td>1.0</td><td>1.0</td><td>1.0</td><td>1.0</td><td>1.0</td><td>1.0</td><td>1.0</td><td>1.0</td><td>1.0</td><td>1.0</td><td>1.0</td><td>1.0</td><td>1.0</td><td>1.0</td><td>1.0</td><td>1.0</td><td>1.0</td><td>1.0</td><td>1.0</td><td>1.0</td></tr><tr><td>&quot;EPlORYSAT000373795&quot;</td><td>1.0</td><td>1.0</td><td>1.0</td><td>1.0</td><td>1.0</td><td>1.0</td><td>1.0</td><td>1.0</td><td>1.0</td><td>1.0</td><td>1.0</td><td>1.0</td><td>1.0</td><td>1.0</td><td>1.0</td><td>1.0</td><td>1.0</td><td>1.0</td><td>1.0</td><td>1.0</td><td>1.0</td><td>1.0</td><td>1.0</td><td>1.0</td><td>1.0</td><td>1.0</td><td>1.0</td><td>1.0</td><td>1.0</td><td>1.0</td><td>1.0</td><td>1.0</td><td>1.0</td><td>1.0</td><td>1.0</td><td>1.0</td><td>&hellip;</td><td>1.0</td><td>1.0</td><td>1.0</td><td>1.0</td><td>1.0</td><td>1.0</td><td>1.0</td><td>1.0</td><td>1.0</td><td>1.0</td><td>1.0</td><td>1.0</td><td>1.0</td><td>1.0</td><td>1.0</td><td>1.0</td><td>1.0</td><td>1.0</td><td>1.0</td><td>1.0</td><td>1.0</td><td>1.0</td><td>1.0</td><td>1.0</td><td>1.0</td><td>1.0</td><td>1.0</td><td>1.0</td><td>1.0</td><td>1.0</td><td>1.0</td><td>1.0</td><td>1.0</td><td>1.0</td><td>1.0</td><td>1.0</td><td>1.0</td></tr><tr><td>&quot;EPlORYSAT000373851&quot;</td><td>1.0</td><td>1.0</td><td>1.0</td><td>1.0</td><td>1.0</td><td>1.0</td><td>1.0</td><td>1.0</td><td>1.0</td><td>1.0</td><td>1.0</td><td>1.0</td><td>1.0</td><td>1.0</td><td>1.0</td><td>1.0</td><td>1.0</td><td>1.0</td><td>1.0</td><td>1.0</td><td>1.0</td><td>1.0</td><td>1.0</td><td>1.0</td><td>1.0</td><td>1.0</td><td>1.0</td><td>1.0</td><td>1.0</td><td>1.0</td><td>1.0</td><td>1.0</td><td>1.0</td><td>1.0</td><td>1.0</td><td>1.0</td><td>&hellip;</td><td>1.0</td><td>1.0</td><td>1.0</td><td>1.0</td><td>1.0</td><td>1.0</td><td>1.0</td><td>1.0</td><td>1.0</td><td>1.0</td><td>1.0</td><td>1.0</td><td>1.0</td><td>1.0</td><td>1.0</td><td>1.0</td><td>1.0</td><td>1.0</td><td>1.0</td><td>1.0</td><td>1.0</td><td>1.0</td><td>1.0</td><td>1.0</td><td>1.0</td><td>1.0</td><td>1.0</td><td>1.0</td><td>1.0</td><td>1.0</td><td>1.0</td><td>1.0</td><td>1.0</td><td>1.0</td><td>1.0</td><td>1.0</td><td>1.0</td></tr><tr><td>&hellip;</td><td>&hellip;</td><td>&hellip;</td><td>&hellip;</td><td>&hellip;</td><td>&hellip;</td><td>&hellip;</td><td>&hellip;</td><td>&hellip;</td><td>&hellip;</td><td>&hellip;</td><td>&hellip;</td><td>&hellip;</td><td>&hellip;</td><td>&hellip;</td><td>&hellip;</td><td>&hellip;</td><td>&hellip;</td><td>&hellip;</td><td>&hellip;</td><td>&hellip;</td><td>&hellip;</td><td>&hellip;</td><td>&hellip;</td><td>&hellip;</td><td>&hellip;</td><td>&hellip;</td><td>&hellip;</td><td>&hellip;</td><td>&hellip;</td><td>&hellip;</td><td>&hellip;</td><td>&hellip;</td><td>&hellip;</td><td>&hellip;</td><td>&hellip;</td><td>&hellip;</td><td>&hellip;</td><td>&hellip;</td><td>&hellip;</td><td>&hellip;</td><td>&hellip;</td><td>&hellip;</td><td>&hellip;</td><td>&hellip;</td><td>&hellip;</td><td>&hellip;</td><td>&hellip;</td><td>&hellip;</td><td>&hellip;</td><td>&hellip;</td><td>&hellip;</td><td>&hellip;</td><td>&hellip;</td><td>&hellip;</td><td>&hellip;</td><td>&hellip;</td><td>&hellip;</td><td>&hellip;</td><td>&hellip;</td><td>&hellip;</td><td>&hellip;</td><td>&hellip;</td><td>&hellip;</td><td>&hellip;</td><td>&hellip;</td><td>&hellip;</td><td>&hellip;</td><td>&hellip;</td><td>&hellip;</td><td>&hellip;</td><td>&hellip;</td><td>&hellip;</td><td>&hellip;</td><td>&hellip;</td></tr><tr><td>&quot;Os12g0641100&quot;</td><td>0.330482</td><td>0.881209</td><td>0.498074</td><td>0.510708</td><td>0.808446</td><td>0.986463</td><td>1.23701</td><td>0.690745</td><td>1.967604</td><td>2.090501</td><td>1.667619</td><td>0.663144</td><td>0.915042</td><td>1.175697</td><td>0.290975</td><td>0.287567</td><td>0.243554</td><td>0.240388</td><td>0.361402</td><td>0.367039</td><td>0.361091</td><td>0.361422</td><td>0.356863</td><td>0.362518</td><td>0.45673</td><td>0.463282</td><td>5.218504</td><td>3.569581</td><td>3.710993</td><td>2.168091</td><td>1.36272</td><td>1.019475</td><td>2.594985</td><td>1.684937</td><td>1.135803</td><td>10.381417</td><td>&hellip;</td><td>1.254025</td><td>0.520597</td><td>1.459464</td><td>0.983362</td><td>0.992884</td><td>1.093461</td><td>1.780748</td><td>1.34706</td><td>1.17272</td><td>2.118824</td><td>1.495923</td><td>1.029656</td><td>0.80882</td><td>1.615215</td><td>1.139736</td><td>0.948756</td><td>0.962316</td><td>0.721113</td><td>1.061525</td><td>1.037891</td><td>1.287411</td><td>2.775175</td><td>0.525017</td><td>2.270865</td><td>0.577094</td><td>0.639495</td><td>0.560287</td><td>0.520431</td><td>0.792163</td><td>0.735383</td><td>0.738452</td><td>1.377318</td><td>0.974089</td><td>0.60175</td><td>0.558296</td><td>0.972543</td><td>1.624633</td></tr><tr><td>&quot;Os12g0641200&quot;</td><td>1.0</td><td>1.0</td><td>1.0</td><td>1.0</td><td>1.0</td><td>1.0</td><td>1.0</td><td>1.0</td><td>1.34581</td><td>1.337851</td><td>0.722855</td><td>0.202596</td><td>0.310684</td><td>0.482447</td><td>2.147339</td><td>2.66812</td><td>2.470606</td><td>2.420584</td><td>1.210811</td><td>1.68822</td><td>1.782365</td><td>2.02234</td><td>0.864469</td><td>0.57654</td><td>2.820844</td><td>3.900592</td><td>1.0</td><td>1.0</td><td>1.363146</td><td>0.224637</td><td>2.561818</td><td>5.592903</td><td>0.891283</td><td>1.0</td><td>2.886571</td><td>0.399646</td><td>&hellip;</td><td>1.626003</td><td>0.554418</td><td>2.327543</td><td>0.708659</td><td>1.253904</td><td>0.747667</td><td>1.21419</td><td>1.394378</td><td>0.3072</td><td>1.54719</td><td>0.853705</td><td>0.422481</td><td>0.317257</td><td>2.731734</td><td>1.396359</td><td>1.205544</td><td>0.483574</td><td>0.733506</td><td>0.479358</td><td>0.468497</td><td>1.266185</td><td>1.540311</td><td>0.340326</td><td>0.938826</td><td>0.744195</td><td>0.902789</td><td>0.293271</td><td>0.734621</td><td>2.713237</td><td>0.723214</td><td>1.469847</td><td>8.251797</td><td>12.227851</td><td>3.864073</td><td>1.986833</td><td>0.582545</td><td>14.041889</td></tr><tr><td>&quot;Os12g0641300&quot;</td><td>1.0</td><td>1.0</td><td>1.0</td><td>1.0</td><td>0.316684</td><td>1.0</td><td>1.0</td><td>1.0</td><td>1.814044</td><td>1.959658</td><td>1.651451</td><td>0.363303</td><td>0.489477</td><td>0.513967</td><td>2.183846</td><td>2.08417</td><td>1.371521</td><td>1.332527</td><td>1.70133</td><td>1.59343</td><td>2.331243</td><td>2.217381</td><td>1.709113</td><td>1.78951</td><td>2.844805</td><td>2.677968</td><td>0.253169</td><td>0.211079</td><td>0.145295</td><td>1.157339</td><td>1.6192</td><td>1.448443</td><td>1.300356</td><td>2.497598</td><td>1.559386</td><td>1.36379</td><td>&hellip;</td><td>1.137144</td><td>0.462542</td><td>1.408695</td><td>0.915513</td><td>0.854722</td><td>0.741904</td><td>1.555971</td><td>1.282565</td><td>1.182925</td><td>1.995457</td><td>1.473107</td><td>1.037217</td><td>0.94501</td><td>2.389791</td><td>1.674603</td><td>1.253617</td><td>1.145706</td><td>0.964097</td><td>1.156783</td><td>1.536818</td><td>0.871979</td><td>1.831006</td><td>0.543172</td><td>2.212088</td><td>0.656573</td><td>1.132524</td><td>0.721943</td><td>0.54759</td><td>1.798458</td><td>1.377382</td><td>1.720096</td><td>1.417665</td><td>1.672338</td><td>1.197103</td><td>0.377292</td><td>1.064871</td><td>1.447654</td></tr><tr><td>&quot;Os12g0641400&quot;</td><td>0.656297</td><td>0.944844</td><td>0.682396</td><td>0.827123</td><td>0.600326</td><td>1.508617</td><td>0.951318</td><td>0.385374</td><td>1.11855</td><td>1.06925</td><td>1.000182</td><td>0.951502</td><td>1.288889</td><td>1.349027</td><td>0.777332</td><td>0.783799</td><td>0.715868</td><td>0.711444</td><td>0.690354</td><td>0.699451</td><td>0.817806</td><td>0.806047</td><td>0.577829</td><td>0.580564</td><td>0.900966</td><td>0.90491</td><td>2.492621</td><td>3.345792</td><td>2.583717</td><td>1.302779</td><td>1.227777</td><td>0.929066</td><td>1.208109</td><td>1.311805</td><td>0.985016</td><td>1.73784</td><td>&hellip;</td><td>1.14999</td><td>0.401833</td><td>1.203462</td><td>0.904723</td><td>0.752594</td><td>0.545916</td><td>0.987183</td><td>0.839881</td><td>0.904542</td><td>1.304546</td><td>1.016111</td><td>0.715164</td><td>0.688706</td><td>1.305155</td><td>0.979802</td><td>0.888161</td><td>0.72413</td><td>0.595877</td><td>0.785112</td><td>0.914574</td><td>0.664386</td><td>1.343614</td><td>0.443142</td><td>1.710404</td><td>0.427035</td><td>0.573803</td><td>0.430716</td><td>0.43136</td><td>0.943933</td><td>0.783158</td><td>0.879249</td><td>0.73665</td><td>1.022858</td><td>0.340235</td><td>0.377274</td><td>0.546013</td><td>1.023622</td></tr><tr><td>&quot;Os12g0641500&quot;</td><td>0.854</td><td>1.063454</td><td>0.821973</td><td>1.081992</td><td>0.896639</td><td>0.827501</td><td>1.177691</td><td>0.871535</td><td>1.795138</td><td>1.864458</td><td>1.489137</td><td>1.389437</td><td>2.199542</td><td>2.876902</td><td>0.411915</td><td>0.419311</td><td>0.348308</td><td>0.343535</td><td>0.480602</td><td>0.49441</td><td>0.556721</td><td>0.556653</td><td>0.465437</td><td>0.466151</td><td>0.646637</td><td>0.65308</td><td>9.08905</td><td>5.356792</td><td>11.442835</td><td>2.955065</td><td>1.156059</td><td>1.259709</td><td>2.453632</td><td>1.427103</td><td>1.322571</td><td>4.541973</td><td>&hellip;</td><td>1.223966</td><td>0.4179</td><td>1.268587</td><td>0.841521</td><td>1.169084</td><td>1.112873</td><td>1.949383</td><td>1.470266</td><td>1.041914</td><td>1.873556</td><td>1.35495</td><td>0.844412</td><td>0.854512</td><td>1.713295</td><td>1.243602</td><td>1.005852</td><td>0.970481</td><td>0.733052</td><td>0.999838</td><td>1.092754</td><td>1.292979</td><td>2.592577</td><td>0.481811</td><td>2.315379</td><td>0.512562</td><td>0.975283</td><td>0.532336</td><td>0.536193</td><td>1.636216</td><td>1.094168</td><td>0.965324</td><td>1.285873</td><td>1.251288</td><td>0.621946</td><td>1.115922</td><td>1.046188</td><td>1.598548</td></tr></tbody></table></div>"
      ],
      "text/plain": [
       "shape: (35_691, 361)\n",
       "┌───────────┬───────────┬───────────┬───────────┬───┬───────────┬───────────┬───────────┬──────────┐\n",
       "│ GENEID    ┆ HNT_30C_2 ┆ HNT_30C_2 ┆ HNT_30C_2 ┆ … ┆ HSt_45C_1 ┆ HSt_45C_1 ┆ HSt_45C_1 ┆ HSt_45C_ │\n",
       "│ ---       ┆ 8C_10h    ┆ 8C_10h_1  ┆ 8C_10h_2  ┆   ┆ 8h_2      ┆ 8h_3      ┆ 8h_4      ┆ 18h_5    │\n",
       "│ str       ┆ ---       ┆ ---       ┆ ---       ┆   ┆ ---       ┆ ---       ┆ ---       ┆ ---      │\n",
       "│           ┆ f64       ┆ f64       ┆ f64       ┆   ┆ f64       ┆ f64       ┆ f64       ┆ f64      │\n",
       "╞═══════════╪═══════════╪═══════════╪═══════════╪═══╪═══════════╪═══════════╪═══════════╪══════════╡\n",
       "│ EPlORYSAT ┆ 1.0       ┆ 1.0       ┆ 64.003051 ┆ … ┆ 1.0       ┆ 1.0       ┆ 1.0       ┆ 1.0      │\n",
       "│ 000373610 ┆           ┆           ┆           ┆   ┆           ┆           ┆           ┆          │\n",
       "│ EPlORYSAT ┆ 1.0       ┆ 1.0       ┆ 1.0       ┆ … ┆ 1.0       ┆ 1.0       ┆ 1.0       ┆ 1.0      │\n",
       "│ 000373621 ┆           ┆           ┆           ┆   ┆           ┆           ┆           ┆          │\n",
       "│ EPlORYSAT ┆ 1.0       ┆ 1.0       ┆ 1.0       ┆ … ┆ 1.0       ┆ 1.0       ┆ 1.0       ┆ 1.0      │\n",
       "│ 000373643 ┆           ┆           ┆           ┆   ┆           ┆           ┆           ┆          │\n",
       "│ EPlORYSAT ┆ 1.0       ┆ 1.0       ┆ 1.0       ┆ … ┆ 1.0       ┆ 1.0       ┆ 1.0       ┆ 1.0      │\n",
       "│ 000373795 ┆           ┆           ┆           ┆   ┆           ┆           ┆           ┆          │\n",
       "│ EPlORYSAT ┆ 1.0       ┆ 1.0       ┆ 1.0       ┆ … ┆ 1.0       ┆ 1.0       ┆ 1.0       ┆ 1.0      │\n",
       "│ 000373851 ┆           ┆           ┆           ┆   ┆           ┆           ┆           ┆          │\n",
       "│ …         ┆ …         ┆ …         ┆ …         ┆ … ┆ …         ┆ …         ┆ …         ┆ …        │\n",
       "│ Os12g0641 ┆ 0.330482  ┆ 0.881209  ┆ 0.498074  ┆ … ┆ 0.60175   ┆ 0.558296  ┆ 0.972543  ┆ 1.624633 │\n",
       "│ 100       ┆           ┆           ┆           ┆   ┆           ┆           ┆           ┆          │\n",
       "│ Os12g0641 ┆ 1.0       ┆ 1.0       ┆ 1.0       ┆ … ┆ 3.864073  ┆ 1.986833  ┆ 0.582545  ┆ 14.04188 │\n",
       "│ 200       ┆           ┆           ┆           ┆   ┆           ┆           ┆           ┆ 9        │\n",
       "│ Os12g0641 ┆ 1.0       ┆ 1.0       ┆ 1.0       ┆ … ┆ 1.197103  ┆ 0.377292  ┆ 1.064871  ┆ 1.447654 │\n",
       "│ 300       ┆           ┆           ┆           ┆   ┆           ┆           ┆           ┆          │\n",
       "│ Os12g0641 ┆ 0.656297  ┆ 0.944844  ┆ 0.682396  ┆ … ┆ 0.340235  ┆ 0.377274  ┆ 0.546013  ┆ 1.023622 │\n",
       "│ 400       ┆           ┆           ┆           ┆   ┆           ┆           ┆           ┆          │\n",
       "│ Os12g0641 ┆ 0.854     ┆ 1.063454  ┆ 0.821973  ┆ … ┆ 0.621946  ┆ 1.115922  ┆ 1.046188  ┆ 1.598548 │\n",
       "│ 500       ┆           ┆           ┆           ┆   ┆           ┆           ┆           ┆          │\n",
       "└───────────┴───────────┴───────────┴───────────┴───┴───────────┴───────────┴───────────┴──────────┘"
      ]
     },
     "metadata": {},
     "output_type": "display_data"
    }
   ],
   "source": [
    "rename_dict = dict(\n",
    "    zip( # Select a value from the metadata columns that corresponds to the column name in the file containing the expression ratio, and store the corresponding sample name as a dictionary type.\n",
    "        metadata['Stress'], metadata['Simple stress condition'] # Example: If “SRR22741460” is found in the “Stress” column of the metadata, the corresponding sample is “”seed-endosperm-R6-caryopsis“” in the “Tissue” column.\n",
    "    )\n",
    ")\n",
    "\n",
    "print(rename_dict)\n",
    "\n",
    "# replaced column name\n",
    "new_columns = []\n",
    "seen = set()\n",
    "for col in HNratio.columns:\n",
    "    new_col = rename_dict.get(col, col)\n",
    "    if new_col in seen:\n",
    "        suffix = 1\n",
    "        while f\"{new_col}_{suffix}\" in seen:\n",
    "            suffix += 1\n",
    "        new_col = f\"{new_col}_{suffix}\"\n",
    "    seen.add(new_col)\n",
    "    new_columns.append(new_col)\n",
    "\n",
    "HNratio = HNratio.rename(dict(zip(HNratio.columns, new_columns)))\n",
    "\n",
    "display(HNratio)"
   ]
  },
  {
   "cell_type": "code",
   "execution_count": 7,
   "metadata": {},
   "outputs": [
    {
     "data": {
      "text/html": [
       "<div><style>\n",
       ".dataframe > thead > tr,\n",
       ".dataframe > tbody > tr {\n",
       "  text-align: right;\n",
       "  white-space: pre-wrap;\n",
       "}\n",
       "</style>\n",
       "<small>shape: (35_691, 361)</small><table border=\"1\" class=\"dataframe\"><thead><tr><th>GENEID</th><th>HNT_30C_28C_10h</th><th>HNT_30C_28C_10h_1</th><th>HNT_30C_28C_10h_2</th><th>HNT_30C_28C_10h_3</th><th>HNT_30C_28C_10h_4</th><th>HNT_30C_28C_10h_5</th><th>HNT_30C_28C_10h_6</th><th>HNT_30C_28C_10h_7</th><th>HSt_45C_36h</th><th>HSt_45C_36h_1</th><th>HSt_45C_36h_2</th><th>HSt_45C_36h_3</th><th>HSt_45C_36h_4</th><th>HSt_45C_36h_5</th><th>HSt_45C_4h</th><th>HSt_45C_4h_1</th><th>HSt_45C_4h_2</th><th>HSt_45C_4h_3</th><th>HSt_45C_4h_4</th><th>HSt_45C_4h_5</th><th>HSt_45C_4h_6</th><th>HSt_45C_4h_7</th><th>HSt_45C_4h_8</th><th>HSt_45C_4h_9</th><th>HSt_45C_4h_10</th><th>HSt_45C_4h_11</th><th>HSt_35C_longterm</th><th>HSt_35C_longterm_1</th><th>HSt_35C_longterm_2</th><th>HSt_35C_longterm_3</th><th>HSt_35C_longterm_4</th><th>HSt_35C_longterm_5</th><th>HSt_35C_longterm_6</th><th>HSt_35C_longterm_7</th><th>HSt_35C_longterm_8</th><th>HSt_35C_longterm_9</th><th>&hellip;</th><th>HNT_28C_28C_unknown_57</th><th>HNT_28C_28C_unknown_58</th><th>HNT_28C_28C_unknown_59</th><th>HNT_28C_28C_unknown_60</th><th>HNT_28C_28C_unknown_61</th><th>HNT_28C_28C_unknown_62</th><th>HNT_28C_28C_unknown_63</th><th>HNT_28C_28C_unknown_64</th><th>HNT_28C_28C_unknown_65</th><th>HNT_28C_28C_unknown_66</th><th>HNT_28C_28C_unknown_67</th><th>HNT_28C_28C_unknown_68</th><th>HNT_28C_28C_unknown_69</th><th>HNT_28C_28C_unknown_70</th><th>HNT_28C_28C_unknown_71</th><th>HNT_28C_28C_unknown_72</th><th>HNT_28C_28C_unknown_73</th><th>HNT_28C_28C_unknown_74</th><th>HNT_28C_28C_unknown_75</th><th>HNT_28C_28C_unknown_76</th><th>HNT_28C_28C_unknown_77</th><th>HNT_28C_28C_unknown_78</th><th>HNT_28C_28C_unknown_79</th><th>HNT_28C_28C_unknown_80</th><th>HNT_28C_28C_unknown_81</th><th>HSh_40C_30min_8</th><th>HSh_40C_30min_9</th><th>HSh_40C_30min_10</th><th>HSh_40C_60min_8</th><th>HSh_40C_60min_9</th><th>HSh_40C_60min_10</th><th>HSt_45C_18h</th><th>HSt_45C_18h_1</th><th>HSt_45C_18h_2</th><th>HSt_45C_18h_3</th><th>HSt_45C_18h_4</th><th>HSt_45C_18h_5</th></tr><tr><td>str</td><td>str</td><td>str</td><td>str</td><td>str</td><td>str</td><td>str</td><td>str</td><td>str</td><td>str</td><td>str</td><td>str</td><td>str</td><td>str</td><td>str</td><td>str</td><td>str</td><td>str</td><td>str</td><td>str</td><td>str</td><td>str</td><td>str</td><td>str</td><td>str</td><td>str</td><td>str</td><td>str</td><td>str</td><td>str</td><td>str</td><td>str</td><td>str</td><td>str</td><td>str</td><td>str</td><td>str</td><td>&hellip;</td><td>str</td><td>str</td><td>str</td><td>str</td><td>str</td><td>str</td><td>str</td><td>str</td><td>str</td><td>str</td><td>str</td><td>str</td><td>str</td><td>str</td><td>str</td><td>str</td><td>str</td><td>str</td><td>str</td><td>str</td><td>str</td><td>str</td><td>str</td><td>str</td><td>str</td><td>str</td><td>str</td><td>str</td><td>str</td><td>str</td><td>str</td><td>str</td><td>str</td><td>str</td><td>str</td><td>str</td><td>str</td></tr></thead><tbody><tr><td>&quot;EPlORYSAT000373610&quot;</td><td>&quot;UNCHANGED&quot;</td><td>&quot;UNCHANGED&quot;</td><td>&quot;UP&quot;</td><td>&quot;UP&quot;</td><td>&quot;DOWN&quot;</td><td>&quot;UNCHANGED&quot;</td><td>&quot;UNCHANGED&quot;</td><td>&quot;UNCHANGED&quot;</td><td>&quot;UNCHANGED&quot;</td><td>&quot;UNCHANGED&quot;</td><td>&quot;UNCHANGED&quot;</td><td>&quot;UNCHANGED&quot;</td><td>&quot;UNCHANGED&quot;</td><td>&quot;UNCHANGED&quot;</td><td>&quot;UNCHANGED&quot;</td><td>&quot;UNCHANGED&quot;</td><td>&quot;UNCHANGED&quot;</td><td>&quot;UNCHANGED&quot;</td><td>&quot;UNCHANGED&quot;</td><td>&quot;UNCHANGED&quot;</td><td>&quot;UNCHANGED&quot;</td><td>&quot;UNCHANGED&quot;</td><td>&quot;UNCHANGED&quot;</td><td>&quot;UNCHANGED&quot;</td><td>&quot;UNCHANGED&quot;</td><td>&quot;UNCHANGED&quot;</td><td>&quot;UNCHANGED&quot;</td><td>&quot;UNCHANGED&quot;</td><td>&quot;UNCHANGED&quot;</td><td>&quot;UNCHANGED&quot;</td><td>&quot;UNCHANGED&quot;</td><td>&quot;UNCHANGED&quot;</td><td>&quot;UNCHANGED&quot;</td><td>&quot;UNCHANGED&quot;</td><td>&quot;UNCHANGED&quot;</td><td>&quot;UNCHANGED&quot;</td><td>&hellip;</td><td>&quot;UNCHANGED&quot;</td><td>&quot;UNCHANGED&quot;</td><td>&quot;UNCHANGED&quot;</td><td>&quot;UNCHANGED&quot;</td><td>&quot;UNCHANGED&quot;</td><td>&quot;UNCHANGED&quot;</td><td>&quot;UNCHANGED&quot;</td><td>&quot;UNCHANGED&quot;</td><td>&quot;UNCHANGED&quot;</td><td>&quot;UNCHANGED&quot;</td><td>&quot;UNCHANGED&quot;</td><td>&quot;UNCHANGED&quot;</td><td>&quot;UP&quot;</td><td>&quot;UNCHANGED&quot;</td><td>&quot;UNCHANGED&quot;</td><td>&quot;UNCHANGED&quot;</td><td>&quot;UNCHANGED&quot;</td><td>&quot;UNCHANGED&quot;</td><td>&quot;UNCHANGED&quot;</td><td>&quot;UNCHANGED&quot;</td><td>&quot;UNCHANGED&quot;</td><td>&quot;UP&quot;</td><td>&quot;UNCHANGED&quot;</td><td>&quot;UNCHANGED&quot;</td><td>&quot;UNCHANGED&quot;</td><td>&quot;DOWN&quot;</td><td>&quot;UNCHANGED&quot;</td><td>&quot;UP&quot;</td><td>&quot;UNCHANGED&quot;</td><td>&quot;UNCHANGED&quot;</td><td>&quot;UNCHANGED&quot;</td><td>&quot;UNCHANGED&quot;</td><td>&quot;UNCHANGED&quot;</td><td>&quot;UNCHANGED&quot;</td><td>&quot;UNCHANGED&quot;</td><td>&quot;UNCHANGED&quot;</td><td>&quot;UNCHANGED&quot;</td></tr><tr><td>&quot;EPlORYSAT000373621&quot;</td><td>&quot;UNCHANGED&quot;</td><td>&quot;UNCHANGED&quot;</td><td>&quot;UNCHANGED&quot;</td><td>&quot;UNCHANGED&quot;</td><td>&quot;UNCHANGED&quot;</td><td>&quot;UNCHANGED&quot;</td><td>&quot;UNCHANGED&quot;</td><td>&quot;UNCHANGED&quot;</td><td>&quot;UNCHANGED&quot;</td><td>&quot;UNCHANGED&quot;</td><td>&quot;UNCHANGED&quot;</td><td>&quot;UNCHANGED&quot;</td><td>&quot;UNCHANGED&quot;</td><td>&quot;UNCHANGED&quot;</td><td>&quot;UNCHANGED&quot;</td><td>&quot;UNCHANGED&quot;</td><td>&quot;UNCHANGED&quot;</td><td>&quot;UNCHANGED&quot;</td><td>&quot;UNCHANGED&quot;</td><td>&quot;UNCHANGED&quot;</td><td>&quot;UNCHANGED&quot;</td><td>&quot;UNCHANGED&quot;</td><td>&quot;UNCHANGED&quot;</td><td>&quot;UNCHANGED&quot;</td><td>&quot;UNCHANGED&quot;</td><td>&quot;UNCHANGED&quot;</td><td>&quot;UNCHANGED&quot;</td><td>&quot;UNCHANGED&quot;</td><td>&quot;UNCHANGED&quot;</td><td>&quot;UNCHANGED&quot;</td><td>&quot;UNCHANGED&quot;</td><td>&quot;UNCHANGED&quot;</td><td>&quot;UNCHANGED&quot;</td><td>&quot;UNCHANGED&quot;</td><td>&quot;UNCHANGED&quot;</td><td>&quot;UNCHANGED&quot;</td><td>&hellip;</td><td>&quot;UNCHANGED&quot;</td><td>&quot;UNCHANGED&quot;</td><td>&quot;UNCHANGED&quot;</td><td>&quot;UNCHANGED&quot;</td><td>&quot;UNCHANGED&quot;</td><td>&quot;UNCHANGED&quot;</td><td>&quot;UNCHANGED&quot;</td><td>&quot;UNCHANGED&quot;</td><td>&quot;UNCHANGED&quot;</td><td>&quot;UNCHANGED&quot;</td><td>&quot;UNCHANGED&quot;</td><td>&quot;UNCHANGED&quot;</td><td>&quot;UNCHANGED&quot;</td><td>&quot;UNCHANGED&quot;</td><td>&quot;UNCHANGED&quot;</td><td>&quot;UNCHANGED&quot;</td><td>&quot;UNCHANGED&quot;</td><td>&quot;UNCHANGED&quot;</td><td>&quot;UNCHANGED&quot;</td><td>&quot;UNCHANGED&quot;</td><td>&quot;UNCHANGED&quot;</td><td>&quot;UNCHANGED&quot;</td><td>&quot;UNCHANGED&quot;</td><td>&quot;UNCHANGED&quot;</td><td>&quot;UNCHANGED&quot;</td><td>&quot;UNCHANGED&quot;</td><td>&quot;UNCHANGED&quot;</td><td>&quot;UNCHANGED&quot;</td><td>&quot;UNCHANGED&quot;</td><td>&quot;UNCHANGED&quot;</td><td>&quot;UNCHANGED&quot;</td><td>&quot;UNCHANGED&quot;</td><td>&quot;UNCHANGED&quot;</td><td>&quot;UNCHANGED&quot;</td><td>&quot;UNCHANGED&quot;</td><td>&quot;UNCHANGED&quot;</td><td>&quot;UNCHANGED&quot;</td></tr><tr><td>&quot;EPlORYSAT000373643&quot;</td><td>&quot;UNCHANGED&quot;</td><td>&quot;UNCHANGED&quot;</td><td>&quot;UNCHANGED&quot;</td><td>&quot;UNCHANGED&quot;</td><td>&quot;UNCHANGED&quot;</td><td>&quot;UNCHANGED&quot;</td><td>&quot;UNCHANGED&quot;</td><td>&quot;UNCHANGED&quot;</td><td>&quot;UNCHANGED&quot;</td><td>&quot;UNCHANGED&quot;</td><td>&quot;UNCHANGED&quot;</td><td>&quot;UNCHANGED&quot;</td><td>&quot;UNCHANGED&quot;</td><td>&quot;UNCHANGED&quot;</td><td>&quot;UNCHANGED&quot;</td><td>&quot;UNCHANGED&quot;</td><td>&quot;UNCHANGED&quot;</td><td>&quot;UNCHANGED&quot;</td><td>&quot;UNCHANGED&quot;</td><td>&quot;UNCHANGED&quot;</td><td>&quot;UNCHANGED&quot;</td><td>&quot;UNCHANGED&quot;</td><td>&quot;UNCHANGED&quot;</td><td>&quot;UNCHANGED&quot;</td><td>&quot;UNCHANGED&quot;</td><td>&quot;UNCHANGED&quot;</td><td>&quot;UNCHANGED&quot;</td><td>&quot;UNCHANGED&quot;</td><td>&quot;UNCHANGED&quot;</td><td>&quot;UNCHANGED&quot;</td><td>&quot;UNCHANGED&quot;</td><td>&quot;UNCHANGED&quot;</td><td>&quot;UNCHANGED&quot;</td><td>&quot;UNCHANGED&quot;</td><td>&quot;UNCHANGED&quot;</td><td>&quot;UNCHANGED&quot;</td><td>&hellip;</td><td>&quot;UNCHANGED&quot;</td><td>&quot;UNCHANGED&quot;</td><td>&quot;UNCHANGED&quot;</td><td>&quot;UNCHANGED&quot;</td><td>&quot;UNCHANGED&quot;</td><td>&quot;UNCHANGED&quot;</td><td>&quot;UNCHANGED&quot;</td><td>&quot;UNCHANGED&quot;</td><td>&quot;UNCHANGED&quot;</td><td>&quot;UNCHANGED&quot;</td><td>&quot;UNCHANGED&quot;</td><td>&quot;UNCHANGED&quot;</td><td>&quot;UNCHANGED&quot;</td><td>&quot;UNCHANGED&quot;</td><td>&quot;UNCHANGED&quot;</td><td>&quot;UNCHANGED&quot;</td><td>&quot;UNCHANGED&quot;</td><td>&quot;UNCHANGED&quot;</td><td>&quot;UNCHANGED&quot;</td><td>&quot;UNCHANGED&quot;</td><td>&quot;UNCHANGED&quot;</td><td>&quot;UNCHANGED&quot;</td><td>&quot;UNCHANGED&quot;</td><td>&quot;UNCHANGED&quot;</td><td>&quot;UNCHANGED&quot;</td><td>&quot;UNCHANGED&quot;</td><td>&quot;UNCHANGED&quot;</td><td>&quot;UNCHANGED&quot;</td><td>&quot;UNCHANGED&quot;</td><td>&quot;UNCHANGED&quot;</td><td>&quot;UNCHANGED&quot;</td><td>&quot;UNCHANGED&quot;</td><td>&quot;UNCHANGED&quot;</td><td>&quot;UNCHANGED&quot;</td><td>&quot;UNCHANGED&quot;</td><td>&quot;UNCHANGED&quot;</td><td>&quot;UNCHANGED&quot;</td></tr><tr><td>&quot;EPlORYSAT000373795&quot;</td><td>&quot;UNCHANGED&quot;</td><td>&quot;UNCHANGED&quot;</td><td>&quot;UNCHANGED&quot;</td><td>&quot;UNCHANGED&quot;</td><td>&quot;UNCHANGED&quot;</td><td>&quot;UNCHANGED&quot;</td><td>&quot;UNCHANGED&quot;</td><td>&quot;UNCHANGED&quot;</td><td>&quot;UNCHANGED&quot;</td><td>&quot;UNCHANGED&quot;</td><td>&quot;UNCHANGED&quot;</td><td>&quot;UNCHANGED&quot;</td><td>&quot;UNCHANGED&quot;</td><td>&quot;UNCHANGED&quot;</td><td>&quot;UNCHANGED&quot;</td><td>&quot;UNCHANGED&quot;</td><td>&quot;UNCHANGED&quot;</td><td>&quot;UNCHANGED&quot;</td><td>&quot;UNCHANGED&quot;</td><td>&quot;UNCHANGED&quot;</td><td>&quot;UNCHANGED&quot;</td><td>&quot;UNCHANGED&quot;</td><td>&quot;UNCHANGED&quot;</td><td>&quot;UNCHANGED&quot;</td><td>&quot;UNCHANGED&quot;</td><td>&quot;UNCHANGED&quot;</td><td>&quot;UNCHANGED&quot;</td><td>&quot;UNCHANGED&quot;</td><td>&quot;UNCHANGED&quot;</td><td>&quot;UNCHANGED&quot;</td><td>&quot;UNCHANGED&quot;</td><td>&quot;UNCHANGED&quot;</td><td>&quot;UNCHANGED&quot;</td><td>&quot;UNCHANGED&quot;</td><td>&quot;UNCHANGED&quot;</td><td>&quot;UNCHANGED&quot;</td><td>&hellip;</td><td>&quot;UNCHANGED&quot;</td><td>&quot;UNCHANGED&quot;</td><td>&quot;UNCHANGED&quot;</td><td>&quot;UNCHANGED&quot;</td><td>&quot;UNCHANGED&quot;</td><td>&quot;UNCHANGED&quot;</td><td>&quot;UNCHANGED&quot;</td><td>&quot;UNCHANGED&quot;</td><td>&quot;UNCHANGED&quot;</td><td>&quot;UNCHANGED&quot;</td><td>&quot;UNCHANGED&quot;</td><td>&quot;UNCHANGED&quot;</td><td>&quot;UNCHANGED&quot;</td><td>&quot;UNCHANGED&quot;</td><td>&quot;UNCHANGED&quot;</td><td>&quot;UNCHANGED&quot;</td><td>&quot;UNCHANGED&quot;</td><td>&quot;UNCHANGED&quot;</td><td>&quot;UNCHANGED&quot;</td><td>&quot;UNCHANGED&quot;</td><td>&quot;UNCHANGED&quot;</td><td>&quot;UNCHANGED&quot;</td><td>&quot;UNCHANGED&quot;</td><td>&quot;UNCHANGED&quot;</td><td>&quot;UNCHANGED&quot;</td><td>&quot;UNCHANGED&quot;</td><td>&quot;UNCHANGED&quot;</td><td>&quot;UNCHANGED&quot;</td><td>&quot;UNCHANGED&quot;</td><td>&quot;UNCHANGED&quot;</td><td>&quot;UNCHANGED&quot;</td><td>&quot;UNCHANGED&quot;</td><td>&quot;UNCHANGED&quot;</td><td>&quot;UNCHANGED&quot;</td><td>&quot;UNCHANGED&quot;</td><td>&quot;UNCHANGED&quot;</td><td>&quot;UNCHANGED&quot;</td></tr><tr><td>&quot;EPlORYSAT000373851&quot;</td><td>&quot;UNCHANGED&quot;</td><td>&quot;UNCHANGED&quot;</td><td>&quot;UNCHANGED&quot;</td><td>&quot;UNCHANGED&quot;</td><td>&quot;UNCHANGED&quot;</td><td>&quot;UNCHANGED&quot;</td><td>&quot;UNCHANGED&quot;</td><td>&quot;UNCHANGED&quot;</td><td>&quot;UNCHANGED&quot;</td><td>&quot;UNCHANGED&quot;</td><td>&quot;UNCHANGED&quot;</td><td>&quot;UNCHANGED&quot;</td><td>&quot;UNCHANGED&quot;</td><td>&quot;UNCHANGED&quot;</td><td>&quot;UNCHANGED&quot;</td><td>&quot;UNCHANGED&quot;</td><td>&quot;UNCHANGED&quot;</td><td>&quot;UNCHANGED&quot;</td><td>&quot;UNCHANGED&quot;</td><td>&quot;UNCHANGED&quot;</td><td>&quot;UNCHANGED&quot;</td><td>&quot;UNCHANGED&quot;</td><td>&quot;UNCHANGED&quot;</td><td>&quot;UNCHANGED&quot;</td><td>&quot;UNCHANGED&quot;</td><td>&quot;UNCHANGED&quot;</td><td>&quot;UNCHANGED&quot;</td><td>&quot;UNCHANGED&quot;</td><td>&quot;UNCHANGED&quot;</td><td>&quot;UNCHANGED&quot;</td><td>&quot;UNCHANGED&quot;</td><td>&quot;UNCHANGED&quot;</td><td>&quot;UNCHANGED&quot;</td><td>&quot;UNCHANGED&quot;</td><td>&quot;UNCHANGED&quot;</td><td>&quot;UNCHANGED&quot;</td><td>&hellip;</td><td>&quot;UNCHANGED&quot;</td><td>&quot;UNCHANGED&quot;</td><td>&quot;UNCHANGED&quot;</td><td>&quot;UNCHANGED&quot;</td><td>&quot;UNCHANGED&quot;</td><td>&quot;UNCHANGED&quot;</td><td>&quot;UNCHANGED&quot;</td><td>&quot;UNCHANGED&quot;</td><td>&quot;UNCHANGED&quot;</td><td>&quot;UNCHANGED&quot;</td><td>&quot;UNCHANGED&quot;</td><td>&quot;UNCHANGED&quot;</td><td>&quot;UNCHANGED&quot;</td><td>&quot;UNCHANGED&quot;</td><td>&quot;UNCHANGED&quot;</td><td>&quot;UNCHANGED&quot;</td><td>&quot;UNCHANGED&quot;</td><td>&quot;UNCHANGED&quot;</td><td>&quot;UNCHANGED&quot;</td><td>&quot;UNCHANGED&quot;</td><td>&quot;UNCHANGED&quot;</td><td>&quot;UNCHANGED&quot;</td><td>&quot;UNCHANGED&quot;</td><td>&quot;UNCHANGED&quot;</td><td>&quot;UNCHANGED&quot;</td><td>&quot;UNCHANGED&quot;</td><td>&quot;UNCHANGED&quot;</td><td>&quot;UNCHANGED&quot;</td><td>&quot;UNCHANGED&quot;</td><td>&quot;UNCHANGED&quot;</td><td>&quot;UNCHANGED&quot;</td><td>&quot;UNCHANGED&quot;</td><td>&quot;UNCHANGED&quot;</td><td>&quot;UNCHANGED&quot;</td><td>&quot;UNCHANGED&quot;</td><td>&quot;UNCHANGED&quot;</td><td>&quot;UNCHANGED&quot;</td></tr><tr><td>&hellip;</td><td>&hellip;</td><td>&hellip;</td><td>&hellip;</td><td>&hellip;</td><td>&hellip;</td><td>&hellip;</td><td>&hellip;</td><td>&hellip;</td><td>&hellip;</td><td>&hellip;</td><td>&hellip;</td><td>&hellip;</td><td>&hellip;</td><td>&hellip;</td><td>&hellip;</td><td>&hellip;</td><td>&hellip;</td><td>&hellip;</td><td>&hellip;</td><td>&hellip;</td><td>&hellip;</td><td>&hellip;</td><td>&hellip;</td><td>&hellip;</td><td>&hellip;</td><td>&hellip;</td><td>&hellip;</td><td>&hellip;</td><td>&hellip;</td><td>&hellip;</td><td>&hellip;</td><td>&hellip;</td><td>&hellip;</td><td>&hellip;</td><td>&hellip;</td><td>&hellip;</td><td>&hellip;</td><td>&hellip;</td><td>&hellip;</td><td>&hellip;</td><td>&hellip;</td><td>&hellip;</td><td>&hellip;</td><td>&hellip;</td><td>&hellip;</td><td>&hellip;</td><td>&hellip;</td><td>&hellip;</td><td>&hellip;</td><td>&hellip;</td><td>&hellip;</td><td>&hellip;</td><td>&hellip;</td><td>&hellip;</td><td>&hellip;</td><td>&hellip;</td><td>&hellip;</td><td>&hellip;</td><td>&hellip;</td><td>&hellip;</td><td>&hellip;</td><td>&hellip;</td><td>&hellip;</td><td>&hellip;</td><td>&hellip;</td><td>&hellip;</td><td>&hellip;</td><td>&hellip;</td><td>&hellip;</td><td>&hellip;</td><td>&hellip;</td><td>&hellip;</td><td>&hellip;</td><td>&hellip;</td></tr><tr><td>&quot;Os12g0641100&quot;</td><td>&quot;UNCHANGED&quot;</td><td>&quot;UNCHANGED&quot;</td><td>&quot;UNCHANGED&quot;</td><td>&quot;UNCHANGED&quot;</td><td>&quot;UNCHANGED&quot;</td><td>&quot;UNCHANGED&quot;</td><td>&quot;UNCHANGED&quot;</td><td>&quot;UNCHANGED&quot;</td><td>&quot;UNCHANGED&quot;</td><td>&quot;UNCHANGED&quot;</td><td>&quot;UNCHANGED&quot;</td><td>&quot;UNCHANGED&quot;</td><td>&quot;UNCHANGED&quot;</td><td>&quot;UNCHANGED&quot;</td><td>&quot;UNCHANGED&quot;</td><td>&quot;UNCHANGED&quot;</td><td>&quot;UNCHANGED&quot;</td><td>&quot;UNCHANGED&quot;</td><td>&quot;UNCHANGED&quot;</td><td>&quot;UNCHANGED&quot;</td><td>&quot;UNCHANGED&quot;</td><td>&quot;UNCHANGED&quot;</td><td>&quot;UNCHANGED&quot;</td><td>&quot;UNCHANGED&quot;</td><td>&quot;UNCHANGED&quot;</td><td>&quot;UNCHANGED&quot;</td><td>&quot;UP&quot;</td><td>&quot;UNCHANGED&quot;</td><td>&quot;UNCHANGED&quot;</td><td>&quot;UNCHANGED&quot;</td><td>&quot;UNCHANGED&quot;</td><td>&quot;UNCHANGED&quot;</td><td>&quot;UNCHANGED&quot;</td><td>&quot;UNCHANGED&quot;</td><td>&quot;UNCHANGED&quot;</td><td>&quot;UP&quot;</td><td>&hellip;</td><td>&quot;UNCHANGED&quot;</td><td>&quot;UNCHANGED&quot;</td><td>&quot;UNCHANGED&quot;</td><td>&quot;UNCHANGED&quot;</td><td>&quot;UNCHANGED&quot;</td><td>&quot;UNCHANGED&quot;</td><td>&quot;UNCHANGED&quot;</td><td>&quot;UNCHANGED&quot;</td><td>&quot;UNCHANGED&quot;</td><td>&quot;UNCHANGED&quot;</td><td>&quot;UNCHANGED&quot;</td><td>&quot;UNCHANGED&quot;</td><td>&quot;UNCHANGED&quot;</td><td>&quot;UNCHANGED&quot;</td><td>&quot;UNCHANGED&quot;</td><td>&quot;UNCHANGED&quot;</td><td>&quot;UNCHANGED&quot;</td><td>&quot;UNCHANGED&quot;</td><td>&quot;UNCHANGED&quot;</td><td>&quot;UNCHANGED&quot;</td><td>&quot;UNCHANGED&quot;</td><td>&quot;UNCHANGED&quot;</td><td>&quot;UNCHANGED&quot;</td><td>&quot;UNCHANGED&quot;</td><td>&quot;UNCHANGED&quot;</td><td>&quot;UNCHANGED&quot;</td><td>&quot;UNCHANGED&quot;</td><td>&quot;UNCHANGED&quot;</td><td>&quot;UNCHANGED&quot;</td><td>&quot;UNCHANGED&quot;</td><td>&quot;UNCHANGED&quot;</td><td>&quot;UNCHANGED&quot;</td><td>&quot;UNCHANGED&quot;</td><td>&quot;UNCHANGED&quot;</td><td>&quot;UNCHANGED&quot;</td><td>&quot;UNCHANGED&quot;</td><td>&quot;UNCHANGED&quot;</td></tr><tr><td>&quot;Os12g0641200&quot;</td><td>&quot;UNCHANGED&quot;</td><td>&quot;UNCHANGED&quot;</td><td>&quot;UNCHANGED&quot;</td><td>&quot;UNCHANGED&quot;</td><td>&quot;UNCHANGED&quot;</td><td>&quot;UNCHANGED&quot;</td><td>&quot;UNCHANGED&quot;</td><td>&quot;UNCHANGED&quot;</td><td>&quot;UNCHANGED&quot;</td><td>&quot;UNCHANGED&quot;</td><td>&quot;UNCHANGED&quot;</td><td>&quot;UNCHANGED&quot;</td><td>&quot;UNCHANGED&quot;</td><td>&quot;UNCHANGED&quot;</td><td>&quot;UNCHANGED&quot;</td><td>&quot;UNCHANGED&quot;</td><td>&quot;UNCHANGED&quot;</td><td>&quot;UNCHANGED&quot;</td><td>&quot;UNCHANGED&quot;</td><td>&quot;UNCHANGED&quot;</td><td>&quot;UNCHANGED&quot;</td><td>&quot;UNCHANGED&quot;</td><td>&quot;UNCHANGED&quot;</td><td>&quot;UNCHANGED&quot;</td><td>&quot;UNCHANGED&quot;</td><td>&quot;UNCHANGED&quot;</td><td>&quot;UNCHANGED&quot;</td><td>&quot;UNCHANGED&quot;</td><td>&quot;UNCHANGED&quot;</td><td>&quot;UNCHANGED&quot;</td><td>&quot;UNCHANGED&quot;</td><td>&quot;UP&quot;</td><td>&quot;UNCHANGED&quot;</td><td>&quot;UNCHANGED&quot;</td><td>&quot;UNCHANGED&quot;</td><td>&quot;UNCHANGED&quot;</td><td>&hellip;</td><td>&quot;UNCHANGED&quot;</td><td>&quot;UNCHANGED&quot;</td><td>&quot;UNCHANGED&quot;</td><td>&quot;UNCHANGED&quot;</td><td>&quot;UNCHANGED&quot;</td><td>&quot;UNCHANGED&quot;</td><td>&quot;UNCHANGED&quot;</td><td>&quot;UNCHANGED&quot;</td><td>&quot;UNCHANGED&quot;</td><td>&quot;UNCHANGED&quot;</td><td>&quot;UNCHANGED&quot;</td><td>&quot;UNCHANGED&quot;</td><td>&quot;UNCHANGED&quot;</td><td>&quot;UNCHANGED&quot;</td><td>&quot;UNCHANGED&quot;</td><td>&quot;UNCHANGED&quot;</td><td>&quot;UNCHANGED&quot;</td><td>&quot;UNCHANGED&quot;</td><td>&quot;UNCHANGED&quot;</td><td>&quot;UNCHANGED&quot;</td><td>&quot;UNCHANGED&quot;</td><td>&quot;UNCHANGED&quot;</td><td>&quot;UNCHANGED&quot;</td><td>&quot;UNCHANGED&quot;</td><td>&quot;UNCHANGED&quot;</td><td>&quot;UNCHANGED&quot;</td><td>&quot;UNCHANGED&quot;</td><td>&quot;UNCHANGED&quot;</td><td>&quot;UNCHANGED&quot;</td><td>&quot;UNCHANGED&quot;</td><td>&quot;UNCHANGED&quot;</td><td>&quot;UP&quot;</td><td>&quot;UP&quot;</td><td>&quot;UNCHANGED&quot;</td><td>&quot;UNCHANGED&quot;</td><td>&quot;UNCHANGED&quot;</td><td>&quot;UP&quot;</td></tr><tr><td>&quot;Os12g0641300&quot;</td><td>&quot;UNCHANGED&quot;</td><td>&quot;UNCHANGED&quot;</td><td>&quot;UNCHANGED&quot;</td><td>&quot;UNCHANGED&quot;</td><td>&quot;UNCHANGED&quot;</td><td>&quot;UNCHANGED&quot;</td><td>&quot;UNCHANGED&quot;</td><td>&quot;UNCHANGED&quot;</td><td>&quot;UNCHANGED&quot;</td><td>&quot;UNCHANGED&quot;</td><td>&quot;UNCHANGED&quot;</td><td>&quot;UNCHANGED&quot;</td><td>&quot;UNCHANGED&quot;</td><td>&quot;UNCHANGED&quot;</td><td>&quot;UNCHANGED&quot;</td><td>&quot;UNCHANGED&quot;</td><td>&quot;UNCHANGED&quot;</td><td>&quot;UNCHANGED&quot;</td><td>&quot;UNCHANGED&quot;</td><td>&quot;UNCHANGED&quot;</td><td>&quot;UNCHANGED&quot;</td><td>&quot;UNCHANGED&quot;</td><td>&quot;UNCHANGED&quot;</td><td>&quot;UNCHANGED&quot;</td><td>&quot;UNCHANGED&quot;</td><td>&quot;UNCHANGED&quot;</td><td>&quot;UNCHANGED&quot;</td><td>&quot;UNCHANGED&quot;</td><td>&quot;DOWN&quot;</td><td>&quot;UNCHANGED&quot;</td><td>&quot;UNCHANGED&quot;</td><td>&quot;UNCHANGED&quot;</td><td>&quot;UNCHANGED&quot;</td><td>&quot;UNCHANGED&quot;</td><td>&quot;UNCHANGED&quot;</td><td>&quot;UNCHANGED&quot;</td><td>&hellip;</td><td>&quot;UNCHANGED&quot;</td><td>&quot;UNCHANGED&quot;</td><td>&quot;UNCHANGED&quot;</td><td>&quot;UNCHANGED&quot;</td><td>&quot;UNCHANGED&quot;</td><td>&quot;UNCHANGED&quot;</td><td>&quot;UNCHANGED&quot;</td><td>&quot;UNCHANGED&quot;</td><td>&quot;UNCHANGED&quot;</td><td>&quot;UNCHANGED&quot;</td><td>&quot;UNCHANGED&quot;</td><td>&quot;UNCHANGED&quot;</td><td>&quot;UNCHANGED&quot;</td><td>&quot;UNCHANGED&quot;</td><td>&quot;UNCHANGED&quot;</td><td>&quot;UNCHANGED&quot;</td><td>&quot;UNCHANGED&quot;</td><td>&quot;UNCHANGED&quot;</td><td>&quot;UNCHANGED&quot;</td><td>&quot;UNCHANGED&quot;</td><td>&quot;UNCHANGED&quot;</td><td>&quot;UNCHANGED&quot;</td><td>&quot;UNCHANGED&quot;</td><td>&quot;UNCHANGED&quot;</td><td>&quot;UNCHANGED&quot;</td><td>&quot;UNCHANGED&quot;</td><td>&quot;UNCHANGED&quot;</td><td>&quot;UNCHANGED&quot;</td><td>&quot;UNCHANGED&quot;</td><td>&quot;UNCHANGED&quot;</td><td>&quot;UNCHANGED&quot;</td><td>&quot;UNCHANGED&quot;</td><td>&quot;UNCHANGED&quot;</td><td>&quot;UNCHANGED&quot;</td><td>&quot;UNCHANGED&quot;</td><td>&quot;UNCHANGED&quot;</td><td>&quot;UNCHANGED&quot;</td></tr><tr><td>&quot;Os12g0641400&quot;</td><td>&quot;UNCHANGED&quot;</td><td>&quot;UNCHANGED&quot;</td><td>&quot;UNCHANGED&quot;</td><td>&quot;UNCHANGED&quot;</td><td>&quot;UNCHANGED&quot;</td><td>&quot;UNCHANGED&quot;</td><td>&quot;UNCHANGED&quot;</td><td>&quot;UNCHANGED&quot;</td><td>&quot;UNCHANGED&quot;</td><td>&quot;UNCHANGED&quot;</td><td>&quot;UNCHANGED&quot;</td><td>&quot;UNCHANGED&quot;</td><td>&quot;UNCHANGED&quot;</td><td>&quot;UNCHANGED&quot;</td><td>&quot;UNCHANGED&quot;</td><td>&quot;UNCHANGED&quot;</td><td>&quot;UNCHANGED&quot;</td><td>&quot;UNCHANGED&quot;</td><td>&quot;UNCHANGED&quot;</td><td>&quot;UNCHANGED&quot;</td><td>&quot;UNCHANGED&quot;</td><td>&quot;UNCHANGED&quot;</td><td>&quot;UNCHANGED&quot;</td><td>&quot;UNCHANGED&quot;</td><td>&quot;UNCHANGED&quot;</td><td>&quot;UNCHANGED&quot;</td><td>&quot;UNCHANGED&quot;</td><td>&quot;UNCHANGED&quot;</td><td>&quot;UNCHANGED&quot;</td><td>&quot;UNCHANGED&quot;</td><td>&quot;UNCHANGED&quot;</td><td>&quot;UNCHANGED&quot;</td><td>&quot;UNCHANGED&quot;</td><td>&quot;UNCHANGED&quot;</td><td>&quot;UNCHANGED&quot;</td><td>&quot;UNCHANGED&quot;</td><td>&hellip;</td><td>&quot;UNCHANGED&quot;</td><td>&quot;UNCHANGED&quot;</td><td>&quot;UNCHANGED&quot;</td><td>&quot;UNCHANGED&quot;</td><td>&quot;UNCHANGED&quot;</td><td>&quot;UNCHANGED&quot;</td><td>&quot;UNCHANGED&quot;</td><td>&quot;UNCHANGED&quot;</td><td>&quot;UNCHANGED&quot;</td><td>&quot;UNCHANGED&quot;</td><td>&quot;UNCHANGED&quot;</td><td>&quot;UNCHANGED&quot;</td><td>&quot;UNCHANGED&quot;</td><td>&quot;UNCHANGED&quot;</td><td>&quot;UNCHANGED&quot;</td><td>&quot;UNCHANGED&quot;</td><td>&quot;UNCHANGED&quot;</td><td>&quot;UNCHANGED&quot;</td><td>&quot;UNCHANGED&quot;</td><td>&quot;UNCHANGED&quot;</td><td>&quot;UNCHANGED&quot;</td><td>&quot;UNCHANGED&quot;</td><td>&quot;UNCHANGED&quot;</td><td>&quot;UNCHANGED&quot;</td><td>&quot;UNCHANGED&quot;</td><td>&quot;UNCHANGED&quot;</td><td>&quot;UNCHANGED&quot;</td><td>&quot;UNCHANGED&quot;</td><td>&quot;UNCHANGED&quot;</td><td>&quot;UNCHANGED&quot;</td><td>&quot;UNCHANGED&quot;</td><td>&quot;UNCHANGED&quot;</td><td>&quot;UNCHANGED&quot;</td><td>&quot;UNCHANGED&quot;</td><td>&quot;UNCHANGED&quot;</td><td>&quot;UNCHANGED&quot;</td><td>&quot;UNCHANGED&quot;</td></tr><tr><td>&quot;Os12g0641500&quot;</td><td>&quot;UNCHANGED&quot;</td><td>&quot;UNCHANGED&quot;</td><td>&quot;UNCHANGED&quot;</td><td>&quot;UNCHANGED&quot;</td><td>&quot;UNCHANGED&quot;</td><td>&quot;UNCHANGED&quot;</td><td>&quot;UNCHANGED&quot;</td><td>&quot;UNCHANGED&quot;</td><td>&quot;UNCHANGED&quot;</td><td>&quot;UNCHANGED&quot;</td><td>&quot;UNCHANGED&quot;</td><td>&quot;UNCHANGED&quot;</td><td>&quot;UNCHANGED&quot;</td><td>&quot;UNCHANGED&quot;</td><td>&quot;UNCHANGED&quot;</td><td>&quot;UNCHANGED&quot;</td><td>&quot;UNCHANGED&quot;</td><td>&quot;UNCHANGED&quot;</td><td>&quot;UNCHANGED&quot;</td><td>&quot;UNCHANGED&quot;</td><td>&quot;UNCHANGED&quot;</td><td>&quot;UNCHANGED&quot;</td><td>&quot;UNCHANGED&quot;</td><td>&quot;UNCHANGED&quot;</td><td>&quot;UNCHANGED&quot;</td><td>&quot;UNCHANGED&quot;</td><td>&quot;UP&quot;</td><td>&quot;UP&quot;</td><td>&quot;UP&quot;</td><td>&quot;UNCHANGED&quot;</td><td>&quot;UNCHANGED&quot;</td><td>&quot;UNCHANGED&quot;</td><td>&quot;UNCHANGED&quot;</td><td>&quot;UNCHANGED&quot;</td><td>&quot;UNCHANGED&quot;</td><td>&quot;UNCHANGED&quot;</td><td>&hellip;</td><td>&quot;UNCHANGED&quot;</td><td>&quot;UNCHANGED&quot;</td><td>&quot;UNCHANGED&quot;</td><td>&quot;UNCHANGED&quot;</td><td>&quot;UNCHANGED&quot;</td><td>&quot;UNCHANGED&quot;</td><td>&quot;UNCHANGED&quot;</td><td>&quot;UNCHANGED&quot;</td><td>&quot;UNCHANGED&quot;</td><td>&quot;UNCHANGED&quot;</td><td>&quot;UNCHANGED&quot;</td><td>&quot;UNCHANGED&quot;</td><td>&quot;UNCHANGED&quot;</td><td>&quot;UNCHANGED&quot;</td><td>&quot;UNCHANGED&quot;</td><td>&quot;UNCHANGED&quot;</td><td>&quot;UNCHANGED&quot;</td><td>&quot;UNCHANGED&quot;</td><td>&quot;UNCHANGED&quot;</td><td>&quot;UNCHANGED&quot;</td><td>&quot;UNCHANGED&quot;</td><td>&quot;UNCHANGED&quot;</td><td>&quot;UNCHANGED&quot;</td><td>&quot;UNCHANGED&quot;</td><td>&quot;UNCHANGED&quot;</td><td>&quot;UNCHANGED&quot;</td><td>&quot;UNCHANGED&quot;</td><td>&quot;UNCHANGED&quot;</td><td>&quot;UNCHANGED&quot;</td><td>&quot;UNCHANGED&quot;</td><td>&quot;UNCHANGED&quot;</td><td>&quot;UNCHANGED&quot;</td><td>&quot;UNCHANGED&quot;</td><td>&quot;UNCHANGED&quot;</td><td>&quot;UNCHANGED&quot;</td><td>&quot;UNCHANGED&quot;</td><td>&quot;UNCHANGED&quot;</td></tr></tbody></table></div>"
      ],
      "text/plain": [
       "shape: (35_691, 361)\n",
       "┌───────────┬───────────┬───────────┬───────────┬───┬───────────┬───────────┬───────────┬──────────┐\n",
       "│ GENEID    ┆ HNT_30C_2 ┆ HNT_30C_2 ┆ HNT_30C_2 ┆ … ┆ HSt_45C_1 ┆ HSt_45C_1 ┆ HSt_45C_1 ┆ HSt_45C_ │\n",
       "│ ---       ┆ 8C_10h    ┆ 8C_10h_1  ┆ 8C_10h_2  ┆   ┆ 8h_2      ┆ 8h_3      ┆ 8h_4      ┆ 18h_5    │\n",
       "│ str       ┆ ---       ┆ ---       ┆ ---       ┆   ┆ ---       ┆ ---       ┆ ---       ┆ ---      │\n",
       "│           ┆ str       ┆ str       ┆ str       ┆   ┆ str       ┆ str       ┆ str       ┆ str      │\n",
       "╞═══════════╪═══════════╪═══════════╪═══════════╪═══╪═══════════╪═══════════╪═══════════╪══════════╡\n",
       "│ EPlORYSAT ┆ UNCHANGED ┆ UNCHANGED ┆ UP        ┆ … ┆ UNCHANGED ┆ UNCHANGED ┆ UNCHANGED ┆ UNCHANGE │\n",
       "│ 000373610 ┆           ┆           ┆           ┆   ┆           ┆           ┆           ┆ D        │\n",
       "│ EPlORYSAT ┆ UNCHANGED ┆ UNCHANGED ┆ UNCHANGED ┆ … ┆ UNCHANGED ┆ UNCHANGED ┆ UNCHANGED ┆ UNCHANGE │\n",
       "│ 000373621 ┆           ┆           ┆           ┆   ┆           ┆           ┆           ┆ D        │\n",
       "│ EPlORYSAT ┆ UNCHANGED ┆ UNCHANGED ┆ UNCHANGED ┆ … ┆ UNCHANGED ┆ UNCHANGED ┆ UNCHANGED ┆ UNCHANGE │\n",
       "│ 000373643 ┆           ┆           ┆           ┆   ┆           ┆           ┆           ┆ D        │\n",
       "│ EPlORYSAT ┆ UNCHANGED ┆ UNCHANGED ┆ UNCHANGED ┆ … ┆ UNCHANGED ┆ UNCHANGED ┆ UNCHANGED ┆ UNCHANGE │\n",
       "│ 000373795 ┆           ┆           ┆           ┆   ┆           ┆           ┆           ┆ D        │\n",
       "│ EPlORYSAT ┆ UNCHANGED ┆ UNCHANGED ┆ UNCHANGED ┆ … ┆ UNCHANGED ┆ UNCHANGED ┆ UNCHANGED ┆ UNCHANGE │\n",
       "│ 000373851 ┆           ┆           ┆           ┆   ┆           ┆           ┆           ┆ D        │\n",
       "│ …         ┆ …         ┆ …         ┆ …         ┆ … ┆ …         ┆ …         ┆ …         ┆ …        │\n",
       "│ Os12g0641 ┆ UNCHANGED ┆ UNCHANGED ┆ UNCHANGED ┆ … ┆ UNCHANGED ┆ UNCHANGED ┆ UNCHANGED ┆ UNCHANGE │\n",
       "│ 100       ┆           ┆           ┆           ┆   ┆           ┆           ┆           ┆ D        │\n",
       "│ Os12g0641 ┆ UNCHANGED ┆ UNCHANGED ┆ UNCHANGED ┆ … ┆ UNCHANGED ┆ UNCHANGED ┆ UNCHANGED ┆ UP       │\n",
       "│ 200       ┆           ┆           ┆           ┆   ┆           ┆           ┆           ┆          │\n",
       "│ Os12g0641 ┆ UNCHANGED ┆ UNCHANGED ┆ UNCHANGED ┆ … ┆ UNCHANGED ┆ UNCHANGED ┆ UNCHANGED ┆ UNCHANGE │\n",
       "│ 300       ┆           ┆           ┆           ┆   ┆           ┆           ┆           ┆ D        │\n",
       "│ Os12g0641 ┆ UNCHANGED ┆ UNCHANGED ┆ UNCHANGED ┆ … ┆ UNCHANGED ┆ UNCHANGED ┆ UNCHANGED ┆ UNCHANGE │\n",
       "│ 400       ┆           ┆           ┆           ┆   ┆           ┆           ┆           ┆ D        │\n",
       "│ Os12g0641 ┆ UNCHANGED ┆ UNCHANGED ┆ UNCHANGED ┆ … ┆ UNCHANGED ┆ UNCHANGED ┆ UNCHANGED ┆ UNCHANGE │\n",
       "│ 500       ┆           ┆           ┆           ┆   ┆           ┆           ┆           ┆ D        │\n",
       "└───────────┴───────────┴───────────┴───────────┴───┴───────────┴───────────┴───────────┴──────────┘"
      ]
     },
     "metadata": {},
     "output_type": "display_data"
    }
   ],
   "source": [
    "# define a function to categorize the HNratio\n",
    "def categorize(x):\n",
    "    if x >= threshold:\n",
    "        return 'UP'\n",
    "    elif x <= 1 / threshold:\n",
    "        return 'DOWN'\n",
    "    else:\n",
    "        return 'UNCHANGED'\n",
    "\n",
    "# apply the categorize function to all columns except GENEID\n",
    "result = HNratio.with_columns([\n",
    "    pl.col(col).map_elements(categorize, return_dtype=pl.String)\n",
    "    for col in HNratio.columns if col != 'GENEID'\n",
    "])\n",
    "\n",
    "# display the result\n",
    "display(result)"
   ]
  },
  {
   "cell_type": "code",
   "execution_count": 8,
   "metadata": {},
   "outputs": [
    {
     "name": "stdout",
     "output_type": "stream",
     "text": [
      "{'HTS_35C_29C_unknown', 'HSh_40C_105min', 'HTS_35C_28C_5days', 'HSh_40C_30min', 'HSh_42C_10min', 'HSh_40C_210min_recov', 'HSt_45C_18h', 'HSh_40C_135min_recov', 'HTS_38C_7h', 'HSh_40C_75min', 'HNT_30C_28C', 'HNT_28C_28C', 'HSh_40C_45min', 'HSt_45C_36h', 'HSh_40C_165min', 'HTS_35C_29C', 'HSh_40C_60min', 'HSt_35C', 'HSh_40C_240min_recov', 'HSh_40C', 'HSh_40C_195min', 'HNT_30C_28C_10h', 'HSh_40C_150min_recov', 'HTS_38C', 'HSh_42C_10min_recov', 'HSh_40C_225min_recov', 'HSh_40C_195min_recov', 'HTS_30C', 'HSh_40C_135min', 'HSh_40C_165min_recov', 'HSh_40C_180min', 'HSh_40C_225min', 'HSh_42C', 'HNT_28C_28C_unknown', 'HSt_45C_4h', 'HSh_40C_120min', 'HTS_35C_28C', 'HSt_45C', 'HSh_40C_240min', 'HSh_40C_15min', 'HSh_40C_150min', 'HSh_40C_180min_recov', 'HSh_40C_90min', 'HTS_30C_18days', 'HSh_40C_210min', 'HSt_35C_longterm'}\n"
     ]
    },
    {
     "data": {
      "text/html": [
       "<div><style>\n",
       ".dataframe > thead > tr,\n",
       ".dataframe > tbody > tr {\n",
       "  text-align: right;\n",
       "  white-space: pre-wrap;\n",
       "}\n",
       "</style>\n",
       "<small>shape: (35_691, 139)</small><table border=\"1\" class=\"dataframe\"><thead><tr><th>GENEID</th><th>UP(HTS_35C_29C_unknown)</th><th>DOWN(HTS_35C_29C_unknown)</th><th>UNCHANGED(HTS_35C_29C_unknown)</th><th>UP(HSh_40C_105min)</th><th>DOWN(HSh_40C_105min)</th><th>UNCHANGED(HSh_40C_105min)</th><th>UP(HTS_35C_28C_5days)</th><th>DOWN(HTS_35C_28C_5days)</th><th>UNCHANGED(HTS_35C_28C_5days)</th><th>UP(HSh_40C_30min)</th><th>DOWN(HSh_40C_30min)</th><th>UNCHANGED(HSh_40C_30min)</th><th>UP(HSh_42C_10min)</th><th>DOWN(HSh_42C_10min)</th><th>UNCHANGED(HSh_42C_10min)</th><th>UP(HSh_40C_210min_recov)</th><th>DOWN(HSh_40C_210min_recov)</th><th>UNCHANGED(HSh_40C_210min_recov)</th><th>UP(HSt_45C_18h)</th><th>DOWN(HSt_45C_18h)</th><th>UNCHANGED(HSt_45C_18h)</th><th>UP(HSh_40C_135min_recov)</th><th>DOWN(HSh_40C_135min_recov)</th><th>UNCHANGED(HSh_40C_135min_recov)</th><th>UP(HTS_38C_7h)</th><th>DOWN(HTS_38C_7h)</th><th>UNCHANGED(HTS_38C_7h)</th><th>UP(HSh_40C_75min)</th><th>DOWN(HSh_40C_75min)</th><th>UNCHANGED(HSh_40C_75min)</th><th>UP(HNT_30C_28C)</th><th>DOWN(HNT_30C_28C)</th><th>UNCHANGED(HNT_30C_28C)</th><th>UP(HNT_28C_28C)</th><th>DOWN(HNT_28C_28C)</th><th>UNCHANGED(HNT_28C_28C)</th><th>&hellip;</th><th>UNCHANGED(HNT_28C_28C_unknown)</th><th>UP(HSt_45C_4h)</th><th>DOWN(HSt_45C_4h)</th><th>UNCHANGED(HSt_45C_4h)</th><th>UP(HSh_40C_120min)</th><th>DOWN(HSh_40C_120min)</th><th>UNCHANGED(HSh_40C_120min)</th><th>UP(HTS_35C_28C)</th><th>DOWN(HTS_35C_28C)</th><th>UNCHANGED(HTS_35C_28C)</th><th>UP(HSt_45C)</th><th>DOWN(HSt_45C)</th><th>UNCHANGED(HSt_45C)</th><th>UP(HSh_40C_240min)</th><th>DOWN(HSh_40C_240min)</th><th>UNCHANGED(HSh_40C_240min)</th><th>UP(HSh_40C_15min)</th><th>DOWN(HSh_40C_15min)</th><th>UNCHANGED(HSh_40C_15min)</th><th>UP(HSh_40C_150min)</th><th>DOWN(HSh_40C_150min)</th><th>UNCHANGED(HSh_40C_150min)</th><th>UP(HSh_40C_180min_recov)</th><th>DOWN(HSh_40C_180min_recov)</th><th>UNCHANGED(HSh_40C_180min_recov)</th><th>UP(HSh_40C_90min)</th><th>DOWN(HSh_40C_90min)</th><th>UNCHANGED(HSh_40C_90min)</th><th>UP(HTS_30C_18days)</th><th>DOWN(HTS_30C_18days)</th><th>UNCHANGED(HTS_30C_18days)</th><th>UP(HSh_40C_210min)</th><th>DOWN(HSh_40C_210min)</th><th>UNCHANGED(HSh_40C_210min)</th><th>UP(HSt_35C_longterm)</th><th>DOWN(HSt_35C_longterm)</th><th>UNCHANGED(HSt_35C_longterm)</th></tr><tr><td>str</td><td>i32</td><td>i32</td><td>i32</td><td>i32</td><td>i32</td><td>i32</td><td>i32</td><td>i32</td><td>i32</td><td>i32</td><td>i32</td><td>i32</td><td>i32</td><td>i32</td><td>i32</td><td>i32</td><td>i32</td><td>i32</td><td>i32</td><td>i32</td><td>i32</td><td>i32</td><td>i32</td><td>i32</td><td>i32</td><td>i32</td><td>i32</td><td>i32</td><td>i32</td><td>i32</td><td>i32</td><td>i32</td><td>i32</td><td>i32</td><td>i32</td><td>i32</td><td>&hellip;</td><td>i32</td><td>i32</td><td>i32</td><td>i32</td><td>i32</td><td>i32</td><td>i32</td><td>i32</td><td>i32</td><td>i32</td><td>i32</td><td>i32</td><td>i32</td><td>i32</td><td>i32</td><td>i32</td><td>i32</td><td>i32</td><td>i32</td><td>i32</td><td>i32</td><td>i32</td><td>i32</td><td>i32</td><td>i32</td><td>i32</td><td>i32</td><td>i32</td><td>i32</td><td>i32</td><td>i32</td><td>i32</td><td>i32</td><td>i32</td><td>i32</td><td>i32</td><td>i32</td></tr></thead><tbody><tr><td>&quot;EPlORYSAT000373610&quot;</td><td>3</td><td>1</td><td>9</td><td>1</td><td>1</td><td>5</td><td>0</td><td>0</td><td>1</td><td>1</td><td>1</td><td>8</td><td>1</td><td>0</td><td>1</td><td>0</td><td>0</td><td>7</td><td>0</td><td>0</td><td>5</td><td>0</td><td>1</td><td>5</td><td>0</td><td>0</td><td>5</td><td>1</td><td>0</td><td>6</td><td>0</td><td>0</td><td>1</td><td>0</td><td>0</td><td>1</td><td>&hellip;</td><td>72</td><td>0</td><td>0</td><td>11</td><td>0</td><td>0</td><td>7</td><td>0</td><td>1</td><td>0</td><td>0</td><td>0</td><td>3</td><td>1</td><td>0</td><td>7</td><td>0</td><td>1</td><td>6</td><td>0</td><td>0</td><td>8</td><td>1</td><td>0</td><td>6</td><td>0</td><td>0</td><td>7</td><td>0</td><td>0</td><td>1</td><td>0</td><td>1</td><td>7</td><td>0</td><td>0</td><td>14</td></tr><tr><td>&quot;EPlORYSAT000373621&quot;</td><td>0</td><td>0</td><td>13</td><td>0</td><td>0</td><td>7</td><td>0</td><td>0</td><td>1</td><td>0</td><td>0</td><td>10</td><td>0</td><td>0</td><td>2</td><td>0</td><td>0</td><td>7</td><td>0</td><td>0</td><td>5</td><td>0</td><td>0</td><td>6</td><td>0</td><td>0</td><td>5</td><td>0</td><td>0</td><td>7</td><td>0</td><td>0</td><td>1</td><td>0</td><td>0</td><td>1</td><td>&hellip;</td><td>81</td><td>0</td><td>0</td><td>11</td><td>0</td><td>0</td><td>7</td><td>0</td><td>0</td><td>1</td><td>0</td><td>0</td><td>3</td><td>0</td><td>0</td><td>8</td><td>0</td><td>0</td><td>7</td><td>0</td><td>0</td><td>8</td><td>0</td><td>0</td><td>7</td><td>0</td><td>0</td><td>7</td><td>0</td><td>0</td><td>1</td><td>0</td><td>0</td><td>8</td><td>0</td><td>0</td><td>14</td></tr><tr><td>&quot;EPlORYSAT000373643&quot;</td><td>2</td><td>1</td><td>10</td><td>2</td><td>0</td><td>5</td><td>0</td><td>0</td><td>1</td><td>1</td><td>0</td><td>9</td><td>0</td><td>0</td><td>2</td><td>1</td><td>1</td><td>5</td><td>0</td><td>0</td><td>5</td><td>2</td><td>0</td><td>4</td><td>0</td><td>0</td><td>5</td><td>2</td><td>2</td><td>3</td><td>0</td><td>0</td><td>1</td><td>0</td><td>0</td><td>1</td><td>&hellip;</td><td>81</td><td>0</td><td>0</td><td>11</td><td>2</td><td>1</td><td>4</td><td>0</td><td>0</td><td>1</td><td>0</td><td>0</td><td>3</td><td>3</td><td>1</td><td>4</td><td>2</td><td>0</td><td>5</td><td>2</td><td>0</td><td>6</td><td>0</td><td>1</td><td>6</td><td>2</td><td>1</td><td>4</td><td>0</td><td>0</td><td>1</td><td>2</td><td>3</td><td>3</td><td>0</td><td>0</td><td>14</td></tr><tr><td>&quot;EPlORYSAT000373795&quot;</td><td>1</td><td>1</td><td>11</td><td>0</td><td>1</td><td>6</td><td>0</td><td>0</td><td>1</td><td>0</td><td>0</td><td>10</td><td>0</td><td>0</td><td>2</td><td>0</td><td>0</td><td>7</td><td>0</td><td>0</td><td>5</td><td>0</td><td>0</td><td>6</td><td>0</td><td>0</td><td>5</td><td>1</td><td>0</td><td>6</td><td>0</td><td>0</td><td>1</td><td>0</td><td>0</td><td>1</td><td>&hellip;</td><td>81</td><td>0</td><td>0</td><td>11</td><td>1</td><td>1</td><td>5</td><td>0</td><td>0</td><td>1</td><td>0</td><td>0</td><td>3</td><td>0</td><td>0</td><td>8</td><td>0</td><td>1</td><td>6</td><td>0</td><td>0</td><td>8</td><td>2</td><td>0</td><td>5</td><td>0</td><td>1</td><td>6</td><td>0</td><td>0</td><td>1</td><td>0</td><td>0</td><td>8</td><td>0</td><td>0</td><td>14</td></tr><tr><td>&quot;EPlORYSAT000373851&quot;</td><td>1</td><td>2</td><td>10</td><td>0</td><td>1</td><td>6</td><td>0</td><td>0</td><td>1</td><td>1</td><td>0</td><td>9</td><td>0</td><td>0</td><td>2</td><td>0</td><td>0</td><td>7</td><td>0</td><td>0</td><td>5</td><td>0</td><td>1</td><td>5</td><td>0</td><td>0</td><td>5</td><td>1</td><td>1</td><td>5</td><td>0</td><td>0</td><td>1</td><td>0</td><td>0</td><td>1</td><td>&hellip;</td><td>81</td><td>0</td><td>0</td><td>11</td><td>0</td><td>0</td><td>7</td><td>0</td><td>0</td><td>1</td><td>0</td><td>0</td><td>3</td><td>1</td><td>0</td><td>7</td><td>0</td><td>1</td><td>6</td><td>0</td><td>0</td><td>8</td><td>1</td><td>0</td><td>6</td><td>0</td><td>1</td><td>6</td><td>0</td><td>0</td><td>1</td><td>0</td><td>1</td><td>7</td><td>0</td><td>0</td><td>14</td></tr><tr><td>&hellip;</td><td>&hellip;</td><td>&hellip;</td><td>&hellip;</td><td>&hellip;</td><td>&hellip;</td><td>&hellip;</td><td>&hellip;</td><td>&hellip;</td><td>&hellip;</td><td>&hellip;</td><td>&hellip;</td><td>&hellip;</td><td>&hellip;</td><td>&hellip;</td><td>&hellip;</td><td>&hellip;</td><td>&hellip;</td><td>&hellip;</td><td>&hellip;</td><td>&hellip;</td><td>&hellip;</td><td>&hellip;</td><td>&hellip;</td><td>&hellip;</td><td>&hellip;</td><td>&hellip;</td><td>&hellip;</td><td>&hellip;</td><td>&hellip;</td><td>&hellip;</td><td>&hellip;</td><td>&hellip;</td><td>&hellip;</td><td>&hellip;</td><td>&hellip;</td><td>&hellip;</td><td>&hellip;</td><td>&hellip;</td><td>&hellip;</td><td>&hellip;</td><td>&hellip;</td><td>&hellip;</td><td>&hellip;</td><td>&hellip;</td><td>&hellip;</td><td>&hellip;</td><td>&hellip;</td><td>&hellip;</td><td>&hellip;</td><td>&hellip;</td><td>&hellip;</td><td>&hellip;</td><td>&hellip;</td><td>&hellip;</td><td>&hellip;</td><td>&hellip;</td><td>&hellip;</td><td>&hellip;</td><td>&hellip;</td><td>&hellip;</td><td>&hellip;</td><td>&hellip;</td><td>&hellip;</td><td>&hellip;</td><td>&hellip;</td><td>&hellip;</td><td>&hellip;</td><td>&hellip;</td><td>&hellip;</td><td>&hellip;</td><td>&hellip;</td><td>&hellip;</td><td>&hellip;</td><td>&hellip;</td></tr><tr><td>&quot;Os12g0641100&quot;</td><td>0</td><td>0</td><td>13</td><td>1</td><td>0</td><td>6</td><td>0</td><td>0</td><td>1</td><td>0</td><td>1</td><td>9</td><td>0</td><td>0</td><td>2</td><td>0</td><td>0</td><td>7</td><td>0</td><td>0</td><td>5</td><td>0</td><td>1</td><td>5</td><td>1</td><td>0</td><td>4</td><td>1</td><td>0</td><td>6</td><td>0</td><td>0</td><td>1</td><td>0</td><td>0</td><td>1</td><td>&hellip;</td><td>75</td><td>0</td><td>0</td><td>11</td><td>0</td><td>0</td><td>7</td><td>0</td><td>0</td><td>1</td><td>0</td><td>0</td><td>3</td><td>0</td><td>0</td><td>8</td><td>0</td><td>0</td><td>7</td><td>0</td><td>0</td><td>8</td><td>0</td><td>0</td><td>7</td><td>0</td><td>0</td><td>7</td><td>0</td><td>0</td><td>1</td><td>0</td><td>1</td><td>7</td><td>2</td><td>0</td><td>12</td></tr><tr><td>&quot;Os12g0641200&quot;</td><td>0</td><td>0</td><td>13</td><td>0</td><td>0</td><td>7</td><td>0</td><td>0</td><td>1</td><td>0</td><td>0</td><td>10</td><td>0</td><td>0</td><td>2</td><td>0</td><td>0</td><td>7</td><td>2</td><td>0</td><td>3</td><td>0</td><td>0</td><td>6</td><td>2</td><td>0</td><td>3</td><td>0</td><td>0</td><td>7</td><td>0</td><td>0</td><td>1</td><td>0</td><td>0</td><td>1</td><td>&hellip;</td><td>79</td><td>0</td><td>0</td><td>11</td><td>1</td><td>0</td><td>6</td><td>0</td><td>0</td><td>1</td><td>1</td><td>0</td><td>2</td><td>0</td><td>0</td><td>8</td><td>0</td><td>0</td><td>7</td><td>0</td><td>0</td><td>8</td><td>0</td><td>0</td><td>7</td><td>0</td><td>2</td><td>5</td><td>0</td><td>0</td><td>1</td><td>0</td><td>0</td><td>8</td><td>1</td><td>1</td><td>12</td></tr><tr><td>&quot;Os12g0641300&quot;</td><td>0</td><td>0</td><td>13</td><td>1</td><td>0</td><td>6</td><td>0</td><td>0</td><td>1</td><td>0</td><td>1</td><td>9</td><td>0</td><td>0</td><td>2</td><td>0</td><td>0</td><td>7</td><td>0</td><td>0</td><td>5</td><td>0</td><td>0</td><td>6</td><td>1</td><td>0</td><td>4</td><td>0</td><td>0</td><td>7</td><td>0</td><td>0</td><td>1</td><td>0</td><td>0</td><td>1</td><td>&hellip;</td><td>75</td><td>0</td><td>0</td><td>11</td><td>0</td><td>0</td><td>7</td><td>1</td><td>0</td><td>0</td><td>0</td><td>0</td><td>3</td><td>0</td><td>0</td><td>8</td><td>0</td><td>1</td><td>6</td><td>0</td><td>0</td><td>8</td><td>1</td><td>0</td><td>6</td><td>0</td><td>0</td><td>7</td><td>0</td><td>0</td><td>1</td><td>0</td><td>1</td><td>7</td><td>0</td><td>2</td><td>12</td></tr><tr><td>&quot;Os12g0641400&quot;</td><td>0</td><td>0</td><td>13</td><td>1</td><td>0</td><td>6</td><td>0</td><td>0</td><td>1</td><td>0</td><td>1</td><td>9</td><td>0</td><td>0</td><td>2</td><td>0</td><td>0</td><td>7</td><td>0</td><td>0</td><td>5</td><td>0</td><td>1</td><td>5</td><td>1</td><td>0</td><td>4</td><td>1</td><td>0</td><td>6</td><td>0</td><td>0</td><td>1</td><td>0</td><td>0</td><td>1</td><td>&hellip;</td><td>75</td><td>0</td><td>0</td><td>11</td><td>0</td><td>0</td><td>7</td><td>0</td><td>0</td><td>1</td><td>0</td><td>0</td><td>3</td><td>0</td><td>0</td><td>8</td><td>0</td><td>1</td><td>6</td><td>0</td><td>0</td><td>8</td><td>1</td><td>0</td><td>6</td><td>0</td><td>0</td><td>7</td><td>0</td><td>0</td><td>1</td><td>0</td><td>1</td><td>7</td><td>0</td><td>0</td><td>14</td></tr><tr><td>&quot;Os12g0641500&quot;</td><td>0</td><td>0</td><td>13</td><td>1</td><td>0</td><td>6</td><td>0</td><td>0</td><td>1</td><td>0</td><td>0</td><td>10</td><td>0</td><td>0</td><td>2</td><td>0</td><td>0</td><td>7</td><td>0</td><td>0</td><td>5</td><td>0</td><td>0</td><td>6</td><td>1</td><td>0</td><td>4</td><td>1</td><td>0</td><td>6</td><td>0</td><td>0</td><td>1</td><td>0</td><td>0</td><td>1</td><td>&hellip;</td><td>76</td><td>0</td><td>0</td><td>11</td><td>1</td><td>0</td><td>6</td><td>0</td><td>0</td><td>1</td><td>0</td><td>0</td><td>3</td><td>0</td><td>0</td><td>8</td><td>0</td><td>0</td><td>7</td><td>0</td><td>0</td><td>8</td><td>0</td><td>0</td><td>7</td><td>0</td><td>0</td><td>7</td><td>0</td><td>0</td><td>1</td><td>0</td><td>1</td><td>7</td><td>6</td><td>0</td><td>8</td></tr></tbody></table></div>"
      ],
      "text/plain": [
       "shape: (35_691, 139)\n",
       "┌───────────┬───────────┬───────────┬───────────┬───┬───────────┬───────────┬───────────┬──────────┐\n",
       "│ GENEID    ┆ UP(HTS_35 ┆ DOWN(HTS_ ┆ UNCHANGED ┆ … ┆ UNCHANGED ┆ UP(HSt_35 ┆ DOWN(HSt_ ┆ UNCHANGE │\n",
       "│ ---       ┆ C_29C_unk ┆ 35C_29C_u ┆ (HTS_35C_ ┆   ┆ (HSh_40C_ ┆ C_longter ┆ 35C_longt ┆ D(HSt_35 │\n",
       "│ str       ┆ nown)     ┆ nknown)   ┆ 29C_unkno ┆   ┆ 210min)   ┆ m)        ┆ erm)      ┆ C_longte │\n",
       "│           ┆ ---       ┆ ---       ┆ wn)       ┆   ┆ ---       ┆ ---       ┆ ---       ┆ rm)      │\n",
       "│           ┆ i32       ┆ i32       ┆ ---       ┆   ┆ i32       ┆ i32       ┆ i32       ┆ ---      │\n",
       "│           ┆           ┆           ┆ i32       ┆   ┆           ┆           ┆           ┆ i32      │\n",
       "╞═══════════╪═══════════╪═══════════╪═══════════╪═══╪═══════════╪═══════════╪═══════════╪══════════╡\n",
       "│ EPlORYSAT ┆ 3         ┆ 1         ┆ 9         ┆ … ┆ 7         ┆ 0         ┆ 0         ┆ 14       │\n",
       "│ 000373610 ┆           ┆           ┆           ┆   ┆           ┆           ┆           ┆          │\n",
       "│ EPlORYSAT ┆ 0         ┆ 0         ┆ 13        ┆ … ┆ 8         ┆ 0         ┆ 0         ┆ 14       │\n",
       "│ 000373621 ┆           ┆           ┆           ┆   ┆           ┆           ┆           ┆          │\n",
       "│ EPlORYSAT ┆ 2         ┆ 1         ┆ 10        ┆ … ┆ 3         ┆ 0         ┆ 0         ┆ 14       │\n",
       "│ 000373643 ┆           ┆           ┆           ┆   ┆           ┆           ┆           ┆          │\n",
       "│ EPlORYSAT ┆ 1         ┆ 1         ┆ 11        ┆ … ┆ 8         ┆ 0         ┆ 0         ┆ 14       │\n",
       "│ 000373795 ┆           ┆           ┆           ┆   ┆           ┆           ┆           ┆          │\n",
       "│ EPlORYSAT ┆ 1         ┆ 2         ┆ 10        ┆ … ┆ 7         ┆ 0         ┆ 0         ┆ 14       │\n",
       "│ 000373851 ┆           ┆           ┆           ┆   ┆           ┆           ┆           ┆          │\n",
       "│ …         ┆ …         ┆ …         ┆ …         ┆ … ┆ …         ┆ …         ┆ …         ┆ …        │\n",
       "│ Os12g0641 ┆ 0         ┆ 0         ┆ 13        ┆ … ┆ 7         ┆ 2         ┆ 0         ┆ 12       │\n",
       "│ 100       ┆           ┆           ┆           ┆   ┆           ┆           ┆           ┆          │\n",
       "│ Os12g0641 ┆ 0         ┆ 0         ┆ 13        ┆ … ┆ 8         ┆ 1         ┆ 1         ┆ 12       │\n",
       "│ 200       ┆           ┆           ┆           ┆   ┆           ┆           ┆           ┆          │\n",
       "│ Os12g0641 ┆ 0         ┆ 0         ┆ 13        ┆ … ┆ 7         ┆ 0         ┆ 2         ┆ 12       │\n",
       "│ 300       ┆           ┆           ┆           ┆   ┆           ┆           ┆           ┆          │\n",
       "│ Os12g0641 ┆ 0         ┆ 0         ┆ 13        ┆ … ┆ 7         ┆ 0         ┆ 0         ┆ 14       │\n",
       "│ 400       ┆           ┆           ┆           ┆   ┆           ┆           ┆           ┆          │\n",
       "│ Os12g0641 ┆ 0         ┆ 0         ┆ 13        ┆ … ┆ 7         ┆ 6         ┆ 0         ┆ 8        │\n",
       "│ 500       ┆           ┆           ┆           ┆   ┆           ┆           ┆           ┆          │\n",
       "└───────────┴───────────┴───────────┴───────────┴───┴───────────┴───────────┴───────────┴──────────┘"
      ]
     },
     "metadata": {},
     "output_type": "display_data"
    }
   ],
   "source": [
    "# remove the suffix from the column name\n",
    "def remove_suffix(col_name):\n",
    "    return col_name.rsplit('_', 1)[0]\n",
    "\n",
    "\n",
    "# get the sample column list\n",
    "sample_columns = set(remove_suffix(col) for col in result.columns if col != 'GENEID')\n",
    "\n",
    "print(sample_columns)\n",
    "\n",
    "counts = []\n",
    "for sample in sample_columns: # sample_columns means the list of sample names\n",
    "    # get the dataframe for each sample\n",
    "    sample_df = result.select(\n",
    "        ['GENEID'] + [col for col in result.columns if remove_suffix(col) == sample]\n",
    "    )\n",
    "    # count the number of UP, DOWN, UNCHANGED\n",
    "    count = sample_df.with_columns([\n",
    "        (pl.sum_horizontal([\n",
    "            (pl.col(col) == \"UP\").cast(pl.Int32) for col in sample_df.columns if col != \"GENEID\"\n",
    "        ])).alias(f\"UP({sample})\"),\n",
    "        (pl.sum_horizontal([\n",
    "            (pl.col(col) == \"DOWN\").cast(pl.Int32) for col in sample_df.columns if col != \"GENEID\"\n",
    "        ])).alias(f\"DOWN({sample})\"),\n",
    "        pl.sum_horizontal([\n",
    "            (pl.col(col) == \"UNCHANGED\").cast(pl.Int32) for col in sample_df.columns if col != \"GENEID\"\n",
    "        ]).alias(f\"UNCHANGED({sample})\")\n",
    "    ])\n",
    "    # append the count to the counts list\n",
    "    counts.append(count)\n",
    "\n",
    "# combine all samples\n",
    "final_count = counts[0] # initialize the final_count with the first count\n",
    "for count in counts[1:]: # [1:] is the list of counts from the second sample to the last sample\n",
    "    final_count = final_count.join(\n",
    "        count, \n",
    "        on=['GENEID'], \n",
    "        how='left',\n",
    "        coalesce=True\n",
    "    )\n",
    "\n",
    "final_count = final_count.select(\n",
    "    ['GENEID'] + [col for col in final_count.columns if col.startswith('UP(') or col.startswith('DOWN(') or col.startswith('UNCHANGED(')]\n",
    ")\n",
    "\n",
    "# (UP,DOWN, UNCHANGED column × sample count ) + create dataframe\n",
    "display(final_count)"
   ]
  },
  {
   "cell_type": "code",
   "execution_count": 12,
   "metadata": {},
   "outputs": [
    {
     "name": "stdout",
     "output_type": "stream",
     "text": [
      "['HTS_35C_29C_unknown', 'HSh_40C_105min', 'HTS_35C_28C_5days', 'HSh_40C_30min', 'HSh_42C_10min', 'HSh_40C_210min_recov', 'HSt_45C_18h', 'HSh_40C_135min_recov', 'HTS_38C_7h', 'HSh_40C_75min', 'HNT_30C_28C', 'HNT_28C_28C', 'HSh_40C_45min', 'HSt_45C_36h', 'HSh_40C_165min', 'HTS_35C_29C', 'HSh_40C_60min', 'HSt_35C', 'HSh_40C_240min_recov', 'HSh_40C', 'HSh_40C_195min', 'HNT_30C_28C_10h', 'HSh_40C_150min_recov', 'HTS_38C', 'HSh_42C_10min_recov', 'HSh_40C_225min_recov', 'HSh_40C_195min_recov', 'HTS_30C', 'HSh_40C_135min', 'HSh_40C_165min_recov', 'HSh_40C_180min', 'HSh_40C_225min', 'HSh_42C', 'HNT_28C_28C_unknown', 'HSt_45C_4h', 'HSh_40C_120min', 'HTS_35C_28C', 'HSt_45C', 'HSh_40C_240min', 'HSh_40C_15min', 'HSh_40C_150min', 'HSh_40C_180min_recov', 'HSh_40C_90min', 'HTS_30C_18days', 'HSh_40C_210min', 'HSt_35C_longterm']\n"
     ]
    },
    {
     "data": {
      "text/html": [
       "<div><style>\n",
       ".dataframe > thead > tr,\n",
       ".dataframe > tbody > tr {\n",
       "  text-align: right;\n",
       "  white-space: pre-wrap;\n",
       "}\n",
       "</style>\n",
       "<small>shape: (35_691, 48)</small><table border=\"1\" class=\"dataframe\"><thead><tr><th>GENEID</th><th>HN5(HTS_35C_29C_unknown)</th><th>HN5(HSh_40C_105min)</th><th>HN5(HTS_35C_28C_5days)</th><th>HN5(HSh_40C_30min)</th><th>HN5(HSh_42C_10min)</th><th>HN5(HSh_40C_210min_recov)</th><th>HN5(HSt_45C_18h)</th><th>HN5(HSh_40C_135min_recov)</th><th>HN5(HTS_38C_7h)</th><th>HN5(HSh_40C_75min)</th><th>HN5(HNT_30C_28C)</th><th>HN5(HNT_28C_28C)</th><th>HN5(HSh_40C_45min)</th><th>HN5(HSt_45C_36h)</th><th>HN5(HSh_40C_165min)</th><th>HN5(HTS_35C_29C)</th><th>HN5(HSh_40C_60min)</th><th>HN5(HSt_35C)</th><th>HN5(HSh_40C_240min_recov)</th><th>HN5(HSh_40C)</th><th>HN5(HSh_40C_195min)</th><th>HN5(HNT_30C_28C_10h)</th><th>HN5(HSh_40C_150min_recov)</th><th>HN5(HTS_38C)</th><th>HN5(HSh_42C_10min_recov)</th><th>HN5(HSh_40C_225min_recov)</th><th>HN5(HSh_40C_195min_recov)</th><th>HN5(HTS_30C)</th><th>HN5(HSh_40C_135min)</th><th>HN5(HSh_40C_165min_recov)</th><th>HN5(HSh_40C_180min)</th><th>HN5(HSh_40C_225min)</th><th>HN5(HSh_42C)</th><th>HN5(HNT_28C_28C_unknown)</th><th>HN5(HSt_45C_4h)</th><th>HN5(HSh_40C_120min)</th><th>HN5(HTS_35C_28C)</th><th>HN5(HSt_45C)</th><th>HN5(HSh_40C_240min)</th><th>HN5(HSh_40C_15min)</th><th>HN5(HSh_40C_150min)</th><th>HN5(HSh_40C_180min_recov)</th><th>HN5(HSh_40C_90min)</th><th>HN5(HTS_30C_18days)</th><th>HN5(HSh_40C_210min)</th><th>HN5(HSt_35C_longterm)</th><th>HN5(all)</th></tr><tr><td>str</td><td>i32</td><td>i32</td><td>i32</td><td>i32</td><td>i32</td><td>i32</td><td>i32</td><td>i32</td><td>i32</td><td>i32</td><td>i32</td><td>i32</td><td>i32</td><td>i32</td><td>i32</td><td>i32</td><td>i32</td><td>i32</td><td>i32</td><td>i32</td><td>i32</td><td>i32</td><td>i32</td><td>i32</td><td>i32</td><td>i32</td><td>i32</td><td>i32</td><td>i32</td><td>i32</td><td>i32</td><td>i32</td><td>i32</td><td>i32</td><td>i32</td><td>i32</td><td>i32</td><td>i32</td><td>i32</td><td>i32</td><td>i32</td><td>i32</td><td>i32</td><td>i32</td><td>i32</td><td>i32</td><td>i32</td></tr></thead><tbody><tr><td>&quot;Os04g0107900&quot;</td><td>2</td><td>7</td><td>1</td><td>10</td><td>2</td><td>6</td><td>5</td><td>6</td><td>4</td><td>7</td><td>0</td><td>1</td><td>7</td><td>5</td><td>8</td><td>0</td><td>10</td><td>0</td><td>3</td><td>15</td><td>8</td><td>-4</td><td>7</td><td>1</td><td>7</td><td>6</td><td>7</td><td>1</td><td>8</td><td>7</td><td>8</td><td>8</td><td>1</td><td>28</td><td>11</td><td>7</td><td>1</td><td>3</td><td>7</td><td>7</td><td>8</td><td>7</td><td>7</td><td>1</td><td>7</td><td>-3</td><td>255</td></tr><tr><td>&quot;Os01g0136100&quot;</td><td>3</td><td>7</td><td>0</td><td>10</td><td>2</td><td>7</td><td>5</td><td>6</td><td>4</td><td>7</td><td>0</td><td>1</td><td>7</td><td>5</td><td>8</td><td>0</td><td>10</td><td>0</td><td>7</td><td>16</td><td>8</td><td>-1</td><td>7</td><td>1</td><td>6</td><td>7</td><td>7</td><td>0</td><td>8</td><td>7</td><td>8</td><td>8</td><td>1</td><td>5</td><td>11</td><td>7</td><td>1</td><td>3</td><td>8</td><td>7</td><td>8</td><td>7</td><td>7</td><td>1</td><td>8</td><td>0</td><td>245</td></tr><tr><td>&quot;Os02g0259900&quot;</td><td>4</td><td>7</td><td>0</td><td>10</td><td>2</td><td>7</td><td>5</td><td>6</td><td>4</td><td>7</td><td>0</td><td>0</td><td>7</td><td>5</td><td>8</td><td>0</td><td>10</td><td>0</td><td>7</td><td>15</td><td>8</td><td>-4</td><td>7</td><td>1</td><td>7</td><td>7</td><td>7</td><td>0</td><td>8</td><td>7</td><td>8</td><td>8</td><td>1</td><td>2</td><td>11</td><td>7</td><td>1</td><td>3</td><td>8</td><td>7</td><td>8</td><td>7</td><td>7</td><td>0</td><td>8</td><td>0</td><td>238</td></tr><tr><td>&quot;Os02g0259850&quot;</td><td>1</td><td>7</td><td>0</td><td>10</td><td>2</td><td>7</td><td>5</td><td>6</td><td>4</td><td>7</td><td>0</td><td>0</td><td>7</td><td>5</td><td>8</td><td>0</td><td>10</td><td>0</td><td>7</td><td>15</td><td>8</td><td>-4</td><td>7</td><td>1</td><td>7</td><td>7</td><td>7</td><td>0</td><td>8</td><td>7</td><td>8</td><td>8</td><td>1</td><td>3</td><td>11</td><td>7</td><td>1</td><td>3</td><td>8</td><td>7</td><td>8</td><td>7</td><td>7</td><td>0</td><td>8</td><td>1</td><td>237</td></tr><tr><td>&quot;Os03g0245800&quot;</td><td>5</td><td>7</td><td>1</td><td>10</td><td>2</td><td>7</td><td>5</td><td>6</td><td>4</td><td>7</td><td>0</td><td>0</td><td>7</td><td>5</td><td>8</td><td>0</td><td>10</td><td>0</td><td>7</td><td>16</td><td>8</td><td>-4</td><td>7</td><td>1</td><td>7</td><td>7</td><td>7</td><td>0</td><td>8</td><td>7</td><td>8</td><td>8</td><td>1</td><td>2</td><td>11</td><td>7</td><td>1</td><td>3</td><td>8</td><td>7</td><td>8</td><td>7</td><td>7</td><td>0</td><td>8</td><td>-4</td><td>237</td></tr><tr><td>&hellip;</td><td>&hellip;</td><td>&hellip;</td><td>&hellip;</td><td>&hellip;</td><td>&hellip;</td><td>&hellip;</td><td>&hellip;</td><td>&hellip;</td><td>&hellip;</td><td>&hellip;</td><td>&hellip;</td><td>&hellip;</td><td>&hellip;</td><td>&hellip;</td><td>&hellip;</td><td>&hellip;</td><td>&hellip;</td><td>&hellip;</td><td>&hellip;</td><td>&hellip;</td><td>&hellip;</td><td>&hellip;</td><td>&hellip;</td><td>&hellip;</td><td>&hellip;</td><td>&hellip;</td><td>&hellip;</td><td>&hellip;</td><td>&hellip;</td><td>&hellip;</td><td>&hellip;</td><td>&hellip;</td><td>&hellip;</td><td>&hellip;</td><td>&hellip;</td><td>&hellip;</td><td>&hellip;</td><td>&hellip;</td><td>&hellip;</td><td>&hellip;</td><td>&hellip;</td><td>&hellip;</td><td>&hellip;</td><td>&hellip;</td><td>&hellip;</td><td>&hellip;</td><td>&hellip;</td></tr><tr><td>&quot;Os01g0952800&quot;</td><td>0</td><td>-2</td><td>0</td><td>-4</td><td>0</td><td>-3</td><td>0</td><td>-6</td><td>-1</td><td>-3</td><td>0</td><td>-1</td><td>-3</td><td>-2</td><td>-4</td><td>0</td><td>-4</td><td>0</td><td>-6</td><td>-14</td><td>-3</td><td>0</td><td>-3</td><td>0</td><td>-2</td><td>-4</td><td>-4</td><td>0</td><td>-5</td><td>-3</td><td>-4</td><td>-4</td><td>0</td><td>-55</td><td>-4</td><td>-3</td><td>0</td><td>0</td><td>-4</td><td>-7</td><td>-7</td><td>-2</td><td>-3</td><td>1</td><td>-4</td><td>0</td><td>-173</td></tr><tr><td>&quot;Os07g0142100&quot;</td><td>0</td><td>-2</td><td>0</td><td>-3</td><td>0</td><td>-3</td><td>-3</td><td>-6</td><td>-2</td><td>-2</td><td>0</td><td>-1</td><td>-3</td><td>0</td><td>-4</td><td>0</td><td>-4</td><td>0</td><td>-6</td><td>-14</td><td>-3</td><td>0</td><td>-3</td><td>0</td><td>0</td><td>-4</td><td>-4</td><td>1</td><td>-5</td><td>-3</td><td>-5</td><td>-4</td><td>0</td><td>-65</td><td>0</td><td>-3</td><td>0</td><td>0</td><td>-3</td><td>-7</td><td>-7</td><td>-2</td><td>-3</td><td>1</td><td>-4</td><td>0</td><td>-176</td></tr><tr><td>&quot;Os03g0307200&quot;</td><td>1</td><td>-3</td><td>0</td><td>-7</td><td>1</td><td>-3</td><td>0</td><td>-6</td><td>0</td><td>-6</td><td>0</td><td>-1</td><td>-3</td><td>0</td><td>-4</td><td>0</td><td>-6</td><td>0</td><td>-6</td><td>-16</td><td>-3</td><td>-3</td><td>-5</td><td>0</td><td>0</td><td>-6</td><td>-5</td><td>0</td><td>-7</td><td>-2</td><td>-4</td><td>-6</td><td>1</td><td>-43</td><td>0</td><td>-3</td><td>0</td><td>0</td><td>-7</td><td>-7</td><td>-8</td><td>-2</td><td>-6</td><td>0</td><td>-6</td><td>1</td><td>-180</td></tr><tr><td>&quot;Os07g0142200&quot;</td><td>2</td><td>-3</td><td>0</td><td>-5</td><td>0</td><td>-3</td><td>-1</td><td>-6</td><td>0</td><td>-2</td><td>0</td><td>-1</td><td>-3</td><td>-4</td><td>-4</td><td>0</td><td>-5</td><td>0</td><td>-5</td><td>-14</td><td>-3</td><td>0</td><td>-3</td><td>0</td><td>-1</td><td>-4</td><td>-4</td><td>1</td><td>-4</td><td>-2</td><td>-4</td><td>-4</td><td>0</td><td>-63</td><td>-11</td><td>-1</td><td>0</td><td>-1</td><td>-4</td><td>-7</td><td>-7</td><td>-2</td><td>-3</td><td>0</td><td>-4</td><td>-1</td><td>-186</td></tr><tr><td>&quot;Os03g0307300&quot;</td><td>-3</td><td>-4</td><td>0</td><td>-7</td><td>0</td><td>-5</td><td>0</td><td>-6</td><td>-1</td><td>-7</td><td>0</td><td>-1</td><td>-4</td><td>3</td><td>-5</td><td>0</td><td>-7</td><td>0</td><td>-7</td><td>-16</td><td>-3</td><td>0</td><td>-5</td><td>1</td><td>-2</td><td>-6</td><td>-6</td><td>0</td><td>-8</td><td>-5</td><td>-6</td><td>-7</td><td>0</td><td>-45</td><td>0</td><td>-4</td><td>0</td><td>0</td><td>-7</td><td>-7</td><td>-8</td><td>-3</td><td>-5</td><td>0</td><td>-6</td><td>-2</td><td>-204</td></tr></tbody></table></div>"
      ],
      "text/plain": [
       "shape: (35_691, 48)\n",
       "┌───────────┬───────────┬───────────┬───────────┬───┬───────────┬───────────┬───────────┬──────────┐\n",
       "│ GENEID    ┆ HN5(HTS_3 ┆ HN5(HSh_4 ┆ HN5(HTS_3 ┆ … ┆ HN5(HTS_3 ┆ HN5(HSh_4 ┆ HN5(HSt_3 ┆ HN5(all) │\n",
       "│ ---       ┆ 5C_29C_un ┆ 0C_105min ┆ 5C_28C_5d ┆   ┆ 0C_18days ┆ 0C_210min ┆ 5C_longte ┆ ---      │\n",
       "│ str       ┆ known)    ┆ )         ┆ ays)      ┆   ┆ )         ┆ )         ┆ rm)       ┆ i32      │\n",
       "│           ┆ ---       ┆ ---       ┆ ---       ┆   ┆ ---       ┆ ---       ┆ ---       ┆          │\n",
       "│           ┆ i32       ┆ i32       ┆ i32       ┆   ┆ i32       ┆ i32       ┆ i32       ┆          │\n",
       "╞═══════════╪═══════════╪═══════════╪═══════════╪═══╪═══════════╪═══════════╪═══════════╪══════════╡\n",
       "│ Os04g0107 ┆ 2         ┆ 7         ┆ 1         ┆ … ┆ 1         ┆ 7         ┆ -3        ┆ 255      │\n",
       "│ 900       ┆           ┆           ┆           ┆   ┆           ┆           ┆           ┆          │\n",
       "│ Os01g0136 ┆ 3         ┆ 7         ┆ 0         ┆ … ┆ 1         ┆ 8         ┆ 0         ┆ 245      │\n",
       "│ 100       ┆           ┆           ┆           ┆   ┆           ┆           ┆           ┆          │\n",
       "│ Os02g0259 ┆ 4         ┆ 7         ┆ 0         ┆ … ┆ 0         ┆ 8         ┆ 0         ┆ 238      │\n",
       "│ 900       ┆           ┆           ┆           ┆   ┆           ┆           ┆           ┆          │\n",
       "│ Os02g0259 ┆ 1         ┆ 7         ┆ 0         ┆ … ┆ 0         ┆ 8         ┆ 1         ┆ 237      │\n",
       "│ 850       ┆           ┆           ┆           ┆   ┆           ┆           ┆           ┆          │\n",
       "│ Os03g0245 ┆ 5         ┆ 7         ┆ 1         ┆ … ┆ 0         ┆ 8         ┆ -4        ┆ 237      │\n",
       "│ 800       ┆           ┆           ┆           ┆   ┆           ┆           ┆           ┆          │\n",
       "│ …         ┆ …         ┆ …         ┆ …         ┆ … ┆ …         ┆ …         ┆ …         ┆ …        │\n",
       "│ Os01g0952 ┆ 0         ┆ -2        ┆ 0         ┆ … ┆ 1         ┆ -4        ┆ 0         ┆ -173     │\n",
       "│ 800       ┆           ┆           ┆           ┆   ┆           ┆           ┆           ┆          │\n",
       "│ Os07g0142 ┆ 0         ┆ -2        ┆ 0         ┆ … ┆ 1         ┆ -4        ┆ 0         ┆ -176     │\n",
       "│ 100       ┆           ┆           ┆           ┆   ┆           ┆           ┆           ┆          │\n",
       "│ Os03g0307 ┆ 1         ┆ -3        ┆ 0         ┆ … ┆ 0         ┆ -6        ┆ 1         ┆ -180     │\n",
       "│ 200       ┆           ┆           ┆           ┆   ┆           ┆           ┆           ┆          │\n",
       "│ Os07g0142 ┆ 2         ┆ -3        ┆ 0         ┆ … ┆ 0         ┆ -4        ┆ -1        ┆ -186     │\n",
       "│ 200       ┆           ┆           ┆           ┆   ┆           ┆           ┆           ┆          │\n",
       "│ Os03g0307 ┆ -3        ┆ -4        ┆ 0         ┆ … ┆ 0         ┆ -6        ┆ -2        ┆ -204     │\n",
       "│ 300       ┆           ┆           ┆           ┆   ┆           ┆           ┆           ┆          │\n",
       "└───────────┴───────────┴───────────┴───────────┴───┴───────────┴───────────┴───────────┴──────────┘"
      ]
     },
     "metadata": {},
     "output_type": "display_data"
    }
   ],
   "source": [
    "# get the sample name list\n",
    "sample_names = [col.split('(')[1].split(')')[0] for col in final_count.columns if col.startswith('UP(')]\n",
    "print(sample_names)\n",
    "\n",
    "# calculate HNscore for each sample\n",
    "HNscore_sample_count = final_count.with_columns([\n",
    "    (\n",
    "        pl.col(f'UP({sample})') - pl.col(f'DOWN({sample})')\n",
    "    ).alias(\n",
    "        f'HN{threshold}({sample})'\n",
    "    )\n",
    "    for sample in sample_names # sample_names is the list of sample names\n",
    "])\n",
    "\n",
    "# select the columns that start with HN and end with the sample name\n",
    "HNscore_sample_count = HNscore_sample_count.select(\n",
    "    ['GENEID'] + \n",
    "    [col for col in HNscore_sample_count.columns if col.startswith(f'HN{threshold}(') and col.endswith(')')]\n",
    ").with_columns( # すべてのサンプルのHNscoreを合計したHNscoreを算出\n",
    "    pl.sum_horizontal([\n",
    "        pl.col(col) for col in HNscore_sample_count.columns if col.startswith(f'HN{threshold}(') and col.endswith(')')\n",
    "    ]).alias(f'HN{threshold}(all)')\n",
    ").sort(\n",
    "    by=[f'HN{threshold}(all)'],\n",
    "    descending=True\n",
    ")\n",
    "\n",
    "# save the result to csv\n",
    "HNscore_sample_count.write_csv(\n",
    "    f'../Data/06_HNscore_sample/HNscore_rice_stress_condition_count_HN{threshold}.tsv',\n",
    "    separator='\\t'\n",
    ")\n",
    "\n",
    "print\n",
    "display(HNscore_sample_count)"
   ]
  },
  {
   "cell_type": "markdown",
   "metadata": {},
   "source": [
    "&nbsp;\n",
    "\n",
    "&nbsp;\n",
    "\n",
    "&nbsp;"
   ]
  },
  {
   "cell_type": "markdown",
   "metadata": {},
   "source": [
    "## HN-score validation\n"
   ]
  },
  {
   "cell_type": "code",
   "execution_count": 10,
   "metadata": {},
   "outputs": [
    {
     "data": {
      "text/plain": [
       "['HN5(HTS_35C_29C_unknown)',\n",
       " 'HN5(HSh_40C_105min)',\n",
       " 'HN5(HTS_35C_28C_5days)',\n",
       " 'HN5(HSh_40C_30min)',\n",
       " 'HN5(HSh_42C_10min)',\n",
       " 'HN5(HSh_40C_210min_recov)',\n",
       " 'HN5(HSt_45C_18h)',\n",
       " 'HN5(HSh_40C_135min_recov)',\n",
       " 'HN5(HTS_38C_7h)',\n",
       " 'HN5(HSh_40C_75min)',\n",
       " 'HN5(HNT_30C_28C)',\n",
       " 'HN5(HNT_28C_28C)',\n",
       " 'HN5(HSh_40C_45min)',\n",
       " 'HN5(HSt_45C_36h)',\n",
       " 'HN5(HSh_40C_165min)',\n",
       " 'HN5(HTS_35C_29C)',\n",
       " 'HN5(HSh_40C_60min)',\n",
       " 'HN5(HSt_35C)',\n",
       " 'HN5(HSh_40C_240min_recov)',\n",
       " 'HN5(HSh_40C)',\n",
       " 'HN5(HSh_40C_195min)',\n",
       " 'HN5(HNT_30C_28C_10h)',\n",
       " 'HN5(HSh_40C_150min_recov)',\n",
       " 'HN5(HTS_38C)',\n",
       " 'HN5(HSh_42C_10min_recov)',\n",
       " 'HN5(HSh_40C_225min_recov)',\n",
       " 'HN5(HSh_40C_195min_recov)',\n",
       " 'HN5(HTS_30C)',\n",
       " 'HN5(HSh_40C_135min)',\n",
       " 'HN5(HSh_40C_165min_recov)',\n",
       " 'HN5(HSh_40C_180min)',\n",
       " 'HN5(HSh_40C_225min)',\n",
       " 'HN5(HSh_42C)',\n",
       " 'HN5(HNT_28C_28C_unknown)',\n",
       " 'HN5(HSt_45C_4h)',\n",
       " 'HN5(HSh_40C_120min)',\n",
       " 'HN5(HTS_35C_28C)',\n",
       " 'HN5(HSt_45C)',\n",
       " 'HN5(HSh_40C_240min)',\n",
       " 'HN5(HSh_40C_15min)',\n",
       " 'HN5(HSh_40C_150min)',\n",
       " 'HN5(HSh_40C_180min_recov)',\n",
       " 'HN5(HSh_40C_90min)',\n",
       " 'HN5(HTS_30C_18days)',\n",
       " 'HN5(HSh_40C_210min)',\n",
       " 'HN5(HSt_35C_longterm)']"
      ]
     },
     "metadata": {},
     "output_type": "display_data"
    }
   ],
   "source": [
    "# select HN5 columns (exclude HN5(all))\n",
    "hn5_columns = [col for col in HNscore_sample_count.columns if col.startswith(\"HN5(\") and col != \"HN5(all)\"]\n",
    "display(hn5_columns)"
   ]
  },
  {
   "cell_type": "code",
   "execution_count": 11,
   "metadata": {},
   "outputs": [
    {
     "data": {
      "text/html": [
       "<div><style>\n",
       ".dataframe > thead > tr,\n",
       ".dataframe > tbody > tr {\n",
       "  text-align: right;\n",
       "  white-space: pre-wrap;\n",
       "}\n",
       "</style>\n",
       "<small>shape: (35_691, 7)</small><table border=\"1\" class=\"dataframe\"><thead><tr><th>GENEID</th><th>HN5(all)</th><th>positive_samples_count</th><th>negative_samples_count</th><th>total_samples</th><th>positive_contribution</th><th>negative_contribution</th></tr><tr><td>str</td><td>i32</td><td>i32</td><td>i32</td><td>i32</td><td>str</td><td>str</td></tr></thead><tbody><tr><td>&quot;Os04g0107900&quot;</td><td>255</td><td>41</td><td>2</td><td>46</td><td>&quot;41 / 46 samples positively con…</td><td>&quot;2 / 46 samples negatively cont…</td></tr><tr><td>&quot;Os01g0136100&quot;</td><td>245</td><td>39</td><td>1</td><td>46</td><td>&quot;39 / 46 samples positively con…</td><td>&quot;1 / 46 samples negatively cont…</td></tr><tr><td>&quot;Os02g0259900&quot;</td><td>238</td><td>37</td><td>1</td><td>46</td><td>&quot;37 / 46 samples positively con…</td><td>&quot;1 / 46 samples negatively cont…</td></tr><tr><td>&quot;Os02g0259850&quot;</td><td>237</td><td>38</td><td>1</td><td>46</td><td>&quot;38 / 46 samples positively con…</td><td>&quot;1 / 46 samples negatively cont…</td></tr><tr><td>&quot;Os03g0245800&quot;</td><td>237</td><td>38</td><td>2</td><td>46</td><td>&quot;38 / 46 samples positively con…</td><td>&quot;2 / 46 samples negatively cont…</td></tr><tr><td>&hellip;</td><td>&hellip;</td><td>&hellip;</td><td>&hellip;</td><td>&hellip;</td><td>&hellip;</td><td>&hellip;</td></tr><tr><td>&quot;Os01g0952800&quot;</td><td>-173</td><td>1</td><td>31</td><td>46</td><td>&quot;1 / 46 samples positively cont…</td><td>&quot;31 / 46 samples negatively con…</td></tr><tr><td>&quot;Os07g0142100&quot;</td><td>-176</td><td>2</td><td>29</td><td>46</td><td>&quot;2 / 46 samples positively cont…</td><td>&quot;29 / 46 samples negatively con…</td></tr><tr><td>&quot;Os03g0307200&quot;</td><td>-180</td><td>4</td><td>28</td><td>46</td><td>&quot;4 / 46 samples positively cont…</td><td>&quot;28 / 46 samples negatively con…</td></tr><tr><td>&quot;Os07g0142200&quot;</td><td>-186</td><td>2</td><td>33</td><td>46</td><td>&quot;2 / 46 samples positively cont…</td><td>&quot;33 / 46 samples negatively con…</td></tr><tr><td>&quot;Os03g0307300&quot;</td><td>-204</td><td>2</td><td>31</td><td>46</td><td>&quot;2 / 46 samples positively cont…</td><td>&quot;31 / 46 samples negatively con…</td></tr></tbody></table></div>"
      ],
      "text/plain": [
       "shape: (35_691, 7)\n",
       "┌──────────────┬──────────┬──────────────┬──────────────┬──────────────┬─────────────┬─────────────┐\n",
       "│ GENEID       ┆ HN5(all) ┆ positive_sam ┆ negative_sam ┆ total_sample ┆ positive_co ┆ negative_co │\n",
       "│ ---          ┆ ---      ┆ ples_count   ┆ ples_count   ┆ s            ┆ ntribution  ┆ ntribution  │\n",
       "│ str          ┆ i32      ┆ ---          ┆ ---          ┆ ---          ┆ ---         ┆ ---         │\n",
       "│              ┆          ┆ i32          ┆ i32          ┆ i32          ┆ str         ┆ str         │\n",
       "╞══════════════╪══════════╪══════════════╪══════════════╪══════════════╪═════════════╪═════════════╡\n",
       "│ Os04g0107900 ┆ 255      ┆ 41           ┆ 2            ┆ 46           ┆ 41 / 46     ┆ 2 / 46      │\n",
       "│              ┆          ┆              ┆              ┆              ┆ samples     ┆ samples     │\n",
       "│              ┆          ┆              ┆              ┆              ┆ positively  ┆ negatively  │\n",
       "│              ┆          ┆              ┆              ┆              ┆ con…        ┆ cont…       │\n",
       "│ Os01g0136100 ┆ 245      ┆ 39           ┆ 1            ┆ 46           ┆ 39 / 46     ┆ 1 / 46      │\n",
       "│              ┆          ┆              ┆              ┆              ┆ samples     ┆ samples     │\n",
       "│              ┆          ┆              ┆              ┆              ┆ positively  ┆ negatively  │\n",
       "│              ┆          ┆              ┆              ┆              ┆ con…        ┆ cont…       │\n",
       "│ Os02g0259900 ┆ 238      ┆ 37           ┆ 1            ┆ 46           ┆ 37 / 46     ┆ 1 / 46      │\n",
       "│              ┆          ┆              ┆              ┆              ┆ samples     ┆ samples     │\n",
       "│              ┆          ┆              ┆              ┆              ┆ positively  ┆ negatively  │\n",
       "│              ┆          ┆              ┆              ┆              ┆ con…        ┆ cont…       │\n",
       "│ Os02g0259850 ┆ 237      ┆ 38           ┆ 1            ┆ 46           ┆ 38 / 46     ┆ 1 / 46      │\n",
       "│              ┆          ┆              ┆              ┆              ┆ samples     ┆ samples     │\n",
       "│              ┆          ┆              ┆              ┆              ┆ positively  ┆ negatively  │\n",
       "│              ┆          ┆              ┆              ┆              ┆ con…        ┆ cont…       │\n",
       "│ Os03g0245800 ┆ 237      ┆ 38           ┆ 2            ┆ 46           ┆ 38 / 46     ┆ 2 / 46      │\n",
       "│              ┆          ┆              ┆              ┆              ┆ samples     ┆ samples     │\n",
       "│              ┆          ┆              ┆              ┆              ┆ positively  ┆ negatively  │\n",
       "│              ┆          ┆              ┆              ┆              ┆ con…        ┆ cont…       │\n",
       "│ …            ┆ …        ┆ …            ┆ …            ┆ …            ┆ …           ┆ …           │\n",
       "│ Os01g0952800 ┆ -173     ┆ 1            ┆ 31           ┆ 46           ┆ 1 / 46      ┆ 31 / 46     │\n",
       "│              ┆          ┆              ┆              ┆              ┆ samples     ┆ samples     │\n",
       "│              ┆          ┆              ┆              ┆              ┆ positively  ┆ negatively  │\n",
       "│              ┆          ┆              ┆              ┆              ┆ cont…       ┆ con…        │\n",
       "│ Os07g0142100 ┆ -176     ┆ 2            ┆ 29           ┆ 46           ┆ 2 / 46      ┆ 29 / 46     │\n",
       "│              ┆          ┆              ┆              ┆              ┆ samples     ┆ samples     │\n",
       "│              ┆          ┆              ┆              ┆              ┆ positively  ┆ negatively  │\n",
       "│              ┆          ┆              ┆              ┆              ┆ cont…       ┆ con…        │\n",
       "│ Os03g0307200 ┆ -180     ┆ 4            ┆ 28           ┆ 46           ┆ 4 / 46      ┆ 28 / 46     │\n",
       "│              ┆          ┆              ┆              ┆              ┆ samples     ┆ samples     │\n",
       "│              ┆          ┆              ┆              ┆              ┆ positively  ┆ negatively  │\n",
       "│              ┆          ┆              ┆              ┆              ┆ cont…       ┆ con…        │\n",
       "│ Os07g0142200 ┆ -186     ┆ 2            ┆ 33           ┆ 46           ┆ 2 / 46      ┆ 33 / 46     │\n",
       "│              ┆          ┆              ┆              ┆              ┆ samples     ┆ samples     │\n",
       "│              ┆          ┆              ┆              ┆              ┆ positively  ┆ negatively  │\n",
       "│              ┆          ┆              ┆              ┆              ┆ cont…       ┆ con…        │\n",
       "│ Os03g0307300 ┆ -204     ┆ 2            ┆ 31           ┆ 46           ┆ 2 / 46      ┆ 31 / 46     │\n",
       "│              ┆          ┆              ┆              ┆              ┆ samples     ┆ samples     │\n",
       "│              ┆          ┆              ┆              ┆              ┆ positively  ┆ negatively  │\n",
       "│              ┆          ┆              ┆              ┆              ┆ cont…       ┆ con…        │\n",
       "└──────────────┴──────────┴──────────────┴──────────────┴──────────────┴─────────────┴─────────────┘"
      ]
     },
     "metadata": {},
     "output_type": "display_data"
    }
   ],
   "source": [
    "# count positive and negative samples\n",
    "HNscore_sample_validate = HNscore_sample_count.with_columns([\n",
    "    pl.fold(0, lambda acc, x: acc + (x > 0).cast(pl.Int32), hn5_columns).alias(\"positive_samples_count\"),\n",
    "    pl.fold(0, lambda acc, x: acc + (x < 0).cast(pl.Int32), hn5_columns).alias(\"negative_samples_count\")\n",
    "])\n",
    "\n",
    "# assign tag to the contribution of samples\n",
    "def tag_contribution(count, type, hn5_column):\n",
    "    total_samples = len(hn5_column)\n",
    "    if count == total_samples:\n",
    "        return f\"all samples {type} contribute to the score\"\n",
    "    else:\n",
    "        return f\"{count} / {total_samples} samples {type} contribute to the score\"\n",
    "    \n",
    "HNscore_sample_validate = HNscore_sample_validate.with_columns(\n",
    "    [\n",
    "        pl.lit(len(hn5_columns)).alias(\"total_samples\"),\n",
    "        pl.col(\"positive_samples_count\").map_elements(lambda x: tag_contribution(x, \"positively\", hn5_columns), return_dtype=pl.Utf8).alias(\"positive_contribution\"),\n",
    "        pl.col(\"negative_samples_count\").map_elements(lambda x: tag_contribution(x, \"negatively\", hn5_columns), return_dtype=pl.Utf8).alias(\"negative_contribution\")\n",
    "]\n",
    ").sort(\n",
    "    by=[\"HN5(all)\"],\n",
    "    descending=True\n",
    ").drop(\n",
    "    hn5_columns\n",
    ")\n",
    "\n",
    "# save the result to csv\n",
    "# HNscore_sample_validate.write_csv(\n",
    "#     f'../Data/06_HNscore_sample/HNscore_sample_validate_HN{threshold}_rice.tsv',\n",
    "#     separator='\\t'\n",
    "# )\n",
    "\n",
    "display(HNscore_sample_validate)"
   ]
  },
  {
   "cell_type": "markdown",
   "metadata": {},
   "source": [
    "&nbsp;\n",
    "\n",
    "&nbsp;\n",
    "\n",
    "&nbsp;\n",
    "\n",
    "&nbsp;\n",
    "\n",
    "&nbsp;\n"
   ]
  },
  {
   "cell_type": "markdown",
   "metadata": {},
   "source": [
    "## Search specific gene related to GO term"
   ]
  },
  {
   "cell_type": "code",
   "execution_count": null,
   "metadata": {},
   "outputs": [],
   "source": [
    "# Search specific gene related to GO:0097577\tsequestering of iron ion\n",
    "specific_gene = ['Os09g0396900', 'Os11g0106700', 'Os12g0106000']\n",
    "specific_gene_df = HNscore_sample_count.filter(\n",
    "    pl.col('GENEID').is_in(specific_gene)\n",
    ")\n",
    "display(specific_gene_df)"
   ]
  },
  {
   "cell_type": "code",
   "execution_count": null,
   "metadata": {},
   "outputs": [],
   "source": [
    "# Search specific gene related to GO:0006879\tintracellular iron ion homeostasis\n",
    "specific_gene_down = ['Os01g0689451', 'Os02g0649900', 'Os02g0650300', 'Os03g0667300', 'Os05g0551000', 'Os07g0257200', 'Os07g0258400']\n",
    "specific_gene_down_df = HNscore_sample_count.filter(\n",
    "    pl.col('GENEID').is_in(specific_gene_down)\n",
    ").sort(\n",
    "    by=[\"HN5(all)\", \"GENEID\"],\n",
    "    descending=[False, False]\n",
    ")\n",
    "display(specific_gene_down_df)"
   ]
  }
 ],
 "metadata": {
  "kernelspec": {
   "display_name": "Python 3",
   "language": "python",
   "name": "python3"
  },
  "language_info": {
   "codemirror_mode": {
    "name": "ipython",
    "version": 3
   },
   "file_extension": ".py",
   "mimetype": "text/x-python",
   "name": "python",
   "nbconvert_exporter": "python",
   "pygments_lexer": "ipython3",
   "version": "3.11.4"
  }
 },
 "nbformat": 4,
 "nbformat_minor": 4
}

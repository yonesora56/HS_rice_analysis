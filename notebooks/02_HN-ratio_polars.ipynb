{
 "cells": [
  {
   "cell_type": "code",
   "execution_count": 1,
   "metadata": {},
   "outputs": [],
   "source": [
    "# import library\n",
    "import os\n",
    "import numpy as np\n",
    "import datetime as dt\n",
    "import polars as pl"
   ]
  },
  {
   "cell_type": "code",
   "execution_count": 2,
   "metadata": {},
   "outputs": [
    {
     "name": "stdout",
     "output_type": "stream",
     "text": [
      "2025-05-24 00:44:35.097276\n"
     ]
    }
   ],
   "source": [
    "now = dt.datetime.now()\n",
    "print(now)"
   ]
  },
  {
   "cell_type": "code",
   "execution_count": 3,
   "metadata": {
    "scrolled": true
   },
   "outputs": [
    {
     "data": {
      "text/html": [
       "<div><style>\n",
       ".dataframe > thead > tr,\n",
       ".dataframe > tbody > tr {\n",
       "  text-align: right;\n",
       "  white-space: pre-wrap;\n",
       "}\n",
       "</style>\n",
       "<small>shape: (35_691, 697)</small><table border=\"1\" class=\"dataframe\"><thead><tr><th>GENEID</th><th>SRR15060315</th><th>SRR15060316</th><th>SRR15060317</th><th>SRR15060318</th><th>SRR15060319</th><th>SRR15060320</th><th>SRR15060321</th><th>SRR15060322</th><th>SRR15060323</th><th>SRR15060324</th><th>SRR15060326</th><th>SRR15060327</th><th>SRR15060328</th><th>SRR15060329</th><th>SRR15060330</th><th>SRR15060331</th><th>SRR15060332</th><th>SRR15060333</th><th>SRR15060334</th><th>SRR15060335</th><th>SRR15060336</th><th>SRR15060337</th><th>SRR15060338</th><th>SRR15060339</th><th>SRR15060340</th><th>SRR15060341</th><th>SRR15060342</th><th>SRR15060343</th><th>SRR15060344</th><th>SRR15060345</th><th>SRR15060346</th><th>SRR15060347</th><th>SRR15060348</th><th>SRR15060349</th><th>SRR15060350</th><th>SRR15060351</th><th>&hellip;</th><th>SRR2931422</th><th>SRR2931423</th><th>SRR2931424</th><th>SRR2931425</th><th>SRR2931426</th><th>SRR2931411_duplicated_0</th><th>SRR2931412_duplicated_0</th><th>SRR2931413_duplicated_0</th><th>SRR2931414_duplicated_0</th><th>SRR2931415_duplicated_0</th><th>SRR2931416_duplicated_0</th><th>SRR2931417_duplicated_0</th><th>SRR2931418_duplicated_0</th><th>SRR2931419_duplicated_0</th><th>SRR2931420_duplicated_0</th><th>SRR2931421_duplicated_0</th><th>SRR2931422_duplicated_0</th><th>SRR2931423_duplicated_0</th><th>SRR2931424_duplicated_0</th><th>SRR2931425_duplicated_0</th><th>SRR2931426_duplicated_0</th><th>SRR2338866</th><th>SRR2338867</th><th>SRR611648</th><th>SRR611650</th><th>SRR22854100</th><th>SRR22854101</th><th>SRR22854102</th><th>SRR22854100_duplicated_0</th><th>SRR22854101_duplicated_0</th><th>SRR22854102_duplicated_0</th><th>SRR23051885</th><th>SRR23051884</th><th>SRR23051883</th><th>SRR23051882</th><th>SRR23051881</th><th>SRR23051880</th></tr><tr><td>str</td><td>f64</td><td>f64</td><td>f64</td><td>f64</td><td>f64</td><td>f64</td><td>f64</td><td>f64</td><td>f64</td><td>f64</td><td>f64</td><td>f64</td><td>f64</td><td>f64</td><td>f64</td><td>f64</td><td>f64</td><td>f64</td><td>f64</td><td>f64</td><td>f64</td><td>f64</td><td>f64</td><td>f64</td><td>f64</td><td>f64</td><td>f64</td><td>f64</td><td>f64</td><td>f64</td><td>f64</td><td>f64</td><td>f64</td><td>f64</td><td>f64</td><td>f64</td><td>&hellip;</td><td>f64</td><td>f64</td><td>f64</td><td>f64</td><td>f64</td><td>f64</td><td>f64</td><td>f64</td><td>f64</td><td>f64</td><td>f64</td><td>f64</td><td>f64</td><td>f64</td><td>f64</td><td>f64</td><td>f64</td><td>f64</td><td>f64</td><td>f64</td><td>f64</td><td>f64</td><td>f64</td><td>f64</td><td>f64</td><td>f64</td><td>f64</td><td>f64</td><td>f64</td><td>f64</td><td>f64</td><td>f64</td><td>f64</td><td>f64</td><td>f64</td><td>f64</td><td>f64</td></tr></thead><tbody><tr><td>&quot;EPlORYSAT000373610&quot;</td><td>0.0</td><td>0.0</td><td>0.0</td><td>0.0</td><td>0.0</td><td>0.0</td><td>0.0</td><td>0.0</td><td>0.0</td><td>0.0</td><td>0.0</td><td>0.0</td><td>0.0</td><td>0.0</td><td>0.0</td><td>0.0</td><td>176.089862</td><td>0.0</td><td>0.0</td><td>0.0</td><td>177.739632</td><td>0.0</td><td>0.0</td><td>0.0</td><td>0.0</td><td>0.0</td><td>0.0</td><td>0.0</td><td>183.251955</td><td>0.0</td><td>0.0</td><td>0.0</td><td>0.0</td><td>0.0</td><td>0.0</td><td>0.0</td><td>&hellip;</td><td>703.431986</td><td>1896.734874</td><td>416.439566</td><td>354.855106</td><td>642.269179</td><td>926.008757</td><td>993.479012</td><td>954.640822</td><td>1020.913301</td><td>1156.107024</td><td>266.622788</td><td>989.668465</td><td>48.292333</td><td>1821.134591</td><td>671.909366</td><td>1807.787138</td><td>703.431986</td><td>1896.734874</td><td>416.439566</td><td>354.855106</td><td>642.269179</td><td>215.985991</td><td>182.032966</td><td>693.388063</td><td>232.643086</td><td>57.604033</td><td>0.0</td><td>0.0</td><td>57.604033</td><td>0.0</td><td>0.0</td><td>0.0</td><td>0.0</td><td>0.0</td><td>0.0</td><td>0.0</td><td>0.0</td></tr><tr><td>&quot;EPlORYSAT000373621&quot;</td><td>0.0</td><td>0.0</td><td>0.0</td><td>0.0</td><td>0.0</td><td>0.0</td><td>0.0</td><td>0.0</td><td>0.0</td><td>0.0</td><td>0.0</td><td>0.0</td><td>0.0</td><td>0.0</td><td>0.0</td><td>0.0</td><td>0.0</td><td>0.0</td><td>0.0</td><td>0.0</td><td>0.0</td><td>0.0</td><td>0.0</td><td>0.0</td><td>0.0</td><td>0.0</td><td>0.0</td><td>0.0</td><td>0.0</td><td>0.0</td><td>0.0</td><td>0.0</td><td>0.0</td><td>0.0</td><td>0.0</td><td>0.0</td><td>&hellip;</td><td>0.0</td><td>0.0</td><td>0.0</td><td>0.0</td><td>0.0</td><td>0.0</td><td>0.0</td><td>0.0</td><td>0.0</td><td>0.0</td><td>0.0</td><td>0.0</td><td>0.0</td><td>0.0</td><td>0.0</td><td>0.0</td><td>0.0</td><td>0.0</td><td>0.0</td><td>0.0</td><td>0.0</td><td>0.0</td><td>0.0</td><td>0.0</td><td>0.0</td><td>0.0</td><td>0.0</td><td>0.0</td><td>0.0</td><td>0.0</td><td>0.0</td><td>0.0</td><td>0.0</td><td>0.0</td><td>0.0</td><td>0.0</td><td>0.0</td></tr><tr><td>&quot;EPlORYSAT000373643&quot;</td><td>0.0</td><td>0.0</td><td>0.0</td><td>0.0</td><td>0.0</td><td>0.0</td><td>0.0</td><td>0.0</td><td>0.0</td><td>0.0</td><td>0.0</td><td>0.0</td><td>0.0</td><td>0.0</td><td>0.0</td><td>0.0</td><td>0.0</td><td>0.0</td><td>0.0</td><td>0.0</td><td>0.0</td><td>0.0</td><td>0.0</td><td>0.0</td><td>0.0</td><td>0.0</td><td>0.0</td><td>0.0</td><td>0.0</td><td>0.0</td><td>0.0</td><td>0.0</td><td>0.0</td><td>0.0</td><td>0.0</td><td>0.0</td><td>&hellip;</td><td>0.0</td><td>117.597571</td><td>35.787766</td><td>44.159752</td><td>42.916598</td><td>127.877391</td><td>115.781391</td><td>230.554776</td><td>0.0</td><td>45.19459</td><td>41.018897</td><td>79.89511</td><td>0.0</td><td>172.87365</td><td>67.190925</td><td>262.228455</td><td>0.0</td><td>117.597571</td><td>35.787766</td><td>44.159752</td><td>42.916598</td><td>0.0</td><td>0.0</td><td>0.0</td><td>0.0</td><td>0.0</td><td>0.0</td><td>0.0</td><td>0.0</td><td>0.0</td><td>0.0</td><td>0.0</td><td>0.0</td><td>0.0</td><td>0.0</td><td>0.0</td><td>0.0</td></tr><tr><td>&quot;EPlORYSAT000373795&quot;</td><td>0.0</td><td>0.0</td><td>0.0</td><td>0.0</td><td>0.0</td><td>0.0</td><td>0.0</td><td>0.0</td><td>0.0</td><td>0.0</td><td>0.0</td><td>0.0</td><td>0.0</td><td>0.0</td><td>0.0</td><td>0.0</td><td>0.0</td><td>0.0</td><td>0.0</td><td>0.0</td><td>0.0</td><td>0.0</td><td>0.0</td><td>0.0</td><td>0.0</td><td>0.0</td><td>0.0</td><td>0.0</td><td>0.0</td><td>0.0</td><td>0.0</td><td>0.0</td><td>0.0</td><td>0.0</td><td>0.0</td><td>0.0</td><td>&hellip;</td><td>4260.559653</td><td>6047.874588</td><td>2290.417649</td><td>971.514414</td><td>2532.079616</td><td>5343.448446</td><td>4476.880379</td><td>4073.134124</td><td>3403.191464</td><td>5242.573551</td><td>2748.265539</td><td>3920.186725</td><td>273.656554</td><td>6320.693208</td><td>1343.818732</td><td>6424.597386</td><td>4260.559653</td><td>6047.874588</td><td>2290.417649</td><td>971.514414</td><td>2532.079616</td><td>0.0</td><td>0.0</td><td>0.0</td><td>0.0</td><td>0.0</td><td>0.0</td><td>0.0</td><td>0.0</td><td>0.0</td><td>0.0</td><td>0.0</td><td>0.0</td><td>0.0</td><td>0.0</td><td>0.0</td><td>0.0</td></tr><tr><td>&quot;EPlORYSAT000373851&quot;</td><td>0.0</td><td>0.0</td><td>0.0</td><td>0.0</td><td>0.0</td><td>0.0</td><td>0.0</td><td>0.0</td><td>0.0</td><td>0.0</td><td>0.0</td><td>0.0</td><td>0.0</td><td>0.0</td><td>0.0</td><td>0.0</td><td>0.0</td><td>0.0</td><td>0.0</td><td>0.0</td><td>0.0</td><td>0.0</td><td>0.0</td><td>0.0</td><td>0.0</td><td>0.0</td><td>0.0</td><td>0.0</td><td>0.0</td><td>0.0</td><td>0.0</td><td>0.0</td><td>0.0</td><td>0.0</td><td>0.0</td><td>0.0</td><td>&hellip;</td><td>2442.028089</td><td>4625.504077</td><td>2827.234289</td><td>1501.431379</td><td>4420.410172</td><td>2898.554385</td><td>3820.785832</td><td>3458.321436</td><td>2485.950338</td><td>2847.259772</td><td>3486.605556</td><td>2237.063081</td><td>273.656554</td><td>5099.772988</td><td>3561.119628</td><td>4501.588632</td><td>2442.028089</td><td>4625.504077</td><td>2827.234289</td><td>1501.431379</td><td>4420.410172</td><td>0.0</td><td>0.0</td><td>0.0</td><td>0.0</td><td>0.0</td><td>0.0</td><td>0.0</td><td>0.0</td><td>0.0</td><td>0.0</td><td>0.0</td><td>0.0</td><td>0.0</td><td>0.0</td><td>0.0</td><td>0.0</td></tr><tr><td>&hellip;</td><td>&hellip;</td><td>&hellip;</td><td>&hellip;</td><td>&hellip;</td><td>&hellip;</td><td>&hellip;</td><td>&hellip;</td><td>&hellip;</td><td>&hellip;</td><td>&hellip;</td><td>&hellip;</td><td>&hellip;</td><td>&hellip;</td><td>&hellip;</td><td>&hellip;</td><td>&hellip;</td><td>&hellip;</td><td>&hellip;</td><td>&hellip;</td><td>&hellip;</td><td>&hellip;</td><td>&hellip;</td><td>&hellip;</td><td>&hellip;</td><td>&hellip;</td><td>&hellip;</td><td>&hellip;</td><td>&hellip;</td><td>&hellip;</td><td>&hellip;</td><td>&hellip;</td><td>&hellip;</td><td>&hellip;</td><td>&hellip;</td><td>&hellip;</td><td>&hellip;</td><td>&hellip;</td><td>&hellip;</td><td>&hellip;</td><td>&hellip;</td><td>&hellip;</td><td>&hellip;</td><td>&hellip;</td><td>&hellip;</td><td>&hellip;</td><td>&hellip;</td><td>&hellip;</td><td>&hellip;</td><td>&hellip;</td><td>&hellip;</td><td>&hellip;</td><td>&hellip;</td><td>&hellip;</td><td>&hellip;</td><td>&hellip;</td><td>&hellip;</td><td>&hellip;</td><td>&hellip;</td><td>&hellip;</td><td>&hellip;</td><td>&hellip;</td><td>&hellip;</td><td>&hellip;</td><td>&hellip;</td><td>&hellip;</td><td>&hellip;</td><td>&hellip;</td><td>&hellip;</td><td>&hellip;</td><td>&hellip;</td><td>&hellip;</td><td>&hellip;</td><td>&hellip;</td><td>&hellip;</td></tr><tr><td>&quot;Os12g0641100&quot;</td><td>344.493634</td><td>290.856802</td><td>228.848244</td><td>105.4305</td><td>101.25865</td><td>236.764663</td><td>147.880131</td><td>42.805264</td><td>212.771674</td><td>73.677337</td><td>296.126236</td><td>243.514926</td><td>381.988011</td><td>306.809332</td><td>254.083609</td><td>230.007366</td><td>197.551269</td><td>148.559451</td><td>202.541918</td><td>167.33003</td><td>191.728354</td><td>139.106916</td><td>267.351681</td><td>190.009989</td><td>327.446676</td><td>155.511263</td><td>92.075569</td><td>269.298357</td><td>259.512821</td><td>28.463971</td><td>217.263176</td><td>132.212488</td><td>201.533235</td><td>132.329897</td><td>189.435776</td><td>60.792742</td><td>&hellip;</td><td>87.902983</td><td>162.255255</td><td>115.875575</td><td>58.388944</td><td>132.257244</td><td>155.811929</td><td>112.460218</td><td>125.25355</td><td>108.461912</td><td>99.064689</td><td>114.260411</td><td>75.361239</td><td>15.420944</td><td>152.548686</td><td>76.156179</td><td>138.29587</td><td>87.902983</td><td>162.255255</td><td>115.875575</td><td>58.388944</td><td>132.257244</td><td>23.722243</td><td>60.137539</td><td>145.376539</td><td>193.257114</td><td>642.403667</td><td>827.410417</td><td>774.744349</td><td>642.403667</td><td>827.410417</td><td>774.744349</td><td>650.693786</td><td>784.545047</td><td>1081.560713</td><td>848.786515</td><td>689.575165</td><td>475.503286</td></tr><tr><td>&quot;Os12g0641200&quot;</td><td>8.643458</td><td>8.123717</td><td>3.13184</td><td>1.244132</td><td>1.931752</td><td>6.847633</td><td>3.159997</td><td>0.701651</td><td>6.150349</td><td>3.008851</td><td>5.768902</td><td>6.959181</td><td>7.572251</td><td>7.004107</td><td>4.349324</td><td>6.91377</td><td>5.664045</td><td>3.142234</td><td>0.639776</td><td>5.53297</td><td>3.19454</td><td>1.906311</td><td>3.732821</td><td>3.555496</td><td>3.643804</td><td>2.89291</td><td>1.669086</td><td>0.601663</td><td>2.478055</td><td>0.0</td><td>6.368904</td><td>3.642318</td><td>2.311074</td><td>2.945419</td><td>3.61447</td><td>1.763739</td><td>&hellip;</td><td>2.427838</td><td>8.4237</td><td>4.113054</td><td>3.747425</td><td>8.246422</td><td>4.324745</td><td>9.852227</td><td>5.886779</td><td>6.185982</td><td>4.319785</td><td>2.470279</td><td>0.721516</td><td>1.518727</td><td>7.189856</td><td>4.137471</td><td>8.595687</td><td>2.427838</td><td>8.4237</td><td>4.113054</td><td>3.747425</td><td>8.246422</td><td>0.0</td><td>0.0</td><td>21.272247</td><td>4.545147</td><td>10.246966</td><td>39.821702</td><td>27.841862</td><td>10.246966</td><td>39.821702</td><td>27.841862</td><td>0.0</td><td>0.0</td><td>0.0</td><td>0.0</td><td>9.000268</td><td>0.0</td></tr><tr><td>&quot;Os12g0641300&quot;</td><td>468.978095</td><td>528.587473</td><td>313.316366</td><td>182.288418</td><td>149.108178</td><td>256.480967</td><td>167.027274</td><td>58.415434</td><td>304.892683</td><td>94.946165</td><td>356.711423</td><td>277.695133</td><td>414.402936</td><td>341.573273</td><td>453.241635</td><td>429.840794</td><td>461.135389</td><td>337.846236</td><td>193.728496</td><td>166.395793</td><td>250.028727</td><td>155.619942</td><td>355.319028</td><td>265.80394</td><td>406.062625</td><td>227.350585</td><td>120.962416</td><td>448.815871</td><td>475.281965</td><td>38.264303</td><td>368.69701</td><td>210.807435</td><td>205.850709</td><td>170.380837</td><td>213.30547</td><td>68.207954</td><td>&hellip;</td><td>67.956712</td><td>190.782497</td><td>98.318564</td><td>32.941708</td><td>249.021593</td><td>178.133823</td><td>161.895511</td><td>156.118134</td><td>94.248729</td><td>93.253742</td><td>87.123885</td><td>59.496569</td><td>12.606442</td><td>144.242072</td><td>87.793935</td><td>147.59746</td><td>67.956712</td><td>190.782497</td><td>98.318564</td><td>32.941708</td><td>249.021593</td><td>3.167237</td><td>5.692402</td><td>764.428525</td><td>753.371539</td><td>1273.287499</td><td>1954.439518</td><td>1567.5556</td><td>1273.287499</td><td>1954.439518</td><td>1567.5556</td><td>2010.629727</td><td>1871.329072</td><td>1669.981653</td><td>1871.635235</td><td>1921.316912</td><td>1483.63048</td></tr><tr><td>&quot;Os12g0641400&quot;</td><td>622.612913</td><td>574.969884</td><td>589.357344</td><td>257.460732</td><td>266.658304</td><td>463.44893</td><td>296.090881</td><td>92.025579</td><td>475.519237</td><td>151.84691</td><td>602.87475</td><td>489.872994</td><td>621.204987</td><td>530.333142</td><td>541.73448</td><td>462.398859</td><td>451.211839</td><td>318.445367</td><td>452.979617</td><td>393.592602</td><td>446.547128</td><td>265.682766</td><td>529.742156</td><td>405.582598</td><td>588.203766</td><td>294.072285</td><td>173.413818</td><td>630.754662</td><td>620.726902</td><td>51.910252</td><td>518.353236</td><td>339.569166</td><td>475.485699</td><td>341.759312</td><td>510.570564</td><td>145.552391</td><td>&hellip;</td><td>204.471285</td><td>508.48259</td><td>341.744157</td><td>124.282251</td><td>444.951866</td><td>369.996793</td><td>337.144799</td><td>333.236165</td><td>263.033341</td><td>191.389866</td><td>273.375823</td><td>182.003405</td><td>37.722929</td><td>358.953435</td><td>202.680672</td><td>305.667274</td><td>204.471285</td><td>508.48259</td><td>341.744157</td><td>124.282251</td><td>444.951866</td><td>29.002814</td><td>57.453539</td><td>790.280338</td><td>753.568685</td><td>1287.554752</td><td>1812.295474</td><td>1658.026521</td><td>1287.554752</td><td>1812.295474</td><td>1658.026521</td><td>776.844327</td><td>645.388025</td><td>1039.776953</td><td>926.615337</td><td>837.317061</td><td>611.902156</td></tr><tr><td>&quot;Os12g0641500&quot;</td><td>348.724257</td><td>340.413987</td><td>331.722368</td><td>165.053891</td><td>149.068473</td><td>401.285116</td><td>251.735561</td><td>74.007618</td><td>345.810088</td><td>113.064686</td><td>387.581375</td><td>326.588155</td><td>383.696021</td><td>331.186214</td><td>352.368059</td><td>298.93583</td><td>346.875852</td><td>244.117009</td><td>382.484471</td><td>331.896276</td><td>336.320401</td><td>241.836362</td><td>375.268695</td><td>266.580226</td><td>393.031795</td><td>185.068117</td><td>112.800512</td><td>356.130051</td><td>346.042049</td><td>30.981802</td><td>358.186747</td><td>206.216234</td><td>373.011707</td><td>252.293379</td><td>349.217894</td><td>114.230444</td><td>&hellip;</td><td>162.692546</td><td>334.572465</td><td>262.464404</td><td>133.644106</td><td>264.955688</td><td>311.132555</td><td>210.561124</td><td>262.310009</td><td>203.049586</td><td>161.125558</td><td>302.802926</td><td>195.35963</td><td>39.706425</td><td>287.189333</td><td>164.577215</td><td>278.360853</td><td>162.692546</td><td>334.572465</td><td>262.464404</td><td>133.644106</td><td>264.955688</td><td>26.239732</td><td>118.238802</td><td>194.207549</td><td>190.24108</td><td>444.486236</td><td>866.077559</td><td>769.36911</td><td>444.486236</td><td>866.077559</td><td>769.36911</td><td>146.338572</td><td>152.644795</td><td>233.048041</td><td>164.691208</td><td>166.720653</td><td>154.660258</td></tr></tbody></table></div>"
      ],
      "text/plain": [
       "shape: (35_691, 697)\n",
       "┌───────────┬───────────┬───────────┬───────────┬───┬───────────┬───────────┬───────────┬──────────┐\n",
       "│ GENEID    ┆ SRR150603 ┆ SRR150603 ┆ SRR150603 ┆ … ┆ SRR230518 ┆ SRR230518 ┆ SRR230518 ┆ SRR23051 │\n",
       "│ ---       ┆ 15        ┆ 16        ┆ 17        ┆   ┆ 83        ┆ 82        ┆ 81        ┆ 880      │\n",
       "│ str       ┆ ---       ┆ ---       ┆ ---       ┆   ┆ ---       ┆ ---       ┆ ---       ┆ ---      │\n",
       "│           ┆ f64       ┆ f64       ┆ f64       ┆   ┆ f64       ┆ f64       ┆ f64       ┆ f64      │\n",
       "╞═══════════╪═══════════╪═══════════╪═══════════╪═══╪═══════════╪═══════════╪═══════════╪══════════╡\n",
       "│ EPlORYSAT ┆ 0.0       ┆ 0.0       ┆ 0.0       ┆ … ┆ 0.0       ┆ 0.0       ┆ 0.0       ┆ 0.0      │\n",
       "│ 000373610 ┆           ┆           ┆           ┆   ┆           ┆           ┆           ┆          │\n",
       "│ EPlORYSAT ┆ 0.0       ┆ 0.0       ┆ 0.0       ┆ … ┆ 0.0       ┆ 0.0       ┆ 0.0       ┆ 0.0      │\n",
       "│ 000373621 ┆           ┆           ┆           ┆   ┆           ┆           ┆           ┆          │\n",
       "│ EPlORYSAT ┆ 0.0       ┆ 0.0       ┆ 0.0       ┆ … ┆ 0.0       ┆ 0.0       ┆ 0.0       ┆ 0.0      │\n",
       "│ 000373643 ┆           ┆           ┆           ┆   ┆           ┆           ┆           ┆          │\n",
       "│ EPlORYSAT ┆ 0.0       ┆ 0.0       ┆ 0.0       ┆ … ┆ 0.0       ┆ 0.0       ┆ 0.0       ┆ 0.0      │\n",
       "│ 000373795 ┆           ┆           ┆           ┆   ┆           ┆           ┆           ┆          │\n",
       "│ EPlORYSAT ┆ 0.0       ┆ 0.0       ┆ 0.0       ┆ … ┆ 0.0       ┆ 0.0       ┆ 0.0       ┆ 0.0      │\n",
       "│ 000373851 ┆           ┆           ┆           ┆   ┆           ┆           ┆           ┆          │\n",
       "│ …         ┆ …         ┆ …         ┆ …         ┆ … ┆ …         ┆ …         ┆ …         ┆ …        │\n",
       "│ Os12g0641 ┆ 344.49363 ┆ 290.85680 ┆ 228.84824 ┆ … ┆ 1081.5607 ┆ 848.78651 ┆ 689.57516 ┆ 475.5032 │\n",
       "│ 100       ┆ 4         ┆ 2         ┆ 4         ┆   ┆ 13        ┆ 5         ┆ 5         ┆ 86       │\n",
       "│ Os12g0641 ┆ 8.643458  ┆ 8.123717  ┆ 3.13184   ┆ … ┆ 0.0       ┆ 0.0       ┆ 9.000268  ┆ 0.0      │\n",
       "│ 200       ┆           ┆           ┆           ┆   ┆           ┆           ┆           ┆          │\n",
       "│ Os12g0641 ┆ 468.97809 ┆ 528.58747 ┆ 313.31636 ┆ … ┆ 1669.9816 ┆ 1871.6352 ┆ 1921.3169 ┆ 1483.630 │\n",
       "│ 300       ┆ 5         ┆ 3         ┆ 6         ┆   ┆ 53        ┆ 35        ┆ 12        ┆ 48       │\n",
       "│ Os12g0641 ┆ 622.61291 ┆ 574.96988 ┆ 589.35734 ┆ … ┆ 1039.7769 ┆ 926.61533 ┆ 837.31706 ┆ 611.9021 │\n",
       "│ 400       ┆ 3         ┆ 4         ┆ 4         ┆   ┆ 53        ┆ 7         ┆ 1         ┆ 56       │\n",
       "│ Os12g0641 ┆ 348.72425 ┆ 340.41398 ┆ 331.72236 ┆ … ┆ 233.04804 ┆ 164.69120 ┆ 166.72065 ┆ 154.6602 │\n",
       "│ 500       ┆ 7         ┆ 7         ┆ 8         ┆   ┆ 1         ┆ 8         ┆ 3         ┆ 58       │\n",
       "└───────────┴───────────┴───────────┴───────────┴───┴───────────┴───────────┴───────────┴──────────┘"
      ]
     },
     "metadata": {},
     "output_type": "display_data"
    }
   ],
   "source": [
    "#Upload gene expression data (quantitated by salmon v1.10)\n",
    "gene_exp_table = pl.read_csv(\n",
    "    \"../Data/03_TSVfile/rice_quant_result_all_2401.tsv\", \n",
    "    separator='\\t'\n",
    ")\n",
    "\n",
    "display(gene_exp_table)"
   ]
  },
  {
   "cell_type": "code",
   "execution_count": 4,
   "metadata": {},
   "outputs": [
    {
     "data": {
      "text/html": [
       "<div><style>\n",
       ".dataframe > thead > tr,\n",
       ".dataframe > tbody > tr {\n",
       "  text-align: right;\n",
       "  white-space: pre-wrap;\n",
       "}\n",
       "</style>\n",
       "<small>shape: (360, 5)</small><table border=\"1\" class=\"dataframe\"><thead><tr><th>All-pair</th><th>Project-pair</th><th>Stress</th><th>Control</th><th>Library_Layout</th></tr><tr><td>i64</td><td>i64</td><td>str</td><td>str</td><td>str</td></tr></thead><tbody><tr><td>1</td><td>1</td><td>&quot;SRR22741460&quot;</td><td>&quot;SRR22741464&quot;</td><td>&quot;PAIRED&quot;</td></tr><tr><td>2</td><td>2</td><td>&quot;SRR22741461&quot;</td><td>&quot;SRR22741465&quot;</td><td>&quot;PAIRED&quot;</td></tr><tr><td>3</td><td>3</td><td>&quot;SRR22741462&quot;</td><td>&quot;SRR22741466&quot;</td><td>&quot;PAIRED&quot;</td></tr><tr><td>4</td><td>4</td><td>&quot;SRR22741463&quot;</td><td>&quot;SRR22741467&quot;</td><td>&quot;PAIRED&quot;</td></tr><tr><td>5</td><td>5</td><td>&quot;SRR22741468&quot;</td><td>&quot;SRR22741472&quot;</td><td>&quot;PAIRED&quot;</td></tr><tr><td>&hellip;</td><td>&hellip;</td><td>&hellip;</td><td>&hellip;</td><td>&hellip;</td></tr><tr><td>356</td><td>2</td><td>&quot;SRR23051878&quot;</td><td>&quot;SRR23051884&quot;</td><td>&quot;PAIRED&quot;</td></tr><tr><td>357</td><td>3</td><td>&quot;SRR23051877&quot;</td><td>&quot;SRR23051883&quot;</td><td>&quot;PAIRED&quot;</td></tr><tr><td>358</td><td>4</td><td>&quot;SRR23051876&quot;</td><td>&quot;SRR23051882&quot;</td><td>&quot;PAIRED&quot;</td></tr><tr><td>359</td><td>5</td><td>&quot;SRR23051875&quot;</td><td>&quot;SRR23051881&quot;</td><td>&quot;PAIRED&quot;</td></tr><tr><td>360</td><td>6</td><td>&quot;SRR23051874&quot;</td><td>&quot;SRR23051880&quot;</td><td>&quot;PAIRED&quot;</td></tr></tbody></table></div>"
      ],
      "text/plain": [
       "shape: (360, 5)\n",
       "┌──────────┬──────────────┬─────────────┬─────────────┬────────────────┐\n",
       "│ All-pair ┆ Project-pair ┆ Stress      ┆ Control     ┆ Library_Layout │\n",
       "│ ---      ┆ ---          ┆ ---         ┆ ---         ┆ ---            │\n",
       "│ i64      ┆ i64          ┆ str         ┆ str         ┆ str            │\n",
       "╞══════════╪══════════════╪═════════════╪═════════════╪════════════════╡\n",
       "│ 1        ┆ 1            ┆ SRR22741460 ┆ SRR22741464 ┆ PAIRED         │\n",
       "│ 2        ┆ 2            ┆ SRR22741461 ┆ SRR22741465 ┆ PAIRED         │\n",
       "│ 3        ┆ 3            ┆ SRR22741462 ┆ SRR22741466 ┆ PAIRED         │\n",
       "│ 4        ┆ 4            ┆ SRR22741463 ┆ SRR22741467 ┆ PAIRED         │\n",
       "│ 5        ┆ 5            ┆ SRR22741468 ┆ SRR22741472 ┆ PAIRED         │\n",
       "│ …        ┆ …            ┆ …           ┆ …           ┆ …              │\n",
       "│ 356      ┆ 2            ┆ SRR23051878 ┆ SRR23051884 ┆ PAIRED         │\n",
       "│ 357      ┆ 3            ┆ SRR23051877 ┆ SRR23051883 ┆ PAIRED         │\n",
       "│ 358      ┆ 4            ┆ SRR23051876 ┆ SRR23051882 ┆ PAIRED         │\n",
       "│ 359      ┆ 5            ┆ SRR23051875 ┆ SRR23051881 ┆ PAIRED         │\n",
       "│ 360      ┆ 6            ┆ SRR23051874 ┆ SRR23051880 ┆ PAIRED         │\n",
       "└──────────┴──────────────┴─────────────┴─────────────┴────────────────┘"
      ]
     },
     "metadata": {},
     "output_type": "display_data"
    }
   ],
   "source": [
    "HN_pair = pl.read_csv(\n",
    "    \"../Data/04_HNpair/HN-pair_rice.csv\", \n",
    "    separator=\",\"\n",
    ")\n",
    "display(HN_pair)"
   ]
  },
  {
   "cell_type": "code",
   "execution_count": 5,
   "metadata": {},
   "outputs": [
    {
     "data": {
      "text/html": [
       "<div><style>\n",
       ".dataframe > thead > tr,\n",
       ".dataframe > tbody > tr {\n",
       "  text-align: right;\n",
       "  white-space: pre-wrap;\n",
       "}\n",
       "</style>\n",
       "<small>shape: (35_691, 361)</small><table border=\"1\" class=\"dataframe\"><thead><tr><th>GENEID</th><th>SRR22741460</th><th>SRR22741461</th><th>SRR22741462</th><th>SRR22741463</th><th>SRR22741468</th><th>SRR22741469</th><th>SRR22741470</th><th>SRR22741471</th><th>SRR10991576</th><th>SRR10991577</th><th>SRR10991578</th><th>SRR10991582</th><th>SRR10991583</th><th>SRR10991584</th><th>SRR8140273</th><th>SRR8140274</th><th>SRR8140275</th><th>SRR8140276</th><th>SRR8140277</th><th>SRR8140278</th><th>SRR8140285</th><th>SRR8140286</th><th>SRR8140287</th><th>SRR8140288</th><th>SRR8140289</th><th>SRR8140290</th><th>SRR10423442</th><th>SRR10423443</th><th>SRR10423444</th><th>SRR10423430</th><th>SRR10423431</th><th>SRR10423432</th><th>SRR10423433</th><th>SRR10423434</th><th>SRR10423435</th><th>SRR10423418</th><th>&hellip;</th><th>SRR15060432</th><th>SRR15060433</th><th>SRR15060434</th><th>SRR15060435</th><th>SRR15060436</th><th>SRR15060437</th><th>SRR15060438</th><th>SRR15060439</th><th>SRR15060440</th><th>SRR15060441</th><th>SRR15060442</th><th>SRR15060443</th><th>SRR15060444</th><th>SRR15060445</th><th>SRR15060446</th><th>SRR15060447</th><th>SRR15060448</th><th>SRR15060449</th><th>SRR15060450</th><th>SRR15060451</th><th>SRR15060452</th><th>SRR15060453</th><th>SRR15060454</th><th>SRR15060455</th><th>SRR15060456</th><th>SRR22854097</th><th>SRR22854098</th><th>SRR22854099</th><th>SRR22854094</th><th>SRR22854095</th><th>SRR22854096</th><th>SRR23051879</th><th>SRR23051878</th><th>SRR23051877</th><th>SRR23051876</th><th>SRR23051875</th><th>SRR23051874</th></tr><tr><td>str</td><td>f64</td><td>f64</td><td>f64</td><td>f64</td><td>f64</td><td>f64</td><td>f64</td><td>f64</td><td>f64</td><td>f64</td><td>f64</td><td>f64</td><td>f64</td><td>f64</td><td>f64</td><td>f64</td><td>f64</td><td>f64</td><td>f64</td><td>f64</td><td>f64</td><td>f64</td><td>f64</td><td>f64</td><td>f64</td><td>f64</td><td>f64</td><td>f64</td><td>f64</td><td>f64</td><td>f64</td><td>f64</td><td>f64</td><td>f64</td><td>f64</td><td>f64</td><td>&hellip;</td><td>f64</td><td>f64</td><td>f64</td><td>f64</td><td>f64</td><td>f64</td><td>f64</td><td>f64</td><td>f64</td><td>f64</td><td>f64</td><td>f64</td><td>f64</td><td>f64</td><td>f64</td><td>f64</td><td>f64</td><td>f64</td><td>f64</td><td>f64</td><td>f64</td><td>f64</td><td>f64</td><td>f64</td><td>f64</td><td>f64</td><td>f64</td><td>f64</td><td>f64</td><td>f64</td><td>f64</td><td>f64</td><td>f64</td><td>f64</td><td>f64</td><td>f64</td><td>f64</td></tr></thead><tbody><tr><td>&quot;EPlORYSAT000373610&quot;</td><td>1.0</td><td>1.0</td><td>64.003051</td><td>64.326859</td><td>0.015755</td><td>1.0</td><td>1.0</td><td>1.0</td><td>1.0</td><td>1.0</td><td>1.0</td><td>1.0</td><td>1.0</td><td>1.0</td><td>1.0</td><td>1.0</td><td>1.0</td><td>1.0</td><td>1.0</td><td>1.0</td><td>1.0</td><td>1.0</td><td>1.0</td><td>1.0</td><td>1.0</td><td>1.0</td><td>1.0</td><td>1.0</td><td>1.0</td><td>1.0</td><td>1.0</td><td>1.0</td><td>1.0</td><td>1.0</td><td>1.0</td><td>1.0</td><td>&hellip;</td><td>1.0</td><td>1.0</td><td>1.0</td><td>1.0</td><td>1.0</td><td>1.0</td><td>1.0</td><td>1.0</td><td>1.0</td><td>1.0</td><td>1.0</td><td>1.0</td><td>188.995833</td><td>1.0</td><td>1.0</td><td>1.0</td><td>1.0</td><td>1.0</td><td>1.0</td><td>1.0</td><td>1.0</td><td>200.462188</td><td>1.0</td><td>1.0</td><td>1.0</td><td>0.017064</td><td>1.0</td><td>70.185139</td><td>1.284229</td><td>1.0</td><td>1.0</td><td>1.0</td><td>1.0</td><td>1.0</td><td>1.0</td><td>1.0</td><td>1.0</td></tr><tr><td>&quot;EPlORYSAT000373621&quot;</td><td>1.0</td><td>1.0</td><td>1.0</td><td>1.0</td><td>1.0</td><td>1.0</td><td>1.0</td><td>1.0</td><td>1.0</td><td>1.0</td><td>1.0</td><td>1.0</td><td>1.0</td><td>1.0</td><td>1.0</td><td>1.0</td><td>1.0</td><td>1.0</td><td>1.0</td><td>1.0</td><td>1.0</td><td>1.0</td><td>1.0</td><td>1.0</td><td>1.0</td><td>1.0</td><td>1.0</td><td>1.0</td><td>1.0</td><td>1.0</td><td>1.0</td><td>1.0</td><td>1.0</td><td>1.0</td><td>1.0</td><td>1.0</td><td>&hellip;</td><td>1.0</td><td>1.0</td><td>1.0</td><td>1.0</td><td>1.0</td><td>1.0</td><td>1.0</td><td>1.0</td><td>1.0</td><td>1.0</td><td>1.0</td><td>1.0</td><td>1.0</td><td>1.0</td><td>1.0</td><td>1.0</td><td>1.0</td><td>1.0</td><td>1.0</td><td>1.0</td><td>1.0</td><td>1.0</td><td>1.0</td><td>1.0</td><td>1.0</td><td>1.0</td><td>1.0</td><td>1.0</td><td>1.0</td><td>1.0</td><td>1.0</td><td>1.0</td><td>1.0</td><td>1.0</td><td>1.0</td><td>1.0</td><td>1.0</td></tr><tr><td>&quot;EPlORYSAT000373643&quot;</td><td>1.0</td><td>1.0</td><td>1.0</td><td>1.0</td><td>1.0</td><td>1.0</td><td>1.0</td><td>1.0</td><td>1.0</td><td>1.0</td><td>1.0</td><td>1.0</td><td>1.0</td><td>1.0</td><td>1.0</td><td>1.0</td><td>1.0</td><td>1.0</td><td>1.0</td><td>1.0</td><td>1.0</td><td>1.0</td><td>1.0</td><td>1.0</td><td>1.0</td><td>1.0</td><td>1.0</td><td>1.0</td><td>1.0</td><td>1.0</td><td>1.0</td><td>1.0</td><td>1.0</td><td>1.0</td><td>1.0</td><td>1.0</td><td>&hellip;</td><td>1.0</td><td>1.0</td><td>1.0</td><td>1.0</td><td>1.0</td><td>1.0</td><td>1.0</td><td>1.0</td><td>1.0</td><td>1.0</td><td>1.0</td><td>1.0</td><td>1.0</td><td>1.0</td><td>1.0</td><td>1.0</td><td>1.0</td><td>1.0</td><td>1.0</td><td>1.0</td><td>1.0</td><td>1.0</td><td>1.0</td><td>1.0</td><td>1.0</td><td>1.0</td><td>1.0</td><td>1.0</td><td>1.0</td><td>1.0</td><td>1.0</td><td>1.0</td><td>1.0</td><td>1.0</td><td>1.0</td><td>1.0</td><td>1.0</td></tr><tr><td>&quot;EPlORYSAT000373795&quot;</td><td>1.0</td><td>1.0</td><td>1.0</td><td>1.0</td><td>1.0</td><td>1.0</td><td>1.0</td><td>1.0</td><td>1.0</td><td>1.0</td><td>1.0</td><td>1.0</td><td>1.0</td><td>1.0</td><td>1.0</td><td>1.0</td><td>1.0</td><td>1.0</td><td>1.0</td><td>1.0</td><td>1.0</td><td>1.0</td><td>1.0</td><td>1.0</td><td>1.0</td><td>1.0</td><td>1.0</td><td>1.0</td><td>1.0</td><td>1.0</td><td>1.0</td><td>1.0</td><td>1.0</td><td>1.0</td><td>1.0</td><td>1.0</td><td>&hellip;</td><td>1.0</td><td>1.0</td><td>1.0</td><td>1.0</td><td>1.0</td><td>1.0</td><td>1.0</td><td>1.0</td><td>1.0</td><td>1.0</td><td>1.0</td><td>1.0</td><td>1.0</td><td>1.0</td><td>1.0</td><td>1.0</td><td>1.0</td><td>1.0</td><td>1.0</td><td>1.0</td><td>1.0</td><td>1.0</td><td>1.0</td><td>1.0</td><td>1.0</td><td>1.0</td><td>1.0</td><td>1.0</td><td>1.0</td><td>1.0</td><td>1.0</td><td>1.0</td><td>1.0</td><td>1.0</td><td>1.0</td><td>1.0</td><td>1.0</td></tr><tr><td>&quot;EPlORYSAT000373851&quot;</td><td>1.0</td><td>1.0</td><td>1.0</td><td>1.0</td><td>1.0</td><td>1.0</td><td>1.0</td><td>1.0</td><td>1.0</td><td>1.0</td><td>1.0</td><td>1.0</td><td>1.0</td><td>1.0</td><td>1.0</td><td>1.0</td><td>1.0</td><td>1.0</td><td>1.0</td><td>1.0</td><td>1.0</td><td>1.0</td><td>1.0</td><td>1.0</td><td>1.0</td><td>1.0</td><td>1.0</td><td>1.0</td><td>1.0</td><td>1.0</td><td>1.0</td><td>1.0</td><td>1.0</td><td>1.0</td><td>1.0</td><td>1.0</td><td>&hellip;</td><td>1.0</td><td>1.0</td><td>1.0</td><td>1.0</td><td>1.0</td><td>1.0</td><td>1.0</td><td>1.0</td><td>1.0</td><td>1.0</td><td>1.0</td><td>1.0</td><td>1.0</td><td>1.0</td><td>1.0</td><td>1.0</td><td>1.0</td><td>1.0</td><td>1.0</td><td>1.0</td><td>1.0</td><td>1.0</td><td>1.0</td><td>1.0</td><td>1.0</td><td>1.0</td><td>1.0</td><td>1.0</td><td>1.0</td><td>1.0</td><td>1.0</td><td>1.0</td><td>1.0</td><td>1.0</td><td>1.0</td><td>1.0</td><td>1.0</td></tr><tr><td>&hellip;</td><td>&hellip;</td><td>&hellip;</td><td>&hellip;</td><td>&hellip;</td><td>&hellip;</td><td>&hellip;</td><td>&hellip;</td><td>&hellip;</td><td>&hellip;</td><td>&hellip;</td><td>&hellip;</td><td>&hellip;</td><td>&hellip;</td><td>&hellip;</td><td>&hellip;</td><td>&hellip;</td><td>&hellip;</td><td>&hellip;</td><td>&hellip;</td><td>&hellip;</td><td>&hellip;</td><td>&hellip;</td><td>&hellip;</td><td>&hellip;</td><td>&hellip;</td><td>&hellip;</td><td>&hellip;</td><td>&hellip;</td><td>&hellip;</td><td>&hellip;</td><td>&hellip;</td><td>&hellip;</td><td>&hellip;</td><td>&hellip;</td><td>&hellip;</td><td>&hellip;</td><td>&hellip;</td><td>&hellip;</td><td>&hellip;</td><td>&hellip;</td><td>&hellip;</td><td>&hellip;</td><td>&hellip;</td><td>&hellip;</td><td>&hellip;</td><td>&hellip;</td><td>&hellip;</td><td>&hellip;</td><td>&hellip;</td><td>&hellip;</td><td>&hellip;</td><td>&hellip;</td><td>&hellip;</td><td>&hellip;</td><td>&hellip;</td><td>&hellip;</td><td>&hellip;</td><td>&hellip;</td><td>&hellip;</td><td>&hellip;</td><td>&hellip;</td><td>&hellip;</td><td>&hellip;</td><td>&hellip;</td><td>&hellip;</td><td>&hellip;</td><td>&hellip;</td><td>&hellip;</td><td>&hellip;</td><td>&hellip;</td><td>&hellip;</td><td>&hellip;</td><td>&hellip;</td><td>&hellip;</td></tr><tr><td>&quot;Os12g0641100&quot;</td><td>0.330482</td><td>0.881209</td><td>0.498074</td><td>0.510708</td><td>0.808446</td><td>0.986463</td><td>1.23701</td><td>0.690745</td><td>1.967604</td><td>2.090501</td><td>1.667619</td><td>0.663144</td><td>0.915042</td><td>1.175697</td><td>0.290975</td><td>0.287567</td><td>0.243554</td><td>0.240388</td><td>0.361402</td><td>0.367039</td><td>0.361091</td><td>0.361422</td><td>0.356863</td><td>0.362518</td><td>0.45673</td><td>0.463282</td><td>5.218504</td><td>3.569581</td><td>3.710993</td><td>2.168091</td><td>1.36272</td><td>1.019475</td><td>2.594985</td><td>1.684937</td><td>1.135803</td><td>10.381417</td><td>&hellip;</td><td>1.254025</td><td>0.520597</td><td>1.459464</td><td>0.983362</td><td>0.992884</td><td>1.093461</td><td>1.780748</td><td>1.34706</td><td>1.17272</td><td>2.118824</td><td>1.495923</td><td>1.029656</td><td>0.80882</td><td>1.615215</td><td>1.139736</td><td>0.948756</td><td>0.962316</td><td>0.721113</td><td>1.061525</td><td>1.037891</td><td>1.287411</td><td>2.775175</td><td>0.525017</td><td>2.270865</td><td>0.577094</td><td>0.639495</td><td>0.560287</td><td>0.520431</td><td>0.792163</td><td>0.735383</td><td>0.738452</td><td>1.377318</td><td>0.974089</td><td>0.60175</td><td>0.558296</td><td>0.972543</td><td>1.624633</td></tr><tr><td>&quot;Os12g0641200&quot;</td><td>1.0</td><td>1.0</td><td>1.0</td><td>1.0</td><td>1.0</td><td>1.0</td><td>1.0</td><td>1.0</td><td>1.34581</td><td>1.337851</td><td>0.722855</td><td>0.202596</td><td>0.310684</td><td>0.482447</td><td>2.147339</td><td>2.66812</td><td>2.470606</td><td>2.420584</td><td>1.210811</td><td>1.68822</td><td>1.782365</td><td>2.02234</td><td>0.864469</td><td>0.57654</td><td>2.820844</td><td>3.900592</td><td>1.0</td><td>1.0</td><td>1.363146</td><td>0.224637</td><td>2.561818</td><td>5.592903</td><td>0.891283</td><td>1.0</td><td>2.886571</td><td>0.399646</td><td>&hellip;</td><td>1.626003</td><td>0.554418</td><td>2.327543</td><td>0.708659</td><td>1.253904</td><td>0.747667</td><td>1.21419</td><td>1.394378</td><td>0.3072</td><td>1.54719</td><td>0.853705</td><td>0.422481</td><td>0.317257</td><td>2.731734</td><td>1.396359</td><td>1.205544</td><td>0.483574</td><td>0.733506</td><td>0.479358</td><td>0.468497</td><td>1.266185</td><td>1.540311</td><td>0.340326</td><td>0.938826</td><td>0.744195</td><td>0.902789</td><td>0.293271</td><td>0.734621</td><td>2.713237</td><td>0.723214</td><td>1.469847</td><td>8.251797</td><td>12.227851</td><td>3.864073</td><td>1.986833</td><td>0.582545</td><td>14.041889</td></tr><tr><td>&quot;Os12g0641300&quot;</td><td>1.0</td><td>1.0</td><td>1.0</td><td>1.0</td><td>0.316684</td><td>1.0</td><td>1.0</td><td>1.0</td><td>1.814044</td><td>1.959658</td><td>1.651451</td><td>0.363303</td><td>0.489477</td><td>0.513967</td><td>2.183846</td><td>2.08417</td><td>1.371521</td><td>1.332527</td><td>1.70133</td><td>1.59343</td><td>2.331243</td><td>2.217381</td><td>1.709113</td><td>1.78951</td><td>2.844805</td><td>2.677968</td><td>0.253169</td><td>0.211079</td><td>0.145295</td><td>1.157339</td><td>1.6192</td><td>1.448443</td><td>1.300356</td><td>2.497598</td><td>1.559386</td><td>1.36379</td><td>&hellip;</td><td>1.137144</td><td>0.462542</td><td>1.408695</td><td>0.915513</td><td>0.854722</td><td>0.741904</td><td>1.555971</td><td>1.282565</td><td>1.182925</td><td>1.995457</td><td>1.473107</td><td>1.037217</td><td>0.94501</td><td>2.389791</td><td>1.674603</td><td>1.253617</td><td>1.145706</td><td>0.964097</td><td>1.156783</td><td>1.536818</td><td>0.871979</td><td>1.831006</td><td>0.543172</td><td>2.212088</td><td>0.656573</td><td>1.132524</td><td>0.721943</td><td>0.54759</td><td>1.798458</td><td>1.377382</td><td>1.720096</td><td>1.417665</td><td>1.672338</td><td>1.197103</td><td>0.377292</td><td>1.064871</td><td>1.447654</td></tr><tr><td>&quot;Os12g0641400&quot;</td><td>0.656297</td><td>0.944844</td><td>0.682396</td><td>0.827123</td><td>0.600326</td><td>1.508617</td><td>0.951318</td><td>0.385374</td><td>1.11855</td><td>1.06925</td><td>1.000182</td><td>0.951502</td><td>1.288889</td><td>1.349027</td><td>0.777332</td><td>0.783799</td><td>0.715868</td><td>0.711444</td><td>0.690354</td><td>0.699451</td><td>0.817806</td><td>0.806047</td><td>0.577829</td><td>0.580564</td><td>0.900966</td><td>0.90491</td><td>2.492621</td><td>3.345792</td><td>2.583717</td><td>1.302779</td><td>1.227777</td><td>0.929066</td><td>1.208109</td><td>1.311805</td><td>0.985016</td><td>1.73784</td><td>&hellip;</td><td>1.14999</td><td>0.401833</td><td>1.203462</td><td>0.904723</td><td>0.752594</td><td>0.545916</td><td>0.987183</td><td>0.839881</td><td>0.904542</td><td>1.304546</td><td>1.016111</td><td>0.715164</td><td>0.688706</td><td>1.305155</td><td>0.979802</td><td>0.888161</td><td>0.72413</td><td>0.595877</td><td>0.785112</td><td>0.914574</td><td>0.664386</td><td>1.343614</td><td>0.443142</td><td>1.710404</td><td>0.427035</td><td>0.573803</td><td>0.430716</td><td>0.43136</td><td>0.943933</td><td>0.783158</td><td>0.879249</td><td>0.73665</td><td>1.022858</td><td>0.340235</td><td>0.377274</td><td>0.546013</td><td>1.023622</td></tr><tr><td>&quot;Os12g0641500&quot;</td><td>0.854</td><td>1.063454</td><td>0.821973</td><td>1.081992</td><td>0.896639</td><td>0.827501</td><td>1.177691</td><td>0.871535</td><td>1.795138</td><td>1.864458</td><td>1.489137</td><td>1.389437</td><td>2.199542</td><td>2.876902</td><td>0.411915</td><td>0.419311</td><td>0.348308</td><td>0.343535</td><td>0.480602</td><td>0.49441</td><td>0.556721</td><td>0.556653</td><td>0.465437</td><td>0.466151</td><td>0.646637</td><td>0.65308</td><td>9.08905</td><td>5.356792</td><td>11.442835</td><td>2.955065</td><td>1.156059</td><td>1.259709</td><td>2.453632</td><td>1.427103</td><td>1.322571</td><td>4.541973</td><td>&hellip;</td><td>1.223966</td><td>0.4179</td><td>1.268587</td><td>0.841521</td><td>1.169084</td><td>1.112873</td><td>1.949383</td><td>1.470266</td><td>1.041914</td><td>1.873556</td><td>1.35495</td><td>0.844412</td><td>0.854512</td><td>1.713295</td><td>1.243602</td><td>1.005852</td><td>0.970481</td><td>0.733052</td><td>0.999838</td><td>1.092754</td><td>1.292979</td><td>2.592577</td><td>0.481811</td><td>2.315379</td><td>0.512562</td><td>0.975283</td><td>0.532336</td><td>0.536193</td><td>1.636216</td><td>1.094168</td><td>0.965324</td><td>1.285873</td><td>1.251288</td><td>0.621946</td><td>1.115922</td><td>1.046188</td><td>1.598548</td></tr></tbody></table></div>"
      ],
      "text/plain": [
       "shape: (35_691, 361)\n",
       "┌───────────┬───────────┬───────────┬───────────┬───┬───────────┬───────────┬───────────┬──────────┐\n",
       "│ GENEID    ┆ SRR227414 ┆ SRR227414 ┆ SRR227414 ┆ … ┆ SRR230518 ┆ SRR230518 ┆ SRR230518 ┆ SRR23051 │\n",
       "│ ---       ┆ 60        ┆ 61        ┆ 62        ┆   ┆ 77        ┆ 76        ┆ 75        ┆ 874      │\n",
       "│ str       ┆ ---       ┆ ---       ┆ ---       ┆   ┆ ---       ┆ ---       ┆ ---       ┆ ---      │\n",
       "│           ┆ f64       ┆ f64       ┆ f64       ┆   ┆ f64       ┆ f64       ┆ f64       ┆ f64      │\n",
       "╞═══════════╪═══════════╪═══════════╪═══════════╪═══╪═══════════╪═══════════╪═══════════╪══════════╡\n",
       "│ EPlORYSAT ┆ 1.0       ┆ 1.0       ┆ 64.003051 ┆ … ┆ 1.0       ┆ 1.0       ┆ 1.0       ┆ 1.0      │\n",
       "│ 000373610 ┆           ┆           ┆           ┆   ┆           ┆           ┆           ┆          │\n",
       "│ EPlORYSAT ┆ 1.0       ┆ 1.0       ┆ 1.0       ┆ … ┆ 1.0       ┆ 1.0       ┆ 1.0       ┆ 1.0      │\n",
       "│ 000373621 ┆           ┆           ┆           ┆   ┆           ┆           ┆           ┆          │\n",
       "│ EPlORYSAT ┆ 1.0       ┆ 1.0       ┆ 1.0       ┆ … ┆ 1.0       ┆ 1.0       ┆ 1.0       ┆ 1.0      │\n",
       "│ 000373643 ┆           ┆           ┆           ┆   ┆           ┆           ┆           ┆          │\n",
       "│ EPlORYSAT ┆ 1.0       ┆ 1.0       ┆ 1.0       ┆ … ┆ 1.0       ┆ 1.0       ┆ 1.0       ┆ 1.0      │\n",
       "│ 000373795 ┆           ┆           ┆           ┆   ┆           ┆           ┆           ┆          │\n",
       "│ EPlORYSAT ┆ 1.0       ┆ 1.0       ┆ 1.0       ┆ … ┆ 1.0       ┆ 1.0       ┆ 1.0       ┆ 1.0      │\n",
       "│ 000373851 ┆           ┆           ┆           ┆   ┆           ┆           ┆           ┆          │\n",
       "│ …         ┆ …         ┆ …         ┆ …         ┆ … ┆ …         ┆ …         ┆ …         ┆ …        │\n",
       "│ Os12g0641 ┆ 0.330482  ┆ 0.881209  ┆ 0.498074  ┆ … ┆ 0.60175   ┆ 0.558296  ┆ 0.972543  ┆ 1.624633 │\n",
       "│ 100       ┆           ┆           ┆           ┆   ┆           ┆           ┆           ┆          │\n",
       "│ Os12g0641 ┆ 1.0       ┆ 1.0       ┆ 1.0       ┆ … ┆ 3.864073  ┆ 1.986833  ┆ 0.582545  ┆ 14.04188 │\n",
       "│ 200       ┆           ┆           ┆           ┆   ┆           ┆           ┆           ┆ 9        │\n",
       "│ Os12g0641 ┆ 1.0       ┆ 1.0       ┆ 1.0       ┆ … ┆ 1.197103  ┆ 0.377292  ┆ 1.064871  ┆ 1.447654 │\n",
       "│ 300       ┆           ┆           ┆           ┆   ┆           ┆           ┆           ┆          │\n",
       "│ Os12g0641 ┆ 0.656297  ┆ 0.944844  ┆ 0.682396  ┆ … ┆ 0.340235  ┆ 0.377274  ┆ 0.546013  ┆ 1.023622 │\n",
       "│ 400       ┆           ┆           ┆           ┆   ┆           ┆           ┆           ┆          │\n",
       "│ Os12g0641 ┆ 0.854     ┆ 1.063454  ┆ 0.821973  ┆ … ┆ 0.621946  ┆ 1.115922  ┆ 1.046188  ┆ 1.598548 │\n",
       "│ 500       ┆           ┆           ┆           ┆   ┆           ┆           ┆           ┆          │\n",
       "└───────────┴───────────┴───────────┴───────────┴───┴───────────┴───────────┴───────────┴──────────┘"
      ]
     },
     "metadata": {},
     "output_type": "display_data"
    }
   ],
   "source": [
    "# initialize HNratio table\n",
    "HNratio = gene_exp_table.select(['GENEID'])\n",
    "\n",
    "with open(\"../Data/04_HNpair/HN-pair_log.txt\", \"w\") as log_file: # write log file\n",
    "    for row in HN_pair.to_dicts():\n",
    "        h = row[\"Stress\"] # H (heat-stress)\n",
    "        n = row[\"Control\"] # N (non-treatment)\n",
    "        log_message_1 = f\"Stress condition: {h}, Control condition: {n}\\n\"\n",
    "        log_file.write(log_message_1)\n",
    "        \n",
    "        # Check column name exist\n",
    "        h_exists = h in gene_exp_table.columns\n",
    "        n_exists = n in gene_exp_table.columns\n",
    "        \n",
    "        log_message_2 = f\"Stress column exists: {h_exists}, Control column exists: {n_exists}\\n\"\n",
    "        log_file.write(log_message_2)\n",
    "        \n",
    "        if h_exists and n_exists:\n",
    "            \n",
    "            # count the number of rows\n",
    "            h_count = gene_exp_table[h].count()\n",
    "            n_count = gene_exp_table[n].count()\n",
    "            rows_match = h_count == n_count\n",
    "            \n",
    "            log_message_3 = f\"Rows match: {rows_match}\\n\"\n",
    "            log_file.write(log_message_3)\n",
    "            \n",
    "            # check null value\n",
    "            h_nulls = gene_exp_table[h].null_count()\n",
    "            n_nulls = gene_exp_table[n].null_count()\n",
    "            \n",
    "            log_message_4 = f\"Null values in Stress column: {h_nulls}, in Control column: {n_nulls}\\n\"\n",
    "            log_file.write(log_message_4)\n",
    "            \n",
    "            if rows_match and h_nulls == 0 and n_nulls == 0:\n",
    "                ratio_column = ((gene_exp_table[h] + 1) / (gene_exp_table[n] + 1)).alias(h) # Not \"gene_exp_table.select([h])\" but \"gene_exp_table[h]\"\n",
    "                HNratio = HNratio.with_columns(ratio_column)\n",
    "            else:\n",
    "                print(f\"Data integrity check failed. This combination {h} and {n} is skipped.\")\n",
    "                log_message_5 = f\"Data integrity check failed. This combination {h} and {n} is skipped.\\n\"\n",
    "                log_file.write(log_message_5)\n",
    "        else:\n",
    "            log_message_6 = \"Error: One or both columns do not exist. This combination is skipped.\\n\"\n",
    "            log_file.write(log_message_6)\n",
    "\n",
    "display(HNratio)"
   ]
  },
  {
   "cell_type": "code",
   "execution_count": 6,
   "metadata": {},
   "outputs": [
    {
     "data": {
      "text/html": [
       "<div><style>\n",
       ".dataframe > thead > tr,\n",
       ".dataframe > tbody > tr {\n",
       "  text-align: right;\n",
       "  white-space: pre-wrap;\n",
       "}\n",
       "</style>\n",
       "<small>shape: (35_691, 361)</small><table border=\"1\" class=\"dataframe\"><thead><tr><th>GENEID</th><th>SRR22741460</th><th>SRR22741461</th><th>SRR22741462</th><th>SRR22741463</th><th>SRR22741468</th><th>SRR22741469</th><th>SRR22741470</th><th>SRR22741471</th><th>SRR10991576</th><th>SRR10991577</th><th>SRR10991578</th><th>SRR10991582</th><th>SRR10991583</th><th>SRR10991584</th><th>SRR8140273</th><th>SRR8140274</th><th>SRR8140275</th><th>SRR8140276</th><th>SRR8140277</th><th>SRR8140278</th><th>SRR8140285</th><th>SRR8140286</th><th>SRR8140287</th><th>SRR8140288</th><th>SRR8140289</th><th>SRR8140290</th><th>SRR10423442</th><th>SRR10423443</th><th>SRR10423444</th><th>SRR10423430</th><th>SRR10423431</th><th>SRR10423432</th><th>SRR10423433</th><th>SRR10423434</th><th>SRR10423435</th><th>SRR10423418</th><th>&hellip;</th><th>SRR15060432</th><th>SRR15060433</th><th>SRR15060434</th><th>SRR15060435</th><th>SRR15060436</th><th>SRR15060437</th><th>SRR15060438</th><th>SRR15060439</th><th>SRR15060440</th><th>SRR15060441</th><th>SRR15060442</th><th>SRR15060443</th><th>SRR15060444</th><th>SRR15060445</th><th>SRR15060446</th><th>SRR15060447</th><th>SRR15060448</th><th>SRR15060449</th><th>SRR15060450</th><th>SRR15060451</th><th>SRR15060452</th><th>SRR15060453</th><th>SRR15060454</th><th>SRR15060455</th><th>SRR15060456</th><th>SRR22854097</th><th>SRR22854098</th><th>SRR22854099</th><th>SRR22854094</th><th>SRR22854095</th><th>SRR22854096</th><th>SRR23051879</th><th>SRR23051878</th><th>SRR23051877</th><th>SRR23051876</th><th>SRR23051875</th><th>SRR23051874</th></tr><tr><td>str</td><td>f64</td><td>f64</td><td>f64</td><td>f64</td><td>f64</td><td>f64</td><td>f64</td><td>f64</td><td>f64</td><td>f64</td><td>f64</td><td>f64</td><td>f64</td><td>f64</td><td>f64</td><td>f64</td><td>f64</td><td>f64</td><td>f64</td><td>f64</td><td>f64</td><td>f64</td><td>f64</td><td>f64</td><td>f64</td><td>f64</td><td>f64</td><td>f64</td><td>f64</td><td>f64</td><td>f64</td><td>f64</td><td>f64</td><td>f64</td><td>f64</td><td>f64</td><td>&hellip;</td><td>f64</td><td>f64</td><td>f64</td><td>f64</td><td>f64</td><td>f64</td><td>f64</td><td>f64</td><td>f64</td><td>f64</td><td>f64</td><td>f64</td><td>f64</td><td>f64</td><td>f64</td><td>f64</td><td>f64</td><td>f64</td><td>f64</td><td>f64</td><td>f64</td><td>f64</td><td>f64</td><td>f64</td><td>f64</td><td>f64</td><td>f64</td><td>f64</td><td>f64</td><td>f64</td><td>f64</td><td>f64</td><td>f64</td><td>f64</td><td>f64</td><td>f64</td><td>f64</td></tr></thead><tbody><tr><td>&quot;EPlORYSAT000373610&quot;</td><td>0.0</td><td>0.0</td><td>6.000069</td><td>6.007349</td><td>-5.988078</td><td>0.0</td><td>0.0</td><td>0.0</td><td>0.0</td><td>0.0</td><td>0.0</td><td>0.0</td><td>0.0</td><td>0.0</td><td>0.0</td><td>0.0</td><td>0.0</td><td>0.0</td><td>0.0</td><td>0.0</td><td>0.0</td><td>0.0</td><td>0.0</td><td>0.0</td><td>0.0</td><td>0.0</td><td>0.0</td><td>0.0</td><td>0.0</td><td>0.0</td><td>0.0</td><td>0.0</td><td>0.0</td><td>0.0</td><td>0.0</td><td>0.0</td><td>&hellip;</td><td>0.0</td><td>0.0</td><td>0.0</td><td>0.0</td><td>0.0</td><td>0.0</td><td>0.0</td><td>0.0</td><td>0.0</td><td>0.0</td><td>0.0</td><td>0.0</td><td>7.562211</td><td>0.0</td><td>0.0</td><td>0.0</td><td>0.0</td><td>0.0</td><td>0.0</td><td>0.0</td><td>0.0</td><td>7.647186</td><td>0.0</td><td>0.0</td><td>0.0</td><td>-5.872928</td><td>0.0</td><td>6.133094</td><td>0.360902</td><td>0.0</td><td>0.0</td><td>0.0</td><td>0.0</td><td>0.0</td><td>0.0</td><td>0.0</td><td>0.0</td></tr><tr><td>&quot;EPlORYSAT000373621&quot;</td><td>0.0</td><td>0.0</td><td>0.0</td><td>0.0</td><td>0.0</td><td>0.0</td><td>0.0</td><td>0.0</td><td>0.0</td><td>0.0</td><td>0.0</td><td>0.0</td><td>0.0</td><td>0.0</td><td>0.0</td><td>0.0</td><td>0.0</td><td>0.0</td><td>0.0</td><td>0.0</td><td>0.0</td><td>0.0</td><td>0.0</td><td>0.0</td><td>0.0</td><td>0.0</td><td>0.0</td><td>0.0</td><td>0.0</td><td>0.0</td><td>0.0</td><td>0.0</td><td>0.0</td><td>0.0</td><td>0.0</td><td>0.0</td><td>&hellip;</td><td>0.0</td><td>0.0</td><td>0.0</td><td>0.0</td><td>0.0</td><td>0.0</td><td>0.0</td><td>0.0</td><td>0.0</td><td>0.0</td><td>0.0</td><td>0.0</td><td>0.0</td><td>0.0</td><td>0.0</td><td>0.0</td><td>0.0</td><td>0.0</td><td>0.0</td><td>0.0</td><td>0.0</td><td>0.0</td><td>0.0</td><td>0.0</td><td>0.0</td><td>0.0</td><td>0.0</td><td>0.0</td><td>0.0</td><td>0.0</td><td>0.0</td><td>0.0</td><td>0.0</td><td>0.0</td><td>0.0</td><td>0.0</td><td>0.0</td></tr><tr><td>&quot;EPlORYSAT000373643&quot;</td><td>0.0</td><td>0.0</td><td>0.0</td><td>0.0</td><td>0.0</td><td>0.0</td><td>0.0</td><td>0.0</td><td>0.0</td><td>0.0</td><td>0.0</td><td>0.0</td><td>0.0</td><td>0.0</td><td>0.0</td><td>0.0</td><td>0.0</td><td>0.0</td><td>0.0</td><td>0.0</td><td>0.0</td><td>0.0</td><td>0.0</td><td>0.0</td><td>0.0</td><td>0.0</td><td>0.0</td><td>0.0</td><td>0.0</td><td>0.0</td><td>0.0</td><td>0.0</td><td>0.0</td><td>0.0</td><td>0.0</td><td>0.0</td><td>&hellip;</td><td>0.0</td><td>0.0</td><td>0.0</td><td>0.0</td><td>0.0</td><td>0.0</td><td>0.0</td><td>0.0</td><td>0.0</td><td>0.0</td><td>0.0</td><td>0.0</td><td>0.0</td><td>0.0</td><td>0.0</td><td>0.0</td><td>0.0</td><td>0.0</td><td>0.0</td><td>0.0</td><td>0.0</td><td>0.0</td><td>0.0</td><td>0.0</td><td>0.0</td><td>0.0</td><td>0.0</td><td>0.0</td><td>0.0</td><td>0.0</td><td>0.0</td><td>0.0</td><td>0.0</td><td>0.0</td><td>0.0</td><td>0.0</td><td>0.0</td></tr><tr><td>&quot;EPlORYSAT000373795&quot;</td><td>0.0</td><td>0.0</td><td>0.0</td><td>0.0</td><td>0.0</td><td>0.0</td><td>0.0</td><td>0.0</td><td>0.0</td><td>0.0</td><td>0.0</td><td>0.0</td><td>0.0</td><td>0.0</td><td>0.0</td><td>0.0</td><td>0.0</td><td>0.0</td><td>0.0</td><td>0.0</td><td>0.0</td><td>0.0</td><td>0.0</td><td>0.0</td><td>0.0</td><td>0.0</td><td>0.0</td><td>0.0</td><td>0.0</td><td>0.0</td><td>0.0</td><td>0.0</td><td>0.0</td><td>0.0</td><td>0.0</td><td>0.0</td><td>&hellip;</td><td>0.0</td><td>0.0</td><td>0.0</td><td>0.0</td><td>0.0</td><td>0.0</td><td>0.0</td><td>0.0</td><td>0.0</td><td>0.0</td><td>0.0</td><td>0.0</td><td>0.0</td><td>0.0</td><td>0.0</td><td>0.0</td><td>0.0</td><td>0.0</td><td>0.0</td><td>0.0</td><td>0.0</td><td>0.0</td><td>0.0</td><td>0.0</td><td>0.0</td><td>0.0</td><td>0.0</td><td>0.0</td><td>0.0</td><td>0.0</td><td>0.0</td><td>0.0</td><td>0.0</td><td>0.0</td><td>0.0</td><td>0.0</td><td>0.0</td></tr><tr><td>&quot;EPlORYSAT000373851&quot;</td><td>0.0</td><td>0.0</td><td>0.0</td><td>0.0</td><td>0.0</td><td>0.0</td><td>0.0</td><td>0.0</td><td>0.0</td><td>0.0</td><td>0.0</td><td>0.0</td><td>0.0</td><td>0.0</td><td>0.0</td><td>0.0</td><td>0.0</td><td>0.0</td><td>0.0</td><td>0.0</td><td>0.0</td><td>0.0</td><td>0.0</td><td>0.0</td><td>0.0</td><td>0.0</td><td>0.0</td><td>0.0</td><td>0.0</td><td>0.0</td><td>0.0</td><td>0.0</td><td>0.0</td><td>0.0</td><td>0.0</td><td>0.0</td><td>&hellip;</td><td>0.0</td><td>0.0</td><td>0.0</td><td>0.0</td><td>0.0</td><td>0.0</td><td>0.0</td><td>0.0</td><td>0.0</td><td>0.0</td><td>0.0</td><td>0.0</td><td>0.0</td><td>0.0</td><td>0.0</td><td>0.0</td><td>0.0</td><td>0.0</td><td>0.0</td><td>0.0</td><td>0.0</td><td>0.0</td><td>0.0</td><td>0.0</td><td>0.0</td><td>0.0</td><td>0.0</td><td>0.0</td><td>0.0</td><td>0.0</td><td>0.0</td><td>0.0</td><td>0.0</td><td>0.0</td><td>0.0</td><td>0.0</td><td>0.0</td></tr><tr><td>&hellip;</td><td>&hellip;</td><td>&hellip;</td><td>&hellip;</td><td>&hellip;</td><td>&hellip;</td><td>&hellip;</td><td>&hellip;</td><td>&hellip;</td><td>&hellip;</td><td>&hellip;</td><td>&hellip;</td><td>&hellip;</td><td>&hellip;</td><td>&hellip;</td><td>&hellip;</td><td>&hellip;</td><td>&hellip;</td><td>&hellip;</td><td>&hellip;</td><td>&hellip;</td><td>&hellip;</td><td>&hellip;</td><td>&hellip;</td><td>&hellip;</td><td>&hellip;</td><td>&hellip;</td><td>&hellip;</td><td>&hellip;</td><td>&hellip;</td><td>&hellip;</td><td>&hellip;</td><td>&hellip;</td><td>&hellip;</td><td>&hellip;</td><td>&hellip;</td><td>&hellip;</td><td>&hellip;</td><td>&hellip;</td><td>&hellip;</td><td>&hellip;</td><td>&hellip;</td><td>&hellip;</td><td>&hellip;</td><td>&hellip;</td><td>&hellip;</td><td>&hellip;</td><td>&hellip;</td><td>&hellip;</td><td>&hellip;</td><td>&hellip;</td><td>&hellip;</td><td>&hellip;</td><td>&hellip;</td><td>&hellip;</td><td>&hellip;</td><td>&hellip;</td><td>&hellip;</td><td>&hellip;</td><td>&hellip;</td><td>&hellip;</td><td>&hellip;</td><td>&hellip;</td><td>&hellip;</td><td>&hellip;</td><td>&hellip;</td><td>&hellip;</td><td>&hellip;</td><td>&hellip;</td><td>&hellip;</td><td>&hellip;</td><td>&hellip;</td><td>&hellip;</td><td>&hellip;</td><td>&hellip;</td></tr><tr><td>&quot;Os12g0641100&quot;</td><td>-1.597355</td><td>-0.182444</td><td>-1.005568</td><td>-0.96943</td><td>-0.306777</td><td>-0.019663</td><td>0.306857</td><td>-0.533776</td><td>0.97644</td><td>1.063849</td><td>0.73779</td><td>-0.592606</td><td>-0.12809</td><td>0.233517</td><td>-1.781034</td><td>-1.798032</td><td>-2.037687</td><td>-2.056564</td><td>-1.468324</td><td>-1.445996</td><td>-1.469566</td><td>-1.468242</td><td>-1.486557</td><td>-1.463875</td><td>-1.130588</td><td>-1.110039</td><td>2.383636</td><td>1.835755</td><td>1.891805</td><td>1.116426</td><td>0.446489</td><td>0.027826</td><td>1.375726</td><td>0.752694</td><td>0.183713</td><td>3.375931</td><td>&hellip;</td><td>0.326566</td><td>-0.941762</td><td>0.545439</td><td>-0.024205</td><td>-0.010303</td><td>0.128902</td><td>0.832483</td><td>0.429814</td><td>0.229859</td><td>1.083264</td><td>0.581036</td><td>0.042162</td><td>-0.306109</td><td>0.691726</td><td>0.188699</td><td>-0.075892</td><td>-0.055417</td><td>-0.471703</td><td>0.086138</td><td>0.053655</td><td>0.364473</td><td>1.472579</td><td>-0.929564</td><td>1.183242</td><td>-0.793123</td><td>-0.644995</td><td>-0.835762</td><td>-0.942221</td><td>-0.33613</td><td>-0.443433</td><td>-0.437424</td><td>0.461862</td><td>-0.037875</td><td>-0.732764</td><td>-0.840899</td><td>-0.040167</td><td>0.700114</td></tr><tr><td>&quot;Os12g0641200&quot;</td><td>0.0</td><td>0.0</td><td>0.0</td><td>0.0</td><td>0.0</td><td>0.0</td><td>0.0</td><td>0.0</td><td>0.428475</td><td>0.419918</td><td>-0.468223</td><td>-2.303323</td><td>-1.686478</td><td>-1.051559</td><td>1.10255</td><td>1.415824</td><td>1.304865</td><td>1.275355</td><td>0.275974</td><td>0.755503</td><td>0.833793</td><td>1.016025</td><td>-0.210114</td><td>-0.794507</td><td>1.496127</td><td>1.963693</td><td>0.0</td><td>0.0</td><td>0.44694</td><td>-2.154335</td><td>1.357168</td><td>2.483597</td><td>-0.166045</td><td>0.0</td><td>1.529357</td><td>-1.323204</td><td>&hellip;</td><td>0.70133</td><td>-0.850955</td><td>1.218808</td><td>-0.496836</td><td>0.326427</td><td>-0.419533</td><td>0.279994</td><td>0.479622</td><td>-1.702751</td><td>0.62965</td><td>-0.228191</td><td>-1.24304</td><td>-1.656276</td><td>1.449817</td><td>0.48167</td><td>0.269685</td><td>-1.048193</td><td>-0.44712</td><td>-1.060824</td><td>-1.093887</td><td>0.340488</td><td>0.623222</td><td>-1.555011</td><td>-0.09107</td><td>-0.426246</td><td>-0.14754</td><td>-1.769693</td><td>-0.444927</td><td>1.440015</td><td>-0.467505</td><td>0.555666</td><td>3.044708</td><td>3.612099</td><td>1.950122</td><td>0.990471</td><td>-0.779559</td><td>3.811665</td></tr><tr><td>&quot;Os12g0641300&quot;</td><td>0.0</td><td>0.0</td><td>0.0</td><td>0.0</td><td>-1.658885</td><td>0.0</td><td>0.0</td><td>0.0</td><td>0.85921</td><td>0.970602</td><td>0.723734</td><td>-1.460757</td><td>-1.030687</td><td>-0.960253</td><td>1.126871</td><td>1.059473</td><td>0.455777</td><td>0.414165</td><td>0.766663</td><td>0.672135</td><td>1.221099</td><td>1.148856</td><td>0.773248</td><td>0.839565</td><td>1.50833</td><td>1.421139</td><td>-1.98183</td><td>-2.244147</td><td>-2.78294</td><td>0.210812</td><td>0.695282</td><td>0.534503</td><td>0.378906</td><td>1.320541</td><td>0.640978</td><td>0.447622</td><td>&hellip;</td><td>0.185415</td><td>-1.112345</td><td>0.494359</td><td>-0.127347</td><td>-0.226473</td><td>-0.430695</td><td>0.637815</td><td>0.359032</td><td>0.242359</td><td>0.996719</td><td>0.558862</td><td>0.052718</td><td>-0.081599</td><td>1.256885</td><td>0.743819</td><td>0.326097</td><td>0.196236</td><td>-0.05275</td><td>0.210118</td><td>0.619947</td><td>-0.197635</td><td>0.872636</td><td>-0.880519</td><td>1.145409</td><td>-0.606972</td><td>0.179542</td><td>-0.470043</td><td>-0.868831</td><td>0.846761</td><td>0.461928</td><td>0.782489</td><td>0.503516</td><td>0.741866</td><td>0.259547</td><td>-1.406245</td><td>0.090679</td><td>0.533717</td></tr><tr><td>&quot;Os12g0641400&quot;</td><td>-0.607579</td><td>-0.081852</td><td>-0.55132</td><td>-0.273827</td><td>-0.736183</td><td>0.593226</td><td>-0.072001</td><td>-1.375669</td><td>0.16163</td><td>0.0966</td><td>0.000262</td><td>-0.071721</td><td>0.366128</td><td>0.431919</td><td>-0.363396</td><td>-0.351445</td><td>-0.482234</td><td>-0.491178</td><td>-0.534592</td><td>-0.515706</td><td>-0.29017</td><td>-0.311065</td><td>-0.791286</td><td>-0.784472</td><td>-0.150455</td><td>-0.144155</td><td>1.317663</td><td>1.742348</td><td>1.369448</td><td>0.381592</td><td>0.296049</td><td>-0.106148</td><td>0.272751</td><td>0.391553</td><td>-0.021781</td><td>0.797295</td><td>&hellip;</td><td>0.201622</td><td>-1.31533</td><td>0.267191</td><td>-0.144452</td><td>-0.410057</td><td>-0.87325</td><td>-0.01861</td><td>-0.251743</td><td>-0.144741</td><td>0.383548</td><td>0.023058</td><td>-0.483653</td><td>-0.53804</td><td>0.384221</td><td>-0.029438</td><td>-0.171107</td><td>-0.465679</td><td>-0.746913</td><td>-0.349029</td><td>-0.128828</td><td>-0.589906</td><td>0.426119</td><td>-1.174158</td><td>0.774337</td><td>-1.227573</td><td>-0.801373</td><td>-1.215192</td><td>-1.213036</td><td>-0.083244</td><td>-0.352626</td><td>-0.185656</td><td>-0.440948</td><td>0.032606</td><td>-1.555398</td><td>-1.406316</td><td>-0.872992</td><td>0.033683</td></tr><tr><td>&quot;Os12g0641500&quot;</td><td>-0.227692</td><td>0.088757</td><td>-0.282837</td><td>0.11369</td><td>-0.1574</td><td>-0.273167</td><td>0.235962</td><td>-0.19837</td><td>0.844095</td><td>0.898757</td><td>0.574476</td><td>0.4745</td><td>1.137203</td><td>1.524516</td><td>-1.27958</td><td>-1.253908</td><td>-1.521566</td><td>-1.54147</td><td>-1.057087</td><td>-1.016219</td><td>-0.844973</td><td>-0.84515</td><td>-1.103341</td><td>-1.10113</td><td>-0.628972</td><td>-0.614669</td><td>3.18413</td><td>2.421369</td><td>3.516373</td><td>1.56319</td><td>0.209215</td><td>0.33309</td><td>1.294919</td><td>0.51309</td><td>0.403345</td><td>2.183319</td><td>&hellip;</td><td>0.291563</td><td>-1.25877</td><td>0.343223</td><td>-0.248929</td><td>0.225378</td><td>0.154289</td><td>0.963017</td><td>0.556077</td><td>0.059236</td><td>0.905779</td><td>0.43824</td><td>-0.24398</td><td>-0.226828</td><td>0.776774</td><td>0.314525</td><td>0.008418</td><td>-0.043228</td><td>-0.448013</td><td>-0.000234</td><td>0.127968</td><td>0.370698</td><td>1.374387</td><td>-1.053462</td><td>1.211248</td><td>-0.9642</td><td>-0.036108</td><td>-0.909591</td><td>-0.899176</td><td>0.710363</td><td>0.129835</td><td>-0.050915</td><td>0.362748</td><td>0.323414</td><td>-0.685138</td><td>0.158236</td><td>0.065143</td><td>0.676762</td></tr></tbody></table></div>"
      ],
      "text/plain": [
       "shape: (35_691, 361)\n",
       "┌───────────┬───────────┬───────────┬───────────┬───┬───────────┬───────────┬───────────┬──────────┐\n",
       "│ GENEID    ┆ SRR227414 ┆ SRR227414 ┆ SRR227414 ┆ … ┆ SRR230518 ┆ SRR230518 ┆ SRR230518 ┆ SRR23051 │\n",
       "│ ---       ┆ 60        ┆ 61        ┆ 62        ┆   ┆ 77        ┆ 76        ┆ 75        ┆ 874      │\n",
       "│ str       ┆ ---       ┆ ---       ┆ ---       ┆   ┆ ---       ┆ ---       ┆ ---       ┆ ---      │\n",
       "│           ┆ f64       ┆ f64       ┆ f64       ┆   ┆ f64       ┆ f64       ┆ f64       ┆ f64      │\n",
       "╞═══════════╪═══════════╪═══════════╪═══════════╪═══╪═══════════╪═══════════╪═══════════╪══════════╡\n",
       "│ EPlORYSAT ┆ 0.0       ┆ 0.0       ┆ 6.000069  ┆ … ┆ 0.0       ┆ 0.0       ┆ 0.0       ┆ 0.0      │\n",
       "│ 000373610 ┆           ┆           ┆           ┆   ┆           ┆           ┆           ┆          │\n",
       "│ EPlORYSAT ┆ 0.0       ┆ 0.0       ┆ 0.0       ┆ … ┆ 0.0       ┆ 0.0       ┆ 0.0       ┆ 0.0      │\n",
       "│ 000373621 ┆           ┆           ┆           ┆   ┆           ┆           ┆           ┆          │\n",
       "│ EPlORYSAT ┆ 0.0       ┆ 0.0       ┆ 0.0       ┆ … ┆ 0.0       ┆ 0.0       ┆ 0.0       ┆ 0.0      │\n",
       "│ 000373643 ┆           ┆           ┆           ┆   ┆           ┆           ┆           ┆          │\n",
       "│ EPlORYSAT ┆ 0.0       ┆ 0.0       ┆ 0.0       ┆ … ┆ 0.0       ┆ 0.0       ┆ 0.0       ┆ 0.0      │\n",
       "│ 000373795 ┆           ┆           ┆           ┆   ┆           ┆           ┆           ┆          │\n",
       "│ EPlORYSAT ┆ 0.0       ┆ 0.0       ┆ 0.0       ┆ … ┆ 0.0       ┆ 0.0       ┆ 0.0       ┆ 0.0      │\n",
       "│ 000373851 ┆           ┆           ┆           ┆   ┆           ┆           ┆           ┆          │\n",
       "│ …         ┆ …         ┆ …         ┆ …         ┆ … ┆ …         ┆ …         ┆ …         ┆ …        │\n",
       "│ Os12g0641 ┆ -1.597355 ┆ -0.182444 ┆ -1.005568 ┆ … ┆ -0.732764 ┆ -0.840899 ┆ -0.040167 ┆ 0.700114 │\n",
       "│ 100       ┆           ┆           ┆           ┆   ┆           ┆           ┆           ┆          │\n",
       "│ Os12g0641 ┆ 0.0       ┆ 0.0       ┆ 0.0       ┆ … ┆ 1.950122  ┆ 0.990471  ┆ -0.779559 ┆ 3.811665 │\n",
       "│ 200       ┆           ┆           ┆           ┆   ┆           ┆           ┆           ┆          │\n",
       "│ Os12g0641 ┆ 0.0       ┆ 0.0       ┆ 0.0       ┆ … ┆ 0.259547  ┆ -1.406245 ┆ 0.090679  ┆ 0.533717 │\n",
       "│ 300       ┆           ┆           ┆           ┆   ┆           ┆           ┆           ┆          │\n",
       "│ Os12g0641 ┆ -0.607579 ┆ -0.081852 ┆ -0.55132  ┆ … ┆ -1.555398 ┆ -1.406316 ┆ -0.872992 ┆ 0.033683 │\n",
       "│ 400       ┆           ┆           ┆           ┆   ┆           ┆           ┆           ┆          │\n",
       "│ Os12g0641 ┆ -0.227692 ┆ 0.088757  ┆ -0.282837 ┆ … ┆ -0.685138 ┆ 0.158236  ┆ 0.065143  ┆ 0.676762 │\n",
       "│ 500       ┆           ┆           ┆           ┆   ┆           ┆           ┆           ┆          │\n",
       "└───────────┴───────────┴───────────┴───────────┴───┴───────────┴───────────┴───────────┴──────────┘"
      ]
     },
     "metadata": {},
     "output_type": "display_data"
    }
   ],
   "source": [
    "# log2 transformation\n",
    "HNratiolog2 = HNratio.select(\n",
    "    [pl.col('GENEID')] +\n",
    "    [(pl.col(column).log(base=2)).alias(column) for column in HNratio.columns if column != 'GENEID']\n",
    "    )\n",
    "display(HNratiolog2)"
   ]
  },
  {
   "cell_type": "markdown",
   "metadata": {},
   "source": [
    "### Save result "
   ]
  },
  {
   "cell_type": "code",
   "execution_count": 7,
   "metadata": {},
   "outputs": [],
   "source": [
    "HNratio.write_csv(\n",
    "    f\"../Data/05_HNratio/HNratio_rice_{now.strftime('%y%m%d')}_all.csv\", \n",
    "    separator=\",\"\n",
    ")\n",
    "HNratiolog2.write_csv(\n",
    "    f\"../Data/05_HNratio/HNratiolog2_rice_{now.strftime('%y%m%d')}_all.csv\",\n",
    "    separator=\",\"\n",
    ")"
   ]
  }
 ],
 "metadata": {
  "kernelspec": {
   "display_name": "Python 3",
   "language": "python",
   "name": "python3"
  },
  "language_info": {
   "codemirror_mode": {
    "name": "ipython",
    "version": 3
   },
   "file_extension": ".py",
   "mimetype": "text/x-python",
   "name": "python",
   "nbconvert_exporter": "python",
   "pygments_lexer": "ipython3",
   "version": "3.11.4"
  }
 },
 "nbformat": 4,
 "nbformat_minor": 4
}

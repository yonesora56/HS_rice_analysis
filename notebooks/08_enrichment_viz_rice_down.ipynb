{
 "cells": [
  {
   "cell_type": "code",
   "execution_count": 1,
   "metadata": {},
   "outputs": [],
   "source": [
    "import numpy as np\n",
    "import matplotlib.pyplot as plt\n",
    "import matplotlib.colors as mcolors\n",
    "import seaborn as sns\n",
    "import polars as pl\n",
    "import ipywidgets as widgets\n",
    "from ipywidgets import interactive"
   ]
  },
  {
   "cell_type": "code",
   "execution_count": 2,
   "metadata": {
    "tags": [
     "parameters"
    ]
   },
   "outputs": [],
   "source": [
    "enrichment_result_file_path = \"../Data/09_goatools/result/rice_go_enrichment_down_modified.tsv\"\n"
   ]
  },
  {
   "cell_type": "markdown",
   "metadata": {},
   "source": [
    "### (1) Data pre-processing"
   ]
  },
  {
   "cell_type": "code",
   "execution_count": 3,
   "metadata": {},
   "outputs": [
    {
     "data": {
      "text/html": [
       "<div><style>\n",
       ".dataframe > thead > tr,\n",
       ".dataframe > tbody > tr {\n",
       "  text-align: right;\n",
       "  white-space: pre-wrap;\n",
       "}\n",
       "</style>\n",
       "<small>shape: (17, 11)</small><table border=\"1\" class=\"dataframe\"><thead><tr><th>GO</th><th>GO domain</th><th>enrichment type</th><th>GO term name</th><th>ratio_in_study</th><th>ratio_in_pop</th><th>p_uncorrected</th><th>depth</th><th>study_count</th><th>p_fdr_bh</th><th>study_items</th></tr><tr><td>str</td><td>str</td><td>str</td><td>str</td><td>str</td><td>str</td><td>f64</td><td>i64</td><td>i64</td><td>f64</td><td>str</td></tr></thead><tbody><tr><td>&quot;GO:0006879&quot;</td><td>&quot;BP&quot;</td><td>&quot;e&quot;</td><td>&quot;intracellular iron ion homeost…</td><td>&quot;7/370&quot;</td><td>&quot;37/38993&quot;</td><td>5.2745e-8</td><td>6</td><td>7</td><td>0.000231</td><td>&quot;Os01g0689451, Os02g0649900, Os…</td></tr><tr><td>&quot;GO:0006826&quot;</td><td>&quot;BP&quot;</td><td>&quot;e&quot;</td><td>&quot;iron ion transport&quot;</td><td>&quot;6/370&quot;</td><td>&quot;31/38993&quot;</td><td>4.2240e-7</td><td>8</td><td>6</td><td>0.000678</td><td>&quot;Os02g0649900, Os02g0650300, Os…</td></tr><tr><td>&quot;GO:0060586&quot;</td><td>&quot;BP&quot;</td><td>&quot;e&quot;</td><td>&quot;multicellular organismal-level…</td><td>&quot;5/370&quot;</td><td>&quot;24/38993&quot;</td><td>0.000003</td><td>5</td><td>5</td><td>0.003002</td><td>&quot;Os01g0689451, Os03g0667300, Os…</td></tr><tr><td>&quot;GO:0140962&quot;</td><td>&quot;BP&quot;</td><td>&quot;e&quot;</td><td>&quot;multicellular organismal-level…</td><td>&quot;5/370&quot;</td><td>&quot;26/38993&quot;</td><td>0.000004</td><td>3</td><td>5</td><td>0.003659</td><td>&quot;Os01g0689451, Os03g0667300, Os…</td></tr><tr><td>&quot;GO:0048871&quot;</td><td>&quot;BP&quot;</td><td>&quot;e&quot;</td><td>&quot;multicellular organismal-level…</td><td>&quot;5/370&quot;</td><td>&quot;28/38993&quot;</td><td>0.000006</td><td>2</td><td>5</td><td>0.004083</td><td>&quot;Os01g0689451, Os03g0667300, Os…</td></tr><tr><td>&hellip;</td><td>&hellip;</td><td>&hellip;</td><td>&hellip;</td><td>&hellip;</td><td>&hellip;</td><td>&hellip;</td><td>&hellip;</td><td>&hellip;</td><td>&hellip;</td><td>&hellip;</td></tr><tr><td>&quot;GO:0046906&quot;</td><td>&quot;MF&quot;</td><td>&quot;e&quot;</td><td>&quot;tetrapyrrole binding&quot;</td><td>&quot;19/370&quot;</td><td>&quot;563/38993&quot;</td><td>0.000002</td><td>2</td><td>19</td><td>0.001536</td><td>&quot;Os01g0627400, Os01g0854800, Os…</td></tr><tr><td>&quot;GO:0016705&quot;</td><td>&quot;MF&quot;</td><td>&quot;e&quot;</td><td>&quot;oxidoreductase activity, actin…</td><td>&quot;17/370&quot;</td><td>&quot;484/38993&quot;</td><td>0.000005</td><td>3</td><td>17</td><td>0.002474</td><td>&quot;Os01g0627400, Os01g0854800, Os…</td></tr><tr><td>&quot;GO:0005506&quot;</td><td>&quot;MF&quot;</td><td>&quot;e&quot;</td><td>&quot;iron ion binding&quot;</td><td>&quot;16/370&quot;</td><td>&quot;443/38993&quot;</td><td>0.000006</td><td>7</td><td>16</td><td>0.002767</td><td>&quot;Os01g0627400, Os01g0854800, Os…</td></tr><tr><td>&quot;GO:0016491&quot;</td><td>&quot;MF&quot;</td><td>&quot;e&quot;</td><td>&quot;oxidoreductase activity&quot;</td><td>&quot;34/370&quot;</td><td>&quot;1620/38993&quot;</td><td>0.000018</td><td>2</td><td>34</td><td>0.006561</td><td>&quot;Os01g0591300, Os01g0627400, Os…</td></tr><tr><td>&quot;GO:0010333&quot;</td><td>&quot;MF&quot;</td><td>&quot;e&quot;</td><td>&quot;terpene synthase activity&quot;</td><td>&quot;5/370&quot;</td><td>&quot;37/38993&quot;</td><td>0.000025</td><td>5</td><td>5</td><td>0.008206</td><td>&quot;Os02g0121700, Os02g0571100, Os…</td></tr></tbody></table></div>"
      ],
      "text/plain": [
       "shape: (17, 11)\n",
       "┌────────────┬───────────┬────────────┬────────────┬───┬───────┬────────────┬──────────┬───────────┐\n",
       "│ GO         ┆ GO domain ┆ enrichment ┆ GO term    ┆ … ┆ depth ┆ study_coun ┆ p_fdr_bh ┆ study_ite │\n",
       "│ ---        ┆ ---       ┆ type       ┆ name       ┆   ┆ ---   ┆ t          ┆ ---      ┆ ms        │\n",
       "│ str        ┆ str       ┆ ---        ┆ ---        ┆   ┆ i64   ┆ ---        ┆ f64      ┆ ---       │\n",
       "│            ┆           ┆ str        ┆ str        ┆   ┆       ┆ i64        ┆          ┆ str       │\n",
       "╞════════════╪═══════════╪════════════╪════════════╪═══╪═══════╪════════════╪══════════╪═══════════╡\n",
       "│ GO:0006879 ┆ BP        ┆ e          ┆ intracellu ┆ … ┆ 6     ┆ 7          ┆ 0.000231 ┆ Os01g0689 │\n",
       "│            ┆           ┆            ┆ lar iron   ┆   ┆       ┆            ┆          ┆ 451, Os02 │\n",
       "│            ┆           ┆            ┆ ion        ┆   ┆       ┆            ┆          ┆ g0649900, │\n",
       "│            ┆           ┆            ┆ homeost…   ┆   ┆       ┆            ┆          ┆ Os…       │\n",
       "│ GO:0006826 ┆ BP        ┆ e          ┆ iron ion   ┆ … ┆ 8     ┆ 6          ┆ 0.000678 ┆ Os02g0649 │\n",
       "│            ┆           ┆            ┆ transport  ┆   ┆       ┆            ┆          ┆ 900, Os02 │\n",
       "│            ┆           ┆            ┆            ┆   ┆       ┆            ┆          ┆ g0650300, │\n",
       "│            ┆           ┆            ┆            ┆   ┆       ┆            ┆          ┆ Os…       │\n",
       "│ GO:0060586 ┆ BP        ┆ e          ┆ multicellu ┆ … ┆ 5     ┆ 5          ┆ 0.003002 ┆ Os01g0689 │\n",
       "│            ┆           ┆            ┆ lar organi ┆   ┆       ┆            ┆          ┆ 451, Os03 │\n",
       "│            ┆           ┆            ┆ smal-level ┆   ┆       ┆            ┆          ┆ g0667300, │\n",
       "│            ┆           ┆            ┆ …          ┆   ┆       ┆            ┆          ┆ Os…       │\n",
       "│ GO:0140962 ┆ BP        ┆ e          ┆ multicellu ┆ … ┆ 3     ┆ 5          ┆ 0.003659 ┆ Os01g0689 │\n",
       "│            ┆           ┆            ┆ lar organi ┆   ┆       ┆            ┆          ┆ 451, Os03 │\n",
       "│            ┆           ┆            ┆ smal-level ┆   ┆       ┆            ┆          ┆ g0667300, │\n",
       "│            ┆           ┆            ┆ …          ┆   ┆       ┆            ┆          ┆ Os…       │\n",
       "│ GO:0048871 ┆ BP        ┆ e          ┆ multicellu ┆ … ┆ 2     ┆ 5          ┆ 0.004083 ┆ Os01g0689 │\n",
       "│            ┆           ┆            ┆ lar organi ┆   ┆       ┆            ┆          ┆ 451, Os03 │\n",
       "│            ┆           ┆            ┆ smal-level ┆   ┆       ┆            ┆          ┆ g0667300, │\n",
       "│            ┆           ┆            ┆ …          ┆   ┆       ┆            ┆          ┆ Os…       │\n",
       "│ …          ┆ …         ┆ …          ┆ …          ┆ … ┆ …     ┆ …          ┆ …        ┆ …         │\n",
       "│ GO:0046906 ┆ MF        ┆ e          ┆ tetrapyrro ┆ … ┆ 2     ┆ 19         ┆ 0.001536 ┆ Os01g0627 │\n",
       "│            ┆           ┆            ┆ le binding ┆   ┆       ┆            ┆          ┆ 400, Os01 │\n",
       "│            ┆           ┆            ┆            ┆   ┆       ┆            ┆          ┆ g0854800, │\n",
       "│            ┆           ┆            ┆            ┆   ┆       ┆            ┆          ┆ Os…       │\n",
       "│ GO:0016705 ┆ MF        ┆ e          ┆ oxidoreduc ┆ … ┆ 3     ┆ 17         ┆ 0.002474 ┆ Os01g0627 │\n",
       "│            ┆           ┆            ┆ tase       ┆   ┆       ┆            ┆          ┆ 400, Os01 │\n",
       "│            ┆           ┆            ┆ activity,  ┆   ┆       ┆            ┆          ┆ g0854800, │\n",
       "│            ┆           ┆            ┆ actin…     ┆   ┆       ┆            ┆          ┆ Os…       │\n",
       "│ GO:0005506 ┆ MF        ┆ e          ┆ iron ion   ┆ … ┆ 7     ┆ 16         ┆ 0.002767 ┆ Os01g0627 │\n",
       "│            ┆           ┆            ┆ binding    ┆   ┆       ┆            ┆          ┆ 400, Os01 │\n",
       "│            ┆           ┆            ┆            ┆   ┆       ┆            ┆          ┆ g0854800, │\n",
       "│            ┆           ┆            ┆            ┆   ┆       ┆            ┆          ┆ Os…       │\n",
       "│ GO:0016491 ┆ MF        ┆ e          ┆ oxidoreduc ┆ … ┆ 2     ┆ 34         ┆ 0.006561 ┆ Os01g0591 │\n",
       "│            ┆           ┆            ┆ tase       ┆   ┆       ┆            ┆          ┆ 300, Os01 │\n",
       "│            ┆           ┆            ┆ activity   ┆   ┆       ┆            ┆          ┆ g0627400, │\n",
       "│            ┆           ┆            ┆            ┆   ┆       ┆            ┆          ┆ Os…       │\n",
       "│ GO:0010333 ┆ MF        ┆ e          ┆ terpene    ┆ … ┆ 5     ┆ 5          ┆ 0.008206 ┆ Os02g0121 │\n",
       "│            ┆           ┆            ┆ synthase   ┆   ┆       ┆            ┆          ┆ 700, Os02 │\n",
       "│            ┆           ┆            ┆ activity   ┆   ┆       ┆            ┆          ┆ g0571100, │\n",
       "│            ┆           ┆            ┆            ┆   ┆       ┆            ┆          ┆ Os…       │\n",
       "└────────────┴───────────┴────────────┴────────────┴───┴───────┴────────────┴──────────┴───────────┘"
      ]
     },
     "metadata": {},
     "output_type": "display_data"
    }
   ],
   "source": [
    "#enrichment result (using GOA tools)\n",
    "enrichment_result = pl.read_csv(\n",
    "    enrichment_result_file_path,\n",
    "    separator=\"\\t\"\n",
    ").rename(\n",
    "    {\n",
    "        \"# GO\": \"GO\",\n",
    "        \"NS\": \"GO domain\",\n",
    "        \"enrichment\" : \"enrichment type\",\n",
    "        \"name\" : \"GO term name\"\n",
    "    }\n",
    ").filter(\n",
    "    pl.col(\"enrichment type\") == \"e\"\n",
    ")\n",
    "\n",
    "display(enrichment_result)"
   ]
  },
  {
   "cell_type": "markdown",
   "metadata": {},
   "source": [
    "### (2) Fold enrichment"
   ]
  },
  {
   "cell_type": "code",
   "execution_count": 4,
   "metadata": {},
   "outputs": [
    {
     "data": {
      "text/html": [
       "<div><style>\n",
       ".dataframe > thead > tr,\n",
       ".dataframe > tbody > tr {\n",
       "  text-align: right;\n",
       "  white-space: pre-wrap;\n",
       "}\n",
       "</style>\n",
       "<small>shape: (17, 13)</small><table border=\"1\" class=\"dataframe\"><thead><tr><th>GO</th><th>GO domain</th><th>enrichment type</th><th>GO term name</th><th>ratio_in_study</th><th>ratio_in_pop</th><th>p_uncorrected</th><th>depth</th><th>study_count</th><th>p_fdr_bh</th><th>study_items</th><th>ratio in study</th><th>ratio in population</th></tr><tr><td>str</td><td>str</td><td>str</td><td>str</td><td>str</td><td>str</td><td>f64</td><td>i64</td><td>i64</td><td>f64</td><td>str</td><td>f64</td><td>f64</td></tr></thead><tbody><tr><td>&quot;GO:0006879&quot;</td><td>&quot;BP&quot;</td><td>&quot;e&quot;</td><td>&quot;intracellular iron ion homeost…</td><td>&quot;7/370&quot;</td><td>&quot;37/38993&quot;</td><td>5.2745e-8</td><td>6</td><td>7</td><td>0.000231</td><td>&quot;Os01g0689451, Os02g0649900, Os…</td><td>0.018919</td><td>0.000949</td></tr><tr><td>&quot;GO:0006826&quot;</td><td>&quot;BP&quot;</td><td>&quot;e&quot;</td><td>&quot;iron ion transport&quot;</td><td>&quot;6/370&quot;</td><td>&quot;31/38993&quot;</td><td>4.2240e-7</td><td>8</td><td>6</td><td>0.000678</td><td>&quot;Os02g0649900, Os02g0650300, Os…</td><td>0.016216</td><td>0.000795</td></tr><tr><td>&quot;GO:0060586&quot;</td><td>&quot;BP&quot;</td><td>&quot;e&quot;</td><td>&quot;multicellular organismal-level…</td><td>&quot;5/370&quot;</td><td>&quot;24/38993&quot;</td><td>0.000003</td><td>5</td><td>5</td><td>0.003002</td><td>&quot;Os01g0689451, Os03g0667300, Os…</td><td>0.013514</td><td>0.000615</td></tr><tr><td>&quot;GO:0140962&quot;</td><td>&quot;BP&quot;</td><td>&quot;e&quot;</td><td>&quot;multicellular organismal-level…</td><td>&quot;5/370&quot;</td><td>&quot;26/38993&quot;</td><td>0.000004</td><td>3</td><td>5</td><td>0.003659</td><td>&quot;Os01g0689451, Os03g0667300, Os…</td><td>0.013514</td><td>0.000667</td></tr><tr><td>&quot;GO:0048871&quot;</td><td>&quot;BP&quot;</td><td>&quot;e&quot;</td><td>&quot;multicellular organismal-level…</td><td>&quot;5/370&quot;</td><td>&quot;28/38993&quot;</td><td>0.000006</td><td>2</td><td>5</td><td>0.004083</td><td>&quot;Os01g0689451, Os03g0667300, Os…</td><td>0.013514</td><td>0.000718</td></tr><tr><td>&hellip;</td><td>&hellip;</td><td>&hellip;</td><td>&hellip;</td><td>&hellip;</td><td>&hellip;</td><td>&hellip;</td><td>&hellip;</td><td>&hellip;</td><td>&hellip;</td><td>&hellip;</td><td>&hellip;</td><td>&hellip;</td></tr><tr><td>&quot;GO:0046906&quot;</td><td>&quot;MF&quot;</td><td>&quot;e&quot;</td><td>&quot;tetrapyrrole binding&quot;</td><td>&quot;19/370&quot;</td><td>&quot;563/38993&quot;</td><td>0.000002</td><td>2</td><td>19</td><td>0.001536</td><td>&quot;Os01g0627400, Os01g0854800, Os…</td><td>0.051351</td><td>0.014438</td></tr><tr><td>&quot;GO:0016705&quot;</td><td>&quot;MF&quot;</td><td>&quot;e&quot;</td><td>&quot;oxidoreductase activity, actin…</td><td>&quot;17/370&quot;</td><td>&quot;484/38993&quot;</td><td>0.000005</td><td>3</td><td>17</td><td>0.002474</td><td>&quot;Os01g0627400, Os01g0854800, Os…</td><td>0.045946</td><td>0.012412</td></tr><tr><td>&quot;GO:0005506&quot;</td><td>&quot;MF&quot;</td><td>&quot;e&quot;</td><td>&quot;iron ion binding&quot;</td><td>&quot;16/370&quot;</td><td>&quot;443/38993&quot;</td><td>0.000006</td><td>7</td><td>16</td><td>0.002767</td><td>&quot;Os01g0627400, Os01g0854800, Os…</td><td>0.043243</td><td>0.011361</td></tr><tr><td>&quot;GO:0016491&quot;</td><td>&quot;MF&quot;</td><td>&quot;e&quot;</td><td>&quot;oxidoreductase activity&quot;</td><td>&quot;34/370&quot;</td><td>&quot;1620/38993&quot;</td><td>0.000018</td><td>2</td><td>34</td><td>0.006561</td><td>&quot;Os01g0591300, Os01g0627400, Os…</td><td>0.091892</td><td>0.041546</td></tr><tr><td>&quot;GO:0010333&quot;</td><td>&quot;MF&quot;</td><td>&quot;e&quot;</td><td>&quot;terpene synthase activity&quot;</td><td>&quot;5/370&quot;</td><td>&quot;37/38993&quot;</td><td>0.000025</td><td>5</td><td>5</td><td>0.008206</td><td>&quot;Os02g0121700, Os02g0571100, Os…</td><td>0.013514</td><td>0.000949</td></tr></tbody></table></div>"
      ],
      "text/plain": [
       "shape: (17, 13)\n",
       "┌───────────┬───────────┬───────────┬───────────┬───┬──────────┬───────────┬───────────┬───────────┐\n",
       "│ GO        ┆ GO domain ┆ enrichmen ┆ GO term   ┆ … ┆ p_fdr_bh ┆ study_ite ┆ ratio in  ┆ ratio in  │\n",
       "│ ---       ┆ ---       ┆ t type    ┆ name      ┆   ┆ ---      ┆ ms        ┆ study     ┆ populatio │\n",
       "│ str       ┆ str       ┆ ---       ┆ ---       ┆   ┆ f64      ┆ ---       ┆ ---       ┆ n         │\n",
       "│           ┆           ┆ str       ┆ str       ┆   ┆          ┆ str       ┆ f64       ┆ ---       │\n",
       "│           ┆           ┆           ┆           ┆   ┆          ┆           ┆           ┆ f64       │\n",
       "╞═══════════╪═══════════╪═══════════╪═══════════╪═══╪══════════╪═══════════╪═══════════╪═══════════╡\n",
       "│ GO:000687 ┆ BP        ┆ e         ┆ intracell ┆ … ┆ 0.000231 ┆ Os01g0689 ┆ 0.018919  ┆ 0.000949  │\n",
       "│ 9         ┆           ┆           ┆ ular iron ┆   ┆          ┆ 451, Os02 ┆           ┆           │\n",
       "│           ┆           ┆           ┆ ion       ┆   ┆          ┆ g0649900, ┆           ┆           │\n",
       "│           ┆           ┆           ┆ homeost…  ┆   ┆          ┆ Os…       ┆           ┆           │\n",
       "│ GO:000682 ┆ BP        ┆ e         ┆ iron ion  ┆ … ┆ 0.000678 ┆ Os02g0649 ┆ 0.016216  ┆ 0.000795  │\n",
       "│ 6         ┆           ┆           ┆ transport ┆   ┆          ┆ 900, Os02 ┆           ┆           │\n",
       "│           ┆           ┆           ┆           ┆   ┆          ┆ g0650300, ┆           ┆           │\n",
       "│           ┆           ┆           ┆           ┆   ┆          ┆ Os…       ┆           ┆           │\n",
       "│ GO:006058 ┆ BP        ┆ e         ┆ multicell ┆ … ┆ 0.003002 ┆ Os01g0689 ┆ 0.013514  ┆ 0.000615  │\n",
       "│ 6         ┆           ┆           ┆ ular orga ┆   ┆          ┆ 451, Os03 ┆           ┆           │\n",
       "│           ┆           ┆           ┆ nismal-le ┆   ┆          ┆ g0667300, ┆           ┆           │\n",
       "│           ┆           ┆           ┆ vel…      ┆   ┆          ┆ Os…       ┆           ┆           │\n",
       "│ GO:014096 ┆ BP        ┆ e         ┆ multicell ┆ … ┆ 0.003659 ┆ Os01g0689 ┆ 0.013514  ┆ 0.000667  │\n",
       "│ 2         ┆           ┆           ┆ ular orga ┆   ┆          ┆ 451, Os03 ┆           ┆           │\n",
       "│           ┆           ┆           ┆ nismal-le ┆   ┆          ┆ g0667300, ┆           ┆           │\n",
       "│           ┆           ┆           ┆ vel…      ┆   ┆          ┆ Os…       ┆           ┆           │\n",
       "│ GO:004887 ┆ BP        ┆ e         ┆ multicell ┆ … ┆ 0.004083 ┆ Os01g0689 ┆ 0.013514  ┆ 0.000718  │\n",
       "│ 1         ┆           ┆           ┆ ular orga ┆   ┆          ┆ 451, Os03 ┆           ┆           │\n",
       "│           ┆           ┆           ┆ nismal-le ┆   ┆          ┆ g0667300, ┆           ┆           │\n",
       "│           ┆           ┆           ┆ vel…      ┆   ┆          ┆ Os…       ┆           ┆           │\n",
       "│ …         ┆ …         ┆ …         ┆ …         ┆ … ┆ …        ┆ …         ┆ …         ┆ …         │\n",
       "│ GO:004690 ┆ MF        ┆ e         ┆ tetrapyrr ┆ … ┆ 0.001536 ┆ Os01g0627 ┆ 0.051351  ┆ 0.014438  │\n",
       "│ 6         ┆           ┆           ┆ ole       ┆   ┆          ┆ 400, Os01 ┆           ┆           │\n",
       "│           ┆           ┆           ┆ binding   ┆   ┆          ┆ g0854800, ┆           ┆           │\n",
       "│           ┆           ┆           ┆           ┆   ┆          ┆ Os…       ┆           ┆           │\n",
       "│ GO:001670 ┆ MF        ┆ e         ┆ oxidoredu ┆ … ┆ 0.002474 ┆ Os01g0627 ┆ 0.045946  ┆ 0.012412  │\n",
       "│ 5         ┆           ┆           ┆ ctase     ┆   ┆          ┆ 400, Os01 ┆           ┆           │\n",
       "│           ┆           ┆           ┆ activity, ┆   ┆          ┆ g0854800, ┆           ┆           │\n",
       "│           ┆           ┆           ┆ actin…    ┆   ┆          ┆ Os…       ┆           ┆           │\n",
       "│ GO:000550 ┆ MF        ┆ e         ┆ iron ion  ┆ … ┆ 0.002767 ┆ Os01g0627 ┆ 0.043243  ┆ 0.011361  │\n",
       "│ 6         ┆           ┆           ┆ binding   ┆   ┆          ┆ 400, Os01 ┆           ┆           │\n",
       "│           ┆           ┆           ┆           ┆   ┆          ┆ g0854800, ┆           ┆           │\n",
       "│           ┆           ┆           ┆           ┆   ┆          ┆ Os…       ┆           ┆           │\n",
       "│ GO:001649 ┆ MF        ┆ e         ┆ oxidoredu ┆ … ┆ 0.006561 ┆ Os01g0591 ┆ 0.091892  ┆ 0.041546  │\n",
       "│ 1         ┆           ┆           ┆ ctase     ┆   ┆          ┆ 300, Os01 ┆           ┆           │\n",
       "│           ┆           ┆           ┆ activity  ┆   ┆          ┆ g0627400, ┆           ┆           │\n",
       "│           ┆           ┆           ┆           ┆   ┆          ┆ Os…       ┆           ┆           │\n",
       "│ GO:001033 ┆ MF        ┆ e         ┆ terpene   ┆ … ┆ 0.008206 ┆ Os02g0121 ┆ 0.013514  ┆ 0.000949  │\n",
       "│ 3         ┆           ┆           ┆ synthase  ┆   ┆          ┆ 700, Os02 ┆           ┆           │\n",
       "│           ┆           ┆           ┆ activity  ┆   ┆          ┆ g0571100, ┆           ┆           │\n",
       "│           ┆           ┆           ┆           ┆   ┆          ┆ Os…       ┆           ┆           │\n",
       "└───────────┴───────────┴───────────┴───────────┴───┴──────────┴───────────┴───────────┴───────────┘"
      ]
     },
     "metadata": {},
     "output_type": "display_data"
    }
   ],
   "source": [
    "def calculate_ratio(value: str) -> float:\n",
    "    numerator, denominator = value.split('/')\n",
    "    return int(numerator) / int(denominator)\n",
    "\n",
    "enrichment_result = enrichment_result.with_columns(\n",
    "    pl.col(\"ratio_in_study\").map_elements(\n",
    "        calculate_ratio,return_dtype=pl.Float64\n",
    "    ).alias(\"ratio in study\"),\n",
    "    pl.col(\"ratio_in_pop\").map_elements(\n",
    "        calculate_ratio,return_dtype=pl.Float64\n",
    "    ).alias(\"ratio in population\")\n",
    ")\n",
    "\n",
    "display(enrichment_result)"
   ]
  },
  {
   "cell_type": "code",
   "execution_count": 5,
   "metadata": {},
   "outputs": [
    {
     "data": {
      "text/html": [
       "<div><style>\n",
       ".dataframe > thead > tr,\n",
       ".dataframe > tbody > tr {\n",
       "  text-align: right;\n",
       "  white-space: pre-wrap;\n",
       "}\n",
       "</style>\n",
       "<small>shape: (17, 14)</small><table border=\"1\" class=\"dataframe\"><thead><tr><th>GO</th><th>GO domain</th><th>enrichment type</th><th>GO term name</th><th>ratio_in_study</th><th>ratio_in_pop</th><th>p_uncorrected</th><th>depth</th><th>study_count</th><th>p_fdr_bh</th><th>study_items</th><th>ratio in study</th><th>ratio in population</th><th>fold enrichment</th></tr><tr><td>str</td><td>str</td><td>str</td><td>str</td><td>str</td><td>str</td><td>f64</td><td>i64</td><td>i64</td><td>f64</td><td>str</td><td>f64</td><td>f64</td><td>f64</td></tr></thead><tbody><tr><td>&quot;GO:0060586&quot;</td><td>&quot;BP&quot;</td><td>&quot;e&quot;</td><td>&quot;multicellular organismal-level…</td><td>&quot;5/370&quot;</td><td>&quot;24/38993&quot;</td><td>0.000003</td><td>5</td><td>5</td><td>0.003002</td><td>&quot;Os01g0689451, Os03g0667300, Os…</td><td>0.013514</td><td>0.000615</td><td>21.955518</td></tr><tr><td>&quot;GO:0006826&quot;</td><td>&quot;BP&quot;</td><td>&quot;e&quot;</td><td>&quot;iron ion transport&quot;</td><td>&quot;6/370&quot;</td><td>&quot;31/38993&quot;</td><td>4.2240e-7</td><td>8</td><td>6</td><td>0.000678</td><td>&quot;Os02g0649900, Os02g0650300, Os…</td><td>0.016216</td><td>0.000795</td><td>20.397384</td></tr><tr><td>&quot;GO:0140962&quot;</td><td>&quot;BP&quot;</td><td>&quot;e&quot;</td><td>&quot;multicellular organismal-level…</td><td>&quot;5/370&quot;</td><td>&quot;26/38993&quot;</td><td>0.000004</td><td>3</td><td>5</td><td>0.003659</td><td>&quot;Os01g0689451, Os03g0667300, Os…</td><td>0.013514</td><td>0.000667</td><td>20.266632</td></tr><tr><td>&quot;GO:0006879&quot;</td><td>&quot;BP&quot;</td><td>&quot;e&quot;</td><td>&quot;intracellular iron ion homeost…</td><td>&quot;7/370&quot;</td><td>&quot;37/38993&quot;</td><td>5.2745e-8</td><td>6</td><td>7</td><td>0.000231</td><td>&quot;Os01g0689451, Os02g0649900, Os…</td><td>0.018919</td><td>0.000949</td><td>19.937984</td></tr><tr><td>&quot;GO:0048871&quot;</td><td>&quot;BP&quot;</td><td>&quot;e&quot;</td><td>&quot;multicellular organismal-level…</td><td>&quot;5/370&quot;</td><td>&quot;28/38993&quot;</td><td>0.000006</td><td>2</td><td>5</td><td>0.004083</td><td>&quot;Os01g0689451, Os03g0667300, Os…</td><td>0.013514</td><td>0.000718</td><td>18.819015</td></tr><tr><td>&hellip;</td><td>&hellip;</td><td>&hellip;</td><td>&hellip;</td><td>&hellip;</td><td>&hellip;</td><td>&hellip;</td><td>&hellip;</td><td>&hellip;</td><td>&hellip;</td><td>&hellip;</td><td>&hellip;</td><td>&hellip;</td><td>&hellip;</td></tr><tr><td>&quot;GO:0005506&quot;</td><td>&quot;MF&quot;</td><td>&quot;e&quot;</td><td>&quot;iron ion binding&quot;</td><td>&quot;16/370&quot;</td><td>&quot;443/38993&quot;</td><td>0.000006</td><td>7</td><td>16</td><td>0.002767</td><td>&quot;Os01g0627400, Os01g0854800, Os…</td><td>0.043243</td><td>0.011361</td><td>3.806284</td></tr><tr><td>&quot;GO:0020037&quot;</td><td>&quot;MF&quot;</td><td>&quot;e&quot;</td><td>&quot;heme binding&quot;</td><td>&quot;19/370&quot;</td><td>&quot;540/38993&quot;</td><td>0.000001</td><td>3</td><td>19</td><td>0.001115</td><td>&quot;Os01g0627400, Os01g0854800, Os…</td><td>0.051351</td><td>0.013849</td><td>3.708043</td></tr><tr><td>&quot;GO:0016705&quot;</td><td>&quot;MF&quot;</td><td>&quot;e&quot;</td><td>&quot;oxidoreductase activity, actin…</td><td>&quot;17/370&quot;</td><td>&quot;484/38993&quot;</td><td>0.000005</td><td>3</td><td>17</td><td>0.002474</td><td>&quot;Os01g0627400, Os01g0854800, Os…</td><td>0.045946</td><td>0.012412</td><td>3.701591</td></tr><tr><td>&quot;GO:0046906&quot;</td><td>&quot;MF&quot;</td><td>&quot;e&quot;</td><td>&quot;tetrapyrrole binding&quot;</td><td>&quot;19/370&quot;</td><td>&quot;563/38993&quot;</td><td>0.000002</td><td>2</td><td>19</td><td>0.001536</td><td>&quot;Os01g0627400, Os01g0854800, Os…</td><td>0.051351</td><td>0.014438</td><td>3.55656</td></tr><tr><td>&quot;GO:0016491&quot;</td><td>&quot;MF&quot;</td><td>&quot;e&quot;</td><td>&quot;oxidoreductase activity&quot;</td><td>&quot;34/370&quot;</td><td>&quot;1620/38993&quot;</td><td>0.000018</td><td>2</td><td>34</td><td>0.006561</td><td>&quot;Os01g0591300, Os01g0627400, Os…</td><td>0.091892</td><td>0.041546</td><td>2.211815</td></tr></tbody></table></div>"
      ],
      "text/plain": [
       "shape: (17, 14)\n",
       "┌───────────┬───────────┬───────────┬───────────┬───┬───────────┬───────────┬───────────┬──────────┐\n",
       "│ GO        ┆ GO domain ┆ enrichmen ┆ GO term   ┆ … ┆ study_ite ┆ ratio in  ┆ ratio in  ┆ fold enr │\n",
       "│ ---       ┆ ---       ┆ t type    ┆ name      ┆   ┆ ms        ┆ study     ┆ populatio ┆ ichment  │\n",
       "│ str       ┆ str       ┆ ---       ┆ ---       ┆   ┆ ---       ┆ ---       ┆ n         ┆ ---      │\n",
       "│           ┆           ┆ str       ┆ str       ┆   ┆ str       ┆ f64       ┆ ---       ┆ f64      │\n",
       "│           ┆           ┆           ┆           ┆   ┆           ┆           ┆ f64       ┆          │\n",
       "╞═══════════╪═══════════╪═══════════╪═══════════╪═══╪═══════════╪═══════════╪═══════════╪══════════╡\n",
       "│ GO:006058 ┆ BP        ┆ e         ┆ multicell ┆ … ┆ Os01g0689 ┆ 0.013514  ┆ 0.000615  ┆ 21.95551 │\n",
       "│ 6         ┆           ┆           ┆ ular orga ┆   ┆ 451, Os03 ┆           ┆           ┆ 8        │\n",
       "│           ┆           ┆           ┆ nismal-le ┆   ┆ g0667300, ┆           ┆           ┆          │\n",
       "│           ┆           ┆           ┆ vel…      ┆   ┆ Os…       ┆           ┆           ┆          │\n",
       "│ GO:000682 ┆ BP        ┆ e         ┆ iron ion  ┆ … ┆ Os02g0649 ┆ 0.016216  ┆ 0.000795  ┆ 20.39738 │\n",
       "│ 6         ┆           ┆           ┆ transport ┆   ┆ 900, Os02 ┆           ┆           ┆ 4        │\n",
       "│           ┆           ┆           ┆           ┆   ┆ g0650300, ┆           ┆           ┆          │\n",
       "│           ┆           ┆           ┆           ┆   ┆ Os…       ┆           ┆           ┆          │\n",
       "│ GO:014096 ┆ BP        ┆ e         ┆ multicell ┆ … ┆ Os01g0689 ┆ 0.013514  ┆ 0.000667  ┆ 20.26663 │\n",
       "│ 2         ┆           ┆           ┆ ular orga ┆   ┆ 451, Os03 ┆           ┆           ┆ 2        │\n",
       "│           ┆           ┆           ┆ nismal-le ┆   ┆ g0667300, ┆           ┆           ┆          │\n",
       "│           ┆           ┆           ┆ vel…      ┆   ┆ Os…       ┆           ┆           ┆          │\n",
       "│ GO:000687 ┆ BP        ┆ e         ┆ intracell ┆ … ┆ Os01g0689 ┆ 0.018919  ┆ 0.000949  ┆ 19.93798 │\n",
       "│ 9         ┆           ┆           ┆ ular iron ┆   ┆ 451, Os02 ┆           ┆           ┆ 4        │\n",
       "│           ┆           ┆           ┆ ion       ┆   ┆ g0649900, ┆           ┆           ┆          │\n",
       "│           ┆           ┆           ┆ homeost…  ┆   ┆ Os…       ┆           ┆           ┆          │\n",
       "│ GO:004887 ┆ BP        ┆ e         ┆ multicell ┆ … ┆ Os01g0689 ┆ 0.013514  ┆ 0.000718  ┆ 18.81901 │\n",
       "│ 1         ┆           ┆           ┆ ular orga ┆   ┆ 451, Os03 ┆           ┆           ┆ 5        │\n",
       "│           ┆           ┆           ┆ nismal-le ┆   ┆ g0667300, ┆           ┆           ┆          │\n",
       "│           ┆           ┆           ┆ vel…      ┆   ┆ Os…       ┆           ┆           ┆          │\n",
       "│ …         ┆ …         ┆ …         ┆ …         ┆ … ┆ …         ┆ …         ┆ …         ┆ …        │\n",
       "│ GO:000550 ┆ MF        ┆ e         ┆ iron ion  ┆ … ┆ Os01g0627 ┆ 0.043243  ┆ 0.011361  ┆ 3.806284 │\n",
       "│ 6         ┆           ┆           ┆ binding   ┆   ┆ 400, Os01 ┆           ┆           ┆          │\n",
       "│           ┆           ┆           ┆           ┆   ┆ g0854800, ┆           ┆           ┆          │\n",
       "│           ┆           ┆           ┆           ┆   ┆ Os…       ┆           ┆           ┆          │\n",
       "│ GO:002003 ┆ MF        ┆ e         ┆ heme      ┆ … ┆ Os01g0627 ┆ 0.051351  ┆ 0.013849  ┆ 3.708043 │\n",
       "│ 7         ┆           ┆           ┆ binding   ┆   ┆ 400, Os01 ┆           ┆           ┆          │\n",
       "│           ┆           ┆           ┆           ┆   ┆ g0854800, ┆           ┆           ┆          │\n",
       "│           ┆           ┆           ┆           ┆   ┆ Os…       ┆           ┆           ┆          │\n",
       "│ GO:001670 ┆ MF        ┆ e         ┆ oxidoredu ┆ … ┆ Os01g0627 ┆ 0.045946  ┆ 0.012412  ┆ 3.701591 │\n",
       "│ 5         ┆           ┆           ┆ ctase     ┆   ┆ 400, Os01 ┆           ┆           ┆          │\n",
       "│           ┆           ┆           ┆ activity, ┆   ┆ g0854800, ┆           ┆           ┆          │\n",
       "│           ┆           ┆           ┆ actin…    ┆   ┆ Os…       ┆           ┆           ┆          │\n",
       "│ GO:004690 ┆ MF        ┆ e         ┆ tetrapyrr ┆ … ┆ Os01g0627 ┆ 0.051351  ┆ 0.014438  ┆ 3.55656  │\n",
       "│ 6         ┆           ┆           ┆ ole       ┆   ┆ 400, Os01 ┆           ┆           ┆          │\n",
       "│           ┆           ┆           ┆ binding   ┆   ┆ g0854800, ┆           ┆           ┆          │\n",
       "│           ┆           ┆           ┆           ┆   ┆ Os…       ┆           ┆           ┆          │\n",
       "│ GO:001649 ┆ MF        ┆ e         ┆ oxidoredu ┆ … ┆ Os01g0591 ┆ 0.091892  ┆ 0.041546  ┆ 2.211815 │\n",
       "│ 1         ┆           ┆           ┆ ctase     ┆   ┆ 300, Os01 ┆           ┆           ┆          │\n",
       "│           ┆           ┆           ┆ activity  ┆   ┆ g0627400, ┆           ┆           ┆          │\n",
       "│           ┆           ┆           ┆           ┆   ┆ Os…       ┆           ┆           ┆          │\n",
       "└───────────┴───────────┴───────────┴───────────┴───┴───────────┴───────────┴───────────┴──────────┘"
      ]
     },
     "metadata": {},
     "output_type": "display_data"
    }
   ],
   "source": [
    "# fold enrichment\n",
    "def fold_enrichment(df):\n",
    "    fold_enrichment = (pl.col(\"ratio in study\") / pl.col(\"ratio in population\")).alias(\"fold enrichment\")\n",
    "    df = df.with_columns([\n",
    "        fold_enrichment\n",
    "    ]).sort(\"fold enrichment\", descending=True)\n",
    "    return df\n",
    "\n",
    "df_fold_enrichment = fold_enrichment(enrichment_result)\n",
    "display(df_fold_enrichment)"
   ]
  },
  {
   "cell_type": "markdown",
   "metadata": {},
   "source": [
    "### (3) convert p-value"
   ]
  },
  {
   "cell_type": "code",
   "execution_count": 6,
   "metadata": {},
   "outputs": [
    {
     "data": {
      "text/html": [
       "<div><style>\n",
       ".dataframe > thead > tr,\n",
       ".dataframe > tbody > tr {\n",
       "  text-align: right;\n",
       "  white-space: pre-wrap;\n",
       "}\n",
       "</style>\n",
       "<small>shape: (17, 16)</small><table border=\"1\" class=\"dataframe\"><thead><tr><th>GO</th><th>GO term name</th><th>GO domain</th><th>depth</th><th>enrichment type</th><th>study_count</th><th>ratio_in_study</th><th>ratio_in_pop</th><th>ratio in study</th><th>ratio in population</th><th>fold enrichment</th><th>p_uncorrected</th><th>p_fdr_bh</th><th>-log10(p-value_uncorrected)</th><th>-log10(p-value_fdr_bh)</th><th>study_items</th></tr><tr><td>str</td><td>str</td><td>str</td><td>i64</td><td>str</td><td>i64</td><td>str</td><td>str</td><td>f64</td><td>f64</td><td>f64</td><td>f64</td><td>f64</td><td>f64</td><td>f64</td><td>str</td></tr></thead><tbody><tr><td>&quot;GO:0005576&quot;</td><td>&quot;extracellular region&quot;</td><td>&quot;CC&quot;</td><td>2</td><td>&quot;e&quot;</td><td>25</td><td>&quot;25/370&quot;</td><td>&quot;644/38993&quot;</td><td>0.067568</td><td>0.016516</td><td>4.09109</td><td>3.9326e-9</td><td>0.000003</td><td>8.405325</td><td>5.477442</td><td>&quot;Os01g0284500, Os01g0382000, Os…</td></tr><tr><td>&quot;GO:0048046&quot;</td><td>&quot;apoplast&quot;</td><td>&quot;CC&quot;</td><td>3</td><td>&quot;e&quot;</td><td>12</td><td>&quot;12/370&quot;</td><td>&quot;188/38993&quot;</td><td>0.032432</td><td>0.004821</td><td>6.726797</td><td>2.8440e-7</td><td>0.00012</td><td>6.546074</td><td>3.91922</td><td>&quot;Os01g0284500, Os01g0952000, Os…</td></tr><tr><td>&quot;GO:0006879&quot;</td><td>&quot;intracellular iron ion homeost…</td><td>&quot;BP&quot;</td><td>6</td><td>&quot;e&quot;</td><td>7</td><td>&quot;7/370&quot;</td><td>&quot;37/38993&quot;</td><td>0.018919</td><td>0.000949</td><td>19.937984</td><td>5.2745e-8</td><td>0.000231</td><td>7.277822</td><td>3.636745</td><td>&quot;Os01g0689451, Os02g0649900, Os…</td></tr><tr><td>&quot;GO:0006826&quot;</td><td>&quot;iron ion transport&quot;</td><td>&quot;BP&quot;</td><td>8</td><td>&quot;e&quot;</td><td>6</td><td>&quot;6/370&quot;</td><td>&quot;31/38993&quot;</td><td>0.016216</td><td>0.000795</td><td>20.397384</td><td>4.2240e-7</td><td>0.000678</td><td>6.374275</td><td>3.16861</td><td>&quot;Os02g0649900, Os02g0650300, Os…</td></tr><tr><td>&quot;GO:0004497&quot;</td><td>&quot;monooxygenase activity&quot;</td><td>&quot;MF&quot;</td><td>3</td><td>&quot;e&quot;</td><td>17</td><td>&quot;17/370&quot;</td><td>&quot;426/38993&quot;</td><td>0.045946</td><td>0.010925</td><td>4.205564</td><td>8.6409e-7</td><td>0.001115</td><td>6.063441</td><td>2.952839</td><td>&quot;Os01g0627400, Os01g0854800, Os…</td></tr><tr><td>&hellip;</td><td>&hellip;</td><td>&hellip;</td><td>&hellip;</td><td>&hellip;</td><td>&hellip;</td><td>&hellip;</td><td>&hellip;</td><td>&hellip;</td><td>&hellip;</td><td>&hellip;</td><td>&hellip;</td><td>&hellip;</td><td>&hellip;</td><td>&hellip;</td><td>&hellip;</td></tr><tr><td>&quot;GO:0000041&quot;</td><td>&quot;transition metal ion transport&quot;</td><td>&quot;BP&quot;</td><td>7</td><td>&quot;e&quot;</td><td>7</td><td>&quot;7/370&quot;</td><td>&quot;75/38993&quot;</td><td>0.018919</td><td>0.001923</td><td>9.836072</td><td>0.000007</td><td>0.004083</td><td>5.127009</td><td>2.389021</td><td>&quot;Os02g0649900, Os02g0650300, Os…</td></tr><tr><td>&quot;GO:0098771&quot;</td><td>&quot;inorganic ion homeostasis&quot;</td><td>&quot;BP&quot;</td><td>3</td><td>&quot;e&quot;</td><td>8</td><td>&quot;8/370&quot;</td><td>&quot;109/38993&quot;</td><td>0.021622</td><td>0.002795</td><td>7.734788</td><td>0.00001</td><td>0.004892</td><td>4.997355</td><td>2.31052</td><td>&quot;Os01g0689451, Os02g0649900, Os…</td></tr><tr><td>&quot;GO:0030003&quot;</td><td>&quot;intracellular monoatomic catio…</td><td>&quot;BP&quot;</td><td>5</td><td>&quot;e&quot;</td><td>8</td><td>&quot;8/370&quot;</td><td>&quot;115/38993&quot;</td><td>0.021622</td><td>0.002949</td><td>7.331234</td><td>0.000015</td><td>0.006525</td><td>4.826487</td><td>2.18541</td><td>&quot;Os01g0689451, Os02g0649900, Os…</td></tr><tr><td>&quot;GO:0016491&quot;</td><td>&quot;oxidoreductase activity&quot;</td><td>&quot;MF&quot;</td><td>2</td><td>&quot;e&quot;</td><td>34</td><td>&quot;34/370&quot;</td><td>&quot;1620/38993&quot;</td><td>0.091892</td><td>0.041546</td><td>2.211815</td><td>0.000018</td><td>0.006561</td><td>4.749902</td><td>2.183044</td><td>&quot;Os01g0591300, Os01g0627400, Os…</td></tr><tr><td>&quot;GO:0010333&quot;</td><td>&quot;terpene synthase activity&quot;</td><td>&quot;MF&quot;</td><td>5</td><td>&quot;e&quot;</td><td>5</td><td>&quot;5/370&quot;</td><td>&quot;37/38993&quot;</td><td>0.013514</td><td>0.000949</td><td>14.241417</td><td>0.000025</td><td>0.008206</td><td>4.594712</td><td>2.085845</td><td>&quot;Os02g0121700, Os02g0571100, Os…</td></tr></tbody></table></div>"
      ],
      "text/plain": [
       "shape: (17, 16)\n",
       "┌────────────┬────────────┬───────────┬───────┬───┬──────────┬────────────┬────────────┬───────────┐\n",
       "│ GO         ┆ GO term    ┆ GO domain ┆ depth ┆ … ┆ p_fdr_bh ┆ -log10(p-v ┆ -log10(p-v ┆ study_ite │\n",
       "│ ---        ┆ name       ┆ ---       ┆ ---   ┆   ┆ ---      ┆ alue_uncor ┆ alue_fdr_b ┆ ms        │\n",
       "│ str        ┆ ---        ┆ str       ┆ i64   ┆   ┆ f64      ┆ rected)    ┆ h)         ┆ ---       │\n",
       "│            ┆ str        ┆           ┆       ┆   ┆          ┆ ---        ┆ ---        ┆ str       │\n",
       "│            ┆            ┆           ┆       ┆   ┆          ┆ f64        ┆ f64        ┆           │\n",
       "╞════════════╪════════════╪═══════════╪═══════╪═══╪══════════╪════════════╪════════════╪═══════════╡\n",
       "│ GO:0005576 ┆ extracellu ┆ CC        ┆ 2     ┆ … ┆ 0.000003 ┆ 8.405325   ┆ 5.477442   ┆ Os01g0284 │\n",
       "│            ┆ lar region ┆           ┆       ┆   ┆          ┆            ┆            ┆ 500, Os01 │\n",
       "│            ┆            ┆           ┆       ┆   ┆          ┆            ┆            ┆ g0382000, │\n",
       "│            ┆            ┆           ┆       ┆   ┆          ┆            ┆            ┆ Os…       │\n",
       "│ GO:0048046 ┆ apoplast   ┆ CC        ┆ 3     ┆ … ┆ 0.00012  ┆ 6.546074   ┆ 3.91922    ┆ Os01g0284 │\n",
       "│            ┆            ┆           ┆       ┆   ┆          ┆            ┆            ┆ 500, Os01 │\n",
       "│            ┆            ┆           ┆       ┆   ┆          ┆            ┆            ┆ g0952000, │\n",
       "│            ┆            ┆           ┆       ┆   ┆          ┆            ┆            ┆ Os…       │\n",
       "│ GO:0006879 ┆ intracellu ┆ BP        ┆ 6     ┆ … ┆ 0.000231 ┆ 7.277822   ┆ 3.636745   ┆ Os01g0689 │\n",
       "│            ┆ lar iron   ┆           ┆       ┆   ┆          ┆            ┆            ┆ 451, Os02 │\n",
       "│            ┆ ion        ┆           ┆       ┆   ┆          ┆            ┆            ┆ g0649900, │\n",
       "│            ┆ homeost…   ┆           ┆       ┆   ┆          ┆            ┆            ┆ Os…       │\n",
       "│ GO:0006826 ┆ iron ion   ┆ BP        ┆ 8     ┆ … ┆ 0.000678 ┆ 6.374275   ┆ 3.16861    ┆ Os02g0649 │\n",
       "│            ┆ transport  ┆           ┆       ┆   ┆          ┆            ┆            ┆ 900, Os02 │\n",
       "│            ┆            ┆           ┆       ┆   ┆          ┆            ┆            ┆ g0650300, │\n",
       "│            ┆            ┆           ┆       ┆   ┆          ┆            ┆            ┆ Os…       │\n",
       "│ GO:0004497 ┆ monooxygen ┆ MF        ┆ 3     ┆ … ┆ 0.001115 ┆ 6.063441   ┆ 2.952839   ┆ Os01g0627 │\n",
       "│            ┆ ase        ┆           ┆       ┆   ┆          ┆            ┆            ┆ 400, Os01 │\n",
       "│            ┆ activity   ┆           ┆       ┆   ┆          ┆            ┆            ┆ g0854800, │\n",
       "│            ┆            ┆           ┆       ┆   ┆          ┆            ┆            ┆ Os…       │\n",
       "│ …          ┆ …          ┆ …         ┆ …     ┆ … ┆ …        ┆ …          ┆ …          ┆ …         │\n",
       "│ GO:0000041 ┆ transition ┆ BP        ┆ 7     ┆ … ┆ 0.004083 ┆ 5.127009   ┆ 2.389021   ┆ Os02g0649 │\n",
       "│            ┆ metal ion  ┆           ┆       ┆   ┆          ┆            ┆            ┆ 900, Os02 │\n",
       "│            ┆ transport  ┆           ┆       ┆   ┆          ┆            ┆            ┆ g0650300, │\n",
       "│            ┆            ┆           ┆       ┆   ┆          ┆            ┆            ┆ Os…       │\n",
       "│ GO:0098771 ┆ inorganic  ┆ BP        ┆ 3     ┆ … ┆ 0.004892 ┆ 4.997355   ┆ 2.31052    ┆ Os01g0689 │\n",
       "│            ┆ ion homeos ┆           ┆       ┆   ┆          ┆            ┆            ┆ 451, Os02 │\n",
       "│            ┆ tasis      ┆           ┆       ┆   ┆          ┆            ┆            ┆ g0649900, │\n",
       "│            ┆            ┆           ┆       ┆   ┆          ┆            ┆            ┆ Os…       │\n",
       "│ GO:0030003 ┆ intracellu ┆ BP        ┆ 5     ┆ … ┆ 0.006525 ┆ 4.826487   ┆ 2.18541    ┆ Os01g0689 │\n",
       "│            ┆ lar        ┆           ┆       ┆   ┆          ┆            ┆            ┆ 451, Os02 │\n",
       "│            ┆ monoatomic ┆           ┆       ┆   ┆          ┆            ┆            ┆ g0649900, │\n",
       "│            ┆ catio…     ┆           ┆       ┆   ┆          ┆            ┆            ┆ Os…       │\n",
       "│ GO:0016491 ┆ oxidoreduc ┆ MF        ┆ 2     ┆ … ┆ 0.006561 ┆ 4.749902   ┆ 2.183044   ┆ Os01g0591 │\n",
       "│            ┆ tase       ┆           ┆       ┆   ┆          ┆            ┆            ┆ 300, Os01 │\n",
       "│            ┆ activity   ┆           ┆       ┆   ┆          ┆            ┆            ┆ g0627400, │\n",
       "│            ┆            ┆           ┆       ┆   ┆          ┆            ┆            ┆ Os…       │\n",
       "│ GO:0010333 ┆ terpene    ┆ MF        ┆ 5     ┆ … ┆ 0.008206 ┆ 4.594712   ┆ 2.085845   ┆ Os02g0121 │\n",
       "│            ┆ synthase   ┆           ┆       ┆   ┆          ┆            ┆            ┆ 700, Os02 │\n",
       "│            ┆ activity   ┆           ┆       ┆   ┆          ┆            ┆            ┆ g0571100, │\n",
       "│            ┆            ┆           ┆       ┆   ┆          ┆            ┆            ┆ Os…       │\n",
       "└────────────┴────────────┴───────────┴───────┴───┴──────────┴────────────┴────────────┴───────────┘"
      ]
     },
     "metadata": {},
     "output_type": "display_data"
    }
   ],
   "source": [
    "# convert p-value to -log10(p-value)\n",
    "if \"p_uncorrected\" in df_fold_enrichment.columns:\n",
    "    df_fold_enrichment = df_fold_enrichment.with_columns(\n",
    "        (-np.log10(df_fold_enrichment[\"p_uncorrected\"]))\n",
    "        .alias(\"-log10(p-value_uncorrected)\")\n",
    "    )\n",
    "\n",
    "if \"p_fdr_bh\" in df_fold_enrichment.columns:\n",
    "    df_fold_enrichment = df_fold_enrichment.with_columns(\n",
    "        (-np.log10(df_fold_enrichment[\"p_fdr_bh\"]))\n",
    "        .alias(\"-log10(p-value_fdr_bh)\")\n",
    "        ).sort(\"-log10(p-value_fdr_bh)\", descending=True)\n",
    "    \n",
    "df_fold_enrichment = df_fold_enrichment.select(\n",
    "    \"GO\",\n",
    "    \"GO term name\",\n",
    "    \"GO domain\",\n",
    "    \"depth\",\n",
    "    \"enrichment type\",\n",
    "    \"study_count\",\n",
    "    \"ratio_in_study\",\n",
    "    \"ratio_in_pop\",\n",
    "    \"ratio in study\",\n",
    "    \"ratio in population\",\n",
    "    \"fold enrichment\",\n",
    "    \"p_uncorrected\",\n",
    "    \"p_fdr_bh\",\n",
    "    \"-log10(p-value_uncorrected)\",\n",
    "    \"-log10(p-value_fdr_bh)\",\n",
    "    \"study_items\"\n",
    ")\n",
    "\n",
    "display(df_fold_enrichment)"
   ]
  },
  {
   "cell_type": "code",
   "execution_count": 7,
   "metadata": {},
   "outputs": [],
   "source": [
    "df_fold_enrichment.write_csv(\n",
    "    \"../Data/10_enrichment_result_viz/rice_go_enrichment_down_all_modified.tsv\", \n",
    "    separator=\"\\t\"\n",
    ")\n",
    "\n",
    "cc = df_fold_enrichment.filter((pl.col(\"GO domain\") == \"CC\"))\n",
    "cc.write_csv(f\"../Data/10_enrichment_result_viz/CC_enrichment_down_modified.tsv\", separator=\"\\t\")\n",
    "bp = df_fold_enrichment.filter((pl.col(\"GO domain\") == \"BP\"))\n",
    "bp.write_csv(f\"../Data/10_enrichment_result_viz/BP_enrichment_down_modified.tsv\", separator=\"\\t\")\n",
    "mf = df_fold_enrichment.filter((pl.col(\"GO domain\") == \"MF\"))\n",
    "mf.write_csv(f\"../Data/10_enrichment_result_viz/MF_enrichment_down_modified.tsv\", separator=\"\\t\")"
   ]
  },
  {
   "cell_type": "code",
   "execution_count": 8,
   "metadata": {},
   "outputs": [
    {
     "data": {
      "text/html": [
       "<div>\n",
       "<style scoped>\n",
       "    .dataframe tbody tr th:only-of-type {\n",
       "        vertical-align: middle;\n",
       "    }\n",
       "\n",
       "    .dataframe tbody tr th {\n",
       "        vertical-align: top;\n",
       "    }\n",
       "\n",
       "    .dataframe thead th {\n",
       "        text-align: right;\n",
       "    }\n",
       "</style>\n",
       "<table border=\"1\" class=\"dataframe\">\n",
       "  <thead>\n",
       "    <tr style=\"text-align: right;\">\n",
       "      <th></th>\n",
       "      <th>GO</th>\n",
       "      <th>GO term name</th>\n",
       "      <th>GO domain</th>\n",
       "      <th>depth</th>\n",
       "      <th>enrichment type</th>\n",
       "      <th>study_count</th>\n",
       "      <th>ratio_in_study</th>\n",
       "      <th>ratio_in_pop</th>\n",
       "      <th>ratio in study</th>\n",
       "      <th>ratio in population</th>\n",
       "      <th>fold enrichment</th>\n",
       "      <th>p_uncorrected</th>\n",
       "      <th>p_fdr_bh</th>\n",
       "      <th>-log10(p-value_uncorrected)</th>\n",
       "      <th>-log10(p-value_fdr_bh)</th>\n",
       "      <th>study_items</th>\n",
       "      <th>GO term</th>\n",
       "    </tr>\n",
       "  </thead>\n",
       "  <tbody>\n",
       "    <tr>\n",
       "      <th>0</th>\n",
       "      <td>GO:0005576</td>\n",
       "      <td>extracellular region</td>\n",
       "      <td>CC</td>\n",
       "      <td>2</td>\n",
       "      <td>e</td>\n",
       "      <td>25</td>\n",
       "      <td>25/370</td>\n",
       "      <td>644/38993</td>\n",
       "      <td>0.067568</td>\n",
       "      <td>0.016516</td>\n",
       "      <td>4.091090</td>\n",
       "      <td>3.932555e-09</td>\n",
       "      <td>0.000003</td>\n",
       "      <td>8.405325</td>\n",
       "      <td>5.477442</td>\n",
       "      <td>Os01g0284500, Os01g0382000, Os01g0382400, Os01...</td>\n",
       "      <td>GO:0005576: extracellular region</td>\n",
       "    </tr>\n",
       "    <tr>\n",
       "      <th>1</th>\n",
       "      <td>GO:0048046</td>\n",
       "      <td>apoplast</td>\n",
       "      <td>CC</td>\n",
       "      <td>3</td>\n",
       "      <td>e</td>\n",
       "      <td>12</td>\n",
       "      <td>12/370</td>\n",
       "      <td>188/38993</td>\n",
       "      <td>0.032432</td>\n",
       "      <td>0.004821</td>\n",
       "      <td>6.726797</td>\n",
       "      <td>2.843979e-07</td>\n",
       "      <td>0.000120</td>\n",
       "      <td>6.546074</td>\n",
       "      <td>3.919220</td>\n",
       "      <td>Os01g0284500, Os01g0952000, Os03g0400200, Os03...</td>\n",
       "      <td>GO:0048046: apoplast</td>\n",
       "    </tr>\n",
       "  </tbody>\n",
       "</table>\n",
       "</div>"
      ],
      "text/plain": [
       "           GO          GO term name GO domain  depth enrichment type  \\\n",
       "0  GO:0005576  extracellular region        CC      2               e   \n",
       "1  GO:0048046              apoplast        CC      3               e   \n",
       "\n",
       "   study_count ratio_in_study ratio_in_pop  ratio in study  \\\n",
       "0           25         25/370    644/38993        0.067568   \n",
       "1           12         12/370    188/38993        0.032432   \n",
       "\n",
       "   ratio in population  fold enrichment  p_uncorrected  p_fdr_bh  \\\n",
       "0             0.016516         4.091090   3.932555e-09  0.000003   \n",
       "1             0.004821         6.726797   2.843979e-07  0.000120   \n",
       "\n",
       "   -log10(p-value_uncorrected)  -log10(p-value_fdr_bh)  \\\n",
       "0                     8.405325                5.477442   \n",
       "1                     6.546074                3.919220   \n",
       "\n",
       "                                         study_items  \\\n",
       "0  Os01g0284500, Os01g0382000, Os01g0382400, Os01...   \n",
       "1  Os01g0284500, Os01g0952000, Os03g0400200, Os03...   \n",
       "\n",
       "                            GO term  \n",
       "0  GO:0005576: extracellular region  \n",
       "1              GO:0048046: apoplast  "
      ]
     },
     "metadata": {},
     "output_type": "display_data"
    }
   ],
   "source": [
    "# Join term columns\n",
    "df_to_pd = df_fold_enrichment.with_columns(\n",
    "    (pl.col(\"GO\") + \": \" + pl.col(\"GO term name\")).alias(\"GO term\")\n",
    ").to_pandas()\n",
    "\n",
    "#Separate dataframes by GO domain\n",
    "cc_pd = cc.with_columns(\n",
    "    (pl.col(\"GO\") + \": \" + pl.col(\"GO term name\")).alias(\"GO term\")\n",
    ").to_pandas()\n",
    "bp_pd = bp.with_columns(\n",
    "    (pl.col(\"GO\") + \": \" + pl.col(\"GO term name\")).alias(\"GO term\")\n",
    ").to_pandas()\n",
    "mf_pd = mf.with_columns(\n",
    "    (pl.col(\"GO\") + \": \" + pl.col(\"GO term name\")).alias(\"GO term\")\n",
    ").to_pandas()\n",
    "\n",
    "display(cc_pd.head())"
   ]
  },
  {
   "cell_type": "code",
   "execution_count": 9,
   "metadata": {},
   "outputs": [],
   "source": [
    "# enrichment result plot function\n",
    "current_fig = None # global variable\n",
    "\n",
    "def plot_goa_dotplot_with_lines(data, col1, goa_col, col2, col3, ylabel_suffix='', width=11, height=14, palette=\"flare\"):\n",
    "\n",
    "    # 1. figure size\n",
    "    global current_fig\n",
    "    figsize = (width, height)\n",
    "    current_fig, ax = plt.subplots(figsize=figsize)\n",
    "\n",
    "    # 2. color normalization\n",
    "    norm = mcolors.Normalize(vmin=data[col3].min(), vmax=data[col3].max())\n",
    "\n",
    "    # 3.color palette\n",
    "    color_palette = sns.color_palette(palette, as_cmap=True)\n",
    "\n",
    "    # 4.plotting\n",
    "    sns.scatterplot(\n",
    "        data=data,\n",
    "        x=col1,\n",
    "        y=goa_col,\n",
    "        size=col2, \n",
    "        hue=col3,     \n",
    "        palette=palette, \n",
    "        legend='brief',\n",
    "        ax=ax\n",
    "    )\n",
    "    # 5.lines \n",
    "    for index, row in data.iterrows():\n",
    "        ax.plot([0, row[col1]], [row[goa_col], row[goa_col]], color=color_palette(norm(row[col3])), lw=1)\n",
    "    \n",
    "    ax.grid(color='b', linestyle=':', linewidth=0.1)\n",
    "    ax.set_xlabel(col1)\n",
    "    ylabel_text = 'GO Terms' + ('' + ylabel_suffix  if ylabel_suffix else '' )\n",
    "    ax.set_ylabel(ylabel_text)\n",
    "\n",
    "    # 6.legend\n",
    "    handles, labels = ax.get_legend_handles_labels()\n",
    "    handles = [\"-log10(FDR)\" if label == \"-log10(p-value_fdr_bh)\" else label for label in handles]\n",
    "    labels = ['Genes' if label == 'study_count' else label for label in labels]\n",
    "    ax.legend(handles, labels, prop={'size': 14})\n",
    "\n",
    "    plt.show()"
   ]
  },
  {
   "cell_type": "code",
   "execution_count": 10,
   "metadata": {},
   "outputs": [],
   "source": [
    "# interactive setting\n",
    "filename_text = widgets.Text(value='', description='File Name:')\n",
    "\n",
    "def save_plot(button):\n",
    "    global current_fig\n",
    "    if current_fig:\n",
    "        filename = filename_text.value\n",
    "        if filename:  \n",
    "            current_fig.savefig(f'../Data/10_enrichment_result_viz/{filename}.png', dpi=800, bbox_inches='tight')\n",
    "        else:\n",
    "            current_fig.savefig(f'../Data/10_enrichment_result_viz/enrichment_result.png', dpi=800, bbox_inches='tight')\n",
    "\n",
    "\n",
    "save_button = widgets.Button(description=\"Save Plot\")\n",
    "save_button.on_click(save_plot)\n",
    "\n",
    "def interactive_plot(data):\n",
    "    w = interactive(\n",
    "        plot_goa_dotplot_with_lines,\n",
    "        data=widgets.fixed(data),\n",
    "        col1=widgets.Dropdown(options= [('fold enrichment', 'fold enrichment'), \n",
    "                                        ('-log10(p-value)', '-log10(p-value_uncorrected)'), \n",
    "                                        ('-log10(FDR)', '-log10(p-value_fdr_bh)')], \n",
    "                                        value='fold enrichment', \n",
    "                                        description='x-axis:'),\n",
    "        goa_col=widgets.fixed('GO term'),\n",
    "        col2=widgets.Dropdown(\n",
    "            options=[('Genes', 'study_count')] + [(col, col) for col in data.columns if col != 'study_count'], \n",
    "            value='study_count', \n",
    "            description='size:'),\n",
    "        col3=widgets.Dropdown(options= [('fold enrichment', 'fold enrichment'), \n",
    "                                        ('-log10(p-value)', '-log10(p-value_uncorrected)'), \n",
    "                                        ('-log10(FDR)', '-log10(p-value_fdr_bh)')], \n",
    "                                        value='-log10(p-value_fdr_bh)', \n",
    "                                        description='hue:'),\n",
    "        ylabel_suffix=widgets.Dropdown(\n",
    "            options=[('', ''), \n",
    "                     ('cc', '(Cellular Component)'), \n",
    "                     ('bp', '(Biological Process)'), \n",
    "                     ('mf', '(Molecular Function)')],\n",
    "            value='',\n",
    "            description='y-label suffix:'),\n",
    "        width=widgets.IntSlider(min=1, max=50, step=1, value=11, description='width:', readout_format='0.0f'),\n",
    "        height=widgets.IntSlider(min=1, max=50, step=1, value=14, description='height:', readout_format='0.0f'),\n",
    "        palette=widgets.Dropdown(options=['flare', 'magma', 'viridis'], value='flare', description='color palette:')\n",
    "        \n",
    "    )\n",
    "    display(w, filename_text, save_button)"
   ]
  },
  {
   "cell_type": "code",
   "execution_count": 11,
   "metadata": {},
   "outputs": [
    {
     "data": {
      "application/vnd.jupyter.widget-view+json": {
       "model_id": "5434d92f879c42759f443f5b0b88b878",
       "version_major": 2,
       "version_minor": 0
      },
      "text/plain": [
       "interactive(children=(Dropdown(description='x-axis:', options=(('fold enrichment', 'fold enrichment'), ('-log1…"
      ]
     },
     "metadata": {},
     "output_type": "display_data"
    },
    {
     "data": {
      "application/vnd.jupyter.widget-view+json": {
       "model_id": "167d4d0e132c448d9880a38f3e1a25cf",
       "version_major": 2,
       "version_minor": 0
      },
      "text/plain": [
       "Text(value='', description='File Name:')"
      ]
     },
     "metadata": {},
     "output_type": "display_data"
    },
    {
     "data": {
      "application/vnd.jupyter.widget-view+json": {
       "model_id": "4f964c7fbf5e4789972fa2e74e4f2d7e",
       "version_major": 2,
       "version_minor": 0
      },
      "text/plain": [
       "Button(description='Save Plot', style=ButtonStyle())"
      ]
     },
     "metadata": {},
     "output_type": "display_data"
    }
   ],
   "source": [
    "interactive_plot(bp_pd.copy())"
   ]
  },
  {
   "cell_type": "code",
   "execution_count": 12,
   "metadata": {},
   "outputs": [
    {
     "data": {
      "application/vnd.jupyter.widget-view+json": {
       "model_id": "845cbff839ee448286e0e339882b872a",
       "version_major": 2,
       "version_minor": 0
      },
      "text/plain": [
       "interactive(children=(Dropdown(description='x-axis:', options=(('fold enrichment', 'fold enrichment'), ('-log1…"
      ]
     },
     "metadata": {},
     "output_type": "display_data"
    },
    {
     "data": {
      "application/vnd.jupyter.widget-view+json": {
       "model_id": "167d4d0e132c448d9880a38f3e1a25cf",
       "version_major": 2,
       "version_minor": 0
      },
      "text/plain": [
       "Text(value='BP_enrichment_down_modified', description='File Name:')"
      ]
     },
     "metadata": {},
     "output_type": "display_data"
    },
    {
     "data": {
      "application/vnd.jupyter.widget-view+json": {
       "model_id": "4f964c7fbf5e4789972fa2e74e4f2d7e",
       "version_major": 2,
       "version_minor": 0
      },
      "text/plain": [
       "Button(description='Save Plot', style=ButtonStyle())"
      ]
     },
     "metadata": {},
     "output_type": "display_data"
    }
   ],
   "source": [
    "interactive_plot(cc_pd.copy())"
   ]
  },
  {
   "cell_type": "code",
   "execution_count": 13,
   "metadata": {},
   "outputs": [
    {
     "data": {
      "application/vnd.jupyter.widget-view+json": {
       "model_id": "4cbf4cf0490f4f81b7601a17e8849278",
       "version_major": 2,
       "version_minor": 0
      },
      "text/plain": [
       "interactive(children=(Dropdown(description='x-axis:', options=(('fold enrichment', 'fold enrichment'), ('-log1…"
      ]
     },
     "metadata": {},
     "output_type": "display_data"
    },
    {
     "data": {
      "application/vnd.jupyter.widget-view+json": {
       "model_id": "167d4d0e132c448d9880a38f3e1a25cf",
       "version_major": 2,
       "version_minor": 0
      },
      "text/plain": [
       "Text(value='CC_enrichment_down_modified', description='File Name:')"
      ]
     },
     "metadata": {},
     "output_type": "display_data"
    },
    {
     "data": {
      "application/vnd.jupyter.widget-view+json": {
       "model_id": "4f964c7fbf5e4789972fa2e74e4f2d7e",
       "version_major": 2,
       "version_minor": 0
      },
      "text/plain": [
       "Button(description='Save Plot', style=ButtonStyle())"
      ]
     },
     "metadata": {},
     "output_type": "display_data"
    }
   ],
   "source": [
    "interactive_plot(mf_pd.copy())"
   ]
  }
 ],
 "metadata": {
  "kernelspec": {
   "display_name": "Python 3",
   "language": "python",
   "name": "python3"
  },
  "language_info": {
   "codemirror_mode": {
    "name": "ipython",
    "version": 3
   },
   "file_extension": ".py",
   "mimetype": "text/x-python",
   "name": "python",
   "nbconvert_exporter": "python",
   "pygments_lexer": "ipython3",
   "version": "3.11.4"
  }
 },
 "nbformat": 4,
 "nbformat_minor": 2
}

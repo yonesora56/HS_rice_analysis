{
 "cells": [
  {
   "cell_type": "code",
   "execution_count": 5,
   "metadata": {},
   "outputs": [],
   "source": [
    "import re\n",
    "import datetime\n",
    "import pathlib\n",
    "import polars as pl # type: ignore\n",
    "import matplotlib.pyplot as plt # type: ignore\n",
    "import seaborn as sns # type: ignore"
   ]
  },
  {
   "cell_type": "code",
   "execution_count": 6,
   "metadata": {},
   "outputs": [
    {
     "name": "stdout",
     "output_type": "stream",
     "text": [
      "Execute Date: 241108\n"
     ]
    }
   ],
   "source": [
    "VERSION = datetime.datetime.now().strftime(\"%y%m%d\")\n",
    "print(f\"Execute Date: {VERSION}\")"
   ]
  },
  {
   "cell_type": "markdown",
   "metadata": {},
   "source": [
    "## Parameters for papermill"
   ]
  },
  {
   "cell_type": "code",
   "execution_count": 7,
   "metadata": {
    "tags": [
     "parameters"
    ]
   },
   "outputs": [],
   "source": [
    "foldseek_result_tsv = pathlib.Path(\"../out/rice_up/foldseek_rice_up_9606.tsv\")\n",
    "query_uniprot_idmapping_tsv = pathlib.Path(\"../out/rice_up/rice_up_idmapping.tsv\")\n",
    "water_result_dir_path = pathlib.Path(\"../out/rice_up/water_result\")\n",
    "needle_result_dir_path = pathlib.Path(\"../out/rice_up/needle_result\")\n",
    "query_gene_list_tsv_path = pathlib.Path(\"../Data/Data_HN5_genelist_rice_2402/HN5_genes_up_rice.tsv\")\n",
    "togoid_convert_tsv_path = pathlib.Path(\"../out/rice_up/rice_up_togoid_convert.tsv\")"
   ]
  },
  {
   "cell_type": "code",
   "execution_count": 8,
   "metadata": {},
   "outputs": [
    {
     "data": {
      "text/html": [
       "<div><style>\n",
       ".dataframe > thead > tr,\n",
       ".dataframe > tbody > tr {\n",
       "  text-align: right;\n",
       "  white-space: pre-wrap;\n",
       "}\n",
       "</style>\n",
       "<small>shape: (15_112, 30)</small><table border=\"1\" class=\"dataframe\"><thead><tr><th>From</th><th>UniProt Accession</th><th>foldseek hit</th><th>evalue</th><th>prob</th><th>gapopen</th><th>pident</th><th>fident</th><th>nident</th><th>qstart</th><th>qend</th><th>qlen</th><th>tstart</th><th>tend</th><th>tlen</th><th>alnlen</th><th>qcov</th><th>tcov</th><th>lddt</th><th>qtmscore</th><th>ttmscore</th><th>alntmscore</th><th>rmsd</th><th>taxid</th><th>taxname</th><th>taxlineage</th><th>qaln</th><th>taln</th><th>mismatch</th><th>lddtfull</th></tr><tr><td>str</td><td>str</td><td>str</td><td>f64</td><td>f64</td><td>i64</td><td>f64</td><td>f64</td><td>i64</td><td>i64</td><td>i64</td><td>i64</td><td>i64</td><td>i64</td><td>i64</td><td>i64</td><td>f64</td><td>f64</td><td>f64</td><td>f64</td><td>f64</td><td>f64</td><td>f64</td><td>i64</td><td>str</td><td>str</td><td>str</td><td>str</td><td>i64</td><td>str</td></tr></thead><tbody><tr><td>&quot;Os10g0540800&quot;</td><td>&quot;Q7XCM3&quot;</td><td>&quot;A0A6Q8PGX2&quot;</td><td>1.5900e-11</td><td>1.0</td><td>33</td><td>15.2</td><td>0.152</td><td>96</td><td>40</td><td>618</td><td>853</td><td>1</td><td>464</td><td>464</td><td>631</td><td>0.679</td><td>1.0</td><td>0.4287</td><td>0.2893</td><td>0.4763</td><td>0.4763</td><td>18.82</td><td>9606</td><td>&quot;Homo sapiens&quot;</td><td>&quot;-_cellular organisms;d_Eukaryo…</td><td>&quot;QESAAS-SYAKSLLEPLVEETVAAVQSA--…</td><td>&quot;MASAAVESFVTKQLDLLELERDAEVEERRS…</td><td>316</td><td>&quot;0.438,0.395,0.591,0.366,0.245,…</td></tr><tr><td>&quot;Os10g0540800&quot;</td><td>&quot;Q7XCM3&quot;</td><td>&quot;A0A024R7L5&quot;</td><td>1.4420e-11</td><td>1.0</td><td>27</td><td>13.6</td><td>0.136</td><td>78</td><td>33</td><td>572</td><td>853</td><td>283</td><td>698</td><td>1118</td><td>573</td><td>0.633</td><td>0.372</td><td>0.4576</td><td>0.2762</td><td>0.2166</td><td>0.2166</td><td>15.26</td><td>9606</td><td>&quot;Homo sapiens&quot;</td><td>&quot;-_cellular organisms;d_Eukaryo…</td><td>&quot;ESNFENPQESAASSY-AKSLLE---PLVEE…</td><td>&quot;PGVDEEPQHVLLRYEDAYQYQNIFGPLVKL…</td><td>305</td><td>&quot;0.092,0.131,0.179,0.163,0.241,…</td></tr><tr><td>&quot;Os10g0540800&quot;</td><td>&quot;Q7XCM3&quot;</td><td>&quot;A0A024R7L8&quot;</td><td>5.1620e-11</td><td>1.0</td><td>27</td><td>13.5</td><td>0.135</td><td>79</td><td>33</td><td>572</td><td>853</td><td>283</td><td>709</td><td>1129</td><td>584</td><td>0.633</td><td>0.378</td><td>0.4458</td><td>0.2763</td><td>0.2142</td><td>0.2142</td><td>14.67</td><td>9606</td><td>&quot;Homo sapiens&quot;</td><td>&quot;-_cellular organisms;d_Eukaryo…</td><td>&quot;ESNFENPQESAASSY-AKSLLE---PLVEE…</td><td>&quot;PGVDEEPQHVLLRYEDAYQYQNIFGPLVKL…</td><td>304</td><td>&quot;0.092,0.125,0.193,0.163,0.259,…</td></tr><tr><td>&quot;Os10g0540800&quot;</td><td>&quot;Q7XCM3&quot;</td><td>&quot;Q92900&quot;</td><td>5.4210e-11</td><td>1.0</td><td>28</td><td>13.3</td><td>0.133</td><td>80</td><td>19</td><td>572</td><td>853</td><td>261</td><td>709</td><td>1129</td><td>605</td><td>0.649</td><td>0.398</td><td>0.4378</td><td>0.2813</td><td>0.2183</td><td>0.2183</td><td>14.96</td><td>9606</td><td>&quot;Homo sapiens&quot;</td><td>&quot;-_cellular organisms;d_Eukaryo…</td><td>&quot;LINYI---LSWSWTTCIES-NFENPQES--…</td><td>&quot;QINKLEELWKENPSATLEDLEKPGVDEEPQ…</td><td>318</td><td>&quot;0.164,0.099,0.170,0.159,0.097,…</td></tr><tr><td>&quot;Os10g0540800&quot;</td><td>&quot;Q7XCM3&quot;</td><td>&quot;P38935&quot;</td><td>3.3190e-11</td><td>1.0</td><td>27</td><td>15.2</td><td>0.152</td><td>90</td><td>40</td><td>572</td><td>853</td><td>1</td><td>438</td><td>993</td><td>592</td><td>0.625</td><td>0.441</td><td>0.4364</td><td>0.267</td><td>0.2348</td><td>0.2348</td><td>16.09</td><td>9606</td><td>&quot;Homo sapiens&quot;</td><td>&quot;-_cellular organisms;d_Eukaryo…</td><td>&quot;QESAAS-SYAKSLLEPLVEETVAAVQSA--…</td><td>&quot;MASAAVESFVTKQLDLLELERDAEVEERRS…</td><td>289</td><td>&quot;0.562,0.427,0.583,0.372,0.255,…</td></tr><tr><td>&hellip;</td><td>&hellip;</td><td>&hellip;</td><td>&hellip;</td><td>&hellip;</td><td>&hellip;</td><td>&hellip;</td><td>&hellip;</td><td>&hellip;</td><td>&hellip;</td><td>&hellip;</td><td>&hellip;</td><td>&hellip;</td><td>&hellip;</td><td>&hellip;</td><td>&hellip;</td><td>&hellip;</td><td>&hellip;</td><td>&hellip;</td><td>&hellip;</td><td>&hellip;</td><td>&hellip;</td><td>&hellip;</td><td>&hellip;</td><td>&hellip;</td><td>&hellip;</td><td>&hellip;</td><td>&hellip;</td><td>&hellip;</td><td>&hellip;</td></tr><tr><td>&quot;Os03g0416500&quot;</td><td>&quot;Q75IV7&quot;</td><td>&quot;P46926&quot;</td><td>9.6400e-13</td><td>1.0</td><td>14</td><td>19.3</td><td>0.193</td><td>54</td><td>33</td><td>288</td><td>296</td><td>2</td><td>253</td><td>289</td><td>279</td><td>0.865</td><td>0.872</td><td>0.5787</td><td>0.6359</td><td>0.6496</td><td>0.6496</td><td>4.327</td><td>9606</td><td>&quot;Homo sapiens&quot;</td><td>&quot;-_cellular organisms;d_Eukaryo…</td><td>&quot;EIRMFESSDEMATDLAEYISQVSEISIKER…</td><td>&quot;KLIILEH----YSQASEWAAKYIRNRIIQF…</td><td>175</td><td>&quot;0.620,0.693,0.722,0.729,0.708,…</td></tr><tr><td>&quot;Os03g0416500&quot;</td><td>&quot;Q75IV7&quot;</td><td>&quot;D6RFF8&quot;</td><td>3.5830e-12</td><td>1.0</td><td>15</td><td>18.3</td><td>0.183</td><td>55</td><td>33</td><td>288</td><td>296</td><td>2</td><td>274</td><td>290</td><td>299</td><td>0.865</td><td>0.941</td><td>0.5756</td><td>0.635</td><td>0.6468</td><td>0.6468</td><td>4.217</td><td>9606</td><td>&quot;Homo sapiens&quot;</td><td>&quot;-_cellular organisms;d_Eukaryo…</td><td>&quot;EIRMFESSDEMATDLAEYISQVSEISIKER…</td><td>&quot;KLIILEH----YSQASEWAAKYIRNRIIQF…</td><td>175</td><td>&quot;0.625,0.697,0.704,0.718,0.708,…</td></tr><tr><td>&quot;Os03g0416500&quot;</td><td>&quot;Q75IV7&quot;</td><td>&quot;M0R0U3&quot;</td><td>9.6580e-7</td><td>1.0</td><td>4</td><td>34.4</td><td>0.344</td><td>42</td><td>37</td><td>154</td><td>296</td><td>12</td><td>132</td><td>179</td><td>122</td><td>0.399</td><td>0.676</td><td>0.6066</td><td>0.3793</td><td>0.6171</td><td>0.6171</td><td>1.627</td><td>9606</td><td>&quot;Homo sapiens&quot;</td><td>&quot;-_cellular organisms;d_Eukaryo…</td><td>&quot;FESSDEMATDLAEYISQVSEISIK-ERGYF…</td><td>&quot;FSSSQELGAALAQLVAQRAACCLAGARARF…</td><td>75</td><td>&quot;0.351,0.355,0.469,0.500,0.597,…</td></tr><tr><td>&quot;Os03g0416500&quot;</td><td>&quot;Q75IV7&quot;</td><td>&quot;M0R1L2&quot;</td><td>0.0000161</td><td>1.0</td><td>5</td><td>26.3</td><td>0.263</td><td>55</td><td>88</td><td>296</td><td>296</td><td>2</td><td>144</td><td>147</td><td>209</td><td>0.706</td><td>0.973</td><td>0.4612</td><td>0.3363</td><td>0.6505</td><td>0.6505</td><td>8.568</td><td>9606</td><td>&quot;Homo sapiens&quot;</td><td>&quot;-_cellular organisms;d_Eukaryo…</td><td>&quot;KTLDWSKWYIFWADERAVAKNHVDSYYKST…</td><td>&quot;GPASLARWTLGFCDERLVPFDHAESTYGLY…</td><td>88</td><td>&quot;0.133,0.326,0.213,0.339,0.366,…</td></tr><tr><td>&quot;Os03g0416500&quot;</td><td>&quot;Q75IV7&quot;</td><td>&quot;D6RAY7&quot;</td><td>0.000032</td><td>1.0</td><td>14</td><td>17.3</td><td>0.173</td><td>47</td><td>33</td><td>288</td><td>296</td><td>2</td><td>219</td><td>237</td><td>271</td><td>0.865</td><td>0.92</td><td>0.4806</td><td>0.5319</td><td>0.646</td><td>0.646</td><td>5.895</td><td>9606</td><td>&quot;Homo sapiens&quot;</td><td>&quot;-_cellular organisms;d_Eukaryo…</td><td>&quot;EIRMFESSDEMATDLAEYISQVSEISIKER…</td><td>&quot;KLIILEH----YSQASEWAAKYIRNRIIQF…</td><td>156</td><td>&quot;0.495,0.537,0.560,0.527,0.494,…</td></tr></tbody></table></div>"
      ],
      "text/plain": [
       "shape: (15_112, 30)\n",
       "┌───────────┬───────────┬───────────┬───────────┬───┬───────────┬───────────┬──────────┬───────────┐\n",
       "│ From      ┆ UniProt   ┆ foldseek  ┆ evalue    ┆ … ┆ qaln      ┆ taln      ┆ mismatch ┆ lddtfull  │\n",
       "│ ---       ┆ Accession ┆ hit       ┆ ---       ┆   ┆ ---       ┆ ---       ┆ ---      ┆ ---       │\n",
       "│ str       ┆ ---       ┆ ---       ┆ f64       ┆   ┆ str       ┆ str       ┆ i64      ┆ str       │\n",
       "│           ┆ str       ┆ str       ┆           ┆   ┆           ┆           ┆          ┆           │\n",
       "╞═══════════╪═══════════╪═══════════╪═══════════╪═══╪═══════════╪═══════════╪══════════╪═══════════╡\n",
       "│ Os10g0540 ┆ Q7XCM3    ┆ A0A6Q8PGX ┆ 1.5900e-1 ┆ … ┆ QESAAS-SY ┆ MASAAVESF ┆ 316      ┆ 0.438,0.3 │\n",
       "│ 800       ┆           ┆ 2         ┆ 1         ┆   ┆ AKSLLEPLV ┆ VTKQLDLLE ┆          ┆ 95,0.591, │\n",
       "│           ┆           ┆           ┆           ┆   ┆ EETVAAVQS ┆ LERDAEVEE ┆          ┆ 0.366,0.2 │\n",
       "│           ┆           ┆           ┆           ┆   ┆ A--…      ┆ RRS…      ┆          ┆ 45,…      │\n",
       "│ Os10g0540 ┆ Q7XCM3    ┆ A0A024R7L ┆ 1.4420e-1 ┆ … ┆ ESNFENPQE ┆ PGVDEEPQH ┆ 305      ┆ 0.092,0.1 │\n",
       "│ 800       ┆           ┆ 5         ┆ 1         ┆   ┆ SAASSY-AK ┆ VLLRYEDAY ┆          ┆ 31,0.179, │\n",
       "│           ┆           ┆           ┆           ┆   ┆ SLLE---PL ┆ QYQNIFGPL ┆          ┆ 0.163,0.2 │\n",
       "│           ┆           ┆           ┆           ┆   ┆ VEE…      ┆ VKL…      ┆          ┆ 41,…      │\n",
       "│ Os10g0540 ┆ Q7XCM3    ┆ A0A024R7L ┆ 5.1620e-1 ┆ … ┆ ESNFENPQE ┆ PGVDEEPQH ┆ 304      ┆ 0.092,0.1 │\n",
       "│ 800       ┆           ┆ 8         ┆ 1         ┆   ┆ SAASSY-AK ┆ VLLRYEDAY ┆          ┆ 25,0.193, │\n",
       "│           ┆           ┆           ┆           ┆   ┆ SLLE---PL ┆ QYQNIFGPL ┆          ┆ 0.163,0.2 │\n",
       "│           ┆           ┆           ┆           ┆   ┆ VEE…      ┆ VKL…      ┆          ┆ 59,…      │\n",
       "│ Os10g0540 ┆ Q7XCM3    ┆ Q92900    ┆ 5.4210e-1 ┆ … ┆ LINYI---L ┆ QINKLEELW ┆ 318      ┆ 0.164,0.0 │\n",
       "│ 800       ┆           ┆           ┆ 1         ┆   ┆ SWSWTTCIE ┆ KENPSATLE ┆          ┆ 99,0.170, │\n",
       "│           ┆           ┆           ┆           ┆   ┆ S-NFENPQE ┆ DLEKPGVDE ┆          ┆ 0.159,0.0 │\n",
       "│           ┆           ┆           ┆           ┆   ┆ S--…      ┆ EPQ…      ┆          ┆ 97,…      │\n",
       "│ Os10g0540 ┆ Q7XCM3    ┆ P38935    ┆ 3.3190e-1 ┆ … ┆ QESAAS-SY ┆ MASAAVESF ┆ 289      ┆ 0.562,0.4 │\n",
       "│ 800       ┆           ┆           ┆ 1         ┆   ┆ AKSLLEPLV ┆ VTKQLDLLE ┆          ┆ 27,0.583, │\n",
       "│           ┆           ┆           ┆           ┆   ┆ EETVAAVQS ┆ LERDAEVEE ┆          ┆ 0.372,0.2 │\n",
       "│           ┆           ┆           ┆           ┆   ┆ A--…      ┆ RRS…      ┆          ┆ 55,…      │\n",
       "│ …         ┆ …         ┆ …         ┆ …         ┆ … ┆ …         ┆ …         ┆ …        ┆ …         │\n",
       "│ Os03g0416 ┆ Q75IV7    ┆ P46926    ┆ 9.6400e-1 ┆ … ┆ EIRMFESSD ┆ KLIILEH-- ┆ 175      ┆ 0.620,0.6 │\n",
       "│ 500       ┆           ┆           ┆ 3         ┆   ┆ EMATDLAEY ┆ --YSQASEW ┆          ┆ 93,0.722, │\n",
       "│           ┆           ┆           ┆           ┆   ┆ ISQVSEISI ┆ AAKYIRNRI ┆          ┆ 0.729,0.7 │\n",
       "│           ┆           ┆           ┆           ┆   ┆ KER…      ┆ IQF…      ┆          ┆ 08,…      │\n",
       "│ Os03g0416 ┆ Q75IV7    ┆ D6RFF8    ┆ 3.5830e-1 ┆ … ┆ EIRMFESSD ┆ KLIILEH-- ┆ 175      ┆ 0.625,0.6 │\n",
       "│ 500       ┆           ┆           ┆ 2         ┆   ┆ EMATDLAEY ┆ --YSQASEW ┆          ┆ 97,0.704, │\n",
       "│           ┆           ┆           ┆           ┆   ┆ ISQVSEISI ┆ AAKYIRNRI ┆          ┆ 0.718,0.7 │\n",
       "│           ┆           ┆           ┆           ┆   ┆ KER…      ┆ IQF…      ┆          ┆ 08,…      │\n",
       "│ Os03g0416 ┆ Q75IV7    ┆ M0R0U3    ┆ 9.6580e-7 ┆ … ┆ FESSDEMAT ┆ FSSSQELGA ┆ 75       ┆ 0.351,0.3 │\n",
       "│ 500       ┆           ┆           ┆           ┆   ┆ DLAEYISQV ┆ ALAQLVAQR ┆          ┆ 55,0.469, │\n",
       "│           ┆           ┆           ┆           ┆   ┆ SEISIK-ER ┆ AACCLAGAR ┆          ┆ 0.500,0.5 │\n",
       "│           ┆           ┆           ┆           ┆   ┆ GYF…      ┆ ARF…      ┆          ┆ 97,…      │\n",
       "│ Os03g0416 ┆ Q75IV7    ┆ M0R1L2    ┆ 0.0000161 ┆ … ┆ KTLDWSKWY ┆ GPASLARWT ┆ 88       ┆ 0.133,0.3 │\n",
       "│ 500       ┆           ┆           ┆           ┆   ┆ IFWADERAV ┆ LGFCDERLV ┆          ┆ 26,0.213, │\n",
       "│           ┆           ┆           ┆           ┆   ┆ AKNHVDSYY ┆ PFDHAESTY ┆          ┆ 0.339,0.3 │\n",
       "│           ┆           ┆           ┆           ┆   ┆ KST…      ┆ GLY…      ┆          ┆ 66,…      │\n",
       "│ Os03g0416 ┆ Q75IV7    ┆ D6RAY7    ┆ 0.000032  ┆ … ┆ EIRMFESSD ┆ KLIILEH-- ┆ 156      ┆ 0.495,0.5 │\n",
       "│ 500       ┆           ┆           ┆           ┆   ┆ EMATDLAEY ┆ --YSQASEW ┆          ┆ 37,0.560, │\n",
       "│           ┆           ┆           ┆           ┆   ┆ ISQVSEISI ┆ AAKYIRNRI ┆          ┆ 0.527,0.4 │\n",
       "│           ┆           ┆           ┆           ┆   ┆ KER…      ┆ IQF…      ┆          ┆ 94,…      │\n",
       "└───────────┴───────────┴───────────┴───────────┴───┴───────────┴───────────┴──────────┴───────────┘"
      ]
     },
     "metadata": {},
     "output_type": "display_data"
    }
   ],
   "source": [
    "foldseek_result_df = pl.read_csv(\n",
    "    foldseek_result_tsv,\n",
    "    separator='\\t'\n",
    ")\n",
    "\n",
    "foldseek_result = pl.read_csv(\n",
    "    query_uniprot_idmapping_tsv, # query idmapping\n",
    "    separator='\\t'\n",
    ").join(\n",
    "    foldseek_result_df,\n",
    "    on=\"UniProt Accession\",\n",
    "    how=\"inner\",\n",
    "    coalesce=True\n",
    ")\n",
    "\n",
    "display(foldseek_result)"
   ]
  },
  {
   "cell_type": "markdown",
   "metadata": {},
   "source": [
    "&nbsp;\n",
    "\n",
    "&nbsp;\n",
    "\n",
    "&nbsp;"
   ]
  },
  {
   "cell_type": "markdown",
   "metadata": {},
   "source": [
    "## Parse pairwise alignment result (water and needle)"
   ]
  },
  {
   "cell_type": "code",
   "execution_count": 9,
   "metadata": {},
   "outputs": [],
   "source": [
    "def parse_needle_water_result(file_path: str):\n",
    "    with open(file_path, \"r\", encoding=\"utf-8\") as file:\n",
    "        data = file.readlines()\n",
    "        \n",
    "    result = {\n",
    "        \"UniProt Accession\": None,\n",
    "        \"foldseek hit\": None,\n",
    "        \"Length\": None,\n",
    "        \"Identity\": None,\n",
    "        \"Identity_percent\": None,\n",
    "        \"Similarity\": None,\n",
    "        \"Similarity_percent\": None,\n",
    "        \"Gaps\": None,\n",
    "        \"Gaps_percent\": None,\n",
    "        \"Score\": None\n",
    "    }\n",
    "    \n",
    "    for line in data:\n",
    "        if line.startswith('# 1:'):\n",
    "            result['UniProt Accession'] = line.split(':')[1].strip()\n",
    "        elif line.startswith('# 2:'):\n",
    "            result['foldseek hit'] = line.split(':')[1].strip()\n",
    "        elif line.startswith('# Length:'):\n",
    "            result['Length'] = int(line.split()[2])\n",
    "        elif line.startswith('# Identity:'):\n",
    "            result['Identity'] = line.split()[2]\n",
    "            result['Identity_percent'] = float(re.search(r'\\((.*?)%\\)', line).group(1))\n",
    "        elif line.startswith('# Similarity:'):\n",
    "            result['Similarity'] = line.split()[2]\n",
    "            result['Similarity_percent'] = float(re.search(r'\\((.*?)%\\)', line).group(1))\n",
    "        elif line.startswith('# Gaps:'):\n",
    "            result['Gaps'] = line.split()[2]\n",
    "            result['Gaps_percent'] = float(re.search(r'\\((.*?)%\\)', line).group(1))\n",
    "        elif line.startswith('# Score:'):\n",
    "            result['Score'] = float(line.split()[2])\n",
    "            \n",
    "    return result"
   ]
  },
  {
   "cell_type": "code",
   "execution_count": 10,
   "metadata": {},
   "outputs": [
    {
     "data": {
      "text/html": [
       "<div><style>\n",
       ".dataframe > thead > tr,\n",
       ".dataframe > tbody > tr {\n",
       "  text-align: right;\n",
       "  white-space: pre-wrap;\n",
       "}\n",
       "</style>\n",
       "<small>shape: (14_037, 10)</small><table border=\"1\" class=\"dataframe\"><thead><tr><th>UniProt Accession</th><th>foldseek hit</th><th>Length</th><th>Identity</th><th>Identity_percent</th><th>Similarity</th><th>Similarity_percent</th><th>Gaps</th><th>Gaps_percent</th><th>Score</th></tr><tr><td>str</td><td>str</td><td>i64</td><td>str</td><td>f64</td><td>str</td><td>f64</td><td>str</td><td>f64</td><td>f64</td></tr></thead><tbody><tr><td>&quot;A0A0N7KHW2&quot;</td><td>&quot;Q5T9P8&quot;</td><td>137</td><td>&quot;37/137&quot;</td><td>27.0</td><td>&quot;55/137&quot;</td><td>40.1</td><td>&quot;44/137&quot;</td><td>32.1</td><td>95.0</td></tr><tr><td>&quot;A0A0N7KKY0&quot;</td><td>&quot;A0A0K0K1J6&quot;</td><td>112</td><td>&quot;30/112&quot;</td><td>26.8</td><td>&quot;42/112&quot;</td><td>37.5</td><td>&quot;30/112&quot;</td><td>26.8</td><td>73.5</td></tr><tr><td>&quot;A0A0N7KKY0&quot;</td><td>&quot;B2R894&quot;</td><td>184</td><td>&quot;41/184&quot;</td><td>22.3</td><td>&quot;57/184&quot;</td><td>31.0</td><td>&quot;80/184&quot;</td><td>43.5</td><td>68.0</td></tr><tr><td>&quot;A0A0N7KKY0&quot;</td><td>&quot;D9IAI1&quot;</td><td>156</td><td>&quot;39/156&quot;</td><td>25.0</td><td>&quot;56/156&quot;</td><td>35.9</td><td>&quot;45/156&quot;</td><td>28.8</td><td>79.5</td></tr><tr><td>&quot;A0A0N7KKY0&quot;</td><td>&quot;P30086&quot;</td><td>156</td><td>&quot;39/156&quot;</td><td>25.0</td><td>&quot;56/156&quot;</td><td>35.9</td><td>&quot;45/156&quot;</td><td>28.8</td><td>79.5</td></tr><tr><td>&hellip;</td><td>&hellip;</td><td>&hellip;</td><td>&hellip;</td><td>&hellip;</td><td>&hellip;</td><td>&hellip;</td><td>&hellip;</td><td>&hellip;</td><td>&hellip;</td></tr><tr><td>&quot;Q9XFE4&quot;</td><td>&quot;Q9UJX3&quot;</td><td>384</td><td>&quot;72/384&quot;</td><td>18.8</td><td>&quot;137/384&quot;</td><td>35.7</td><td>&quot;107/384&quot;</td><td>27.9</td><td>92.5</td></tr><tr><td>&quot;Q9XFE4&quot;</td><td>&quot;Q9Y680&quot;</td><td>198</td><td>&quot;64/198&quot;</td><td>32.3</td><td>&quot;92/198&quot;</td><td>46.5</td><td>&quot;33/198&quot;</td><td>16.7</td><td>190.0</td></tr><tr><td>&quot;Q9XFE4&quot;</td><td>&quot;Q9Y6J0&quot;</td><td>171</td><td>&quot;42/171&quot;</td><td>24.6</td><td>&quot;72/171&quot;</td><td>42.1</td><td>&quot;34/171&quot;</td><td>19.9</td><td>76.5</td></tr><tr><td>&quot;Q9XFE4&quot;</td><td>&quot;V9HW72&quot;</td><td>526</td><td>&quot;106/526&quot;</td><td>20.2</td><td>&quot;187/526&quot;</td><td>35.6</td><td>&quot;172/526&quot;</td><td>32.7</td><td>158.0</td></tr><tr><td>&quot;Q9XFE4&quot;</td><td>&quot;X6R9L0&quot;</td><td>417</td><td>&quot;87/417&quot;</td><td>20.9</td><td>&quot;164/417&quot;</td><td>39.3</td><td>&quot;94/417&quot;</td><td>22.5</td><td>154.5</td></tr></tbody></table></div>"
      ],
      "text/plain": [
       "shape: (14_037, 10)\n",
       "┌──────────────┬─────────────┬────────┬──────────┬───┬─────────────┬─────────┬─────────────┬───────┐\n",
       "│ UniProt      ┆ foldseek    ┆ Length ┆ Identity ┆ … ┆ Similarity_ ┆ Gaps    ┆ Gaps_percen ┆ Score │\n",
       "│ Accession    ┆ hit         ┆ ---    ┆ ---      ┆   ┆ percent     ┆ ---     ┆ t           ┆ ---   │\n",
       "│ ---          ┆ ---         ┆ i64    ┆ str      ┆   ┆ ---         ┆ str     ┆ ---         ┆ f64   │\n",
       "│ str          ┆ str         ┆        ┆          ┆   ┆ f64         ┆         ┆ f64         ┆       │\n",
       "╞══════════════╪═════════════╪════════╪══════════╪═══╪═════════════╪═════════╪═════════════╪═══════╡\n",
       "│ A0A0N7KHW2   ┆ Q5T9P8      ┆ 137    ┆ 37/137   ┆ … ┆ 40.1        ┆ 44/137  ┆ 32.1        ┆ 95.0  │\n",
       "│ A0A0N7KKY0   ┆ A0A0K0K1J6  ┆ 112    ┆ 30/112   ┆ … ┆ 37.5        ┆ 30/112  ┆ 26.8        ┆ 73.5  │\n",
       "│ A0A0N7KKY0   ┆ B2R894      ┆ 184    ┆ 41/184   ┆ … ┆ 31.0        ┆ 80/184  ┆ 43.5        ┆ 68.0  │\n",
       "│ A0A0N7KKY0   ┆ D9IAI1      ┆ 156    ┆ 39/156   ┆ … ┆ 35.9        ┆ 45/156  ┆ 28.8        ┆ 79.5  │\n",
       "│ A0A0N7KKY0   ┆ P30086      ┆ 156    ┆ 39/156   ┆ … ┆ 35.9        ┆ 45/156  ┆ 28.8        ┆ 79.5  │\n",
       "│ …            ┆ …           ┆ …      ┆ …        ┆ … ┆ …           ┆ …       ┆ …           ┆ …     │\n",
       "│ Q9XFE4       ┆ Q9UJX3      ┆ 384    ┆ 72/384   ┆ … ┆ 35.7        ┆ 107/384 ┆ 27.9        ┆ 92.5  │\n",
       "│ Q9XFE4       ┆ Q9Y680      ┆ 198    ┆ 64/198   ┆ … ┆ 46.5        ┆ 33/198  ┆ 16.7        ┆ 190.0 │\n",
       "│ Q9XFE4       ┆ Q9Y6J0      ┆ 171    ┆ 42/171   ┆ … ┆ 42.1        ┆ 34/171  ┆ 19.9        ┆ 76.5  │\n",
       "│ Q9XFE4       ┆ V9HW72      ┆ 526    ┆ 106/526  ┆ … ┆ 35.6        ┆ 172/526 ┆ 32.7        ┆ 158.0 │\n",
       "│ Q9XFE4       ┆ X6R9L0      ┆ 417    ┆ 87/417   ┆ … ┆ 39.3        ┆ 94/417  ┆ 22.5        ┆ 154.5 │\n",
       "└──────────────┴─────────────┴────────┴──────────┴───┴─────────────┴─────────┴─────────────┴───────┘"
      ]
     },
     "metadata": {},
     "output_type": "display_data"
    },
    {
     "data": {
      "text/html": [
       "<div><style>\n",
       ".dataframe > thead > tr,\n",
       ".dataframe > tbody > tr {\n",
       "  text-align: right;\n",
       "  white-space: pre-wrap;\n",
       "}\n",
       "</style>\n",
       "<small>shape: (14_037, 10)</small><table border=\"1\" class=\"dataframe\"><thead><tr><th>UniProt Accession</th><th>foldseek hit</th><th>Length</th><th>Identity</th><th>Identity_percent</th><th>Similarity</th><th>Similarity_percent</th><th>Gaps</th><th>Gaps_percent</th><th>Score</th></tr><tr><td>str</td><td>str</td><td>i64</td><td>str</td><td>f64</td><td>str</td><td>f64</td><td>str</td><td>f64</td><td>f64</td></tr></thead><tbody><tr><td>&quot;A0A0N7KHW2&quot;</td><td>&quot;Q5T9P8&quot;</td><td>350</td><td>&quot;48/350&quot;</td><td>13.7</td><td>&quot;74/350&quot;</td><td>21.1</td><td>&quot;215/350&quot;</td><td>61.4</td><td>75.0</td></tr><tr><td>&quot;A0A0N7KKY0&quot;</td><td>&quot;A0A0K0K1J6&quot;</td><td>209</td><td>&quot;35/209&quot;</td><td>16.7</td><td>&quot;51/209&quot;</td><td>24.4</td><td>&quot;111/209&quot;</td><td>53.1</td><td>59.5</td></tr><tr><td>&quot;A0A0N7KKY0&quot;</td><td>&quot;B2R894&quot;</td><td>379</td><td>&quot;46/379&quot;</td><td>12.1</td><td>&quot;66/379&quot;</td><td>17.4</td><td>&quot;245/379&quot;</td><td>64.6</td><td>48.0</td></tr><tr><td>&quot;A0A0N7KKY0&quot;</td><td>&quot;D9IAI1&quot;</td><td>230</td><td>&quot;43/230&quot;</td><td>18.7</td><td>&quot;61/230&quot;</td><td>26.5</td><td>&quot;106/230&quot;</td><td>46.1</td><td>65.5</td></tr><tr><td>&quot;A0A0N7KKY0&quot;</td><td>&quot;P30086&quot;</td><td>230</td><td>&quot;43/230&quot;</td><td>18.7</td><td>&quot;61/230&quot;</td><td>26.5</td><td>&quot;106/230&quot;</td><td>46.1</td><td>65.5</td></tr><tr><td>&hellip;</td><td>&hellip;</td><td>&hellip;</td><td>&hellip;</td><td>&hellip;</td><td>&hellip;</td><td>&hellip;</td><td>&hellip;</td><td>&hellip;</td><td>&hellip;</td></tr><tr><td>&quot;Q9XFE4&quot;</td><td>&quot;Q9UJX3&quot;</td><td>781</td><td>&quot;92/781&quot;</td><td>11.8</td><td>&quot;174/781&quot;</td><td>22.3</td><td>&quot;412/781&quot;</td><td>52.8</td><td>76.5</td></tr><tr><td>&quot;Q9XFE4&quot;</td><td>&quot;Q9Y680&quot;</td><td>623</td><td>&quot;68/623&quot;</td><td>10.9</td><td>&quot;97/623&quot;</td><td>15.6</td><td>&quot;439/623&quot;</td><td>70.5</td><td>170.0</td></tr><tr><td>&quot;Q9XFE4&quot;</td><td>&quot;Q9Y6J0&quot;</td><td>2612</td><td>&quot;58/2612&quot;</td><td>2.2</td><td>&quot;93/2612&quot;</td><td>3.6</td><td>&quot;2419/2612&quot;</td><td>92.6</td><td>60.5</td></tr><tr><td>&quot;Q9XFE4&quot;</td><td>&quot;V9HW72&quot;</td><td>701</td><td>&quot;122/701&quot;</td><td>17.4</td><td>&quot;215/701&quot;</td><td>30.7</td><td>&quot;274/701&quot;</td><td>39.1</td><td>149.5</td></tr><tr><td>&quot;Q9XFE4&quot;</td><td>&quot;X6R9L0&quot;</td><td>696</td><td>&quot;92/696&quot;</td><td>13.2</td><td>&quot;173/696&quot;</td><td>24.9</td><td>&quot;354/696&quot;</td><td>50.9</td><td>151.0</td></tr></tbody></table></div>"
      ],
      "text/plain": [
       "shape: (14_037, 10)\n",
       "┌─────────────┬─────────────┬────────┬──────────┬───┬─────────────┬───────────┬────────────┬───────┐\n",
       "│ UniProt     ┆ foldseek    ┆ Length ┆ Identity ┆ … ┆ Similarity_ ┆ Gaps      ┆ Gaps_perce ┆ Score │\n",
       "│ Accession   ┆ hit         ┆ ---    ┆ ---      ┆   ┆ percent     ┆ ---       ┆ nt         ┆ ---   │\n",
       "│ ---         ┆ ---         ┆ i64    ┆ str      ┆   ┆ ---         ┆ str       ┆ ---        ┆ f64   │\n",
       "│ str         ┆ str         ┆        ┆          ┆   ┆ f64         ┆           ┆ f64        ┆       │\n",
       "╞═════════════╪═════════════╪════════╪══════════╪═══╪═════════════╪═══════════╪════════════╪═══════╡\n",
       "│ A0A0N7KHW2  ┆ Q5T9P8      ┆ 350    ┆ 48/350   ┆ … ┆ 21.1        ┆ 215/350   ┆ 61.4       ┆ 75.0  │\n",
       "│ A0A0N7KKY0  ┆ A0A0K0K1J6  ┆ 209    ┆ 35/209   ┆ … ┆ 24.4        ┆ 111/209   ┆ 53.1       ┆ 59.5  │\n",
       "│ A0A0N7KKY0  ┆ B2R894      ┆ 379    ┆ 46/379   ┆ … ┆ 17.4        ┆ 245/379   ┆ 64.6       ┆ 48.0  │\n",
       "│ A0A0N7KKY0  ┆ D9IAI1      ┆ 230    ┆ 43/230   ┆ … ┆ 26.5        ┆ 106/230   ┆ 46.1       ┆ 65.5  │\n",
       "│ A0A0N7KKY0  ┆ P30086      ┆ 230    ┆ 43/230   ┆ … ┆ 26.5        ┆ 106/230   ┆ 46.1       ┆ 65.5  │\n",
       "│ …           ┆ …           ┆ …      ┆ …        ┆ … ┆ …           ┆ …         ┆ …          ┆ …     │\n",
       "│ Q9XFE4      ┆ Q9UJX3      ┆ 781    ┆ 92/781   ┆ … ┆ 22.3        ┆ 412/781   ┆ 52.8       ┆ 76.5  │\n",
       "│ Q9XFE4      ┆ Q9Y680      ┆ 623    ┆ 68/623   ┆ … ┆ 15.6        ┆ 439/623   ┆ 70.5       ┆ 170.0 │\n",
       "│ Q9XFE4      ┆ Q9Y6J0      ┆ 2612   ┆ 58/2612  ┆ … ┆ 3.6         ┆ 2419/2612 ┆ 92.6       ┆ 60.5  │\n",
       "│ Q9XFE4      ┆ V9HW72      ┆ 701    ┆ 122/701  ┆ … ┆ 30.7        ┆ 274/701   ┆ 39.1       ┆ 149.5 │\n",
       "│ Q9XFE4      ┆ X6R9L0      ┆ 696    ┆ 92/696   ┆ … ┆ 24.9        ┆ 354/696   ┆ 50.9       ┆ 151.0 │\n",
       "└─────────────┴─────────────┴────────┴──────────┴───┴─────────────┴───────────┴────────────┴───────┘"
      ]
     },
     "metadata": {},
     "output_type": "display_data"
    }
   ],
   "source": [
    "water_result_dir = pathlib.Path(water_result_dir_path)\n",
    "needle_result_dir = pathlib.Path(needle_result_dir_path)\n",
    "\n",
    "# Initialize empty lists to store DataFrames\n",
    "water_dfs = []\n",
    "needle_dfs = []\n",
    "\n",
    "# Collect all water results\n",
    "for result_file in water_result_dir.glob(\"*_align.water\"):\n",
    "    parsed_data = parse_needle_water_result(result_file)\n",
    "    water_dfs.append(pl.DataFrame([parsed_data]))\n",
    "\n",
    "# Collect all needle results    \n",
    "for result_file in needle_result_dir.glob(\"*_align.needle\"):\n",
    "    parsed_data = parse_needle_water_result(result_file)\n",
    "    needle_dfs.append(pl.DataFrame([parsed_data]))\n",
    "\n",
    "# Combine all results and sort only if there are results\n",
    "water_result = (pl.concat(water_dfs, how='vertical')\n",
    "                .sort([\"UniProt Accession\", \"foldseek hit\"]) \n",
    "                if water_dfs else pl.DataFrame())\n",
    "\n",
    "needle_result = (pl.concat(needle_dfs, how='vertical')\n",
    "                 .sort([\"UniProt Accession\", \"foldseek hit\"])\n",
    "                 if needle_dfs else pl.DataFrame())\n",
    "\n",
    "display(water_result)\n",
    "display(needle_result)"
   ]
  },
  {
   "cell_type": "code",
   "execution_count": 11,
   "metadata": {},
   "outputs": [
    {
     "data": {
      "text/html": [
       "<div><style>\n",
       ".dataframe > thead > tr,\n",
       ".dataframe > tbody > tr {\n",
       "  text-align: right;\n",
       "  white-space: pre-wrap;\n",
       "}\n",
       "</style>\n",
       "<small>shape: (14_037, 16)</small><table border=\"1\" class=\"dataframe\"><thead><tr><th>UniProt Accession</th><th>foldseek hit</th><th>Length_water</th><th>Length_needle</th><th>Identity_water</th><th>Identity_needle</th><th>Identity_percent_water</th><th>Identity_percent_needle</th><th>Similarity_percent_water</th><th>Similarity_percent_needle</th><th>Gaps_water</th><th>Gaps_needle</th><th>Gaps_percent_water</th><th>Gaps_percent_needle</th><th>Score_water</th><th>Score_needle</th></tr><tr><td>str</td><td>str</td><td>i64</td><td>i64</td><td>str</td><td>str</td><td>f64</td><td>f64</td><td>f64</td><td>f64</td><td>str</td><td>str</td><td>f64</td><td>f64</td><td>f64</td><td>f64</td></tr></thead><tbody><tr><td>&quot;A0A0N7KHW2&quot;</td><td>&quot;Q5T9P8&quot;</td><td>137</td><td>350</td><td>&quot;37/137&quot;</td><td>&quot;48/350&quot;</td><td>27.0</td><td>13.7</td><td>40.1</td><td>21.1</td><td>&quot;44/137&quot;</td><td>&quot;215/350&quot;</td><td>32.1</td><td>61.4</td><td>95.0</td><td>75.0</td></tr><tr><td>&quot;A0A0N7KKY0&quot;</td><td>&quot;A0A0K0K1J6&quot;</td><td>112</td><td>209</td><td>&quot;30/112&quot;</td><td>&quot;35/209&quot;</td><td>26.8</td><td>16.7</td><td>37.5</td><td>24.4</td><td>&quot;30/112&quot;</td><td>&quot;111/209&quot;</td><td>26.8</td><td>53.1</td><td>73.5</td><td>59.5</td></tr><tr><td>&quot;A0A0N7KKY0&quot;</td><td>&quot;B2R894&quot;</td><td>184</td><td>379</td><td>&quot;41/184&quot;</td><td>&quot;46/379&quot;</td><td>22.3</td><td>12.1</td><td>31.0</td><td>17.4</td><td>&quot;80/184&quot;</td><td>&quot;245/379&quot;</td><td>43.5</td><td>64.6</td><td>68.0</td><td>48.0</td></tr><tr><td>&quot;A0A0N7KKY0&quot;</td><td>&quot;D9IAI1&quot;</td><td>156</td><td>230</td><td>&quot;39/156&quot;</td><td>&quot;43/230&quot;</td><td>25.0</td><td>18.7</td><td>35.9</td><td>26.5</td><td>&quot;45/156&quot;</td><td>&quot;106/230&quot;</td><td>28.8</td><td>46.1</td><td>79.5</td><td>65.5</td></tr><tr><td>&quot;A0A0N7KKY0&quot;</td><td>&quot;P30086&quot;</td><td>156</td><td>230</td><td>&quot;39/156&quot;</td><td>&quot;43/230&quot;</td><td>25.0</td><td>18.7</td><td>35.9</td><td>26.5</td><td>&quot;45/156&quot;</td><td>&quot;106/230&quot;</td><td>28.8</td><td>46.1</td><td>79.5</td><td>65.5</td></tr><tr><td>&hellip;</td><td>&hellip;</td><td>&hellip;</td><td>&hellip;</td><td>&hellip;</td><td>&hellip;</td><td>&hellip;</td><td>&hellip;</td><td>&hellip;</td><td>&hellip;</td><td>&hellip;</td><td>&hellip;</td><td>&hellip;</td><td>&hellip;</td><td>&hellip;</td><td>&hellip;</td></tr><tr><td>&quot;Q9XFE4&quot;</td><td>&quot;Q9UJX3&quot;</td><td>384</td><td>781</td><td>&quot;72/384&quot;</td><td>&quot;92/781&quot;</td><td>18.8</td><td>11.8</td><td>35.7</td><td>22.3</td><td>&quot;107/384&quot;</td><td>&quot;412/781&quot;</td><td>27.9</td><td>52.8</td><td>92.5</td><td>76.5</td></tr><tr><td>&quot;Q9XFE4&quot;</td><td>&quot;Q9Y680&quot;</td><td>198</td><td>623</td><td>&quot;64/198&quot;</td><td>&quot;68/623&quot;</td><td>32.3</td><td>10.9</td><td>46.5</td><td>15.6</td><td>&quot;33/198&quot;</td><td>&quot;439/623&quot;</td><td>16.7</td><td>70.5</td><td>190.0</td><td>170.0</td></tr><tr><td>&quot;Q9XFE4&quot;</td><td>&quot;Q9Y6J0&quot;</td><td>171</td><td>2612</td><td>&quot;42/171&quot;</td><td>&quot;58/2612&quot;</td><td>24.6</td><td>2.2</td><td>42.1</td><td>3.6</td><td>&quot;34/171&quot;</td><td>&quot;2419/2612&quot;</td><td>19.9</td><td>92.6</td><td>76.5</td><td>60.5</td></tr><tr><td>&quot;Q9XFE4&quot;</td><td>&quot;V9HW72&quot;</td><td>526</td><td>701</td><td>&quot;106/526&quot;</td><td>&quot;122/701&quot;</td><td>20.2</td><td>17.4</td><td>35.6</td><td>30.7</td><td>&quot;172/526&quot;</td><td>&quot;274/701&quot;</td><td>32.7</td><td>39.1</td><td>158.0</td><td>149.5</td></tr><tr><td>&quot;Q9XFE4&quot;</td><td>&quot;X6R9L0&quot;</td><td>417</td><td>696</td><td>&quot;87/417&quot;</td><td>&quot;92/696&quot;</td><td>20.9</td><td>13.2</td><td>39.3</td><td>24.9</td><td>&quot;94/417&quot;</td><td>&quot;354/696&quot;</td><td>22.5</td><td>50.9</td><td>154.5</td><td>151.0</td></tr></tbody></table></div>"
      ],
      "text/plain": [
       "shape: (14_037, 16)\n",
       "┌───────────┬───────────┬───────────┬───────────┬───┬───────────┬───────────┬───────────┬──────────┐\n",
       "│ UniProt   ┆ foldseek  ┆ Length_wa ┆ Length_ne ┆ … ┆ Gaps_perc ┆ Gaps_perc ┆ Score_wat ┆ Score_ne │\n",
       "│ Accession ┆ hit       ┆ ter       ┆ edle      ┆   ┆ ent_water ┆ ent_needl ┆ er        ┆ edle     │\n",
       "│ ---       ┆ ---       ┆ ---       ┆ ---       ┆   ┆ ---       ┆ e         ┆ ---       ┆ ---      │\n",
       "│ str       ┆ str       ┆ i64       ┆ i64       ┆   ┆ f64       ┆ ---       ┆ f64       ┆ f64      │\n",
       "│           ┆           ┆           ┆           ┆   ┆           ┆ f64       ┆           ┆          │\n",
       "╞═══════════╪═══════════╪═══════════╪═══════════╪═══╪═══════════╪═══════════╪═══════════╪══════════╡\n",
       "│ A0A0N7KHW ┆ Q5T9P8    ┆ 137       ┆ 350       ┆ … ┆ 32.1      ┆ 61.4      ┆ 95.0      ┆ 75.0     │\n",
       "│ 2         ┆           ┆           ┆           ┆   ┆           ┆           ┆           ┆          │\n",
       "│ A0A0N7KKY ┆ A0A0K0K1J ┆ 112       ┆ 209       ┆ … ┆ 26.8      ┆ 53.1      ┆ 73.5      ┆ 59.5     │\n",
       "│ 0         ┆ 6         ┆           ┆           ┆   ┆           ┆           ┆           ┆          │\n",
       "│ A0A0N7KKY ┆ B2R894    ┆ 184       ┆ 379       ┆ … ┆ 43.5      ┆ 64.6      ┆ 68.0      ┆ 48.0     │\n",
       "│ 0         ┆           ┆           ┆           ┆   ┆           ┆           ┆           ┆          │\n",
       "│ A0A0N7KKY ┆ D9IAI1    ┆ 156       ┆ 230       ┆ … ┆ 28.8      ┆ 46.1      ┆ 79.5      ┆ 65.5     │\n",
       "│ 0         ┆           ┆           ┆           ┆   ┆           ┆           ┆           ┆          │\n",
       "│ A0A0N7KKY ┆ P30086    ┆ 156       ┆ 230       ┆ … ┆ 28.8      ┆ 46.1      ┆ 79.5      ┆ 65.5     │\n",
       "│ 0         ┆           ┆           ┆           ┆   ┆           ┆           ┆           ┆          │\n",
       "│ …         ┆ …         ┆ …         ┆ …         ┆ … ┆ …         ┆ …         ┆ …         ┆ …        │\n",
       "│ Q9XFE4    ┆ Q9UJX3    ┆ 384       ┆ 781       ┆ … ┆ 27.9      ┆ 52.8      ┆ 92.5      ┆ 76.5     │\n",
       "│ Q9XFE4    ┆ Q9Y680    ┆ 198       ┆ 623       ┆ … ┆ 16.7      ┆ 70.5      ┆ 190.0     ┆ 170.0    │\n",
       "│ Q9XFE4    ┆ Q9Y6J0    ┆ 171       ┆ 2612      ┆ … ┆ 19.9      ┆ 92.6      ┆ 76.5      ┆ 60.5     │\n",
       "│ Q9XFE4    ┆ V9HW72    ┆ 526       ┆ 701       ┆ … ┆ 32.7      ┆ 39.1      ┆ 158.0     ┆ 149.5    │\n",
       "│ Q9XFE4    ┆ X6R9L0    ┆ 417       ┆ 696       ┆ … ┆ 22.5      ┆ 50.9      ┆ 154.5     ┆ 151.0    │\n",
       "└───────────┴───────────┴───────────┴───────────┴───┴───────────┴───────────┴───────────┴──────────┘"
      ]
     },
     "metadata": {},
     "output_type": "display_data"
    }
   ],
   "source": [
    "alignment_result = water_result.join(\n",
    "    needle_result,\n",
    "    on=[\"UniProt Accession\", \"foldseek hit\"],\n",
    "    how=\"inner\",\n",
    "    coalesce=True,\n",
    "    suffix=\"_needle\"\n",
    ").rename(\n",
    "    {\n",
    "        \"Length\": \"Length_water\",\n",
    "        \"Identity\": \"Identity_water\",\n",
    "        \"Identity_percent\": \"Identity_percent_water\",\n",
    "        \"Similarity\": \"Similarity_water\",\n",
    "        \"Similarity_percent\": \"Similarity_percent_water\",\n",
    "        \"Gaps\": \"Gaps_water\",\n",
    "        \"Gaps_percent\": \"Gaps_percent_water\",\n",
    "        \"Score\": \"Score_water\"\n",
    "    }\n",
    ").select(\n",
    "    [\n",
    "        \"UniProt Accession\",\n",
    "        \"foldseek hit\",\n",
    "        \"Length_water\",\n",
    "        \"Length_needle\",\n",
    "        \"Identity_water\",\n",
    "        \"Identity_needle\",\n",
    "        \"Identity_percent_water\",\n",
    "        \"Identity_percent_needle\",\n",
    "        \"Similarity_percent_water\",\n",
    "        \"Similarity_percent_needle\",\n",
    "        \"Gaps_water\",\n",
    "        \"Gaps_needle\",\n",
    "        \"Gaps_percent_water\",\n",
    "        \"Gaps_percent_needle\",\n",
    "        \"Score_water\",\n",
    "        \"Score_needle\"\n",
    "    ]\n",
    ")\n",
    "\n",
    "display(alignment_result)"
   ]
  },
  {
   "cell_type": "markdown",
   "metadata": {},
   "source": [
    "&nbsp;\n",
    "\n",
    "\n",
    "&nbsp;"
   ]
  },
  {
   "cell_type": "markdown",
   "metadata": {},
   "source": [
    "## Integrate foldseek result and pairwise alignment result\n",
    "\n",
    "- This time, **exclude the ones that are null in pairwise alignment result, which means the current UniProt entry is obsolete**"
   ]
  },
  {
   "cell_type": "code",
   "execution_count": 12,
   "metadata": {},
   "outputs": [
    {
     "name": "stdout",
     "output_type": "stream",
     "text": [
      "shape: (14_037, 44)\n",
      "┌─────────────┬────────────┬──────┬────────┬───┬────────────┬────────────┬────────────┬────────────┐\n",
      "│ UniProt     ┆ foldseek   ┆ From ┆ evalue ┆ … ┆ Gaps_perce ┆ Gaps_perce ┆ Score_wate ┆ Score_need │\n",
      "│ Accession   ┆ hit        ┆ ---  ┆ ---    ┆   ┆ nt_water   ┆ nt_needle  ┆ r          ┆ le         │\n",
      "│ ---         ┆ ---        ┆ u32  ┆ u32    ┆   ┆ ---        ┆ ---        ┆ ---        ┆ ---        │\n",
      "│ str         ┆ str        ┆      ┆        ┆   ┆ u32        ┆ u32        ┆ u32        ┆ u32        │\n",
      "╞═════════════╪════════════╪══════╪════════╪═══╪════════════╪════════════╪════════════╪════════════╡\n",
      "│ Q67UF5      ┆ O43396     ┆ 1    ┆ 1      ┆ … ┆ 1          ┆ 1          ┆ 1          ┆ 1          │\n",
      "│ A0A0P0WJD1  ┆ A0A499FI31 ┆ 1    ┆ 1      ┆ … ┆ 1          ┆ 1          ┆ 1          ┆ 1          │\n",
      "│ Q6L509      ┆ B4E0H6     ┆ 1    ┆ 1      ┆ … ┆ 1          ┆ 1          ┆ 1          ┆ 1          │\n",
      "│ Q84ZB9      ┆ M0QZR9     ┆ 1    ┆ 1      ┆ … ┆ 1          ┆ 1          ┆ 1          ┆ 1          │\n",
      "│ O65857      ┆ C9JAZ1     ┆ 1    ┆ 1      ┆ … ┆ 1          ┆ 1          ┆ 1          ┆ 1          │\n",
      "│ …           ┆ …          ┆ …    ┆ …      ┆ … ┆ …          ┆ …          ┆ …          ┆ …          │\n",
      "│ Q688X8      ┆ C9JXB9     ┆ 1    ┆ 1      ┆ … ┆ 1          ┆ 1          ┆ 1          ┆ 1          │\n",
      "│ Q653W2      ┆ Q96NU7     ┆ 1    ┆ 1      ┆ … ┆ 1          ┆ 1          ┆ 1          ┆ 1          │\n",
      "│ Q0DL11      ┆ I3L2K5     ┆ 1    ┆ 1      ┆ … ┆ 1          ┆ 1          ┆ 1          ┆ 1          │\n",
      "│ Q6Z7B0      ┆ B3KTV0     ┆ 1    ┆ 1      ┆ … ┆ 1          ┆ 1          ┆ 1          ┆ 1          │\n",
      "│ A0A0P0XI81  ┆ Q9H2F3     ┆ 1    ┆ 1      ┆ … ┆ 1          ┆ 1          ┆ 1          ┆ 1          │\n",
      "└─────────────┴────────────┴──────┴────────┴───┴────────────┴────────────┴────────────┴────────────┘\n"
     ]
    },
    {
     "data": {
      "text/html": [
       "<div><style>\n",
       ".dataframe > thead > tr,\n",
       ".dataframe > tbody > tr {\n",
       "  text-align: right;\n",
       "  white-space: pre-wrap;\n",
       "}\n",
       "</style>\n",
       "<small>shape: (5, 44)</small><table border=\"1\" class=\"dataframe\"><thead><tr><th>From</th><th>UniProt Accession</th><th>foldseek hit</th><th>evalue</th><th>prob</th><th>gapopen</th><th>pident</th><th>fident</th><th>nident</th><th>qstart</th><th>qend</th><th>qlen</th><th>tstart</th><th>tend</th><th>tlen</th><th>alnlen</th><th>qcov</th><th>tcov</th><th>lddt</th><th>qtmscore</th><th>ttmscore</th><th>alntmscore</th><th>rmsd</th><th>taxid</th><th>taxname</th><th>taxlineage</th><th>qaln</th><th>taln</th><th>mismatch</th><th>lddtfull</th><th>Length_water</th><th>Length_needle</th><th>Identity_water</th><th>Identity_needle</th><th>Identity_percent_water</th><th>Identity_percent_needle</th><th>Similarity_percent_water</th><th>Similarity_percent_needle</th><th>Gaps_water</th><th>Gaps_needle</th><th>Gaps_percent_water</th><th>Gaps_percent_needle</th><th>Score_water</th><th>Score_needle</th></tr><tr><td>str</td><td>str</td><td>str</td><td>f64</td><td>f64</td><td>i64</td><td>f64</td><td>f64</td><td>i64</td><td>i64</td><td>i64</td><td>i64</td><td>i64</td><td>i64</td><td>i64</td><td>i64</td><td>f64</td><td>f64</td><td>f64</td><td>f64</td><td>f64</td><td>f64</td><td>f64</td><td>i64</td><td>str</td><td>str</td><td>str</td><td>str</td><td>i64</td><td>str</td><td>i64</td><td>i64</td><td>str</td><td>str</td><td>f64</td><td>f64</td><td>f64</td><td>f64</td><td>str</td><td>str</td><td>f64</td><td>f64</td><td>f64</td><td>f64</td></tr></thead><tbody><tr><td>&quot;Os03g0265600&quot;</td><td>&quot;Q0DT74&quot;</td><td>&quot;A4D2F6&quot;</td><td>0.000001</td><td>1.0</td><td>2</td><td>25.1</td><td>0.251</td><td>32</td><td>1</td><td>119</td><td>125</td><td>220</td><td>346</td><td>549</td><td>127</td><td>0.952</td><td>0.231</td><td>0.7924</td><td>0.5884</td><td>0.1374</td><td>0.1374</td><td>19.4</td><td>9606</td><td>&quot;Homo sapiens&quot;</td><td>&quot;-_cellular organisms;d_Eukaryo…</td><td>&quot;MSYSRGSRYESDSYSTSPRRSS---RSRYR…</td><td>&quot;GSLLASPRGAQPQERNAGRPTSAQCRASFQ…</td><td>87</td><td>&quot;0.875,0.750,0.917,0.821,0.875,…</td><td>72</td><td>552</td><td>&quot;24/72&quot;</td><td>&quot;31/552&quot;</td><td>33.3</td><td>5.6</td><td>47.2</td><td>9.8</td><td>&quot;0/72&quot;</td><td>&quot;430/552&quot;</td><td>0.0</td><td>77.9</td><td>84.0</td><td>78.0</td></tr><tr><td>&quot;Os02g0115900&quot;</td><td>&quot;A0A0P0VDX8&quot;</td><td>&quot;B7Z4V2&quot;</td><td>7.4900e-52</td><td>1.0</td><td>7</td><td>46.3</td><td>0.463</td><td>210</td><td>1</td><td>445</td><td>445</td><td>223</td><td>665</td><td>665</td><td>453</td><td>1.0</td><td>0.666</td><td>0.8834</td><td>0.8852</td><td>0.5997</td><td>0.5997</td><td>10.98</td><td>9606</td><td>&quot;Homo sapiens&quot;</td><td>&quot;-_cellular organisms;d_Eukaryo…</td><td>&quot;EKNILVFDLGGGTFDVSILTIDNGVFEVLA…</td><td>&quot;DKVIAVYDLGGGTFDISILEIQKGVFEVKS…</td><td>225</td><td>&quot;0.862,1.000,0.984,0.963,0.936,…</td><td>451</td><td>676</td><td>&quot;213/451&quot;</td><td>&quot;213/676&quot;</td><td>47.2</td><td>31.5</td><td>66.3</td><td>44.2</td><td>&quot;18/451&quot;</td><td>&quot;242/676&quot;</td><td>4.0</td><td>35.8</td><td>1023.5</td><td>1020.5</td></tr><tr><td>&quot;Os12g0270900&quot;</td><td>&quot;Q2QU81&quot;</td><td>&quot;Q96QI5&quot;</td><td>0.07144</td><td>0.923</td><td>21</td><td>15.6</td><td>0.156</td><td>43</td><td>72</td><td>292</td><td>338</td><td>84</td><td>338</td><td>342</td><td>275</td><td>0.654</td><td>0.746</td><td>0.3086</td><td>0.3321</td><td>0.3288</td><td>0.3288</td><td>14.19</td><td>9606</td><td>&quot;Homo sapiens&quot;</td><td>&quot;-_cellular organisms;d_Eukaryo…</td><td>&quot;SFVPRRHGDVVLASPGKCGTTWLKALAFAV…</td><td>&quot;GPGRRRFPQALIVGVKKGGT--RALLEFLR…</td><td>158</td><td>&quot;0.109,0.153,0.224,0.231,0.214,…</td><td>223</td><td>442</td><td>&quot;54/223&quot;</td><td>&quot;75/442&quot;</td><td>24.2</td><td>17.0</td><td>34.1</td><td>23.8</td><td>&quot;58/223&quot;</td><td>&quot;204/442&quot;</td><td>26.0</td><td>46.2</td><td>68.5</td><td>55.5</td></tr><tr><td>&quot;Os07g0549800&quot;</td><td>&quot;Q84ZB9&quot;</td><td>&quot;J3KP15&quot;</td><td>3.2430e-8</td><td>1.0</td><td>3</td><td>28.4</td><td>0.284</td><td>33</td><td>28</td><td>133</td><td>133</td><td>5</td><td>120</td><td>133</td><td>116</td><td>0.797</td><td>0.872</td><td>0.7135</td><td>0.5598</td><td>0.5598</td><td>0.5598</td><td>9.251</td><td>9606</td><td>&quot;Homo sapiens&quot;</td><td>&quot;-_cellular organisms;d_Eukaryo…</td><td>&quot;RPLADPCN--NLFVSGLNKRTTSDGLREAF…</td><td>&quot;RPPPDVEGMTSLKVDNLTYRTSPDTLRRVF…</td><td>73</td><td>&quot;0.261,0.239,0.221,0.243,0.250,…</td><td>90</td><td>235</td><td>&quot;31/90&quot;</td><td>&quot;35/235&quot;</td><td>34.4</td><td>14.9</td><td>52.2</td><td>23.0</td><td>&quot;4/90&quot;</td><td>&quot;123/235&quot;</td><td>4.4</td><td>52.3</td><td>134.5</td><td>125.0</td></tr><tr><td>&quot;Os04g0538000&quot;</td><td>&quot;A0A0P0WD35&quot;</td><td>&quot;Q5T765&quot;</td><td>0.01182</td><td>0.999</td><td>21</td><td>13.9</td><td>0.139</td><td>75</td><td>35</td><td>525</td><td>607</td><td>51</td><td>466</td><td>490</td><td>537</td><td>0.809</td><td>0.849</td><td>0.4775</td><td>0.1704</td><td>0.2032</td><td>0.2032</td><td>19.43</td><td>9606</td><td>&quot;Homo sapiens&quot;</td><td>&quot;-_cellular organisms;d_Eukaryo…</td><td>&quot;ADEAKAKGNAAFSAGRFEEAAAHFTDAIAL…</td><td>&quot;ATMYNLLAYIKHLDGNNEAALECLRQAEEL…</td><td>295</td><td>&quot;0.757,0.713,0.757,0.761,0.724,…</td><td>302</td><td>791</td><td>&quot;69/302&quot;</td><td>&quot;90/791&quot;</td><td>22.8</td><td>11.4</td><td>37.7</td><td>18.8</td><td>&quot;72/302&quot;</td><td>&quot;485/791&quot;</td><td>23.8</td><td>61.3</td><td>110.5</td><td>93.5</td></tr></tbody></table></div>"
      ],
      "text/plain": [
       "shape: (5, 44)\n",
       "┌───────────┬───────────┬───────────┬───────────┬───┬───────────┬───────────┬───────────┬──────────┐\n",
       "│ From      ┆ UniProt   ┆ foldseek  ┆ evalue    ┆ … ┆ Gaps_perc ┆ Gaps_perc ┆ Score_wat ┆ Score_ne │\n",
       "│ ---       ┆ Accession ┆ hit       ┆ ---       ┆   ┆ ent_water ┆ ent_needl ┆ er        ┆ edle     │\n",
       "│ str       ┆ ---       ┆ ---       ┆ f64       ┆   ┆ ---       ┆ e         ┆ ---       ┆ ---      │\n",
       "│           ┆ str       ┆ str       ┆           ┆   ┆ f64       ┆ ---       ┆ f64       ┆ f64      │\n",
       "│           ┆           ┆           ┆           ┆   ┆           ┆ f64       ┆           ┆          │\n",
       "╞═══════════╪═══════════╪═══════════╪═══════════╪═══╪═══════════╪═══════════╪═══════════╪══════════╡\n",
       "│ Os03g0265 ┆ Q0DT74    ┆ A4D2F6    ┆ 0.000001  ┆ … ┆ 0.0       ┆ 77.9      ┆ 84.0      ┆ 78.0     │\n",
       "│ 600       ┆           ┆           ┆           ┆   ┆           ┆           ┆           ┆          │\n",
       "│ Os02g0115 ┆ A0A0P0VDX ┆ B7Z4V2    ┆ 7.4900e-5 ┆ … ┆ 4.0       ┆ 35.8      ┆ 1023.5    ┆ 1020.5   │\n",
       "│ 900       ┆ 8         ┆           ┆ 2         ┆   ┆           ┆           ┆           ┆          │\n",
       "│ Os12g0270 ┆ Q2QU81    ┆ Q96QI5    ┆ 0.07144   ┆ … ┆ 26.0      ┆ 46.2      ┆ 68.5      ┆ 55.5     │\n",
       "│ 900       ┆           ┆           ┆           ┆   ┆           ┆           ┆           ┆          │\n",
       "│ Os07g0549 ┆ Q84ZB9    ┆ J3KP15    ┆ 3.2430e-8 ┆ … ┆ 4.4       ┆ 52.3      ┆ 134.5     ┆ 125.0    │\n",
       "│ 800       ┆           ┆           ┆           ┆   ┆           ┆           ┆           ┆          │\n",
       "│ Os04g0538 ┆ A0A0P0WD3 ┆ Q5T765    ┆ 0.01182   ┆ … ┆ 23.8      ┆ 61.3      ┆ 110.5     ┆ 93.5     │\n",
       "│ 000       ┆ 5         ┆           ┆           ┆   ┆           ┆           ┆           ┆          │\n",
       "└───────────┴───────────┴───────────┴───────────┴───┴───────────┴───────────┴───────────┴──────────┘"
      ]
     },
     "metadata": {},
     "output_type": "display_data"
    }
   ],
   "source": [
    "join_foldseek = foldseek_result.join(\n",
    "    alignment_result,\n",
    "    on=[\"UniProt Accession\", \"foldseek hit\"],\n",
    "    how=\"left\",\n",
    "    coalesce=True\n",
    ").filter( # filter out null alignment result (this means current UniProt entry is obsolete)\n",
    "    pl.col(\"Length_water\").is_not_null() & \n",
    "    pl.col(\"Length_needle\").is_not_null()\n",
    ").unique()\n",
    "\n",
    "\n",
    "print(join_foldseek.group_by([\"UniProt Accession\", \"foldseek hit\"]).n_unique())\n",
    "display(join_foldseek.head())"
   ]
  },
  {
   "cell_type": "markdown",
   "metadata": {},
   "source": [
    "&nbsp;\n",
    "\n",
    "&nbsp;"
   ]
  },
  {
   "cell_type": "markdown",
   "metadata": {},
   "source": [
    "## Create Scatter Plot for all hits"
   ]
  },
  {
   "cell_type": "code",
   "execution_count": null,
   "metadata": {},
   "outputs": [],
   "source": [
    "plt.figure(figsize=(8, 8), dpi=500)\n",
    "\n",
    "sns.jointplot(\n",
    "    data=join_foldseek,\n",
    "    x=\"Identity_percent_needle\",\n",
    "    y=\"lddt\",\n",
    "    color=\"darkcyan\",\n",
    "    height=11,\n",
    "    ratio=4,\n",
    "    marginal_ticks=True\n",
    ")\n",
    "\n",
    "# highlight the region of interest\n",
    "plt.fill_betweenx(\n",
    "    y=[0.5, 1],\n",
    "    x1=-0.5,\n",
    "    x2=25,\n",
    "    color=\"red\",\n",
    "    alpha=0.1\n",
    ")\n",
    "\n",
    "plt.xlim(-0.5,100.5)\n",
    "plt.ylim(0,1)\n",
    "plt.xlabel(\"global alignment identity(%)\")\n",
    "plt.ylabel(\"LDDT\")\n",
    "plt.axvline(x=25, color=\"black\", linestyle=\":\")\n",
    "plt.axvline(x=50, color=\"black\", linestyle=\":\")\n",
    "plt.axvline(x=75, color=\"black\", linestyle=\":\")\n",
    "plt.axhline(y=0.5, color=\"black\", linestyle=\":\")\n",
    "plt.figure(figsize=(10, 10), dpi=500)\n",
    "plt.show()"
   ]
  },
  {
   "cell_type": "markdown",
   "metadata": {},
   "source": [
    "&nbsp;\n",
    "\n",
    "&nbsp;\n",
    "\n",
    "&nbsp;\n"
   ]
  },
  {
   "cell_type": "markdown",
   "metadata": {},
   "source": [
    "## Filtering Condition1\n",
    "\n",
    "- 遺伝子レベルで､foldseekでヒットがないものを選抜する"
   ]
  },
  {
   "cell_type": "code",
   "execution_count": null,
   "metadata": {},
   "outputs": [],
   "source": [
    "# 遺伝子レベルでのヒットカウントを算出\n",
    "all_gene_list = pl.read_csv(\n",
    "    query_gene_list_tsv_path,\n",
    "    separator='\\t'\n",
    ").select(\n",
    "    \"From\"\n",
    ").unique()\n",
    "\n",
    "hit_count = all_gene_list.join(\n",
    "    join_foldseek,\n",
    "    on=\"From\",\n",
    "    how=\"left\",\n",
    "    coalesce=True\n",
    ").group_by(\"From\").agg(\n",
    "    (pl.col(\"foldseek hit\").count().alias(\"target hit count (gene level vs uniprot accession)\")),\n",
    "    (pl.col(\"foldseek hit\").is_null().all().alias(\"foldseek no hit\"))\n",
    ").sort(\n",
    "    [\"target hit count (gene level vs uniprot accession)\"], descending=True\n",
    ")\n",
    "\n",
    "display(hit_count)"
   ]
  },
  {
   "cell_type": "code",
   "execution_count": null,
   "metadata": {},
   "outputs": [],
   "source": [
    "no_hit_genes_list = hit_count.filter(\n",
    "    pl.col(\"foldseek no hit\") == True\n",
    ")\n",
    "\n",
    "idmapping_list = pl.read_csv(\n",
    "    query_uniprot_idmapping_tsv,\n",
    "    separator='\\t'\n",
    ")\n",
    "  \n",
    "no_hit_idmapping_list = no_hit_genes_list.join(\n",
    "    idmapping_list,\n",
    "    on=\"From\",\n",
    "    how=\"left\"\n",
    ").sort(\n",
    "    by=[\"From\"],\n",
    "    descending=[False]\n",
    ")\n",
    "\n",
    "print(no_hit_idmapping_list.group_by([\"From\"]).n_unique())\n",
    "display(no_hit_idmapping_list.head())"
   ]
  },
  {
   "cell_type": "markdown",
   "metadata": {},
   "source": [
    "&nbsp;\n",
    "\n",
    "&nbsp;"
   ]
  },
  {
   "cell_type": "markdown",
   "metadata": {},
   "source": [
    "## Filtering Condition2"
   ]
  },
  {
   "cell_type": "code",
   "execution_count": null,
   "metadata": {},
   "outputs": [],
   "source": [
    "condition2 = join_foldseek.sort(\n",
    "        \"qcov\", descending=True\n",
    "    ).unique(\n",
    "        subset=[\"From\", \"foldseek hit\"]\n",
    "    ).sort(\n",
    "        \"qcov\", descending=True\n",
    "    )\n",
    "\n",
    "print(condition2.group_by([\"From\"]).n_unique())\n",
    "display(condition2)"
   ]
  },
  {
   "cell_type": "markdown",
   "metadata": {},
   "source": [
    "&nbsp;\n",
    "\n",
    "&nbsp;"
   ]
  },
  {
   "cell_type": "markdown",
   "metadata": {},
   "source": [
    "## Filtering Condition3\n",
    "\n",
    "- select the ones with qcov and tcov >= 0.5"
   ]
  },
  {
   "cell_type": "code",
   "execution_count": null,
   "metadata": {},
   "outputs": [],
   "source": [
    "condition3 = condition2.filter(\n",
    "        (pl.col(\"qcov\") >= 0.5) &\n",
    "        (pl.col(\"tcov\") >= 0.5)\n",
    "    ).unique()\n",
    "\n",
    "condition3_rm = condition2.filter(\n",
    "        (pl.col(\"qcov\") < 0.5) |\n",
    "        (pl.col(\"tcov\") < 0.5)\n",
    "    )\n",
    "\n",
    "print(condition3.group_by([\"From\"]).n_unique())\n",
    "display(condition3)"
   ]
  },
  {
   "cell_type": "markdown",
   "metadata": {},
   "source": [
    "&nbsp;\n",
    "\n",
    "&nbsp;\n"
   ]
  },
  {
   "cell_type": "markdown",
   "metadata": {},
   "source": [
    "## Filtering Condition4\n",
    "\n",
    "- select the ones that can be converted to Ensembl gene id by TogoID\n",
    "- Article: [TogoID: an exploratory ID converter to bridge biological dataset](https://doi.org/10.1093/bioinformatics/btac491)"
   ]
  },
  {
   "cell_type": "code",
   "execution_count": null,
   "metadata": {},
   "outputs": [],
   "source": [
    "togoid_convert = pl.read_csv(\n",
    "    togoid_convert_tsv_path,\n",
    "    separator='\\t'\n",
    ").rename(\n",
    "    {\n",
    "        \"uniprot_id\" : \"foldseek hit\"\n",
    "    }\n",
    ").filter(\n",
    "    pl.col(\"ensembl_gene_id\").is_not_null()\n",
    ")\n",
    "\n",
    "display(togoid_convert)"
   ]
  },
  {
   "cell_type": "code",
   "execution_count": null,
   "metadata": {},
   "outputs": [],
   "source": [
    "condition4 = condition3.join(\n",
    "    togoid_convert,\n",
    "    on=\"foldseek hit\",\n",
    "    how=\"left\",\n",
    "    coalesce=True\n",
    ").filter(\n",
    "    pl.col(\"ensembl_gene_id\").is_not_null()\n",
    ").group_by(\n",
    "    pl.exclude(\n",
    "        [\n",
    "            \"hgnc_id\", \"hgnc_symbol_id\", \"ensembl_gene_id\", \"ensembl_protein_id\", \"ensembl_transcript_id\"\n",
    "        ]\n",
    "    )\n",
    ").agg(\n",
    "    pl.col(\"hgnc_id\"),\n",
    "    pl.col(\"hgnc_symbol_id\"),\n",
    "    pl.col(\"ensembl_gene_id\"),\n",
    "    pl.col(\"ensembl_protein_id\"),\n",
    "    pl.col(\"ensembl_transcript_id\"),\n",
    ").drop(\n",
    "    [\n",
    "        \"hgnc_id\",\n",
    "        \"ensembl_transcript_id\"\n",
    "    ]\n",
    ").sort(\n",
    "    by=[\"From\"],\n",
    "    descending=[False]\n",
    ")\n",
    "\n",
    "display(condition4)"
   ]
  },
  {
   "cell_type": "code",
   "execution_count": null,
   "metadata": {},
   "outputs": [],
   "source": [
    "hit_count_condition4 = condition4.group_by(\n",
    "    [\"From\"]\n",
    ").agg(\n",
    "    (pl.col(\"foldseek hit\").count().alias(\"hit count (gene level)\"))\n",
    ").sort(\n",
    "    by=[\"hit count (gene level)\"],\n",
    "    descending=True\n",
    ")\n",
    "\n",
    "display(hit_count_condition4)"
   ]
  },
  {
   "cell_type": "code",
   "execution_count": null,
   "metadata": {},
   "outputs": [],
   "source": [
    "foldseek_filter_viz = condition4.select(\n",
    "    \"From\",\n",
    "    \"UniProt Accession\",\n",
    "    \"foldseek hit\",\n",
    "    \"qcov\",\n",
    "    \"tcov\",\n",
    "    \"rmsd\",\n",
    "    \"lddt\",\n",
    "    \"Identity_percent_needle\",\n",
    "    \"Identity_percent_water\",\n",
    "    \"Similarity_percent_needle\",\n",
    "    \"Similarity_percent_water\"\n",
    ").unique(\n",
    "    subset=[\"From\", \"UniProt Accession\", \"foldseek hit\"]\n",
    ").sort(\n",
    "    by=[\"From\"],\n",
    "    descending=[False]\n",
    ")\n",
    "\n",
    "print(foldseek_filter_viz.group_by([\"From\", \"UniProt Accession\", \"foldseek hit\"]).n_unique())\n",
    "display(foldseek_filter_viz)"
   ]
  },
  {
   "cell_type": "code",
   "execution_count": null,
   "metadata": {},
   "outputs": [],
   "source": [
    "plt.figure(figsize=(8, 8), dpi=500)\n",
    "\n",
    "sns.jointplot(\n",
    "    data=foldseek_filter_viz,\n",
    "    x=\"Identity_percent_needle\",\n",
    "    y=\"lddt\",\n",
    "    color=\"darkcyan\",\n",
    "    height=11,\n",
    "    ratio=4,\n",
    "    marginal_ticks=True\n",
    ")\n",
    "\n",
    "# highlight the region of interest\n",
    "plt.fill_betweenx(\n",
    "    y=[0.5, 1],\n",
    "    x1=-0.5,\n",
    "    x2=25,\n",
    "    color=\"red\",\n",
    "    alpha=0.1\n",
    ")\n",
    "\n",
    "plt.xlim(-0.5,100)\n",
    "plt.ylim(0,1)\n",
    "plt.xlabel(\"global alignment identitical match(%)\")\n",
    "plt.ylabel(\"LDDT\")\n",
    "plt.axvline(x=25, color=\"black\", linestyle=\":\")\n",
    "plt.axvline(x=50, color=\"black\", linestyle=\":\")\n",
    "plt.axvline(x=75, color=\"black\", linestyle=\":\")\n",
    "plt.axhline(y=0.5, color=\"black\", linestyle=\":\")\n",
    "plt.figure(figsize=(10, 10), dpi=500)\n",
    "plt.show()"
   ]
  }
 ],
 "metadata": {
  "kernelspec": {
   "display_name": "Python 3 (ipykernel)",
   "language": "python",
   "name": "python3"
  },
  "language_info": {
   "codemirror_mode": {
    "name": "ipython",
    "version": 3
   },
   "file_extension": ".py",
   "mimetype": "text/x-python",
   "name": "python",
   "nbconvert_exporter": "python",
   "pygments_lexer": "ipython3",
   "version": "3.11.4"
  }
 },
 "nbformat": 4,
 "nbformat_minor": 2
}

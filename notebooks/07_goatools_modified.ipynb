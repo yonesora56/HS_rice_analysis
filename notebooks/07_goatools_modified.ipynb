{
 "cells": [
  {
   "cell_type": "code",
   "execution_count": 1,
   "metadata": {},
   "outputs": [],
   "source": [
    "import requests\n",
    "import json\n",
    "import time\n",
    "import polars as pl"
   ]
  },
  {
   "cell_type": "markdown",
   "metadata": {},
   "source": [
    "## Select \"e\" (enrichment) term"
   ]
  },
  {
   "cell_type": "code",
   "execution_count": 5,
   "metadata": {},
   "outputs": [
    {
     "data": {
      "text/html": [
       "<div><style>\n",
       ".dataframe > thead > tr,\n",
       ".dataframe > tbody > tr {\n",
       "  text-align: right;\n",
       "  white-space: pre-wrap;\n",
       "}\n",
       "</style>\n",
       "<small>shape: (76, 11)</small><table border=\"1\" class=\"dataframe\"><thead><tr><th># GO</th><th>NS</th><th>enrichment</th><th>name</th><th>ratio_in_study</th><th>ratio_in_pop</th><th>p_uncorrected</th><th>depth</th><th>study_count</th><th>p_fdr_bh</th><th>study_items</th></tr><tr><td>str</td><td>str</td><td>str</td><td>str</td><td>str</td><td>str</td><td>f64</td><td>i64</td><td>i64</td><td>f64</td><td>str</td></tr></thead><tbody><tr><td>&quot;GO:0006457&quot;</td><td>&quot;BP&quot;</td><td>&quot;e&quot;</td><td>&quot;protein folding&quot;</td><td>&quot;45/367&quot;</td><td>&quot;222/38993&quot;</td><td>2.5492e-46</td><td>2</td><td>45</td><td>1.1155e-42</td><td>&quot;Os01g0135800, Os01g0136000, Os…</td></tr><tr><td>&quot;GO:0009266&quot;</td><td>&quot;BP&quot;</td><td>&quot;e&quot;</td><td>&quot;response to temperature stimul…</td><td>&quot;32/367&quot;</td><td>&quot;208/38993&quot;</td><td>3.8320e-29</td><td>3</td><td>32</td><td>8.3845e-26</td><td>&quot;Os01g0135800, Os01g0136000, Os…</td></tr><tr><td>&quot;GO:0009408&quot;</td><td>&quot;BP&quot;</td><td>&quot;e&quot;</td><td>&quot;response to heat&quot;</td><td>&quot;25/367&quot;</td><td>&quot;109/38993&quot;</td><td>1.3223e-27</td><td>4</td><td>25</td><td>1.9288e-24</td><td>&quot;Os01g0135800, Os01g0136000, Os…</td></tr><tr><td>&quot;GO:0042542&quot;</td><td>&quot;BP&quot;</td><td>&quot;e&quot;</td><td>&quot;response to hydrogen peroxide&quot;</td><td>&quot;13/367&quot;</td><td>&quot;29/38993&quot;</td><td>2.1784e-19</td><td>5</td><td>13</td><td>2.3832e-16</td><td>&quot;Os01g0135800, Os01g0136000, Os…</td></tr><tr><td>&quot;GO:0051259&quot;</td><td>&quot;BP&quot;</td><td>&quot;e&quot;</td><td>&quot;protein complex oligomerizatio…</td><td>&quot;13/367&quot;</td><td>&quot;30/38993&quot;</td><td>3.8118e-19</td><td>6</td><td>13</td><td>3.3361e-16</td><td>&quot;Os01g0135800, Os01g0136000, Os…</td></tr><tr><td>&hellip;</td><td>&hellip;</td><td>&hellip;</td><td>&hellip;</td><td>&hellip;</td><td>&hellip;</td><td>&hellip;</td><td>&hellip;</td><td>&hellip;</td><td>&hellip;</td><td>&hellip;</td></tr><tr><td>&quot;GO:0061134&quot;</td><td>&quot;MF&quot;</td><td>&quot;e&quot;</td><td>&quot;peptidase regulator activity&quot;</td><td>&quot;6/367&quot;</td><td>&quot;67/38993&quot;</td><td>0.000041</td><td>3</td><td>6</td><td>0.004818</td><td>&quot;Os01g0124000, Os01g0124100, Os…</td></tr><tr><td>&quot;GO:0098772&quot;</td><td>&quot;MF&quot;</td><td>&quot;e&quot;</td><td>&quot;molecular function regulator a…</td><td>&quot;16/367&quot;</td><td>&quot;525/38993&quot;</td><td>0.000046</td><td>1</td><td>16</td><td>0.00515</td><td>&quot;Os01g0124000, Os01g0124100, Os…</td></tr><tr><td>&quot;GO:0016462&quot;</td><td>&quot;MF&quot;</td><td>&quot;e&quot;</td><td>&quot;pyrophosphatase activity&quot;</td><td>&quot;19/367&quot;</td><td>&quot;713/38993&quot;</td><td>0.000056</td><td>5</td><td>19</td><td>0.006033</td><td>&quot;Os01g0840100, Os02g0115900, Os…</td></tr><tr><td>&quot;GO:0016818&quot;</td><td>&quot;MF&quot;</td><td>&quot;e&quot;</td><td>&quot;hydrolase activity, acting on …</td><td>&quot;19/367&quot;</td><td>&quot;720/38993&quot;</td><td>0.000064</td><td>4</td><td>19</td><td>0.006586</td><td>&quot;Os01g0840100, Os02g0115900, Os…</td></tr><tr><td>&quot;GO:0016817&quot;</td><td>&quot;MF&quot;</td><td>&quot;e&quot;</td><td>&quot;hydrolase activity, acting on …</td><td>&quot;19/367&quot;</td><td>&quot;728/38993&quot;</td><td>0.000074</td><td>3</td><td>19</td><td>0.007319</td><td>&quot;Os01g0840100, Os02g0115900, Os…</td></tr></tbody></table></div>"
      ],
      "text/plain": [
       "shape: (76, 11)\n",
       "┌────────────┬─────┬────────────┬─────────────┬───┬───────┬─────────────┬────────────┬─────────────┐\n",
       "│ # GO       ┆ NS  ┆ enrichment ┆ name        ┆ … ┆ depth ┆ study_count ┆ p_fdr_bh   ┆ study_items │\n",
       "│ ---        ┆ --- ┆ ---        ┆ ---         ┆   ┆ ---   ┆ ---         ┆ ---        ┆ ---         │\n",
       "│ str        ┆ str ┆ str        ┆ str         ┆   ┆ i64   ┆ i64         ┆ f64        ┆ str         │\n",
       "╞════════════╪═════╪════════════╪═════════════╪═══╪═══════╪═════════════╪════════════╪═════════════╡\n",
       "│ GO:0006457 ┆ BP  ┆ e          ┆ protein     ┆ … ┆ 2     ┆ 45          ┆ 1.1155e-42 ┆ Os01g013580 │\n",
       "│            ┆     ┆            ┆ folding     ┆   ┆       ┆             ┆            ┆ 0, Os01g013 │\n",
       "│            ┆     ┆            ┆             ┆   ┆       ┆             ┆            ┆ 6000, Os…   │\n",
       "│ GO:0009266 ┆ BP  ┆ e          ┆ response to ┆ … ┆ 3     ┆ 32          ┆ 8.3845e-26 ┆ Os01g013580 │\n",
       "│            ┆     ┆            ┆ temperature ┆   ┆       ┆             ┆            ┆ 0, Os01g013 │\n",
       "│            ┆     ┆            ┆ stimul…     ┆   ┆       ┆             ┆            ┆ 6000, Os…   │\n",
       "│ GO:0009408 ┆ BP  ┆ e          ┆ response to ┆ … ┆ 4     ┆ 25          ┆ 1.9288e-24 ┆ Os01g013580 │\n",
       "│            ┆     ┆            ┆ heat        ┆   ┆       ┆             ┆            ┆ 0, Os01g013 │\n",
       "│            ┆     ┆            ┆             ┆   ┆       ┆             ┆            ┆ 6000, Os…   │\n",
       "│ GO:0042542 ┆ BP  ┆ e          ┆ response to ┆ … ┆ 5     ┆ 13          ┆ 2.3832e-16 ┆ Os01g013580 │\n",
       "│            ┆     ┆            ┆ hydrogen    ┆   ┆       ┆             ┆            ┆ 0, Os01g013 │\n",
       "│            ┆     ┆            ┆ peroxide    ┆   ┆       ┆             ┆            ┆ 6000, Os…   │\n",
       "│ GO:0051259 ┆ BP  ┆ e          ┆ protein     ┆ … ┆ 6     ┆ 13          ┆ 3.3361e-16 ┆ Os01g013580 │\n",
       "│            ┆     ┆            ┆ complex oli ┆   ┆       ┆             ┆            ┆ 0, Os01g013 │\n",
       "│            ┆     ┆            ┆ gomerizatio ┆   ┆       ┆             ┆            ┆ 6000, Os…   │\n",
       "│            ┆     ┆            ┆ …           ┆   ┆       ┆             ┆            ┆             │\n",
       "│ …          ┆ …   ┆ …          ┆ …           ┆ … ┆ …     ┆ …           ┆ …          ┆ …           │\n",
       "│ GO:0061134 ┆ MF  ┆ e          ┆ peptidase   ┆ … ┆ 3     ┆ 6           ┆ 0.004818   ┆ Os01g012400 │\n",
       "│            ┆     ┆            ┆ regulator   ┆   ┆       ┆             ┆            ┆ 0, Os01g012 │\n",
       "│            ┆     ┆            ┆ activity    ┆   ┆       ┆             ┆            ┆ 4100, Os…   │\n",
       "│ GO:0098772 ┆ MF  ┆ e          ┆ molecular   ┆ … ┆ 1     ┆ 16          ┆ 0.00515    ┆ Os01g012400 │\n",
       "│            ┆     ┆            ┆ function    ┆   ┆       ┆             ┆            ┆ 0, Os01g012 │\n",
       "│            ┆     ┆            ┆ regulator   ┆   ┆       ┆             ┆            ┆ 4100, Os…   │\n",
       "│            ┆     ┆            ┆ a…          ┆   ┆       ┆             ┆            ┆             │\n",
       "│ GO:0016462 ┆ MF  ┆ e          ┆ pyrophospha ┆ … ┆ 5     ┆ 19          ┆ 0.006033   ┆ Os01g084010 │\n",
       "│            ┆     ┆            ┆ tase        ┆   ┆       ┆             ┆            ┆ 0, Os02g011 │\n",
       "│            ┆     ┆            ┆ activity    ┆   ┆       ┆             ┆            ┆ 5900, Os…   │\n",
       "│ GO:0016818 ┆ MF  ┆ e          ┆ hydrolase   ┆ … ┆ 4     ┆ 19          ┆ 0.006586   ┆ Os01g084010 │\n",
       "│            ┆     ┆            ┆ activity,   ┆   ┆       ┆             ┆            ┆ 0, Os02g011 │\n",
       "│            ┆     ┆            ┆ acting on … ┆   ┆       ┆             ┆            ┆ 5900, Os…   │\n",
       "│ GO:0016817 ┆ MF  ┆ e          ┆ hydrolase   ┆ … ┆ 3     ┆ 19          ┆ 0.007319   ┆ Os01g084010 │\n",
       "│            ┆     ┆            ┆ activity,   ┆   ┆       ┆             ┆            ┆ 0, Os02g011 │\n",
       "│            ┆     ┆            ┆ acting on … ┆   ┆       ┆             ┆            ┆ 5900, Os…   │\n",
       "└────────────┴─────┴────────────┴─────────────┴───┴───────┴─────────────┴────────────┴─────────────┘"
      ]
     },
     "metadata": {},
     "output_type": "display_data"
    }
   ],
   "source": [
    "rice_go_enrichment_up = pl.read_csv(\n",
    "    \"../Data/09_goatools/result/rice_go_enrichment_up.tsv\",\n",
    "    separator=\"\\t\"\n",
    ").filter(\n",
    "    pl.col(\"enrichment\") == \"e\"\n",
    ")\n",
    "\n",
    "rice_go_enrichment_up.write_csv(\n",
    "    \"../Data/09_goatools/result/rice_go_enrichment_up_modified.tsv\",\n",
    "    separator=\"\\t\"\n",
    ")\n",
    "\n",
    "display(rice_go_enrichment_up)"
   ]
  },
  {
   "cell_type": "code",
   "execution_count": 10,
   "metadata": {},
   "outputs": [
    {
     "data": {
      "text/html": [
       "<div><style>\n",
       ".dataframe > thead > tr,\n",
       ".dataframe > tbody > tr {\n",
       "  text-align: right;\n",
       "  white-space: pre-wrap;\n",
       "}\n",
       "</style>\n",
       "<small>shape: (17, 11)</small><table border=\"1\" class=\"dataframe\"><thead><tr><th># GO</th><th>NS</th><th>enrichment</th><th>name</th><th>ratio_in_study</th><th>ratio_in_pop</th><th>p_uncorrected</th><th>depth</th><th>study_count</th><th>p_fdr_bh</th><th>study_items</th></tr><tr><td>str</td><td>str</td><td>str</td><td>str</td><td>str</td><td>str</td><td>f64</td><td>i64</td><td>i64</td><td>f64</td><td>str</td></tr></thead><tbody><tr><td>&quot;GO:0006879&quot;</td><td>&quot;BP&quot;</td><td>&quot;e&quot;</td><td>&quot;intracellular iron ion homeost…</td><td>&quot;7/370&quot;</td><td>&quot;37/38993&quot;</td><td>5.2745e-8</td><td>6</td><td>7</td><td>0.000231</td><td>&quot;Os01g0689451, Os02g0649900, Os…</td></tr><tr><td>&quot;GO:0006826&quot;</td><td>&quot;BP&quot;</td><td>&quot;e&quot;</td><td>&quot;iron ion transport&quot;</td><td>&quot;6/370&quot;</td><td>&quot;31/38993&quot;</td><td>4.2240e-7</td><td>8</td><td>6</td><td>0.000678</td><td>&quot;Os02g0649900, Os02g0650300, Os…</td></tr><tr><td>&quot;GO:0060586&quot;</td><td>&quot;BP&quot;</td><td>&quot;e&quot;</td><td>&quot;multicellular organismal-level…</td><td>&quot;5/370&quot;</td><td>&quot;24/38993&quot;</td><td>0.000003</td><td>5</td><td>5</td><td>0.003002</td><td>&quot;Os01g0689451, Os03g0667300, Os…</td></tr><tr><td>&quot;GO:0140962&quot;</td><td>&quot;BP&quot;</td><td>&quot;e&quot;</td><td>&quot;multicellular organismal-level…</td><td>&quot;5/370&quot;</td><td>&quot;26/38993&quot;</td><td>0.000004</td><td>3</td><td>5</td><td>0.003659</td><td>&quot;Os01g0689451, Os03g0667300, Os…</td></tr><tr><td>&quot;GO:0048871&quot;</td><td>&quot;BP&quot;</td><td>&quot;e&quot;</td><td>&quot;multicellular organismal-level…</td><td>&quot;5/370&quot;</td><td>&quot;28/38993&quot;</td><td>0.000006</td><td>2</td><td>5</td><td>0.004083</td><td>&quot;Os01g0689451, Os03g0667300, Os…</td></tr><tr><td>&hellip;</td><td>&hellip;</td><td>&hellip;</td><td>&hellip;</td><td>&hellip;</td><td>&hellip;</td><td>&hellip;</td><td>&hellip;</td><td>&hellip;</td><td>&hellip;</td><td>&hellip;</td></tr><tr><td>&quot;GO:0046906&quot;</td><td>&quot;MF&quot;</td><td>&quot;e&quot;</td><td>&quot;tetrapyrrole binding&quot;</td><td>&quot;19/370&quot;</td><td>&quot;563/38993&quot;</td><td>0.000002</td><td>2</td><td>19</td><td>0.001536</td><td>&quot;Os01g0627400, Os01g0854800, Os…</td></tr><tr><td>&quot;GO:0016705&quot;</td><td>&quot;MF&quot;</td><td>&quot;e&quot;</td><td>&quot;oxidoreductase activity, actin…</td><td>&quot;17/370&quot;</td><td>&quot;484/38993&quot;</td><td>0.000005</td><td>3</td><td>17</td><td>0.002474</td><td>&quot;Os01g0627400, Os01g0854800, Os…</td></tr><tr><td>&quot;GO:0005506&quot;</td><td>&quot;MF&quot;</td><td>&quot;e&quot;</td><td>&quot;iron ion binding&quot;</td><td>&quot;16/370&quot;</td><td>&quot;443/38993&quot;</td><td>0.000006</td><td>7</td><td>16</td><td>0.002767</td><td>&quot;Os01g0627400, Os01g0854800, Os…</td></tr><tr><td>&quot;GO:0016491&quot;</td><td>&quot;MF&quot;</td><td>&quot;e&quot;</td><td>&quot;oxidoreductase activity&quot;</td><td>&quot;34/370&quot;</td><td>&quot;1620/38993&quot;</td><td>0.000018</td><td>2</td><td>34</td><td>0.006561</td><td>&quot;Os01g0591300, Os01g0627400, Os…</td></tr><tr><td>&quot;GO:0010333&quot;</td><td>&quot;MF&quot;</td><td>&quot;e&quot;</td><td>&quot;terpene synthase activity&quot;</td><td>&quot;5/370&quot;</td><td>&quot;37/38993&quot;</td><td>0.000025</td><td>5</td><td>5</td><td>0.008206</td><td>&quot;Os02g0121700, Os02g0571100, Os…</td></tr></tbody></table></div>"
      ],
      "text/plain": [
       "shape: (17, 11)\n",
       "┌────────────┬─────┬────────────┬──────────────┬───┬───────┬─────────────┬──────────┬──────────────┐\n",
       "│ # GO       ┆ NS  ┆ enrichment ┆ name         ┆ … ┆ depth ┆ study_count ┆ p_fdr_bh ┆ study_items  │\n",
       "│ ---        ┆ --- ┆ ---        ┆ ---          ┆   ┆ ---   ┆ ---         ┆ ---      ┆ ---          │\n",
       "│ str        ┆ str ┆ str        ┆ str          ┆   ┆ i64   ┆ i64         ┆ f64      ┆ str          │\n",
       "╞════════════╪═════╪════════════╪══════════════╪═══╪═══════╪═════════════╪══════════╪══════════════╡\n",
       "│ GO:0006879 ┆ BP  ┆ e          ┆ intracellula ┆ … ┆ 6     ┆ 7           ┆ 0.000231 ┆ Os01g0689451 │\n",
       "│            ┆     ┆            ┆ r iron ion   ┆   ┆       ┆             ┆          ┆ , Os02g06499 │\n",
       "│            ┆     ┆            ┆ homeost…     ┆   ┆       ┆             ┆          ┆ 00, Os…      │\n",
       "│ GO:0006826 ┆ BP  ┆ e          ┆ iron ion     ┆ … ┆ 8     ┆ 6           ┆ 0.000678 ┆ Os02g0649900 │\n",
       "│            ┆     ┆            ┆ transport    ┆   ┆       ┆             ┆          ┆ , Os02g06503 │\n",
       "│            ┆     ┆            ┆              ┆   ┆       ┆             ┆          ┆ 00, Os…      │\n",
       "│ GO:0060586 ┆ BP  ┆ e          ┆ multicellula ┆ … ┆ 5     ┆ 5           ┆ 0.003002 ┆ Os01g0689451 │\n",
       "│            ┆     ┆            ┆ r organismal ┆   ┆       ┆             ┆          ┆ , Os03g06673 │\n",
       "│            ┆     ┆            ┆ -level…      ┆   ┆       ┆             ┆          ┆ 00, Os…      │\n",
       "│ GO:0140962 ┆ BP  ┆ e          ┆ multicellula ┆ … ┆ 3     ┆ 5           ┆ 0.003659 ┆ Os01g0689451 │\n",
       "│            ┆     ┆            ┆ r organismal ┆   ┆       ┆             ┆          ┆ , Os03g06673 │\n",
       "│            ┆     ┆            ┆ -level…      ┆   ┆       ┆             ┆          ┆ 00, Os…      │\n",
       "│ GO:0048871 ┆ BP  ┆ e          ┆ multicellula ┆ … ┆ 2     ┆ 5           ┆ 0.004083 ┆ Os01g0689451 │\n",
       "│            ┆     ┆            ┆ r organismal ┆   ┆       ┆             ┆          ┆ , Os03g06673 │\n",
       "│            ┆     ┆            ┆ -level…      ┆   ┆       ┆             ┆          ┆ 00, Os…      │\n",
       "│ …          ┆ …   ┆ …          ┆ …            ┆ … ┆ …     ┆ …           ┆ …        ┆ …            │\n",
       "│ GO:0046906 ┆ MF  ┆ e          ┆ tetrapyrrole ┆ … ┆ 2     ┆ 19          ┆ 0.001536 ┆ Os01g0627400 │\n",
       "│            ┆     ┆            ┆ binding      ┆   ┆       ┆             ┆          ┆ , Os01g08548 │\n",
       "│            ┆     ┆            ┆              ┆   ┆       ┆             ┆          ┆ 00, Os…      │\n",
       "│ GO:0016705 ┆ MF  ┆ e          ┆ oxidoreducta ┆ … ┆ 3     ┆ 17          ┆ 0.002474 ┆ Os01g0627400 │\n",
       "│            ┆     ┆            ┆ se activity, ┆   ┆       ┆             ┆          ┆ , Os01g08548 │\n",
       "│            ┆     ┆            ┆ actin…       ┆   ┆       ┆             ┆          ┆ 00, Os…      │\n",
       "│ GO:0005506 ┆ MF  ┆ e          ┆ iron ion     ┆ … ┆ 7     ┆ 16          ┆ 0.002767 ┆ Os01g0627400 │\n",
       "│            ┆     ┆            ┆ binding      ┆   ┆       ┆             ┆          ┆ , Os01g08548 │\n",
       "│            ┆     ┆            ┆              ┆   ┆       ┆             ┆          ┆ 00, Os…      │\n",
       "│ GO:0016491 ┆ MF  ┆ e          ┆ oxidoreducta ┆ … ┆ 2     ┆ 34          ┆ 0.006561 ┆ Os01g0591300 │\n",
       "│            ┆     ┆            ┆ se activity  ┆   ┆       ┆             ┆          ┆ , Os01g06274 │\n",
       "│            ┆     ┆            ┆              ┆   ┆       ┆             ┆          ┆ 00, Os…      │\n",
       "│ GO:0010333 ┆ MF  ┆ e          ┆ terpene      ┆ … ┆ 5     ┆ 5           ┆ 0.008206 ┆ Os02g0121700 │\n",
       "│            ┆     ┆            ┆ synthase     ┆   ┆       ┆             ┆          ┆ , Os02g05711 │\n",
       "│            ┆     ┆            ┆ activity     ┆   ┆       ┆             ┆          ┆ 00, Os…      │\n",
       "└────────────┴─────┴────────────┴──────────────┴───┴───────┴─────────────┴──────────┴──────────────┘"
      ]
     },
     "metadata": {},
     "output_type": "display_data"
    }
   ],
   "source": [
    "rice_go_enrichment_down = pl.read_csv(\n",
    "    \"../Data/09_goatools/result/rice_go_enrichment_down.tsv\",\n",
    "    separator=\"\\t\"\n",
    ").filter(\n",
    "    pl.col(\"enrichment\") == \"e\"\n",
    ")\n",
    "\n",
    "rice_go_enrichment_down.write_csv(\n",
    "    \"../Data/09_goatools/result/rice_go_enrichment_down_modified.tsv\",\n",
    "    separator=\"\\t\"\n",
    ")\n",
    "\n",
    "display(rice_go_enrichment_down)"
   ]
  }
 ],
 "metadata": {
  "kernelspec": {
   "display_name": "Python 3",
   "language": "python",
   "name": "python3"
  },
  "language_info": {
   "codemirror_mode": {
    "name": "ipython",
    "version": 3
   },
   "file_extension": ".py",
   "mimetype": "text/x-python",
   "name": "python",
   "nbconvert_exporter": "python",
   "pygments_lexer": "ipython3",
   "version": "3.11.4"
  }
 },
 "nbformat": 4,
 "nbformat_minor": 2
}

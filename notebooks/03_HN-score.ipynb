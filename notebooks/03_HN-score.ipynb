{
 "cells": [
  {
   "cell_type": "code",
   "execution_count": 1,
   "metadata": {},
   "outputs": [],
   "source": [
    "import os\n",
    "import datetime\n",
    "# import numpy as np\n",
    "# import pandas as pd\n",
    "import polars as pl"
   ]
  },
  {
   "cell_type": "code",
   "execution_count": 2,
   "metadata": {},
   "outputs": [
    {
     "name": "stdout",
     "output_type": "stream",
     "text": [
      "2025-05-24 00:47:48.758950\n"
     ]
    }
   ],
   "source": [
    "now = datetime.datetime.now()\n",
    "print(now)"
   ]
  },
  {
   "cell_type": "code",
   "execution_count": 3,
   "metadata": {},
   "outputs": [
    {
     "data": {
      "text/html": [
       "<div><style>\n",
       ".dataframe > thead > tr,\n",
       ".dataframe > tbody > tr {\n",
       "  text-align: right;\n",
       "  white-space: pre-wrap;\n",
       "}\n",
       "</style>\n",
       "<small>shape: (35_691, 361)</small><table border=\"1\" class=\"dataframe\"><thead><tr><th>GENEID</th><th>SRR22741460</th><th>SRR22741461</th><th>SRR22741462</th><th>SRR22741463</th><th>SRR22741468</th><th>SRR22741469</th><th>SRR22741470</th><th>SRR22741471</th><th>SRR10991576</th><th>SRR10991577</th><th>SRR10991578</th><th>SRR10991582</th><th>SRR10991583</th><th>SRR10991584</th><th>SRR8140273</th><th>SRR8140274</th><th>SRR8140275</th><th>SRR8140276</th><th>SRR8140277</th><th>SRR8140278</th><th>SRR8140285</th><th>SRR8140286</th><th>SRR8140287</th><th>SRR8140288</th><th>SRR8140289</th><th>SRR8140290</th><th>SRR10423442</th><th>SRR10423443</th><th>SRR10423444</th><th>SRR10423430</th><th>SRR10423431</th><th>SRR10423432</th><th>SRR10423433</th><th>SRR10423434</th><th>SRR10423435</th><th>SRR10423418</th><th>&hellip;</th><th>SRR15060432</th><th>SRR15060433</th><th>SRR15060434</th><th>SRR15060435</th><th>SRR15060436</th><th>SRR15060437</th><th>SRR15060438</th><th>SRR15060439</th><th>SRR15060440</th><th>SRR15060441</th><th>SRR15060442</th><th>SRR15060443</th><th>SRR15060444</th><th>SRR15060445</th><th>SRR15060446</th><th>SRR15060447</th><th>SRR15060448</th><th>SRR15060449</th><th>SRR15060450</th><th>SRR15060451</th><th>SRR15060452</th><th>SRR15060453</th><th>SRR15060454</th><th>SRR15060455</th><th>SRR15060456</th><th>SRR22854097</th><th>SRR22854098</th><th>SRR22854099</th><th>SRR22854094</th><th>SRR22854095</th><th>SRR22854096</th><th>SRR23051879</th><th>SRR23051878</th><th>SRR23051877</th><th>SRR23051876</th><th>SRR23051875</th><th>SRR23051874</th></tr><tr><td>str</td><td>f64</td><td>f64</td><td>f64</td><td>f64</td><td>f64</td><td>f64</td><td>f64</td><td>f64</td><td>f64</td><td>f64</td><td>f64</td><td>f64</td><td>f64</td><td>f64</td><td>f64</td><td>f64</td><td>f64</td><td>f64</td><td>f64</td><td>f64</td><td>f64</td><td>f64</td><td>f64</td><td>f64</td><td>f64</td><td>f64</td><td>f64</td><td>f64</td><td>f64</td><td>f64</td><td>f64</td><td>f64</td><td>f64</td><td>f64</td><td>f64</td><td>f64</td><td>&hellip;</td><td>f64</td><td>f64</td><td>f64</td><td>f64</td><td>f64</td><td>f64</td><td>f64</td><td>f64</td><td>f64</td><td>f64</td><td>f64</td><td>f64</td><td>f64</td><td>f64</td><td>f64</td><td>f64</td><td>f64</td><td>f64</td><td>f64</td><td>f64</td><td>f64</td><td>f64</td><td>f64</td><td>f64</td><td>f64</td><td>f64</td><td>f64</td><td>f64</td><td>f64</td><td>f64</td><td>f64</td><td>f64</td><td>f64</td><td>f64</td><td>f64</td><td>f64</td><td>f64</td></tr></thead><tbody><tr><td>&quot;EPlORYSAT000373610&quot;</td><td>1.0</td><td>1.0</td><td>64.003051</td><td>64.326859</td><td>0.015755</td><td>1.0</td><td>1.0</td><td>1.0</td><td>1.0</td><td>1.0</td><td>1.0</td><td>1.0</td><td>1.0</td><td>1.0</td><td>1.0</td><td>1.0</td><td>1.0</td><td>1.0</td><td>1.0</td><td>1.0</td><td>1.0</td><td>1.0</td><td>1.0</td><td>1.0</td><td>1.0</td><td>1.0</td><td>1.0</td><td>1.0</td><td>1.0</td><td>1.0</td><td>1.0</td><td>1.0</td><td>1.0</td><td>1.0</td><td>1.0</td><td>1.0</td><td>&hellip;</td><td>1.0</td><td>1.0</td><td>1.0</td><td>1.0</td><td>1.0</td><td>1.0</td><td>1.0</td><td>1.0</td><td>1.0</td><td>1.0</td><td>1.0</td><td>1.0</td><td>188.995833</td><td>1.0</td><td>1.0</td><td>1.0</td><td>1.0</td><td>1.0</td><td>1.0</td><td>1.0</td><td>1.0</td><td>200.462188</td><td>1.0</td><td>1.0</td><td>1.0</td><td>0.017064</td><td>1.0</td><td>70.185139</td><td>1.284229</td><td>1.0</td><td>1.0</td><td>1.0</td><td>1.0</td><td>1.0</td><td>1.0</td><td>1.0</td><td>1.0</td></tr><tr><td>&quot;EPlORYSAT000373621&quot;</td><td>1.0</td><td>1.0</td><td>1.0</td><td>1.0</td><td>1.0</td><td>1.0</td><td>1.0</td><td>1.0</td><td>1.0</td><td>1.0</td><td>1.0</td><td>1.0</td><td>1.0</td><td>1.0</td><td>1.0</td><td>1.0</td><td>1.0</td><td>1.0</td><td>1.0</td><td>1.0</td><td>1.0</td><td>1.0</td><td>1.0</td><td>1.0</td><td>1.0</td><td>1.0</td><td>1.0</td><td>1.0</td><td>1.0</td><td>1.0</td><td>1.0</td><td>1.0</td><td>1.0</td><td>1.0</td><td>1.0</td><td>1.0</td><td>&hellip;</td><td>1.0</td><td>1.0</td><td>1.0</td><td>1.0</td><td>1.0</td><td>1.0</td><td>1.0</td><td>1.0</td><td>1.0</td><td>1.0</td><td>1.0</td><td>1.0</td><td>1.0</td><td>1.0</td><td>1.0</td><td>1.0</td><td>1.0</td><td>1.0</td><td>1.0</td><td>1.0</td><td>1.0</td><td>1.0</td><td>1.0</td><td>1.0</td><td>1.0</td><td>1.0</td><td>1.0</td><td>1.0</td><td>1.0</td><td>1.0</td><td>1.0</td><td>1.0</td><td>1.0</td><td>1.0</td><td>1.0</td><td>1.0</td><td>1.0</td></tr><tr><td>&quot;EPlORYSAT000373643&quot;</td><td>1.0</td><td>1.0</td><td>1.0</td><td>1.0</td><td>1.0</td><td>1.0</td><td>1.0</td><td>1.0</td><td>1.0</td><td>1.0</td><td>1.0</td><td>1.0</td><td>1.0</td><td>1.0</td><td>1.0</td><td>1.0</td><td>1.0</td><td>1.0</td><td>1.0</td><td>1.0</td><td>1.0</td><td>1.0</td><td>1.0</td><td>1.0</td><td>1.0</td><td>1.0</td><td>1.0</td><td>1.0</td><td>1.0</td><td>1.0</td><td>1.0</td><td>1.0</td><td>1.0</td><td>1.0</td><td>1.0</td><td>1.0</td><td>&hellip;</td><td>1.0</td><td>1.0</td><td>1.0</td><td>1.0</td><td>1.0</td><td>1.0</td><td>1.0</td><td>1.0</td><td>1.0</td><td>1.0</td><td>1.0</td><td>1.0</td><td>1.0</td><td>1.0</td><td>1.0</td><td>1.0</td><td>1.0</td><td>1.0</td><td>1.0</td><td>1.0</td><td>1.0</td><td>1.0</td><td>1.0</td><td>1.0</td><td>1.0</td><td>1.0</td><td>1.0</td><td>1.0</td><td>1.0</td><td>1.0</td><td>1.0</td><td>1.0</td><td>1.0</td><td>1.0</td><td>1.0</td><td>1.0</td><td>1.0</td></tr><tr><td>&quot;EPlORYSAT000373795&quot;</td><td>1.0</td><td>1.0</td><td>1.0</td><td>1.0</td><td>1.0</td><td>1.0</td><td>1.0</td><td>1.0</td><td>1.0</td><td>1.0</td><td>1.0</td><td>1.0</td><td>1.0</td><td>1.0</td><td>1.0</td><td>1.0</td><td>1.0</td><td>1.0</td><td>1.0</td><td>1.0</td><td>1.0</td><td>1.0</td><td>1.0</td><td>1.0</td><td>1.0</td><td>1.0</td><td>1.0</td><td>1.0</td><td>1.0</td><td>1.0</td><td>1.0</td><td>1.0</td><td>1.0</td><td>1.0</td><td>1.0</td><td>1.0</td><td>&hellip;</td><td>1.0</td><td>1.0</td><td>1.0</td><td>1.0</td><td>1.0</td><td>1.0</td><td>1.0</td><td>1.0</td><td>1.0</td><td>1.0</td><td>1.0</td><td>1.0</td><td>1.0</td><td>1.0</td><td>1.0</td><td>1.0</td><td>1.0</td><td>1.0</td><td>1.0</td><td>1.0</td><td>1.0</td><td>1.0</td><td>1.0</td><td>1.0</td><td>1.0</td><td>1.0</td><td>1.0</td><td>1.0</td><td>1.0</td><td>1.0</td><td>1.0</td><td>1.0</td><td>1.0</td><td>1.0</td><td>1.0</td><td>1.0</td><td>1.0</td></tr><tr><td>&quot;EPlORYSAT000373851&quot;</td><td>1.0</td><td>1.0</td><td>1.0</td><td>1.0</td><td>1.0</td><td>1.0</td><td>1.0</td><td>1.0</td><td>1.0</td><td>1.0</td><td>1.0</td><td>1.0</td><td>1.0</td><td>1.0</td><td>1.0</td><td>1.0</td><td>1.0</td><td>1.0</td><td>1.0</td><td>1.0</td><td>1.0</td><td>1.0</td><td>1.0</td><td>1.0</td><td>1.0</td><td>1.0</td><td>1.0</td><td>1.0</td><td>1.0</td><td>1.0</td><td>1.0</td><td>1.0</td><td>1.0</td><td>1.0</td><td>1.0</td><td>1.0</td><td>&hellip;</td><td>1.0</td><td>1.0</td><td>1.0</td><td>1.0</td><td>1.0</td><td>1.0</td><td>1.0</td><td>1.0</td><td>1.0</td><td>1.0</td><td>1.0</td><td>1.0</td><td>1.0</td><td>1.0</td><td>1.0</td><td>1.0</td><td>1.0</td><td>1.0</td><td>1.0</td><td>1.0</td><td>1.0</td><td>1.0</td><td>1.0</td><td>1.0</td><td>1.0</td><td>1.0</td><td>1.0</td><td>1.0</td><td>1.0</td><td>1.0</td><td>1.0</td><td>1.0</td><td>1.0</td><td>1.0</td><td>1.0</td><td>1.0</td><td>1.0</td></tr><tr><td>&hellip;</td><td>&hellip;</td><td>&hellip;</td><td>&hellip;</td><td>&hellip;</td><td>&hellip;</td><td>&hellip;</td><td>&hellip;</td><td>&hellip;</td><td>&hellip;</td><td>&hellip;</td><td>&hellip;</td><td>&hellip;</td><td>&hellip;</td><td>&hellip;</td><td>&hellip;</td><td>&hellip;</td><td>&hellip;</td><td>&hellip;</td><td>&hellip;</td><td>&hellip;</td><td>&hellip;</td><td>&hellip;</td><td>&hellip;</td><td>&hellip;</td><td>&hellip;</td><td>&hellip;</td><td>&hellip;</td><td>&hellip;</td><td>&hellip;</td><td>&hellip;</td><td>&hellip;</td><td>&hellip;</td><td>&hellip;</td><td>&hellip;</td><td>&hellip;</td><td>&hellip;</td><td>&hellip;</td><td>&hellip;</td><td>&hellip;</td><td>&hellip;</td><td>&hellip;</td><td>&hellip;</td><td>&hellip;</td><td>&hellip;</td><td>&hellip;</td><td>&hellip;</td><td>&hellip;</td><td>&hellip;</td><td>&hellip;</td><td>&hellip;</td><td>&hellip;</td><td>&hellip;</td><td>&hellip;</td><td>&hellip;</td><td>&hellip;</td><td>&hellip;</td><td>&hellip;</td><td>&hellip;</td><td>&hellip;</td><td>&hellip;</td><td>&hellip;</td><td>&hellip;</td><td>&hellip;</td><td>&hellip;</td><td>&hellip;</td><td>&hellip;</td><td>&hellip;</td><td>&hellip;</td><td>&hellip;</td><td>&hellip;</td><td>&hellip;</td><td>&hellip;</td><td>&hellip;</td><td>&hellip;</td></tr><tr><td>&quot;Os12g0641100&quot;</td><td>0.330482</td><td>0.881209</td><td>0.498074</td><td>0.510708</td><td>0.808446</td><td>0.986463</td><td>1.23701</td><td>0.690745</td><td>1.967604</td><td>2.090501</td><td>1.667619</td><td>0.663144</td><td>0.915042</td><td>1.175697</td><td>0.290975</td><td>0.287567</td><td>0.243554</td><td>0.240388</td><td>0.361402</td><td>0.367039</td><td>0.361091</td><td>0.361422</td><td>0.356863</td><td>0.362518</td><td>0.45673</td><td>0.463282</td><td>5.218504</td><td>3.569581</td><td>3.710993</td><td>2.168091</td><td>1.36272</td><td>1.019475</td><td>2.594985</td><td>1.684937</td><td>1.135803</td><td>10.381417</td><td>&hellip;</td><td>1.254025</td><td>0.520597</td><td>1.459464</td><td>0.983362</td><td>0.992884</td><td>1.093461</td><td>1.780748</td><td>1.34706</td><td>1.17272</td><td>2.118824</td><td>1.495923</td><td>1.029656</td><td>0.80882</td><td>1.615215</td><td>1.139736</td><td>0.948756</td><td>0.962316</td><td>0.721113</td><td>1.061525</td><td>1.037891</td><td>1.287411</td><td>2.775175</td><td>0.525017</td><td>2.270865</td><td>0.577094</td><td>0.639495</td><td>0.560287</td><td>0.520431</td><td>0.792163</td><td>0.735383</td><td>0.738452</td><td>1.377318</td><td>0.974089</td><td>0.60175</td><td>0.558296</td><td>0.972543</td><td>1.624633</td></tr><tr><td>&quot;Os12g0641200&quot;</td><td>1.0</td><td>1.0</td><td>1.0</td><td>1.0</td><td>1.0</td><td>1.0</td><td>1.0</td><td>1.0</td><td>1.34581</td><td>1.337851</td><td>0.722855</td><td>0.202596</td><td>0.310684</td><td>0.482447</td><td>2.147339</td><td>2.66812</td><td>2.470606</td><td>2.420584</td><td>1.210811</td><td>1.68822</td><td>1.782365</td><td>2.02234</td><td>0.864469</td><td>0.57654</td><td>2.820844</td><td>3.900592</td><td>1.0</td><td>1.0</td><td>1.363146</td><td>0.224637</td><td>2.561818</td><td>5.592903</td><td>0.891283</td><td>1.0</td><td>2.886571</td><td>0.399646</td><td>&hellip;</td><td>1.626003</td><td>0.554418</td><td>2.327543</td><td>0.708659</td><td>1.253904</td><td>0.747667</td><td>1.21419</td><td>1.394378</td><td>0.3072</td><td>1.54719</td><td>0.853705</td><td>0.422481</td><td>0.317257</td><td>2.731734</td><td>1.396359</td><td>1.205544</td><td>0.483574</td><td>0.733506</td><td>0.479358</td><td>0.468497</td><td>1.266185</td><td>1.540311</td><td>0.340326</td><td>0.938826</td><td>0.744195</td><td>0.902789</td><td>0.293271</td><td>0.734621</td><td>2.713237</td><td>0.723214</td><td>1.469847</td><td>8.251797</td><td>12.227851</td><td>3.864073</td><td>1.986833</td><td>0.582545</td><td>14.041889</td></tr><tr><td>&quot;Os12g0641300&quot;</td><td>1.0</td><td>1.0</td><td>1.0</td><td>1.0</td><td>0.316684</td><td>1.0</td><td>1.0</td><td>1.0</td><td>1.814044</td><td>1.959658</td><td>1.651451</td><td>0.363303</td><td>0.489477</td><td>0.513967</td><td>2.183846</td><td>2.08417</td><td>1.371521</td><td>1.332527</td><td>1.70133</td><td>1.59343</td><td>2.331243</td><td>2.217381</td><td>1.709113</td><td>1.78951</td><td>2.844805</td><td>2.677968</td><td>0.253169</td><td>0.211079</td><td>0.145295</td><td>1.157339</td><td>1.6192</td><td>1.448443</td><td>1.300356</td><td>2.497598</td><td>1.559386</td><td>1.36379</td><td>&hellip;</td><td>1.137144</td><td>0.462542</td><td>1.408695</td><td>0.915513</td><td>0.854722</td><td>0.741904</td><td>1.555971</td><td>1.282565</td><td>1.182925</td><td>1.995457</td><td>1.473107</td><td>1.037217</td><td>0.94501</td><td>2.389791</td><td>1.674603</td><td>1.253617</td><td>1.145706</td><td>0.964097</td><td>1.156783</td><td>1.536818</td><td>0.871979</td><td>1.831006</td><td>0.543172</td><td>2.212088</td><td>0.656573</td><td>1.132524</td><td>0.721943</td><td>0.54759</td><td>1.798458</td><td>1.377382</td><td>1.720096</td><td>1.417665</td><td>1.672338</td><td>1.197103</td><td>0.377292</td><td>1.064871</td><td>1.447654</td></tr><tr><td>&quot;Os12g0641400&quot;</td><td>0.656297</td><td>0.944844</td><td>0.682396</td><td>0.827123</td><td>0.600326</td><td>1.508617</td><td>0.951318</td><td>0.385374</td><td>1.11855</td><td>1.06925</td><td>1.000182</td><td>0.951502</td><td>1.288889</td><td>1.349027</td><td>0.777332</td><td>0.783799</td><td>0.715868</td><td>0.711444</td><td>0.690354</td><td>0.699451</td><td>0.817806</td><td>0.806047</td><td>0.577829</td><td>0.580564</td><td>0.900966</td><td>0.90491</td><td>2.492621</td><td>3.345792</td><td>2.583717</td><td>1.302779</td><td>1.227777</td><td>0.929066</td><td>1.208109</td><td>1.311805</td><td>0.985016</td><td>1.73784</td><td>&hellip;</td><td>1.14999</td><td>0.401833</td><td>1.203462</td><td>0.904723</td><td>0.752594</td><td>0.545916</td><td>0.987183</td><td>0.839881</td><td>0.904542</td><td>1.304546</td><td>1.016111</td><td>0.715164</td><td>0.688706</td><td>1.305155</td><td>0.979802</td><td>0.888161</td><td>0.72413</td><td>0.595877</td><td>0.785112</td><td>0.914574</td><td>0.664386</td><td>1.343614</td><td>0.443142</td><td>1.710404</td><td>0.427035</td><td>0.573803</td><td>0.430716</td><td>0.43136</td><td>0.943933</td><td>0.783158</td><td>0.879249</td><td>0.73665</td><td>1.022858</td><td>0.340235</td><td>0.377274</td><td>0.546013</td><td>1.023622</td></tr><tr><td>&quot;Os12g0641500&quot;</td><td>0.854</td><td>1.063454</td><td>0.821973</td><td>1.081992</td><td>0.896639</td><td>0.827501</td><td>1.177691</td><td>0.871535</td><td>1.795138</td><td>1.864458</td><td>1.489137</td><td>1.389437</td><td>2.199542</td><td>2.876902</td><td>0.411915</td><td>0.419311</td><td>0.348308</td><td>0.343535</td><td>0.480602</td><td>0.49441</td><td>0.556721</td><td>0.556653</td><td>0.465437</td><td>0.466151</td><td>0.646637</td><td>0.65308</td><td>9.08905</td><td>5.356792</td><td>11.442835</td><td>2.955065</td><td>1.156059</td><td>1.259709</td><td>2.453632</td><td>1.427103</td><td>1.322571</td><td>4.541973</td><td>&hellip;</td><td>1.223966</td><td>0.4179</td><td>1.268587</td><td>0.841521</td><td>1.169084</td><td>1.112873</td><td>1.949383</td><td>1.470266</td><td>1.041914</td><td>1.873556</td><td>1.35495</td><td>0.844412</td><td>0.854512</td><td>1.713295</td><td>1.243602</td><td>1.005852</td><td>0.970481</td><td>0.733052</td><td>0.999838</td><td>1.092754</td><td>1.292979</td><td>2.592577</td><td>0.481811</td><td>2.315379</td><td>0.512562</td><td>0.975283</td><td>0.532336</td><td>0.536193</td><td>1.636216</td><td>1.094168</td><td>0.965324</td><td>1.285873</td><td>1.251288</td><td>0.621946</td><td>1.115922</td><td>1.046188</td><td>1.598548</td></tr></tbody></table></div>"
      ],
      "text/plain": [
       "shape: (35_691, 361)\n",
       "┌───────────┬───────────┬───────────┬───────────┬───┬───────────┬───────────┬───────────┬──────────┐\n",
       "│ GENEID    ┆ SRR227414 ┆ SRR227414 ┆ SRR227414 ┆ … ┆ SRR230518 ┆ SRR230518 ┆ SRR230518 ┆ SRR23051 │\n",
       "│ ---       ┆ 60        ┆ 61        ┆ 62        ┆   ┆ 77        ┆ 76        ┆ 75        ┆ 874      │\n",
       "│ str       ┆ ---       ┆ ---       ┆ ---       ┆   ┆ ---       ┆ ---       ┆ ---       ┆ ---      │\n",
       "│           ┆ f64       ┆ f64       ┆ f64       ┆   ┆ f64       ┆ f64       ┆ f64       ┆ f64      │\n",
       "╞═══════════╪═══════════╪═══════════╪═══════════╪═══╪═══════════╪═══════════╪═══════════╪══════════╡\n",
       "│ EPlORYSAT ┆ 1.0       ┆ 1.0       ┆ 64.003051 ┆ … ┆ 1.0       ┆ 1.0       ┆ 1.0       ┆ 1.0      │\n",
       "│ 000373610 ┆           ┆           ┆           ┆   ┆           ┆           ┆           ┆          │\n",
       "│ EPlORYSAT ┆ 1.0       ┆ 1.0       ┆ 1.0       ┆ … ┆ 1.0       ┆ 1.0       ┆ 1.0       ┆ 1.0      │\n",
       "│ 000373621 ┆           ┆           ┆           ┆   ┆           ┆           ┆           ┆          │\n",
       "│ EPlORYSAT ┆ 1.0       ┆ 1.0       ┆ 1.0       ┆ … ┆ 1.0       ┆ 1.0       ┆ 1.0       ┆ 1.0      │\n",
       "│ 000373643 ┆           ┆           ┆           ┆   ┆           ┆           ┆           ┆          │\n",
       "│ EPlORYSAT ┆ 1.0       ┆ 1.0       ┆ 1.0       ┆ … ┆ 1.0       ┆ 1.0       ┆ 1.0       ┆ 1.0      │\n",
       "│ 000373795 ┆           ┆           ┆           ┆   ┆           ┆           ┆           ┆          │\n",
       "│ EPlORYSAT ┆ 1.0       ┆ 1.0       ┆ 1.0       ┆ … ┆ 1.0       ┆ 1.0       ┆ 1.0       ┆ 1.0      │\n",
       "│ 000373851 ┆           ┆           ┆           ┆   ┆           ┆           ┆           ┆          │\n",
       "│ …         ┆ …         ┆ …         ┆ …         ┆ … ┆ …         ┆ …         ┆ …         ┆ …        │\n",
       "│ Os12g0641 ┆ 0.330482  ┆ 0.881209  ┆ 0.498074  ┆ … ┆ 0.60175   ┆ 0.558296  ┆ 0.972543  ┆ 1.624633 │\n",
       "│ 100       ┆           ┆           ┆           ┆   ┆           ┆           ┆           ┆          │\n",
       "│ Os12g0641 ┆ 1.0       ┆ 1.0       ┆ 1.0       ┆ … ┆ 3.864073  ┆ 1.986833  ┆ 0.582545  ┆ 14.04188 │\n",
       "│ 200       ┆           ┆           ┆           ┆   ┆           ┆           ┆           ┆ 9        │\n",
       "│ Os12g0641 ┆ 1.0       ┆ 1.0       ┆ 1.0       ┆ … ┆ 1.197103  ┆ 0.377292  ┆ 1.064871  ┆ 1.447654 │\n",
       "│ 300       ┆           ┆           ┆           ┆   ┆           ┆           ┆           ┆          │\n",
       "│ Os12g0641 ┆ 0.656297  ┆ 0.944844  ┆ 0.682396  ┆ … ┆ 0.340235  ┆ 0.377274  ┆ 0.546013  ┆ 1.023622 │\n",
       "│ 400       ┆           ┆           ┆           ┆   ┆           ┆           ┆           ┆          │\n",
       "│ Os12g0641 ┆ 0.854     ┆ 1.063454  ┆ 0.821973  ┆ … ┆ 0.621946  ┆ 1.115922  ┆ 1.046188  ┆ 1.598548 │\n",
       "│ 500       ┆           ┆           ┆           ┆   ┆           ┆           ┆           ┆          │\n",
       "└───────────┴───────────┴───────────┴───────────┴───┴───────────┴───────────┴───────────┴──────────┘"
      ]
     },
     "metadata": {},
     "output_type": "display_data"
    }
   ],
   "source": [
    "HNratio = pl.read_csv(\n",
    "    \"../Data/05_HNratio/HNratio_rice_250524_all.csv\", \n",
    "    separator=\",\"\n",
    ")\n",
    "display(HNratio)"
   ]
  },
  {
   "cell_type": "code",
   "execution_count": 4,
   "metadata": {},
   "outputs": [
    {
     "data": {
      "text/html": [
       "<div><style>\n",
       ".dataframe > thead > tr,\n",
       ".dataframe > tbody > tr {\n",
       "  text-align: right;\n",
       "  white-space: pre-wrap;\n",
       "}\n",
       "</style>\n",
       "<small>shape: (35_691, 361)</small><table border=\"1\" class=\"dataframe\"><thead><tr><th>GENEID</th><th>SRR22741460_category</th><th>SRR22741461_category</th><th>SRR22741462_category</th><th>SRR22741463_category</th><th>SRR22741468_category</th><th>SRR22741469_category</th><th>SRR22741470_category</th><th>SRR22741471_category</th><th>SRR10991576_category</th><th>SRR10991577_category</th><th>SRR10991578_category</th><th>SRR10991582_category</th><th>SRR10991583_category</th><th>SRR10991584_category</th><th>SRR8140273_category</th><th>SRR8140274_category</th><th>SRR8140275_category</th><th>SRR8140276_category</th><th>SRR8140277_category</th><th>SRR8140278_category</th><th>SRR8140285_category</th><th>SRR8140286_category</th><th>SRR8140287_category</th><th>SRR8140288_category</th><th>SRR8140289_category</th><th>SRR8140290_category</th><th>SRR10423442_category</th><th>SRR10423443_category</th><th>SRR10423444_category</th><th>SRR10423430_category</th><th>SRR10423431_category</th><th>SRR10423432_category</th><th>SRR10423433_category</th><th>SRR10423434_category</th><th>SRR10423435_category</th><th>SRR10423418_category</th><th>&hellip;</th><th>SRR15060432_category</th><th>SRR15060433_category</th><th>SRR15060434_category</th><th>SRR15060435_category</th><th>SRR15060436_category</th><th>SRR15060437_category</th><th>SRR15060438_category</th><th>SRR15060439_category</th><th>SRR15060440_category</th><th>SRR15060441_category</th><th>SRR15060442_category</th><th>SRR15060443_category</th><th>SRR15060444_category</th><th>SRR15060445_category</th><th>SRR15060446_category</th><th>SRR15060447_category</th><th>SRR15060448_category</th><th>SRR15060449_category</th><th>SRR15060450_category</th><th>SRR15060451_category</th><th>SRR15060452_category</th><th>SRR15060453_category</th><th>SRR15060454_category</th><th>SRR15060455_category</th><th>SRR15060456_category</th><th>SRR22854097_category</th><th>SRR22854098_category</th><th>SRR22854099_category</th><th>SRR22854094_category</th><th>SRR22854095_category</th><th>SRR22854096_category</th><th>SRR23051879_category</th><th>SRR23051878_category</th><th>SRR23051877_category</th><th>SRR23051876_category</th><th>SRR23051875_category</th><th>SRR23051874_category</th></tr><tr><td>str</td><td>str</td><td>str</td><td>str</td><td>str</td><td>str</td><td>str</td><td>str</td><td>str</td><td>str</td><td>str</td><td>str</td><td>str</td><td>str</td><td>str</td><td>str</td><td>str</td><td>str</td><td>str</td><td>str</td><td>str</td><td>str</td><td>str</td><td>str</td><td>str</td><td>str</td><td>str</td><td>str</td><td>str</td><td>str</td><td>str</td><td>str</td><td>str</td><td>str</td><td>str</td><td>str</td><td>str</td><td>&hellip;</td><td>str</td><td>str</td><td>str</td><td>str</td><td>str</td><td>str</td><td>str</td><td>str</td><td>str</td><td>str</td><td>str</td><td>str</td><td>str</td><td>str</td><td>str</td><td>str</td><td>str</td><td>str</td><td>str</td><td>str</td><td>str</td><td>str</td><td>str</td><td>str</td><td>str</td><td>str</td><td>str</td><td>str</td><td>str</td><td>str</td><td>str</td><td>str</td><td>str</td><td>str</td><td>str</td><td>str</td><td>str</td></tr></thead><tbody><tr><td>&quot;EPlORYSAT000373610&quot;</td><td>&quot;UNCHANGED&quot;</td><td>&quot;UNCHANGED&quot;</td><td>&quot;UP&quot;</td><td>&quot;UP&quot;</td><td>&quot;DOWN&quot;</td><td>&quot;UNCHANGED&quot;</td><td>&quot;UNCHANGED&quot;</td><td>&quot;UNCHANGED&quot;</td><td>&quot;UNCHANGED&quot;</td><td>&quot;UNCHANGED&quot;</td><td>&quot;UNCHANGED&quot;</td><td>&quot;UNCHANGED&quot;</td><td>&quot;UNCHANGED&quot;</td><td>&quot;UNCHANGED&quot;</td><td>&quot;UNCHANGED&quot;</td><td>&quot;UNCHANGED&quot;</td><td>&quot;UNCHANGED&quot;</td><td>&quot;UNCHANGED&quot;</td><td>&quot;UNCHANGED&quot;</td><td>&quot;UNCHANGED&quot;</td><td>&quot;UNCHANGED&quot;</td><td>&quot;UNCHANGED&quot;</td><td>&quot;UNCHANGED&quot;</td><td>&quot;UNCHANGED&quot;</td><td>&quot;UNCHANGED&quot;</td><td>&quot;UNCHANGED&quot;</td><td>&quot;UNCHANGED&quot;</td><td>&quot;UNCHANGED&quot;</td><td>&quot;UNCHANGED&quot;</td><td>&quot;UNCHANGED&quot;</td><td>&quot;UNCHANGED&quot;</td><td>&quot;UNCHANGED&quot;</td><td>&quot;UNCHANGED&quot;</td><td>&quot;UNCHANGED&quot;</td><td>&quot;UNCHANGED&quot;</td><td>&quot;UNCHANGED&quot;</td><td>&hellip;</td><td>&quot;UNCHANGED&quot;</td><td>&quot;UNCHANGED&quot;</td><td>&quot;UNCHANGED&quot;</td><td>&quot;UNCHANGED&quot;</td><td>&quot;UNCHANGED&quot;</td><td>&quot;UNCHANGED&quot;</td><td>&quot;UNCHANGED&quot;</td><td>&quot;UNCHANGED&quot;</td><td>&quot;UNCHANGED&quot;</td><td>&quot;UNCHANGED&quot;</td><td>&quot;UNCHANGED&quot;</td><td>&quot;UNCHANGED&quot;</td><td>&quot;UP&quot;</td><td>&quot;UNCHANGED&quot;</td><td>&quot;UNCHANGED&quot;</td><td>&quot;UNCHANGED&quot;</td><td>&quot;UNCHANGED&quot;</td><td>&quot;UNCHANGED&quot;</td><td>&quot;UNCHANGED&quot;</td><td>&quot;UNCHANGED&quot;</td><td>&quot;UNCHANGED&quot;</td><td>&quot;UP&quot;</td><td>&quot;UNCHANGED&quot;</td><td>&quot;UNCHANGED&quot;</td><td>&quot;UNCHANGED&quot;</td><td>&quot;DOWN&quot;</td><td>&quot;UNCHANGED&quot;</td><td>&quot;UP&quot;</td><td>&quot;UNCHANGED&quot;</td><td>&quot;UNCHANGED&quot;</td><td>&quot;UNCHANGED&quot;</td><td>&quot;UNCHANGED&quot;</td><td>&quot;UNCHANGED&quot;</td><td>&quot;UNCHANGED&quot;</td><td>&quot;UNCHANGED&quot;</td><td>&quot;UNCHANGED&quot;</td><td>&quot;UNCHANGED&quot;</td></tr><tr><td>&quot;EPlORYSAT000373621&quot;</td><td>&quot;UNCHANGED&quot;</td><td>&quot;UNCHANGED&quot;</td><td>&quot;UNCHANGED&quot;</td><td>&quot;UNCHANGED&quot;</td><td>&quot;UNCHANGED&quot;</td><td>&quot;UNCHANGED&quot;</td><td>&quot;UNCHANGED&quot;</td><td>&quot;UNCHANGED&quot;</td><td>&quot;UNCHANGED&quot;</td><td>&quot;UNCHANGED&quot;</td><td>&quot;UNCHANGED&quot;</td><td>&quot;UNCHANGED&quot;</td><td>&quot;UNCHANGED&quot;</td><td>&quot;UNCHANGED&quot;</td><td>&quot;UNCHANGED&quot;</td><td>&quot;UNCHANGED&quot;</td><td>&quot;UNCHANGED&quot;</td><td>&quot;UNCHANGED&quot;</td><td>&quot;UNCHANGED&quot;</td><td>&quot;UNCHANGED&quot;</td><td>&quot;UNCHANGED&quot;</td><td>&quot;UNCHANGED&quot;</td><td>&quot;UNCHANGED&quot;</td><td>&quot;UNCHANGED&quot;</td><td>&quot;UNCHANGED&quot;</td><td>&quot;UNCHANGED&quot;</td><td>&quot;UNCHANGED&quot;</td><td>&quot;UNCHANGED&quot;</td><td>&quot;UNCHANGED&quot;</td><td>&quot;UNCHANGED&quot;</td><td>&quot;UNCHANGED&quot;</td><td>&quot;UNCHANGED&quot;</td><td>&quot;UNCHANGED&quot;</td><td>&quot;UNCHANGED&quot;</td><td>&quot;UNCHANGED&quot;</td><td>&quot;UNCHANGED&quot;</td><td>&hellip;</td><td>&quot;UNCHANGED&quot;</td><td>&quot;UNCHANGED&quot;</td><td>&quot;UNCHANGED&quot;</td><td>&quot;UNCHANGED&quot;</td><td>&quot;UNCHANGED&quot;</td><td>&quot;UNCHANGED&quot;</td><td>&quot;UNCHANGED&quot;</td><td>&quot;UNCHANGED&quot;</td><td>&quot;UNCHANGED&quot;</td><td>&quot;UNCHANGED&quot;</td><td>&quot;UNCHANGED&quot;</td><td>&quot;UNCHANGED&quot;</td><td>&quot;UNCHANGED&quot;</td><td>&quot;UNCHANGED&quot;</td><td>&quot;UNCHANGED&quot;</td><td>&quot;UNCHANGED&quot;</td><td>&quot;UNCHANGED&quot;</td><td>&quot;UNCHANGED&quot;</td><td>&quot;UNCHANGED&quot;</td><td>&quot;UNCHANGED&quot;</td><td>&quot;UNCHANGED&quot;</td><td>&quot;UNCHANGED&quot;</td><td>&quot;UNCHANGED&quot;</td><td>&quot;UNCHANGED&quot;</td><td>&quot;UNCHANGED&quot;</td><td>&quot;UNCHANGED&quot;</td><td>&quot;UNCHANGED&quot;</td><td>&quot;UNCHANGED&quot;</td><td>&quot;UNCHANGED&quot;</td><td>&quot;UNCHANGED&quot;</td><td>&quot;UNCHANGED&quot;</td><td>&quot;UNCHANGED&quot;</td><td>&quot;UNCHANGED&quot;</td><td>&quot;UNCHANGED&quot;</td><td>&quot;UNCHANGED&quot;</td><td>&quot;UNCHANGED&quot;</td><td>&quot;UNCHANGED&quot;</td></tr><tr><td>&quot;EPlORYSAT000373643&quot;</td><td>&quot;UNCHANGED&quot;</td><td>&quot;UNCHANGED&quot;</td><td>&quot;UNCHANGED&quot;</td><td>&quot;UNCHANGED&quot;</td><td>&quot;UNCHANGED&quot;</td><td>&quot;UNCHANGED&quot;</td><td>&quot;UNCHANGED&quot;</td><td>&quot;UNCHANGED&quot;</td><td>&quot;UNCHANGED&quot;</td><td>&quot;UNCHANGED&quot;</td><td>&quot;UNCHANGED&quot;</td><td>&quot;UNCHANGED&quot;</td><td>&quot;UNCHANGED&quot;</td><td>&quot;UNCHANGED&quot;</td><td>&quot;UNCHANGED&quot;</td><td>&quot;UNCHANGED&quot;</td><td>&quot;UNCHANGED&quot;</td><td>&quot;UNCHANGED&quot;</td><td>&quot;UNCHANGED&quot;</td><td>&quot;UNCHANGED&quot;</td><td>&quot;UNCHANGED&quot;</td><td>&quot;UNCHANGED&quot;</td><td>&quot;UNCHANGED&quot;</td><td>&quot;UNCHANGED&quot;</td><td>&quot;UNCHANGED&quot;</td><td>&quot;UNCHANGED&quot;</td><td>&quot;UNCHANGED&quot;</td><td>&quot;UNCHANGED&quot;</td><td>&quot;UNCHANGED&quot;</td><td>&quot;UNCHANGED&quot;</td><td>&quot;UNCHANGED&quot;</td><td>&quot;UNCHANGED&quot;</td><td>&quot;UNCHANGED&quot;</td><td>&quot;UNCHANGED&quot;</td><td>&quot;UNCHANGED&quot;</td><td>&quot;UNCHANGED&quot;</td><td>&hellip;</td><td>&quot;UNCHANGED&quot;</td><td>&quot;UNCHANGED&quot;</td><td>&quot;UNCHANGED&quot;</td><td>&quot;UNCHANGED&quot;</td><td>&quot;UNCHANGED&quot;</td><td>&quot;UNCHANGED&quot;</td><td>&quot;UNCHANGED&quot;</td><td>&quot;UNCHANGED&quot;</td><td>&quot;UNCHANGED&quot;</td><td>&quot;UNCHANGED&quot;</td><td>&quot;UNCHANGED&quot;</td><td>&quot;UNCHANGED&quot;</td><td>&quot;UNCHANGED&quot;</td><td>&quot;UNCHANGED&quot;</td><td>&quot;UNCHANGED&quot;</td><td>&quot;UNCHANGED&quot;</td><td>&quot;UNCHANGED&quot;</td><td>&quot;UNCHANGED&quot;</td><td>&quot;UNCHANGED&quot;</td><td>&quot;UNCHANGED&quot;</td><td>&quot;UNCHANGED&quot;</td><td>&quot;UNCHANGED&quot;</td><td>&quot;UNCHANGED&quot;</td><td>&quot;UNCHANGED&quot;</td><td>&quot;UNCHANGED&quot;</td><td>&quot;UNCHANGED&quot;</td><td>&quot;UNCHANGED&quot;</td><td>&quot;UNCHANGED&quot;</td><td>&quot;UNCHANGED&quot;</td><td>&quot;UNCHANGED&quot;</td><td>&quot;UNCHANGED&quot;</td><td>&quot;UNCHANGED&quot;</td><td>&quot;UNCHANGED&quot;</td><td>&quot;UNCHANGED&quot;</td><td>&quot;UNCHANGED&quot;</td><td>&quot;UNCHANGED&quot;</td><td>&quot;UNCHANGED&quot;</td></tr><tr><td>&quot;EPlORYSAT000373795&quot;</td><td>&quot;UNCHANGED&quot;</td><td>&quot;UNCHANGED&quot;</td><td>&quot;UNCHANGED&quot;</td><td>&quot;UNCHANGED&quot;</td><td>&quot;UNCHANGED&quot;</td><td>&quot;UNCHANGED&quot;</td><td>&quot;UNCHANGED&quot;</td><td>&quot;UNCHANGED&quot;</td><td>&quot;UNCHANGED&quot;</td><td>&quot;UNCHANGED&quot;</td><td>&quot;UNCHANGED&quot;</td><td>&quot;UNCHANGED&quot;</td><td>&quot;UNCHANGED&quot;</td><td>&quot;UNCHANGED&quot;</td><td>&quot;UNCHANGED&quot;</td><td>&quot;UNCHANGED&quot;</td><td>&quot;UNCHANGED&quot;</td><td>&quot;UNCHANGED&quot;</td><td>&quot;UNCHANGED&quot;</td><td>&quot;UNCHANGED&quot;</td><td>&quot;UNCHANGED&quot;</td><td>&quot;UNCHANGED&quot;</td><td>&quot;UNCHANGED&quot;</td><td>&quot;UNCHANGED&quot;</td><td>&quot;UNCHANGED&quot;</td><td>&quot;UNCHANGED&quot;</td><td>&quot;UNCHANGED&quot;</td><td>&quot;UNCHANGED&quot;</td><td>&quot;UNCHANGED&quot;</td><td>&quot;UNCHANGED&quot;</td><td>&quot;UNCHANGED&quot;</td><td>&quot;UNCHANGED&quot;</td><td>&quot;UNCHANGED&quot;</td><td>&quot;UNCHANGED&quot;</td><td>&quot;UNCHANGED&quot;</td><td>&quot;UNCHANGED&quot;</td><td>&hellip;</td><td>&quot;UNCHANGED&quot;</td><td>&quot;UNCHANGED&quot;</td><td>&quot;UNCHANGED&quot;</td><td>&quot;UNCHANGED&quot;</td><td>&quot;UNCHANGED&quot;</td><td>&quot;UNCHANGED&quot;</td><td>&quot;UNCHANGED&quot;</td><td>&quot;UNCHANGED&quot;</td><td>&quot;UNCHANGED&quot;</td><td>&quot;UNCHANGED&quot;</td><td>&quot;UNCHANGED&quot;</td><td>&quot;UNCHANGED&quot;</td><td>&quot;UNCHANGED&quot;</td><td>&quot;UNCHANGED&quot;</td><td>&quot;UNCHANGED&quot;</td><td>&quot;UNCHANGED&quot;</td><td>&quot;UNCHANGED&quot;</td><td>&quot;UNCHANGED&quot;</td><td>&quot;UNCHANGED&quot;</td><td>&quot;UNCHANGED&quot;</td><td>&quot;UNCHANGED&quot;</td><td>&quot;UNCHANGED&quot;</td><td>&quot;UNCHANGED&quot;</td><td>&quot;UNCHANGED&quot;</td><td>&quot;UNCHANGED&quot;</td><td>&quot;UNCHANGED&quot;</td><td>&quot;UNCHANGED&quot;</td><td>&quot;UNCHANGED&quot;</td><td>&quot;UNCHANGED&quot;</td><td>&quot;UNCHANGED&quot;</td><td>&quot;UNCHANGED&quot;</td><td>&quot;UNCHANGED&quot;</td><td>&quot;UNCHANGED&quot;</td><td>&quot;UNCHANGED&quot;</td><td>&quot;UNCHANGED&quot;</td><td>&quot;UNCHANGED&quot;</td><td>&quot;UNCHANGED&quot;</td></tr><tr><td>&quot;EPlORYSAT000373851&quot;</td><td>&quot;UNCHANGED&quot;</td><td>&quot;UNCHANGED&quot;</td><td>&quot;UNCHANGED&quot;</td><td>&quot;UNCHANGED&quot;</td><td>&quot;UNCHANGED&quot;</td><td>&quot;UNCHANGED&quot;</td><td>&quot;UNCHANGED&quot;</td><td>&quot;UNCHANGED&quot;</td><td>&quot;UNCHANGED&quot;</td><td>&quot;UNCHANGED&quot;</td><td>&quot;UNCHANGED&quot;</td><td>&quot;UNCHANGED&quot;</td><td>&quot;UNCHANGED&quot;</td><td>&quot;UNCHANGED&quot;</td><td>&quot;UNCHANGED&quot;</td><td>&quot;UNCHANGED&quot;</td><td>&quot;UNCHANGED&quot;</td><td>&quot;UNCHANGED&quot;</td><td>&quot;UNCHANGED&quot;</td><td>&quot;UNCHANGED&quot;</td><td>&quot;UNCHANGED&quot;</td><td>&quot;UNCHANGED&quot;</td><td>&quot;UNCHANGED&quot;</td><td>&quot;UNCHANGED&quot;</td><td>&quot;UNCHANGED&quot;</td><td>&quot;UNCHANGED&quot;</td><td>&quot;UNCHANGED&quot;</td><td>&quot;UNCHANGED&quot;</td><td>&quot;UNCHANGED&quot;</td><td>&quot;UNCHANGED&quot;</td><td>&quot;UNCHANGED&quot;</td><td>&quot;UNCHANGED&quot;</td><td>&quot;UNCHANGED&quot;</td><td>&quot;UNCHANGED&quot;</td><td>&quot;UNCHANGED&quot;</td><td>&quot;UNCHANGED&quot;</td><td>&hellip;</td><td>&quot;UNCHANGED&quot;</td><td>&quot;UNCHANGED&quot;</td><td>&quot;UNCHANGED&quot;</td><td>&quot;UNCHANGED&quot;</td><td>&quot;UNCHANGED&quot;</td><td>&quot;UNCHANGED&quot;</td><td>&quot;UNCHANGED&quot;</td><td>&quot;UNCHANGED&quot;</td><td>&quot;UNCHANGED&quot;</td><td>&quot;UNCHANGED&quot;</td><td>&quot;UNCHANGED&quot;</td><td>&quot;UNCHANGED&quot;</td><td>&quot;UNCHANGED&quot;</td><td>&quot;UNCHANGED&quot;</td><td>&quot;UNCHANGED&quot;</td><td>&quot;UNCHANGED&quot;</td><td>&quot;UNCHANGED&quot;</td><td>&quot;UNCHANGED&quot;</td><td>&quot;UNCHANGED&quot;</td><td>&quot;UNCHANGED&quot;</td><td>&quot;UNCHANGED&quot;</td><td>&quot;UNCHANGED&quot;</td><td>&quot;UNCHANGED&quot;</td><td>&quot;UNCHANGED&quot;</td><td>&quot;UNCHANGED&quot;</td><td>&quot;UNCHANGED&quot;</td><td>&quot;UNCHANGED&quot;</td><td>&quot;UNCHANGED&quot;</td><td>&quot;UNCHANGED&quot;</td><td>&quot;UNCHANGED&quot;</td><td>&quot;UNCHANGED&quot;</td><td>&quot;UNCHANGED&quot;</td><td>&quot;UNCHANGED&quot;</td><td>&quot;UNCHANGED&quot;</td><td>&quot;UNCHANGED&quot;</td><td>&quot;UNCHANGED&quot;</td><td>&quot;UNCHANGED&quot;</td></tr><tr><td>&hellip;</td><td>&hellip;</td><td>&hellip;</td><td>&hellip;</td><td>&hellip;</td><td>&hellip;</td><td>&hellip;</td><td>&hellip;</td><td>&hellip;</td><td>&hellip;</td><td>&hellip;</td><td>&hellip;</td><td>&hellip;</td><td>&hellip;</td><td>&hellip;</td><td>&hellip;</td><td>&hellip;</td><td>&hellip;</td><td>&hellip;</td><td>&hellip;</td><td>&hellip;</td><td>&hellip;</td><td>&hellip;</td><td>&hellip;</td><td>&hellip;</td><td>&hellip;</td><td>&hellip;</td><td>&hellip;</td><td>&hellip;</td><td>&hellip;</td><td>&hellip;</td><td>&hellip;</td><td>&hellip;</td><td>&hellip;</td><td>&hellip;</td><td>&hellip;</td><td>&hellip;</td><td>&hellip;</td><td>&hellip;</td><td>&hellip;</td><td>&hellip;</td><td>&hellip;</td><td>&hellip;</td><td>&hellip;</td><td>&hellip;</td><td>&hellip;</td><td>&hellip;</td><td>&hellip;</td><td>&hellip;</td><td>&hellip;</td><td>&hellip;</td><td>&hellip;</td><td>&hellip;</td><td>&hellip;</td><td>&hellip;</td><td>&hellip;</td><td>&hellip;</td><td>&hellip;</td><td>&hellip;</td><td>&hellip;</td><td>&hellip;</td><td>&hellip;</td><td>&hellip;</td><td>&hellip;</td><td>&hellip;</td><td>&hellip;</td><td>&hellip;</td><td>&hellip;</td><td>&hellip;</td><td>&hellip;</td><td>&hellip;</td><td>&hellip;</td><td>&hellip;</td><td>&hellip;</td><td>&hellip;</td></tr><tr><td>&quot;Os12g0641100&quot;</td><td>&quot;UNCHANGED&quot;</td><td>&quot;UNCHANGED&quot;</td><td>&quot;UNCHANGED&quot;</td><td>&quot;UNCHANGED&quot;</td><td>&quot;UNCHANGED&quot;</td><td>&quot;UNCHANGED&quot;</td><td>&quot;UNCHANGED&quot;</td><td>&quot;UNCHANGED&quot;</td><td>&quot;UNCHANGED&quot;</td><td>&quot;UNCHANGED&quot;</td><td>&quot;UNCHANGED&quot;</td><td>&quot;UNCHANGED&quot;</td><td>&quot;UNCHANGED&quot;</td><td>&quot;UNCHANGED&quot;</td><td>&quot;UNCHANGED&quot;</td><td>&quot;UNCHANGED&quot;</td><td>&quot;UNCHANGED&quot;</td><td>&quot;UNCHANGED&quot;</td><td>&quot;UNCHANGED&quot;</td><td>&quot;UNCHANGED&quot;</td><td>&quot;UNCHANGED&quot;</td><td>&quot;UNCHANGED&quot;</td><td>&quot;UNCHANGED&quot;</td><td>&quot;UNCHANGED&quot;</td><td>&quot;UNCHANGED&quot;</td><td>&quot;UNCHANGED&quot;</td><td>&quot;UP&quot;</td><td>&quot;UNCHANGED&quot;</td><td>&quot;UNCHANGED&quot;</td><td>&quot;UNCHANGED&quot;</td><td>&quot;UNCHANGED&quot;</td><td>&quot;UNCHANGED&quot;</td><td>&quot;UNCHANGED&quot;</td><td>&quot;UNCHANGED&quot;</td><td>&quot;UNCHANGED&quot;</td><td>&quot;UP&quot;</td><td>&hellip;</td><td>&quot;UNCHANGED&quot;</td><td>&quot;UNCHANGED&quot;</td><td>&quot;UNCHANGED&quot;</td><td>&quot;UNCHANGED&quot;</td><td>&quot;UNCHANGED&quot;</td><td>&quot;UNCHANGED&quot;</td><td>&quot;UNCHANGED&quot;</td><td>&quot;UNCHANGED&quot;</td><td>&quot;UNCHANGED&quot;</td><td>&quot;UNCHANGED&quot;</td><td>&quot;UNCHANGED&quot;</td><td>&quot;UNCHANGED&quot;</td><td>&quot;UNCHANGED&quot;</td><td>&quot;UNCHANGED&quot;</td><td>&quot;UNCHANGED&quot;</td><td>&quot;UNCHANGED&quot;</td><td>&quot;UNCHANGED&quot;</td><td>&quot;UNCHANGED&quot;</td><td>&quot;UNCHANGED&quot;</td><td>&quot;UNCHANGED&quot;</td><td>&quot;UNCHANGED&quot;</td><td>&quot;UNCHANGED&quot;</td><td>&quot;UNCHANGED&quot;</td><td>&quot;UNCHANGED&quot;</td><td>&quot;UNCHANGED&quot;</td><td>&quot;UNCHANGED&quot;</td><td>&quot;UNCHANGED&quot;</td><td>&quot;UNCHANGED&quot;</td><td>&quot;UNCHANGED&quot;</td><td>&quot;UNCHANGED&quot;</td><td>&quot;UNCHANGED&quot;</td><td>&quot;UNCHANGED&quot;</td><td>&quot;UNCHANGED&quot;</td><td>&quot;UNCHANGED&quot;</td><td>&quot;UNCHANGED&quot;</td><td>&quot;UNCHANGED&quot;</td><td>&quot;UNCHANGED&quot;</td></tr><tr><td>&quot;Os12g0641200&quot;</td><td>&quot;UNCHANGED&quot;</td><td>&quot;UNCHANGED&quot;</td><td>&quot;UNCHANGED&quot;</td><td>&quot;UNCHANGED&quot;</td><td>&quot;UNCHANGED&quot;</td><td>&quot;UNCHANGED&quot;</td><td>&quot;UNCHANGED&quot;</td><td>&quot;UNCHANGED&quot;</td><td>&quot;UNCHANGED&quot;</td><td>&quot;UNCHANGED&quot;</td><td>&quot;UNCHANGED&quot;</td><td>&quot;UNCHANGED&quot;</td><td>&quot;UNCHANGED&quot;</td><td>&quot;UNCHANGED&quot;</td><td>&quot;UNCHANGED&quot;</td><td>&quot;UNCHANGED&quot;</td><td>&quot;UNCHANGED&quot;</td><td>&quot;UNCHANGED&quot;</td><td>&quot;UNCHANGED&quot;</td><td>&quot;UNCHANGED&quot;</td><td>&quot;UNCHANGED&quot;</td><td>&quot;UNCHANGED&quot;</td><td>&quot;UNCHANGED&quot;</td><td>&quot;UNCHANGED&quot;</td><td>&quot;UNCHANGED&quot;</td><td>&quot;UNCHANGED&quot;</td><td>&quot;UNCHANGED&quot;</td><td>&quot;UNCHANGED&quot;</td><td>&quot;UNCHANGED&quot;</td><td>&quot;UNCHANGED&quot;</td><td>&quot;UNCHANGED&quot;</td><td>&quot;UP&quot;</td><td>&quot;UNCHANGED&quot;</td><td>&quot;UNCHANGED&quot;</td><td>&quot;UNCHANGED&quot;</td><td>&quot;UNCHANGED&quot;</td><td>&hellip;</td><td>&quot;UNCHANGED&quot;</td><td>&quot;UNCHANGED&quot;</td><td>&quot;UNCHANGED&quot;</td><td>&quot;UNCHANGED&quot;</td><td>&quot;UNCHANGED&quot;</td><td>&quot;UNCHANGED&quot;</td><td>&quot;UNCHANGED&quot;</td><td>&quot;UNCHANGED&quot;</td><td>&quot;UNCHANGED&quot;</td><td>&quot;UNCHANGED&quot;</td><td>&quot;UNCHANGED&quot;</td><td>&quot;UNCHANGED&quot;</td><td>&quot;UNCHANGED&quot;</td><td>&quot;UNCHANGED&quot;</td><td>&quot;UNCHANGED&quot;</td><td>&quot;UNCHANGED&quot;</td><td>&quot;UNCHANGED&quot;</td><td>&quot;UNCHANGED&quot;</td><td>&quot;UNCHANGED&quot;</td><td>&quot;UNCHANGED&quot;</td><td>&quot;UNCHANGED&quot;</td><td>&quot;UNCHANGED&quot;</td><td>&quot;UNCHANGED&quot;</td><td>&quot;UNCHANGED&quot;</td><td>&quot;UNCHANGED&quot;</td><td>&quot;UNCHANGED&quot;</td><td>&quot;UNCHANGED&quot;</td><td>&quot;UNCHANGED&quot;</td><td>&quot;UNCHANGED&quot;</td><td>&quot;UNCHANGED&quot;</td><td>&quot;UNCHANGED&quot;</td><td>&quot;UP&quot;</td><td>&quot;UP&quot;</td><td>&quot;UNCHANGED&quot;</td><td>&quot;UNCHANGED&quot;</td><td>&quot;UNCHANGED&quot;</td><td>&quot;UP&quot;</td></tr><tr><td>&quot;Os12g0641300&quot;</td><td>&quot;UNCHANGED&quot;</td><td>&quot;UNCHANGED&quot;</td><td>&quot;UNCHANGED&quot;</td><td>&quot;UNCHANGED&quot;</td><td>&quot;UNCHANGED&quot;</td><td>&quot;UNCHANGED&quot;</td><td>&quot;UNCHANGED&quot;</td><td>&quot;UNCHANGED&quot;</td><td>&quot;UNCHANGED&quot;</td><td>&quot;UNCHANGED&quot;</td><td>&quot;UNCHANGED&quot;</td><td>&quot;UNCHANGED&quot;</td><td>&quot;UNCHANGED&quot;</td><td>&quot;UNCHANGED&quot;</td><td>&quot;UNCHANGED&quot;</td><td>&quot;UNCHANGED&quot;</td><td>&quot;UNCHANGED&quot;</td><td>&quot;UNCHANGED&quot;</td><td>&quot;UNCHANGED&quot;</td><td>&quot;UNCHANGED&quot;</td><td>&quot;UNCHANGED&quot;</td><td>&quot;UNCHANGED&quot;</td><td>&quot;UNCHANGED&quot;</td><td>&quot;UNCHANGED&quot;</td><td>&quot;UNCHANGED&quot;</td><td>&quot;UNCHANGED&quot;</td><td>&quot;UNCHANGED&quot;</td><td>&quot;UNCHANGED&quot;</td><td>&quot;DOWN&quot;</td><td>&quot;UNCHANGED&quot;</td><td>&quot;UNCHANGED&quot;</td><td>&quot;UNCHANGED&quot;</td><td>&quot;UNCHANGED&quot;</td><td>&quot;UNCHANGED&quot;</td><td>&quot;UNCHANGED&quot;</td><td>&quot;UNCHANGED&quot;</td><td>&hellip;</td><td>&quot;UNCHANGED&quot;</td><td>&quot;UNCHANGED&quot;</td><td>&quot;UNCHANGED&quot;</td><td>&quot;UNCHANGED&quot;</td><td>&quot;UNCHANGED&quot;</td><td>&quot;UNCHANGED&quot;</td><td>&quot;UNCHANGED&quot;</td><td>&quot;UNCHANGED&quot;</td><td>&quot;UNCHANGED&quot;</td><td>&quot;UNCHANGED&quot;</td><td>&quot;UNCHANGED&quot;</td><td>&quot;UNCHANGED&quot;</td><td>&quot;UNCHANGED&quot;</td><td>&quot;UNCHANGED&quot;</td><td>&quot;UNCHANGED&quot;</td><td>&quot;UNCHANGED&quot;</td><td>&quot;UNCHANGED&quot;</td><td>&quot;UNCHANGED&quot;</td><td>&quot;UNCHANGED&quot;</td><td>&quot;UNCHANGED&quot;</td><td>&quot;UNCHANGED&quot;</td><td>&quot;UNCHANGED&quot;</td><td>&quot;UNCHANGED&quot;</td><td>&quot;UNCHANGED&quot;</td><td>&quot;UNCHANGED&quot;</td><td>&quot;UNCHANGED&quot;</td><td>&quot;UNCHANGED&quot;</td><td>&quot;UNCHANGED&quot;</td><td>&quot;UNCHANGED&quot;</td><td>&quot;UNCHANGED&quot;</td><td>&quot;UNCHANGED&quot;</td><td>&quot;UNCHANGED&quot;</td><td>&quot;UNCHANGED&quot;</td><td>&quot;UNCHANGED&quot;</td><td>&quot;UNCHANGED&quot;</td><td>&quot;UNCHANGED&quot;</td><td>&quot;UNCHANGED&quot;</td></tr><tr><td>&quot;Os12g0641400&quot;</td><td>&quot;UNCHANGED&quot;</td><td>&quot;UNCHANGED&quot;</td><td>&quot;UNCHANGED&quot;</td><td>&quot;UNCHANGED&quot;</td><td>&quot;UNCHANGED&quot;</td><td>&quot;UNCHANGED&quot;</td><td>&quot;UNCHANGED&quot;</td><td>&quot;UNCHANGED&quot;</td><td>&quot;UNCHANGED&quot;</td><td>&quot;UNCHANGED&quot;</td><td>&quot;UNCHANGED&quot;</td><td>&quot;UNCHANGED&quot;</td><td>&quot;UNCHANGED&quot;</td><td>&quot;UNCHANGED&quot;</td><td>&quot;UNCHANGED&quot;</td><td>&quot;UNCHANGED&quot;</td><td>&quot;UNCHANGED&quot;</td><td>&quot;UNCHANGED&quot;</td><td>&quot;UNCHANGED&quot;</td><td>&quot;UNCHANGED&quot;</td><td>&quot;UNCHANGED&quot;</td><td>&quot;UNCHANGED&quot;</td><td>&quot;UNCHANGED&quot;</td><td>&quot;UNCHANGED&quot;</td><td>&quot;UNCHANGED&quot;</td><td>&quot;UNCHANGED&quot;</td><td>&quot;UNCHANGED&quot;</td><td>&quot;UNCHANGED&quot;</td><td>&quot;UNCHANGED&quot;</td><td>&quot;UNCHANGED&quot;</td><td>&quot;UNCHANGED&quot;</td><td>&quot;UNCHANGED&quot;</td><td>&quot;UNCHANGED&quot;</td><td>&quot;UNCHANGED&quot;</td><td>&quot;UNCHANGED&quot;</td><td>&quot;UNCHANGED&quot;</td><td>&hellip;</td><td>&quot;UNCHANGED&quot;</td><td>&quot;UNCHANGED&quot;</td><td>&quot;UNCHANGED&quot;</td><td>&quot;UNCHANGED&quot;</td><td>&quot;UNCHANGED&quot;</td><td>&quot;UNCHANGED&quot;</td><td>&quot;UNCHANGED&quot;</td><td>&quot;UNCHANGED&quot;</td><td>&quot;UNCHANGED&quot;</td><td>&quot;UNCHANGED&quot;</td><td>&quot;UNCHANGED&quot;</td><td>&quot;UNCHANGED&quot;</td><td>&quot;UNCHANGED&quot;</td><td>&quot;UNCHANGED&quot;</td><td>&quot;UNCHANGED&quot;</td><td>&quot;UNCHANGED&quot;</td><td>&quot;UNCHANGED&quot;</td><td>&quot;UNCHANGED&quot;</td><td>&quot;UNCHANGED&quot;</td><td>&quot;UNCHANGED&quot;</td><td>&quot;UNCHANGED&quot;</td><td>&quot;UNCHANGED&quot;</td><td>&quot;UNCHANGED&quot;</td><td>&quot;UNCHANGED&quot;</td><td>&quot;UNCHANGED&quot;</td><td>&quot;UNCHANGED&quot;</td><td>&quot;UNCHANGED&quot;</td><td>&quot;UNCHANGED&quot;</td><td>&quot;UNCHANGED&quot;</td><td>&quot;UNCHANGED&quot;</td><td>&quot;UNCHANGED&quot;</td><td>&quot;UNCHANGED&quot;</td><td>&quot;UNCHANGED&quot;</td><td>&quot;UNCHANGED&quot;</td><td>&quot;UNCHANGED&quot;</td><td>&quot;UNCHANGED&quot;</td><td>&quot;UNCHANGED&quot;</td></tr><tr><td>&quot;Os12g0641500&quot;</td><td>&quot;UNCHANGED&quot;</td><td>&quot;UNCHANGED&quot;</td><td>&quot;UNCHANGED&quot;</td><td>&quot;UNCHANGED&quot;</td><td>&quot;UNCHANGED&quot;</td><td>&quot;UNCHANGED&quot;</td><td>&quot;UNCHANGED&quot;</td><td>&quot;UNCHANGED&quot;</td><td>&quot;UNCHANGED&quot;</td><td>&quot;UNCHANGED&quot;</td><td>&quot;UNCHANGED&quot;</td><td>&quot;UNCHANGED&quot;</td><td>&quot;UNCHANGED&quot;</td><td>&quot;UNCHANGED&quot;</td><td>&quot;UNCHANGED&quot;</td><td>&quot;UNCHANGED&quot;</td><td>&quot;UNCHANGED&quot;</td><td>&quot;UNCHANGED&quot;</td><td>&quot;UNCHANGED&quot;</td><td>&quot;UNCHANGED&quot;</td><td>&quot;UNCHANGED&quot;</td><td>&quot;UNCHANGED&quot;</td><td>&quot;UNCHANGED&quot;</td><td>&quot;UNCHANGED&quot;</td><td>&quot;UNCHANGED&quot;</td><td>&quot;UNCHANGED&quot;</td><td>&quot;UP&quot;</td><td>&quot;UP&quot;</td><td>&quot;UP&quot;</td><td>&quot;UNCHANGED&quot;</td><td>&quot;UNCHANGED&quot;</td><td>&quot;UNCHANGED&quot;</td><td>&quot;UNCHANGED&quot;</td><td>&quot;UNCHANGED&quot;</td><td>&quot;UNCHANGED&quot;</td><td>&quot;UNCHANGED&quot;</td><td>&hellip;</td><td>&quot;UNCHANGED&quot;</td><td>&quot;UNCHANGED&quot;</td><td>&quot;UNCHANGED&quot;</td><td>&quot;UNCHANGED&quot;</td><td>&quot;UNCHANGED&quot;</td><td>&quot;UNCHANGED&quot;</td><td>&quot;UNCHANGED&quot;</td><td>&quot;UNCHANGED&quot;</td><td>&quot;UNCHANGED&quot;</td><td>&quot;UNCHANGED&quot;</td><td>&quot;UNCHANGED&quot;</td><td>&quot;UNCHANGED&quot;</td><td>&quot;UNCHANGED&quot;</td><td>&quot;UNCHANGED&quot;</td><td>&quot;UNCHANGED&quot;</td><td>&quot;UNCHANGED&quot;</td><td>&quot;UNCHANGED&quot;</td><td>&quot;UNCHANGED&quot;</td><td>&quot;UNCHANGED&quot;</td><td>&quot;UNCHANGED&quot;</td><td>&quot;UNCHANGED&quot;</td><td>&quot;UNCHANGED&quot;</td><td>&quot;UNCHANGED&quot;</td><td>&quot;UNCHANGED&quot;</td><td>&quot;UNCHANGED&quot;</td><td>&quot;UNCHANGED&quot;</td><td>&quot;UNCHANGED&quot;</td><td>&quot;UNCHANGED&quot;</td><td>&quot;UNCHANGED&quot;</td><td>&quot;UNCHANGED&quot;</td><td>&quot;UNCHANGED&quot;</td><td>&quot;UNCHANGED&quot;</td><td>&quot;UNCHANGED&quot;</td><td>&quot;UNCHANGED&quot;</td><td>&quot;UNCHANGED&quot;</td><td>&quot;UNCHANGED&quot;</td><td>&quot;UNCHANGED&quot;</td></tr></tbody></table></div>"
      ],
      "text/plain": [
       "shape: (35_691, 361)\n",
       "┌───────────┬───────────┬───────────┬───────────┬───┬───────────┬───────────┬───────────┬──────────┐\n",
       "│ GENEID    ┆ SRR227414 ┆ SRR227414 ┆ SRR227414 ┆ … ┆ SRR230518 ┆ SRR230518 ┆ SRR230518 ┆ SRR23051 │\n",
       "│ ---       ┆ 60_catego ┆ 61_catego ┆ 62_catego ┆   ┆ 77_catego ┆ 76_catego ┆ 75_catego ┆ 874_cate │\n",
       "│ str       ┆ ry        ┆ ry        ┆ ry        ┆   ┆ ry        ┆ ry        ┆ ry        ┆ gory     │\n",
       "│           ┆ ---       ┆ ---       ┆ ---       ┆   ┆ ---       ┆ ---       ┆ ---       ┆ ---      │\n",
       "│           ┆ str       ┆ str       ┆ str       ┆   ┆ str       ┆ str       ┆ str       ┆ str      │\n",
       "╞═══════════╪═══════════╪═══════════╪═══════════╪═══╪═══════════╪═══════════╪═══════════╪══════════╡\n",
       "│ EPlORYSAT ┆ UNCHANGED ┆ UNCHANGED ┆ UP        ┆ … ┆ UNCHANGED ┆ UNCHANGED ┆ UNCHANGED ┆ UNCHANGE │\n",
       "│ 000373610 ┆           ┆           ┆           ┆   ┆           ┆           ┆           ┆ D        │\n",
       "│ EPlORYSAT ┆ UNCHANGED ┆ UNCHANGED ┆ UNCHANGED ┆ … ┆ UNCHANGED ┆ UNCHANGED ┆ UNCHANGED ┆ UNCHANGE │\n",
       "│ 000373621 ┆           ┆           ┆           ┆   ┆           ┆           ┆           ┆ D        │\n",
       "│ EPlORYSAT ┆ UNCHANGED ┆ UNCHANGED ┆ UNCHANGED ┆ … ┆ UNCHANGED ┆ UNCHANGED ┆ UNCHANGED ┆ UNCHANGE │\n",
       "│ 000373643 ┆           ┆           ┆           ┆   ┆           ┆           ┆           ┆ D        │\n",
       "│ EPlORYSAT ┆ UNCHANGED ┆ UNCHANGED ┆ UNCHANGED ┆ … ┆ UNCHANGED ┆ UNCHANGED ┆ UNCHANGED ┆ UNCHANGE │\n",
       "│ 000373795 ┆           ┆           ┆           ┆   ┆           ┆           ┆           ┆ D        │\n",
       "│ EPlORYSAT ┆ UNCHANGED ┆ UNCHANGED ┆ UNCHANGED ┆ … ┆ UNCHANGED ┆ UNCHANGED ┆ UNCHANGED ┆ UNCHANGE │\n",
       "│ 000373851 ┆           ┆           ┆           ┆   ┆           ┆           ┆           ┆ D        │\n",
       "│ …         ┆ …         ┆ …         ┆ …         ┆ … ┆ …         ┆ …         ┆ …         ┆ …        │\n",
       "│ Os12g0641 ┆ UNCHANGED ┆ UNCHANGED ┆ UNCHANGED ┆ … ┆ UNCHANGED ┆ UNCHANGED ┆ UNCHANGED ┆ UNCHANGE │\n",
       "│ 100       ┆           ┆           ┆           ┆   ┆           ┆           ┆           ┆ D        │\n",
       "│ Os12g0641 ┆ UNCHANGED ┆ UNCHANGED ┆ UNCHANGED ┆ … ┆ UNCHANGED ┆ UNCHANGED ┆ UNCHANGED ┆ UP       │\n",
       "│ 200       ┆           ┆           ┆           ┆   ┆           ┆           ┆           ┆          │\n",
       "│ Os12g0641 ┆ UNCHANGED ┆ UNCHANGED ┆ UNCHANGED ┆ … ┆ UNCHANGED ┆ UNCHANGED ┆ UNCHANGED ┆ UNCHANGE │\n",
       "│ 300       ┆           ┆           ┆           ┆   ┆           ┆           ┆           ┆ D        │\n",
       "│ Os12g0641 ┆ UNCHANGED ┆ UNCHANGED ┆ UNCHANGED ┆ … ┆ UNCHANGED ┆ UNCHANGED ┆ UNCHANGED ┆ UNCHANGE │\n",
       "│ 400       ┆           ┆           ┆           ┆   ┆           ┆           ┆           ┆ D        │\n",
       "│ Os12g0641 ┆ UNCHANGED ┆ UNCHANGED ┆ UNCHANGED ┆ … ┆ UNCHANGED ┆ UNCHANGED ┆ UNCHANGED ┆ UNCHANGE │\n",
       "│ 500       ┆           ┆           ┆           ┆   ┆           ┆           ┆           ┆ D        │\n",
       "└───────────┴───────────┴───────────┴───────────┴───┴───────────┴───────────┴───────────┴──────────┘"
      ]
     },
     "metadata": {},
     "output_type": "display_data"
    }
   ],
   "source": [
    "# set the threshold\n",
    "threshold = 5\n",
    "\n",
    "# define a function to categorize the HNratio\n",
    "def categorize(x):\n",
    "    if x >= threshold:\n",
    "        return 'UP'\n",
    "    elif x <= 1/threshold:\n",
    "        return 'DOWN'\n",
    "    else:\n",
    "        return 'UNCHANGED'\n",
    "\n",
    "# apply the categorize function to all columns except GENEID\n",
    "result = HNratio.with_columns([\n",
    "    pl.col(col).map_elements(categorize, return_dtype=pl.String).alias(f\"{col}_category\")\n",
    "    for col in HNratio.columns if col != 'GENEID'\n",
    "])\n",
    "\n",
    "result = result.drop(\n",
    "    [col for col in result.columns if not col.endswith('_category') and col != 'GENEID']\n",
    ")\n",
    "\n",
    "# display the result\n",
    "display(result)"
   ]
  },
  {
   "cell_type": "code",
   "execution_count": 5,
   "metadata": {},
   "outputs": [
    {
     "data": {
      "text/html": [
       "<div><style>\n",
       ".dataframe > thead > tr,\n",
       ".dataframe > tbody > tr {\n",
       "  text-align: right;\n",
       "  white-space: pre-wrap;\n",
       "}\n",
       "</style>\n",
       "<small>shape: (35_691, 6)</small><table border=\"1\" class=\"dataframe\"><thead><tr><th>GENEID</th><th>UP5</th><th>DOWN5</th><th>UNCHANGED5</th><th>HN5</th><th>UPcount+1 / DOWNcount+1 5</th></tr><tr><td>str</td><td>i32</td><td>i32</td><td>i32</td><td>i32</td><td>f64</td></tr></thead><tbody><tr><td>&quot;Os04g0107900&quot;</td><td>263</td><td>8</td><td>89</td><td>255</td><td>29.333333</td></tr><tr><td>&quot;Os01g0136100&quot;</td><td>253</td><td>8</td><td>99</td><td>245</td><td>28.222222</td></tr><tr><td>&quot;Os02g0259900&quot;</td><td>246</td><td>8</td><td>106</td><td>238</td><td>27.444444</td></tr><tr><td>&quot;Os02g0259850&quot;</td><td>245</td><td>8</td><td>107</td><td>237</td><td>27.333333</td></tr><tr><td>&quot;Os03g0245800&quot;</td><td>248</td><td>11</td><td>101</td><td>237</td><td>20.75</td></tr><tr><td>&hellip;</td><td>&hellip;</td><td>&hellip;</td><td>&hellip;</td><td>&hellip;</td><td>&hellip;</td></tr><tr><td>&quot;Os01g0952800&quot;</td><td>7</td><td>180</td><td>173</td><td>-173</td><td>0.044199</td></tr><tr><td>&quot;Os07g0142100&quot;</td><td>11</td><td>187</td><td>162</td><td>-176</td><td>0.06383</td></tr><tr><td>&quot;Os03g0307200&quot;</td><td>4</td><td>184</td><td>172</td><td>-180</td><td>0.027027</td></tr><tr><td>&quot;Os07g0142200&quot;</td><td>9</td><td>195</td><td>156</td><td>-186</td><td>0.05102</td></tr><tr><td>&quot;Os03g0307300&quot;</td><td>5</td><td>209</td><td>146</td><td>-204</td><td>0.028571</td></tr></tbody></table></div>"
      ],
      "text/plain": [
       "shape: (35_691, 6)\n",
       "┌──────────────┬─────┬───────┬────────────┬──────┬───────────────────────────┐\n",
       "│ GENEID       ┆ UP5 ┆ DOWN5 ┆ UNCHANGED5 ┆ HN5  ┆ UPcount+1 / DOWNcount+1 5 │\n",
       "│ ---          ┆ --- ┆ ---   ┆ ---        ┆ ---  ┆ ---                       │\n",
       "│ str          ┆ i32 ┆ i32   ┆ i32        ┆ i32  ┆ f64                       │\n",
       "╞══════════════╪═════╪═══════╪════════════╪══════╪═══════════════════════════╡\n",
       "│ Os04g0107900 ┆ 263 ┆ 8     ┆ 89         ┆ 255  ┆ 29.333333                 │\n",
       "│ Os01g0136100 ┆ 253 ┆ 8     ┆ 99         ┆ 245  ┆ 28.222222                 │\n",
       "│ Os02g0259900 ┆ 246 ┆ 8     ┆ 106        ┆ 238  ┆ 27.444444                 │\n",
       "│ Os02g0259850 ┆ 245 ┆ 8     ┆ 107        ┆ 237  ┆ 27.333333                 │\n",
       "│ Os03g0245800 ┆ 248 ┆ 11    ┆ 101        ┆ 237  ┆ 20.75                     │\n",
       "│ …            ┆ …   ┆ …     ┆ …          ┆ …    ┆ …                         │\n",
       "│ Os01g0952800 ┆ 7   ┆ 180   ┆ 173        ┆ -173 ┆ 0.044199                  │\n",
       "│ Os07g0142100 ┆ 11  ┆ 187   ┆ 162        ┆ -176 ┆ 0.06383                   │\n",
       "│ Os03g0307200 ┆ 4   ┆ 184   ┆ 172        ┆ -180 ┆ 0.027027                  │\n",
       "│ Os07g0142200 ┆ 9   ┆ 195   ┆ 156        ┆ -186 ┆ 0.05102                   │\n",
       "│ Os03g0307300 ┆ 5   ┆ 209   ┆ 146        ┆ -204 ┆ 0.028571                  │\n",
       "└──────────────┴─────┴───────┴────────────┴──────┴───────────────────────────┘"
      ]
     },
     "metadata": {},
     "output_type": "display_data"
    }
   ],
   "source": [
    "# https://docs.pola.rs/api/python/stable/reference/expressions/api/polars.sum_horizontal.html#polars-sum-horizontal\n",
    "count = result.with_columns([\n",
    "    (pl.sum_horizontal([\n",
    "        (pl.col(col) == \"UP\").cast(pl.Int32) for col in result.columns if col != \"GENEID\"\n",
    "    ])).alias(f\"UP{threshold}\"),\n",
    "    (pl.sum_horizontal([\n",
    "        (pl.col(col) == \"DOWN\").cast(pl.Int32) for col in result.columns if col != \"GENEID\"\n",
    "    ])).alias(f\"DOWN{threshold}\"),\n",
    "    pl.sum_horizontal([\n",
    "        (pl.col(col) == \"UNCHANGED\").cast(pl.Int32) for col in result.columns if col != \"GENEID\"\n",
    "    ]).alias(f\"UNCHANGED{threshold}\")\n",
    "]).drop(\n",
    "    [col for col in result.columns if col != 'GENEID']\n",
    ").with_columns([\n",
    "    (pl.col(f\"UP{threshold}\") - pl.col(f\"DOWN{threshold}\")).alias(f\"HN{threshold}\"),\n",
    "    ((pl.col(f\"UP{threshold}\") + 1) / (pl.col(f\"DOWN{threshold}\") + 1)).alias(f\"UPcount+1 / DOWNcount+1 {threshold}\"),\n",
    "]).sort(by=f\"HN{threshold}\", descending=True)\n",
    "\n",
    "\n",
    "display(count)"
   ]
  },
  {
   "cell_type": "code",
   "execution_count": 8,
   "metadata": {
    "scrolled": true
   },
   "outputs": [],
   "source": [
    "# making directory each time\n",
    "directory = f'../Data/06_HNscore/HN-score_rice_{now.strftime(\"%y%m%d\")}'\n",
    "os.makedirs(directory, exist_ok=True) # exist_ok=True: if the directory already exists, no error\n",
    "\n",
    "count.write_csv(f'{directory}/HN-score_rice_{now.strftime(\"%y%m%d\")}_HN{threshold}_all.tsv', separator=\"\\t\")"
   ]
  },
  {
   "cell_type": "code",
   "execution_count": 7,
   "metadata": {},
   "outputs": [],
   "source": [
    "# temp = pd.DataFrame(index=HNratio.index)\n",
    "# # Upregulated\n",
    "# thresholds = [1.5, 2,5, 10, 20, 50, 100, 200] # input thresholds here\n",
    "\n",
    "# for thre in thresholds:\n",
    "#     # HNratio >= thre\n",
    "#     up_count = (HNratio >= thre).sum(axis=1)\n",
    "#     temp[f'up{thre}'] = up_count\n",
    "\n",
    "#     # HNratio <= 1/thre\n",
    "#     dn_count = (HNratio <= 1/thre).sum(axis=1)\n",
    "#     temp[f'dn{thre}'] = dn_count\n",
    "\n",
    "#     # Unchanged\n",
    "#     unchanged_count = len(HNratio.columns) - (up_count + dn_count)\n",
    "#     temp[f'unchanged{thre}'] = unchanged_count\n",
    "\n",
    "#     # HN-score\n",
    "#     temp[f'HN{thre}'] = up_count - dn_count\n",
    "\n",
    "\n",
    "# HN_score_columns = temp.filter(like='HN').columns\n",
    "# HN_scores = temp[HN_score_columns]\n",
    "\n",
    "# display(temp, HN_scores)\n",
    "\n",
    "# example of sorting by HN5\n",
    "# tempHN5= HN_scores.sort_values(by= \"HN5\", ascending=False)\n",
    "# display(tempHN5)"
   ]
  }
 ],
 "metadata": {
  "kernelspec": {
   "display_name": "Python 3",
   "language": "python",
   "name": "python3"
  },
  "language_info": {
   "codemirror_mode": {
    "name": "ipython",
    "version": 3
   },
   "file_extension": ".py",
   "mimetype": "text/x-python",
   "name": "python",
   "nbconvert_exporter": "python",
   "pygments_lexer": "ipython3",
   "version": "3.11.4"
  }
 },
 "nbformat": 4,
 "nbformat_minor": 4
}

{
 "cells": [
  {
   "cell_type": "markdown",
   "metadata": {},
   "source": [
    "## QuickGO API process\n",
    "\n",
    "- [QuickGO API](https://www.ebi.ac.uk/QuickGO/api/index.html#!/annotations/downloadLookupUsingPOST)\n",
    "- API base url: https://www.ebi.ac.uk/QuickGO/services/annotation/downloadSearch"
   ]
  },
  {
   "cell_type": "code",
   "execution_count": 2,
   "metadata": {},
   "outputs": [],
   "source": [
    "import requests # type: ignore\n",
    "import polars as pl # type: ignore\n",
    "from io import StringIO"
   ]
  },
  {
   "cell_type": "code",
   "execution_count": 3,
   "metadata": {
    "tags": [
     "parameters"
    ]
   },
   "outputs": [],
   "source": [
    "query_species_id_list = \"../out/rice_up/uniprot_id_rice_up.txt\"\n",
    "target_species_id_list = \"../out/rice_up/uniprot_id_human_up.txt\""
   ]
  },
  {
   "cell_type": "code",
   "execution_count": 4,
   "metadata": {},
   "outputs": [],
   "source": [
    "def fetch_go_term(uniprot_ids, batch_size=100): \n",
    "    base_url = \"https://www.ebi.ac.uk/QuickGO/services/annotation/downloadSearch\"\n",
    "    all_results = []\n",
    "    \n",
    "    for i in range(0, len(uniprot_ids), batch_size):\n",
    "        batch = uniprot_ids[i:i+batch_size]\n",
    "        params = {\n",
    "            \"geneProductId\": \",\".join(batch),\n",
    "            \"geneProductType\": \"protein\"\n",
    "        }\n",
    "        headers = {\n",
    "            \"Accept\": \"text/tsv\"\n",
    "        }\n",
    "        \n",
    "        response = requests.get(base_url, params=params, headers=headers)\n",
    "        if response.status_code == 200:\n",
    "            tsv_content = StringIO(response.text)\n",
    "            df = pl.read_csv(tsv_content, separator=\"\\t\")\n",
    "            all_results.append(df)\n",
    "        else:\n",
    "            print(f\"Error: {response.status_code}\")\n",
    "            \n",
    "    return pl.concat(all_results)"
   ]
  },
  {
   "cell_type": "code",
   "execution_count": 10,
   "metadata": {},
   "outputs": [
    {
     "data": {
      "text/html": [
       "<div><style>\n",
       ".dataframe > thead > tr,\n",
       ".dataframe > tbody > tr {\n",
       "  text-align: right;\n",
       "  white-space: pre-wrap;\n",
       "}\n",
       "</style>\n",
       "<small>shape: (1_182, 14)</small><table border=\"1\" class=\"dataframe\"><thead><tr><th>GENE PRODUCT DB</th><th>UniProt Accession</th><th>SYMBOL</th><th>QUALIFIER</th><th>GO TERM</th><th>GO ASPECT</th><th>ECO ID</th><th>GO EVIDENCE CODE</th><th>REFERENCE</th><th>WITH/FROM</th><th>TAXON ID</th><th>ASSIGNED BY</th><th>ANNOTATION EXTENSION</th><th>DATE</th></tr><tr><td>str</td><td>str</td><td>str</td><td>str</td><td>str</td><td>str</td><td>str</td><td>str</td><td>str</td><td>str</td><td>i64</td><td>str</td><td>str</td><td>i64</td></tr></thead><tbody><tr><td>&quot;UniProtKB&quot;</td><td>&quot;A0A0N7KMN4&quot;</td><td>&quot;Os06g0698300&quot;</td><td>&quot;enables&quot;</td><td>&quot;GO:0004721&quot;</td><td>&quot;F&quot;</td><td>&quot;ECO:0007322&quot;</td><td>&quot;IEA&quot;</td><td>&quot;GO_REF:0000043&quot;</td><td>&quot;UniProtKB-KW:KW-0904&quot;</td><td>39947</td><td>&quot;UniProt&quot;</td><td>null</td><td>20241014</td></tr><tr><td>&quot;UniProtKB&quot;</td><td>&quot;A0A0N7KMN4&quot;</td><td>&quot;Os06g0698300&quot;</td><td>&quot;enables&quot;</td><td>&quot;GO:0004722&quot;</td><td>&quot;F&quot;</td><td>&quot;ECO:0000256&quot;</td><td>&quot;IEA&quot;</td><td>&quot;GO_REF:0000002&quot;</td><td>&quot;InterPro:IPR015655&quot;</td><td>39947</td><td>&quot;InterPro&quot;</td><td>null</td><td>20241014</td></tr><tr><td>&quot;UniProtKB&quot;</td><td>&quot;A0A0N7KMN4&quot;</td><td>&quot;Os06g0698300&quot;</td><td>&quot;enables&quot;</td><td>&quot;GO:0017018&quot;</td><td>&quot;F&quot;</td><td>&quot;ECO:0000501&quot;</td><td>&quot;IEA&quot;</td><td>&quot;GO_REF:0000003&quot;</td><td>&quot;EC:3.1.3.16&quot;</td><td>39947</td><td>&quot;UniProt&quot;</td><td>null</td><td>20241014</td></tr><tr><td>&quot;UniProtKB&quot;</td><td>&quot;A0A0N7KMN4&quot;</td><td>&quot;Os06g0698300&quot;</td><td>&quot;enables&quot;</td><td>&quot;GO:0033192&quot;</td><td>&quot;F&quot;</td><td>&quot;ECO:0000501&quot;</td><td>&quot;IEA&quot;</td><td>&quot;GO_REF:0000003&quot;</td><td>&quot;EC:3.1.3.16&quot;</td><td>39947</td><td>&quot;UniProt&quot;</td><td>null</td><td>20241014</td></tr><tr><td>&quot;UniProtKB&quot;</td><td>&quot;A0A0N7KMN4&quot;</td><td>&quot;Os06g0698300&quot;</td><td>&quot;enables&quot;</td><td>&quot;GO:0043169&quot;</td><td>&quot;F&quot;</td><td>&quot;ECO:0000256&quot;</td><td>&quot;IEA&quot;</td><td>&quot;GO_REF:0000002&quot;</td><td>&quot;InterPro:IPR000222&quot;</td><td>39947</td><td>&quot;InterPro&quot;</td><td>null</td><td>20241014</td></tr><tr><td>&hellip;</td><td>&hellip;</td><td>&hellip;</td><td>&hellip;</td><td>&hellip;</td><td>&hellip;</td><td>&hellip;</td><td>&hellip;</td><td>&hellip;</td><td>&hellip;</td><td>&hellip;</td><td>&hellip;</td><td>&hellip;</td><td>&hellip;</td></tr><tr><td>&quot;UniProtKB&quot;</td><td>&quot;Q9XFE4&quot;</td><td>&quot;Os04g0352400&quot;</td><td>&quot;enables&quot;</td><td>&quot;GO:0140839&quot;</td><td>&quot;F&quot;</td><td>&quot;ECO:0000501&quot;</td><td>&quot;IEA&quot;</td><td>&quot;GO_REF:0000003&quot;</td><td>&quot;EC:5.2.1.8&quot;</td><td>39947</td><td>&quot;UniProt&quot;</td><td>null</td><td>20241014</td></tr><tr><td>&quot;UniProtKB&quot;</td><td>&quot;Q9XFE4&quot;</td><td>&quot;Os04g0352400&quot;</td><td>&quot;enables&quot;</td><td>&quot;GO:0140840&quot;</td><td>&quot;F&quot;</td><td>&quot;ECO:0000501&quot;</td><td>&quot;IEA&quot;</td><td>&quot;GO_REF:0000003&quot;</td><td>&quot;EC:5.2.1.8&quot;</td><td>39947</td><td>&quot;UniProt&quot;</td><td>null</td><td>20241014</td></tr><tr><td>&quot;UniProtKB&quot;</td><td>&quot;Q9XFE4&quot;</td><td>&quot;Os04g0352400&quot;</td><td>&quot;involved_in&quot;</td><td>&quot;GO:0006357&quot;</td><td>&quot;P&quot;</td><td>&quot;ECO:0000366&quot;</td><td>&quot;IEA&quot;</td><td>&quot;GO_REF:0000108&quot;</td><td>&quot;GO:0140839&quot;</td><td>39947</td><td>&quot;GOC&quot;</td><td>null</td><td>20241015</td></tr><tr><td>&quot;UniProtKB&quot;</td><td>&quot;Q9XFE4&quot;</td><td>&quot;Os04g0352400&quot;</td><td>&quot;involved_in&quot;</td><td>&quot;GO:0061077&quot;</td><td>&quot;P&quot;</td><td>&quot;ECO:0000318&quot;</td><td>&quot;IBA&quot;</td><td>&quot;GO_REF:0000033&quot;</td><td>&quot;PANTHER:PTN000054876|UniProtKB…</td><td>39947</td><td>&quot;GO_Central&quot;</td><td>null</td><td>20170228</td></tr><tr><td>&quot;UniProtKB&quot;</td><td>&quot;Q9XFE4&quot;</td><td>&quot;Os04g0352400&quot;</td><td>&quot;is_active_in&quot;</td><td>&quot;GO:0005737&quot;</td><td>&quot;C&quot;</td><td>&quot;ECO:0000318&quot;</td><td>&quot;IBA&quot;</td><td>&quot;GO_REF:0000033&quot;</td><td>&quot;PANTHER:PTN000054876|RGD:62872…</td><td>39947</td><td>&quot;GO_Central&quot;</td><td>null</td><td>20230314</td></tr></tbody></table></div>"
      ],
      "text/plain": [
       "shape: (1_182, 14)\n",
       "┌────────────┬───────────┬───────────┬───────────┬───┬──────────┬───────────┬───────────┬──────────┐\n",
       "│ GENE       ┆ UniProt   ┆ SYMBOL    ┆ QUALIFIER ┆ … ┆ TAXON ID ┆ ASSIGNED  ┆ ANNOTATIO ┆ DATE     │\n",
       "│ PRODUCT DB ┆ Accession ┆ ---       ┆ ---       ┆   ┆ ---      ┆ BY        ┆ N         ┆ ---      │\n",
       "│ ---        ┆ ---       ┆ str       ┆ str       ┆   ┆ i64      ┆ ---       ┆ EXTENSION ┆ i64      │\n",
       "│ str        ┆ str       ┆           ┆           ┆   ┆          ┆ str       ┆ ---       ┆          │\n",
       "│            ┆           ┆           ┆           ┆   ┆          ┆           ┆ str       ┆          │\n",
       "╞════════════╪═══════════╪═══════════╪═══════════╪═══╪══════════╪═══════════╪═══════════╪══════════╡\n",
       "│ UniProtKB  ┆ A0A0N7KMN ┆ Os06g0698 ┆ enables   ┆ … ┆ 39947    ┆ UniProt   ┆ null      ┆ 20241014 │\n",
       "│            ┆ 4         ┆ 300       ┆           ┆   ┆          ┆           ┆           ┆          │\n",
       "│ UniProtKB  ┆ A0A0N7KMN ┆ Os06g0698 ┆ enables   ┆ … ┆ 39947    ┆ InterPro  ┆ null      ┆ 20241014 │\n",
       "│            ┆ 4         ┆ 300       ┆           ┆   ┆          ┆           ┆           ┆          │\n",
       "│ UniProtKB  ┆ A0A0N7KMN ┆ Os06g0698 ┆ enables   ┆ … ┆ 39947    ┆ UniProt   ┆ null      ┆ 20241014 │\n",
       "│            ┆ 4         ┆ 300       ┆           ┆   ┆          ┆           ┆           ┆          │\n",
       "│ UniProtKB  ┆ A0A0N7KMN ┆ Os06g0698 ┆ enables   ┆ … ┆ 39947    ┆ UniProt   ┆ null      ┆ 20241014 │\n",
       "│            ┆ 4         ┆ 300       ┆           ┆   ┆          ┆           ┆           ┆          │\n",
       "│ UniProtKB  ┆ A0A0N7KMN ┆ Os06g0698 ┆ enables   ┆ … ┆ 39947    ┆ InterPro  ┆ null      ┆ 20241014 │\n",
       "│            ┆ 4         ┆ 300       ┆           ┆   ┆          ┆           ┆           ┆          │\n",
       "│ …          ┆ …         ┆ …         ┆ …         ┆ … ┆ …        ┆ …         ┆ …         ┆ …        │\n",
       "│ UniProtKB  ┆ Q9XFE4    ┆ Os04g0352 ┆ enables   ┆ … ┆ 39947    ┆ UniProt   ┆ null      ┆ 20241014 │\n",
       "│            ┆           ┆ 400       ┆           ┆   ┆          ┆           ┆           ┆          │\n",
       "│ UniProtKB  ┆ Q9XFE4    ┆ Os04g0352 ┆ enables   ┆ … ┆ 39947    ┆ UniProt   ┆ null      ┆ 20241014 │\n",
       "│            ┆           ┆ 400       ┆           ┆   ┆          ┆           ┆           ┆          │\n",
       "│ UniProtKB  ┆ Q9XFE4    ┆ Os04g0352 ┆ involved_ ┆ … ┆ 39947    ┆ GOC       ┆ null      ┆ 20241015 │\n",
       "│            ┆           ┆ 400       ┆ in        ┆   ┆          ┆           ┆           ┆          │\n",
       "│ UniProtKB  ┆ Q9XFE4    ┆ Os04g0352 ┆ involved_ ┆ … ┆ 39947    ┆ GO_Centra ┆ null      ┆ 20170228 │\n",
       "│            ┆           ┆ 400       ┆ in        ┆   ┆          ┆ l         ┆           ┆          │\n",
       "│ UniProtKB  ┆ Q9XFE4    ┆ Os04g0352 ┆ is_active ┆ … ┆ 39947    ┆ GO_Centra ┆ null      ┆ 20230314 │\n",
       "│            ┆           ┆ 400       ┆ _in       ┆   ┆          ┆ l         ┆           ┆          │\n",
       "└────────────┴───────────┴───────────┴───────────┴───┴──────────┴───────────┴───────────┴──────────┘"
      ]
     },
     "metadata": {},
     "output_type": "display_data"
    }
   ],
   "source": [
    "rice_id_list = pl.read_csv(query_species_id_list, separator=\"\\t\").to_series().to_list()\n",
    "\n",
    "rice_result_df = fetch_go_term(rice_id_list).rename(\n",
    "    {\n",
    "        \"GENE PRODUCT ID\": \"UniProt Accession\"\n",
    "    }\n",
    ")\n",
    "\n",
    "display(rice_result_df)"
   ]
  },
  {
   "cell_type": "code",
   "execution_count": 11,
   "metadata": {},
   "outputs": [
    {
     "data": {
      "text/html": [
       "<div><style>\n",
       ".dataframe > thead > tr,\n",
       ".dataframe > tbody > tr {\n",
       "  text-align: right;\n",
       "  white-space: pre-wrap;\n",
       "}\n",
       "</style>\n",
       "<small>shape: (96_369, 14)</small><table border=\"1\" class=\"dataframe\"><thead><tr><th>GENE PRODUCT DB</th><th>foldseek hit</th><th>SYMBOL</th><th>QUALIFIER</th><th>GO TERM</th><th>GO ASPECT</th><th>ECO ID</th><th>GO EVIDENCE CODE</th><th>REFERENCE</th><th>WITH/FROM</th><th>TAXON ID</th><th>ASSIGNED BY</th><th>ANNOTATION EXTENSION</th><th>DATE</th></tr><tr><td>str</td><td>str</td><td>str</td><td>str</td><td>str</td><td>str</td><td>str</td><td>str</td><td>str</td><td>str</td><td>i64</td><td>str</td><td>str</td><td>i64</td></tr></thead><tbody><tr><td>&quot;UniProtKB&quot;</td><td>&quot;A0A023T787&quot;</td><td>&quot;RBM8&quot;</td><td>&quot;enables&quot;</td><td>&quot;GO:0003723&quot;</td><td>&quot;F&quot;</td><td>&quot;ECO:0000501&quot;</td><td>&quot;IEA&quot;</td><td>&quot;GO_REF:0000120&quot;</td><td>&quot;UniProtKB-KW:KW-0694|UniRule:U…</td><td>9606</td><td>&quot;UniProt&quot;</td><td>null</td><td>20241014</td></tr><tr><td>&quot;UniProtKB&quot;</td><td>&quot;A0A023T787&quot;</td><td>&quot;RBM8&quot;</td><td>&quot;enables&quot;</td><td>&quot;GO:0003729&quot;</td><td>&quot;F&quot;</td><td>&quot;ECO:0000256&quot;</td><td>&quot;IEA&quot;</td><td>&quot;GO_REF:0000002&quot;</td><td>&quot;InterPro:IPR033744&quot;</td><td>9606</td><td>&quot;InterPro&quot;</td><td>null</td><td>20241014</td></tr><tr><td>&quot;UniProtKB&quot;</td><td>&quot;A0A023T787&quot;</td><td>&quot;RBM8&quot;</td><td>&quot;involved_in&quot;</td><td>&quot;GO:0006396&quot;</td><td>&quot;P&quot;</td><td>&quot;ECO:0000256&quot;</td><td>&quot;IEA&quot;</td><td>&quot;GO_REF:0000002&quot;</td><td>&quot;InterPro:IPR008111&quot;</td><td>9606</td><td>&quot;InterPro&quot;</td><td>null</td><td>20241014</td></tr><tr><td>&quot;UniProtKB&quot;</td><td>&quot;A0A023T787&quot;</td><td>&quot;RBM8&quot;</td><td>&quot;involved_in&quot;</td><td>&quot;GO:0006397&quot;</td><td>&quot;P&quot;</td><td>&quot;ECO:0007322&quot;</td><td>&quot;IEA&quot;</td><td>&quot;GO_REF:0000043&quot;</td><td>&quot;UniProtKB-KW:KW-0507&quot;</td><td>9606</td><td>&quot;UniProt&quot;</td><td>null</td><td>20241014</td></tr><tr><td>&quot;UniProtKB&quot;</td><td>&quot;A0A023T787&quot;</td><td>&quot;RBM8&quot;</td><td>&quot;involved_in&quot;</td><td>&quot;GO:0008380&quot;</td><td>&quot;P&quot;</td><td>&quot;ECO:0007322&quot;</td><td>&quot;IEA&quot;</td><td>&quot;GO_REF:0000043&quot;</td><td>&quot;UniProtKB-KW:KW-0508&quot;</td><td>9606</td><td>&quot;UniProt&quot;</td><td>null</td><td>20241014</td></tr><tr><td>&hellip;</td><td>&hellip;</td><td>&hellip;</td><td>&hellip;</td><td>&hellip;</td><td>&hellip;</td><td>&hellip;</td><td>&hellip;</td><td>&hellip;</td><td>&hellip;</td><td>&hellip;</td><td>&hellip;</td><td>&hellip;</td><td>&hellip;</td></tr><tr><td>&quot;UniProtKB&quot;</td><td>&quot;X6RHX1&quot;</td><td>&quot;SCYL3&quot;</td><td>&quot;enables&quot;</td><td>&quot;GO:0004672&quot;</td><td>&quot;F&quot;</td><td>&quot;ECO:0000256&quot;</td><td>&quot;IEA&quot;</td><td>&quot;GO_REF:0000002&quot;</td><td>&quot;InterPro:IPR000719|InterPro:IP…</td><td>9606</td><td>&quot;InterPro&quot;</td><td>null</td><td>20241014</td></tr><tr><td>&quot;UniProtKB&quot;</td><td>&quot;X6RHX1&quot;</td><td>&quot;SCYL3&quot;</td><td>&quot;enables&quot;</td><td>&quot;GO:0005524&quot;</td><td>&quot;F&quot;</td><td>&quot;ECO:0000256&quot;</td><td>&quot;IEA&quot;</td><td>&quot;GO_REF:0000002&quot;</td><td>&quot;InterPro:IPR000719&quot;</td><td>9606</td><td>&quot;InterPro&quot;</td><td>null</td><td>20241014</td></tr><tr><td>&quot;UniProtKB&quot;</td><td>&quot;X6RHX1&quot;</td><td>&quot;SCYL3&quot;</td><td>&quot;located_in&quot;</td><td>&quot;GO:0005783&quot;</td><td>&quot;C&quot;</td><td>&quot;ECO:0000314&quot;</td><td>&quot;IDA&quot;</td><td>&quot;GO_REF:0000052&quot;</td><td>null</td><td>9606</td><td>&quot;HPA&quot;</td><td>null</td><td>20230619</td></tr><tr><td>&quot;UniProtKB&quot;</td><td>&quot;X6RHX1&quot;</td><td>&quot;SCYL3&quot;</td><td>&quot;located_in&quot;</td><td>&quot;GO:0005794&quot;</td><td>&quot;C&quot;</td><td>&quot;ECO:0000314&quot;</td><td>&quot;IDA&quot;</td><td>&quot;GO_REF:0000052&quot;</td><td>null</td><td>9606</td><td>&quot;HPA&quot;</td><td>null</td><td>20230619</td></tr><tr><td>&quot;UniProtKB&quot;</td><td>&quot;X6RHX1&quot;</td><td>&quot;SCYL3&quot;</td><td>&quot;located_in&quot;</td><td>&quot;GO:0005829&quot;</td><td>&quot;C&quot;</td><td>&quot;ECO:0000314&quot;</td><td>&quot;IDA&quot;</td><td>&quot;GO_REF:0000052&quot;</td><td>null</td><td>9606</td><td>&quot;HPA&quot;</td><td>null</td><td>20230619</td></tr></tbody></table></div>"
      ],
      "text/plain": [
       "shape: (96_369, 14)\n",
       "┌────────────┬────────────┬────────┬────────────┬───┬──────────┬────────────┬───────────┬──────────┐\n",
       "│ GENE       ┆ foldseek   ┆ SYMBOL ┆ QUALIFIER  ┆ … ┆ TAXON ID ┆ ASSIGNED   ┆ ANNOTATIO ┆ DATE     │\n",
       "│ PRODUCT DB ┆ hit        ┆ ---    ┆ ---        ┆   ┆ ---      ┆ BY         ┆ N         ┆ ---      │\n",
       "│ ---        ┆ ---        ┆ str    ┆ str        ┆   ┆ i64      ┆ ---        ┆ EXTENSION ┆ i64      │\n",
       "│ str        ┆ str        ┆        ┆            ┆   ┆          ┆ str        ┆ ---       ┆          │\n",
       "│            ┆            ┆        ┆            ┆   ┆          ┆            ┆ str       ┆          │\n",
       "╞════════════╪════════════╪════════╪════════════╪═══╪══════════╪════════════╪═══════════╪══════════╡\n",
       "│ UniProtKB  ┆ A0A023T787 ┆ RBM8   ┆ enables    ┆ … ┆ 9606     ┆ UniProt    ┆ null      ┆ 20241014 │\n",
       "│ UniProtKB  ┆ A0A023T787 ┆ RBM8   ┆ enables    ┆ … ┆ 9606     ┆ InterPro   ┆ null      ┆ 20241014 │\n",
       "│ UniProtKB  ┆ A0A023T787 ┆ RBM8   ┆ involved_i ┆ … ┆ 9606     ┆ InterPro   ┆ null      ┆ 20241014 │\n",
       "│            ┆            ┆        ┆ n          ┆   ┆          ┆            ┆           ┆          │\n",
       "│ UniProtKB  ┆ A0A023T787 ┆ RBM8   ┆ involved_i ┆ … ┆ 9606     ┆ UniProt    ┆ null      ┆ 20241014 │\n",
       "│            ┆            ┆        ┆ n          ┆   ┆          ┆            ┆           ┆          │\n",
       "│ UniProtKB  ┆ A0A023T787 ┆ RBM8   ┆ involved_i ┆ … ┆ 9606     ┆ UniProt    ┆ null      ┆ 20241014 │\n",
       "│            ┆            ┆        ┆ n          ┆   ┆          ┆            ┆           ┆          │\n",
       "│ …          ┆ …          ┆ …      ┆ …          ┆ … ┆ …        ┆ …          ┆ …         ┆ …        │\n",
       "│ UniProtKB  ┆ X6RHX1     ┆ SCYL3  ┆ enables    ┆ … ┆ 9606     ┆ InterPro   ┆ null      ┆ 20241014 │\n",
       "│ UniProtKB  ┆ X6RHX1     ┆ SCYL3  ┆ enables    ┆ … ┆ 9606     ┆ InterPro   ┆ null      ┆ 20241014 │\n",
       "│ UniProtKB  ┆ X6RHX1     ┆ SCYL3  ┆ located_in ┆ … ┆ 9606     ┆ HPA        ┆ null      ┆ 20230619 │\n",
       "│ UniProtKB  ┆ X6RHX1     ┆ SCYL3  ┆ located_in ┆ … ┆ 9606     ┆ HPA        ┆ null      ┆ 20230619 │\n",
       "│ UniProtKB  ┆ X6RHX1     ┆ SCYL3  ┆ located_in ┆ … ┆ 9606     ┆ HPA        ┆ null      ┆ 20230619 │\n",
       "└────────────┴────────────┴────────┴────────────┴───┴──────────┴────────────┴───────────┴──────────┘"
      ]
     },
     "metadata": {},
     "output_type": "display_data"
    }
   ],
   "source": [
    "target_id_list = pl.read_csv(target_species_id_list, separator=\"\\t\").to_series().to_list()\n",
    "\n",
    "target_result_df = fetch_go_term(target_id_list).rename(\n",
    "    {\n",
    "        \"GENE PRODUCT ID\": \"foldseek hit\"\n",
    "    }\n",
    ")\n",
    "\n",
    "display(target_result_df)"
   ]
  }
 ],
 "metadata": {
  "kernelspec": {
   "display_name": "Python 3 (ipykernel)",
   "language": "python",
   "name": "python3"
  },
  "language_info": {
   "codemirror_mode": {
    "name": "ipython",
    "version": 3
   },
   "file_extension": ".py",
   "mimetype": "text/x-python",
   "name": "python",
   "nbconvert_exporter": "python",
   "pygments_lexer": "ipython3",
   "version": "3.11.4"
  }
 },
 "nbformat": 4,
 "nbformat_minor": 2
}

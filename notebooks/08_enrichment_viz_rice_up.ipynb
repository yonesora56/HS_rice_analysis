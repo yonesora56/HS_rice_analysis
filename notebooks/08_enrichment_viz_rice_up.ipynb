{
 "cells": [
  {
   "cell_type": "code",
   "execution_count": 1,
   "metadata": {},
   "outputs": [],
   "source": [
    "import numpy as np\n",
    "import matplotlib.pyplot as plt\n",
    "import matplotlib.colors as mcolors\n",
    "import seaborn as sns\n",
    "import polars as pl\n",
    "import ipywidgets as widgets\n",
    "from ipywidgets import interactive"
   ]
  },
  {
   "cell_type": "code",
   "execution_count": 2,
   "metadata": {
    "tags": [
     "parameters"
    ]
   },
   "outputs": [],
   "source": [
    "enrichment_result_file_path = \"../Data/09_goatools/result/rice_go_enrichment_up_modified.tsv\""
   ]
  },
  {
   "cell_type": "markdown",
   "metadata": {},
   "source": [
    "### (1) Data pre-processing"
   ]
  },
  {
   "cell_type": "code",
   "execution_count": 3,
   "metadata": {},
   "outputs": [
    {
     "data": {
      "text/html": [
       "<div><style>\n",
       ".dataframe > thead > tr,\n",
       ".dataframe > tbody > tr {\n",
       "  text-align: right;\n",
       "  white-space: pre-wrap;\n",
       "}\n",
       "</style>\n",
       "<small>shape: (76, 11)</small><table border=\"1\" class=\"dataframe\"><thead><tr><th>GO</th><th>GO domain</th><th>enrichment type</th><th>GO term name</th><th>ratio_in_study</th><th>ratio_in_pop</th><th>p_uncorrected</th><th>depth</th><th>study_count</th><th>p_fdr_bh</th><th>study_items</th></tr><tr><td>str</td><td>str</td><td>str</td><td>str</td><td>str</td><td>str</td><td>f64</td><td>i64</td><td>i64</td><td>f64</td><td>str</td></tr></thead><tbody><tr><td>&quot;GO:0006457&quot;</td><td>&quot;BP&quot;</td><td>&quot;e&quot;</td><td>&quot;protein folding&quot;</td><td>&quot;45/367&quot;</td><td>&quot;222/38993&quot;</td><td>2.5492e-46</td><td>2</td><td>45</td><td>1.1155e-42</td><td>&quot;Os01g0135800, Os01g0136000, Os…</td></tr><tr><td>&quot;GO:0009266&quot;</td><td>&quot;BP&quot;</td><td>&quot;e&quot;</td><td>&quot;response to temperature stimul…</td><td>&quot;32/367&quot;</td><td>&quot;208/38993&quot;</td><td>3.8320e-29</td><td>3</td><td>32</td><td>8.3845e-26</td><td>&quot;Os01g0135800, Os01g0136000, Os…</td></tr><tr><td>&quot;GO:0009408&quot;</td><td>&quot;BP&quot;</td><td>&quot;e&quot;</td><td>&quot;response to heat&quot;</td><td>&quot;25/367&quot;</td><td>&quot;109/38993&quot;</td><td>1.3223e-27</td><td>4</td><td>25</td><td>1.9288e-24</td><td>&quot;Os01g0135800, Os01g0136000, Os…</td></tr><tr><td>&quot;GO:0042542&quot;</td><td>&quot;BP&quot;</td><td>&quot;e&quot;</td><td>&quot;response to hydrogen peroxide&quot;</td><td>&quot;13/367&quot;</td><td>&quot;29/38993&quot;</td><td>2.1784e-19</td><td>5</td><td>13</td><td>2.3832e-16</td><td>&quot;Os01g0135800, Os01g0136000, Os…</td></tr><tr><td>&quot;GO:0051259&quot;</td><td>&quot;BP&quot;</td><td>&quot;e&quot;</td><td>&quot;protein complex oligomerizatio…</td><td>&quot;13/367&quot;</td><td>&quot;30/38993&quot;</td><td>3.8118e-19</td><td>6</td><td>13</td><td>3.3361e-16</td><td>&quot;Os01g0135800, Os01g0136000, Os…</td></tr><tr><td>&hellip;</td><td>&hellip;</td><td>&hellip;</td><td>&hellip;</td><td>&hellip;</td><td>&hellip;</td><td>&hellip;</td><td>&hellip;</td><td>&hellip;</td><td>&hellip;</td><td>&hellip;</td></tr><tr><td>&quot;GO:0061134&quot;</td><td>&quot;MF&quot;</td><td>&quot;e&quot;</td><td>&quot;peptidase regulator activity&quot;</td><td>&quot;6/367&quot;</td><td>&quot;67/38993&quot;</td><td>0.000041</td><td>3</td><td>6</td><td>0.004818</td><td>&quot;Os01g0124000, Os01g0124100, Os…</td></tr><tr><td>&quot;GO:0098772&quot;</td><td>&quot;MF&quot;</td><td>&quot;e&quot;</td><td>&quot;molecular function regulator a…</td><td>&quot;16/367&quot;</td><td>&quot;525/38993&quot;</td><td>0.000046</td><td>1</td><td>16</td><td>0.00515</td><td>&quot;Os01g0124000, Os01g0124100, Os…</td></tr><tr><td>&quot;GO:0016462&quot;</td><td>&quot;MF&quot;</td><td>&quot;e&quot;</td><td>&quot;pyrophosphatase activity&quot;</td><td>&quot;19/367&quot;</td><td>&quot;713/38993&quot;</td><td>0.000056</td><td>5</td><td>19</td><td>0.006033</td><td>&quot;Os01g0840100, Os02g0115900, Os…</td></tr><tr><td>&quot;GO:0016818&quot;</td><td>&quot;MF&quot;</td><td>&quot;e&quot;</td><td>&quot;hydrolase activity, acting on …</td><td>&quot;19/367&quot;</td><td>&quot;720/38993&quot;</td><td>0.000064</td><td>4</td><td>19</td><td>0.006586</td><td>&quot;Os01g0840100, Os02g0115900, Os…</td></tr><tr><td>&quot;GO:0016817&quot;</td><td>&quot;MF&quot;</td><td>&quot;e&quot;</td><td>&quot;hydrolase activity, acting on …</td><td>&quot;19/367&quot;</td><td>&quot;728/38993&quot;</td><td>0.000074</td><td>3</td><td>19</td><td>0.007319</td><td>&quot;Os01g0840100, Os02g0115900, Os…</td></tr></tbody></table></div>"
      ],
      "text/plain": [
       "shape: (76, 11)\n",
       "┌────────────┬───────────┬────────────┬────────────┬───┬───────┬───────────┬───────────┬───────────┐\n",
       "│ GO         ┆ GO domain ┆ enrichment ┆ GO term    ┆ … ┆ depth ┆ study_cou ┆ p_fdr_bh  ┆ study_ite │\n",
       "│ ---        ┆ ---       ┆ type       ┆ name       ┆   ┆ ---   ┆ nt        ┆ ---       ┆ ms        │\n",
       "│ str        ┆ str       ┆ ---        ┆ ---        ┆   ┆ i64   ┆ ---       ┆ f64       ┆ ---       │\n",
       "│            ┆           ┆ str        ┆ str        ┆   ┆       ┆ i64       ┆           ┆ str       │\n",
       "╞════════════╪═══════════╪════════════╪════════════╪═══╪═══════╪═══════════╪═══════════╪═══════════╡\n",
       "│ GO:0006457 ┆ BP        ┆ e          ┆ protein    ┆ … ┆ 2     ┆ 45        ┆ 1.1155e-4 ┆ Os01g0135 │\n",
       "│            ┆           ┆            ┆ folding    ┆   ┆       ┆           ┆ 2         ┆ 800, Os01 │\n",
       "│            ┆           ┆            ┆            ┆   ┆       ┆           ┆           ┆ g0136000, │\n",
       "│            ┆           ┆            ┆            ┆   ┆       ┆           ┆           ┆ Os…       │\n",
       "│ GO:0009266 ┆ BP        ┆ e          ┆ response   ┆ … ┆ 3     ┆ 32        ┆ 8.3845e-2 ┆ Os01g0135 │\n",
       "│            ┆           ┆            ┆ to tempera ┆   ┆       ┆           ┆ 6         ┆ 800, Os01 │\n",
       "│            ┆           ┆            ┆ ture       ┆   ┆       ┆           ┆           ┆ g0136000, │\n",
       "│            ┆           ┆            ┆ stimul…    ┆   ┆       ┆           ┆           ┆ Os…       │\n",
       "│ GO:0009408 ┆ BP        ┆ e          ┆ response   ┆ … ┆ 4     ┆ 25        ┆ 1.9288e-2 ┆ Os01g0135 │\n",
       "│            ┆           ┆            ┆ to heat    ┆   ┆       ┆           ┆ 4         ┆ 800, Os01 │\n",
       "│            ┆           ┆            ┆            ┆   ┆       ┆           ┆           ┆ g0136000, │\n",
       "│            ┆           ┆            ┆            ┆   ┆       ┆           ┆           ┆ Os…       │\n",
       "│ GO:0042542 ┆ BP        ┆ e          ┆ response   ┆ … ┆ 5     ┆ 13        ┆ 2.3832e-1 ┆ Os01g0135 │\n",
       "│            ┆           ┆            ┆ to         ┆   ┆       ┆           ┆ 6         ┆ 800, Os01 │\n",
       "│            ┆           ┆            ┆ hydrogen   ┆   ┆       ┆           ┆           ┆ g0136000, │\n",
       "│            ┆           ┆            ┆ peroxide   ┆   ┆       ┆           ┆           ┆ Os…       │\n",
       "│ GO:0051259 ┆ BP        ┆ e          ┆ protein    ┆ … ┆ 6     ┆ 13        ┆ 3.3361e-1 ┆ Os01g0135 │\n",
       "│            ┆           ┆            ┆ complex    ┆   ┆       ┆           ┆ 6         ┆ 800, Os01 │\n",
       "│            ┆           ┆            ┆ oligomeriz ┆   ┆       ┆           ┆           ┆ g0136000, │\n",
       "│            ┆           ┆            ┆ atio…      ┆   ┆       ┆           ┆           ┆ Os…       │\n",
       "│ …          ┆ …         ┆ …          ┆ …          ┆ … ┆ …     ┆ …         ┆ …         ┆ …         │\n",
       "│ GO:0061134 ┆ MF        ┆ e          ┆ peptidase  ┆ … ┆ 3     ┆ 6         ┆ 0.004818  ┆ Os01g0124 │\n",
       "│            ┆           ┆            ┆ regulator  ┆   ┆       ┆           ┆           ┆ 000, Os01 │\n",
       "│            ┆           ┆            ┆ activity   ┆   ┆       ┆           ┆           ┆ g0124100, │\n",
       "│            ┆           ┆            ┆            ┆   ┆       ┆           ┆           ┆ Os…       │\n",
       "│ GO:0098772 ┆ MF        ┆ e          ┆ molecular  ┆ … ┆ 1     ┆ 16        ┆ 0.00515   ┆ Os01g0124 │\n",
       "│            ┆           ┆            ┆ function   ┆   ┆       ┆           ┆           ┆ 000, Os01 │\n",
       "│            ┆           ┆            ┆ regulator  ┆   ┆       ┆           ┆           ┆ g0124100, │\n",
       "│            ┆           ┆            ┆ a…         ┆   ┆       ┆           ┆           ┆ Os…       │\n",
       "│ GO:0016462 ┆ MF        ┆ e          ┆ pyrophosph ┆ … ┆ 5     ┆ 19        ┆ 0.006033  ┆ Os01g0840 │\n",
       "│            ┆           ┆            ┆ atase      ┆   ┆       ┆           ┆           ┆ 100, Os02 │\n",
       "│            ┆           ┆            ┆ activity   ┆   ┆       ┆           ┆           ┆ g0115900, │\n",
       "│            ┆           ┆            ┆            ┆   ┆       ┆           ┆           ┆ Os…       │\n",
       "│ GO:0016818 ┆ MF        ┆ e          ┆ hydrolase  ┆ … ┆ 4     ┆ 19        ┆ 0.006586  ┆ Os01g0840 │\n",
       "│            ┆           ┆            ┆ activity,  ┆   ┆       ┆           ┆           ┆ 100, Os02 │\n",
       "│            ┆           ┆            ┆ acting on  ┆   ┆       ┆           ┆           ┆ g0115900, │\n",
       "│            ┆           ┆            ┆ …          ┆   ┆       ┆           ┆           ┆ Os…       │\n",
       "│ GO:0016817 ┆ MF        ┆ e          ┆ hydrolase  ┆ … ┆ 3     ┆ 19        ┆ 0.007319  ┆ Os01g0840 │\n",
       "│            ┆           ┆            ┆ activity,  ┆   ┆       ┆           ┆           ┆ 100, Os02 │\n",
       "│            ┆           ┆            ┆ acting on  ┆   ┆       ┆           ┆           ┆ g0115900, │\n",
       "│            ┆           ┆            ┆ …          ┆   ┆       ┆           ┆           ┆ Os…       │\n",
       "└────────────┴───────────┴────────────┴────────────┴───┴───────┴───────────┴───────────┴───────────┘"
      ]
     },
     "metadata": {},
     "output_type": "display_data"
    }
   ],
   "source": [
    "#enrichment result (using GOA tools)\n",
    "enrichment_result = pl.read_csv(\n",
    "    enrichment_result_file_path,\n",
    "    separator=\"\\t\"\n",
    ").rename(\n",
    "    {\n",
    "        \"# GO\": \"GO\",\n",
    "        \"NS\": \"GO domain\",\n",
    "        \"enrichment\" : \"enrichment type\",\n",
    "        \"name\" : \"GO term name\"\n",
    "    }\n",
    ").filter(\n",
    "    pl.col(\"enrichment type\") == \"e\"\n",
    ")\n",
    "\n",
    "display(enrichment_result)"
   ]
  },
  {
   "cell_type": "markdown",
   "metadata": {},
   "source": [
    "&nbsp;\n",
    "\n",
    "&nbsp;"
   ]
  },
  {
   "cell_type": "markdown",
   "metadata": {},
   "source": [
    "### (2) Fold enrichment"
   ]
  },
  {
   "cell_type": "code",
   "execution_count": 4,
   "metadata": {},
   "outputs": [
    {
     "data": {
      "text/html": [
       "<div><style>\n",
       ".dataframe > thead > tr,\n",
       ".dataframe > tbody > tr {\n",
       "  text-align: right;\n",
       "  white-space: pre-wrap;\n",
       "}\n",
       "</style>\n",
       "<small>shape: (76, 13)</small><table border=\"1\" class=\"dataframe\"><thead><tr><th>GO</th><th>GO domain</th><th>enrichment type</th><th>GO term name</th><th>ratio_in_study</th><th>ratio_in_pop</th><th>p_uncorrected</th><th>depth</th><th>study_count</th><th>p_fdr_bh</th><th>study_items</th><th>ratio in study</th><th>ratio in population</th></tr><tr><td>str</td><td>str</td><td>str</td><td>str</td><td>str</td><td>str</td><td>f64</td><td>i64</td><td>i64</td><td>f64</td><td>str</td><td>f64</td><td>f64</td></tr></thead><tbody><tr><td>&quot;GO:0006457&quot;</td><td>&quot;BP&quot;</td><td>&quot;e&quot;</td><td>&quot;protein folding&quot;</td><td>&quot;45/367&quot;</td><td>&quot;222/38993&quot;</td><td>2.5492e-46</td><td>2</td><td>45</td><td>1.1155e-42</td><td>&quot;Os01g0135800, Os01g0136000, Os…</td><td>0.122616</td><td>0.005693</td></tr><tr><td>&quot;GO:0009266&quot;</td><td>&quot;BP&quot;</td><td>&quot;e&quot;</td><td>&quot;response to temperature stimul…</td><td>&quot;32/367&quot;</td><td>&quot;208/38993&quot;</td><td>3.8320e-29</td><td>3</td><td>32</td><td>8.3845e-26</td><td>&quot;Os01g0135800, Os01g0136000, Os…</td><td>0.087193</td><td>0.005334</td></tr><tr><td>&quot;GO:0009408&quot;</td><td>&quot;BP&quot;</td><td>&quot;e&quot;</td><td>&quot;response to heat&quot;</td><td>&quot;25/367&quot;</td><td>&quot;109/38993&quot;</td><td>1.3223e-27</td><td>4</td><td>25</td><td>1.9288e-24</td><td>&quot;Os01g0135800, Os01g0136000, Os…</td><td>0.06812</td><td>0.002795</td></tr><tr><td>&quot;GO:0042542&quot;</td><td>&quot;BP&quot;</td><td>&quot;e&quot;</td><td>&quot;response to hydrogen peroxide&quot;</td><td>&quot;13/367&quot;</td><td>&quot;29/38993&quot;</td><td>2.1784e-19</td><td>5</td><td>13</td><td>2.3832e-16</td><td>&quot;Os01g0135800, Os01g0136000, Os…</td><td>0.035422</td><td>0.000744</td></tr><tr><td>&quot;GO:0051259&quot;</td><td>&quot;BP&quot;</td><td>&quot;e&quot;</td><td>&quot;protein complex oligomerizatio…</td><td>&quot;13/367&quot;</td><td>&quot;30/38993&quot;</td><td>3.8118e-19</td><td>6</td><td>13</td><td>3.3361e-16</td><td>&quot;Os01g0135800, Os01g0136000, Os…</td><td>0.035422</td><td>0.000769</td></tr><tr><td>&hellip;</td><td>&hellip;</td><td>&hellip;</td><td>&hellip;</td><td>&hellip;</td><td>&hellip;</td><td>&hellip;</td><td>&hellip;</td><td>&hellip;</td><td>&hellip;</td><td>&hellip;</td><td>&hellip;</td><td>&hellip;</td></tr><tr><td>&quot;GO:0061134&quot;</td><td>&quot;MF&quot;</td><td>&quot;e&quot;</td><td>&quot;peptidase regulator activity&quot;</td><td>&quot;6/367&quot;</td><td>&quot;67/38993&quot;</td><td>0.000041</td><td>3</td><td>6</td><td>0.004818</td><td>&quot;Os01g0124000, Os01g0124100, Os…</td><td>0.016349</td><td>0.001718</td></tr><tr><td>&quot;GO:0098772&quot;</td><td>&quot;MF&quot;</td><td>&quot;e&quot;</td><td>&quot;molecular function regulator a…</td><td>&quot;16/367&quot;</td><td>&quot;525/38993&quot;</td><td>0.000046</td><td>1</td><td>16</td><td>0.00515</td><td>&quot;Os01g0124000, Os01g0124100, Os…</td><td>0.043597</td><td>0.013464</td></tr><tr><td>&quot;GO:0016462&quot;</td><td>&quot;MF&quot;</td><td>&quot;e&quot;</td><td>&quot;pyrophosphatase activity&quot;</td><td>&quot;19/367&quot;</td><td>&quot;713/38993&quot;</td><td>0.000056</td><td>5</td><td>19</td><td>0.006033</td><td>&quot;Os01g0840100, Os02g0115900, Os…</td><td>0.051771</td><td>0.018285</td></tr><tr><td>&quot;GO:0016818&quot;</td><td>&quot;MF&quot;</td><td>&quot;e&quot;</td><td>&quot;hydrolase activity, acting on …</td><td>&quot;19/367&quot;</td><td>&quot;720/38993&quot;</td><td>0.000064</td><td>4</td><td>19</td><td>0.006586</td><td>&quot;Os01g0840100, Os02g0115900, Os…</td><td>0.051771</td><td>0.018465</td></tr><tr><td>&quot;GO:0016817&quot;</td><td>&quot;MF&quot;</td><td>&quot;e&quot;</td><td>&quot;hydrolase activity, acting on …</td><td>&quot;19/367&quot;</td><td>&quot;728/38993&quot;</td><td>0.000074</td><td>3</td><td>19</td><td>0.007319</td><td>&quot;Os01g0840100, Os02g0115900, Os…</td><td>0.051771</td><td>0.01867</td></tr></tbody></table></div>"
      ],
      "text/plain": [
       "shape: (76, 13)\n",
       "┌───────────┬───────────┬───────────┬───────────┬───┬───────────┬───────────┬───────────┬──────────┐\n",
       "│ GO        ┆ GO domain ┆ enrichmen ┆ GO term   ┆ … ┆ p_fdr_bh  ┆ study_ite ┆ ratio in  ┆ ratio in │\n",
       "│ ---       ┆ ---       ┆ t type    ┆ name      ┆   ┆ ---       ┆ ms        ┆ study     ┆ populati │\n",
       "│ str       ┆ str       ┆ ---       ┆ ---       ┆   ┆ f64       ┆ ---       ┆ ---       ┆ on       │\n",
       "│           ┆           ┆ str       ┆ str       ┆   ┆           ┆ str       ┆ f64       ┆ ---      │\n",
       "│           ┆           ┆           ┆           ┆   ┆           ┆           ┆           ┆ f64      │\n",
       "╞═══════════╪═══════════╪═══════════╪═══════════╪═══╪═══════════╪═══════════╪═══════════╪══════════╡\n",
       "│ GO:000645 ┆ BP        ┆ e         ┆ protein   ┆ … ┆ 1.1155e-4 ┆ Os01g0135 ┆ 0.122616  ┆ 0.005693 │\n",
       "│ 7         ┆           ┆           ┆ folding   ┆   ┆ 2         ┆ 800, Os01 ┆           ┆          │\n",
       "│           ┆           ┆           ┆           ┆   ┆           ┆ g0136000, ┆           ┆          │\n",
       "│           ┆           ┆           ┆           ┆   ┆           ┆ Os…       ┆           ┆          │\n",
       "│ GO:000926 ┆ BP        ┆ e         ┆ response  ┆ … ┆ 8.3845e-2 ┆ Os01g0135 ┆ 0.087193  ┆ 0.005334 │\n",
       "│ 6         ┆           ┆           ┆ to temper ┆   ┆ 6         ┆ 800, Os01 ┆           ┆          │\n",
       "│           ┆           ┆           ┆ ature     ┆   ┆           ┆ g0136000, ┆           ┆          │\n",
       "│           ┆           ┆           ┆ stimul…   ┆   ┆           ┆ Os…       ┆           ┆          │\n",
       "│ GO:000940 ┆ BP        ┆ e         ┆ response  ┆ … ┆ 1.9288e-2 ┆ Os01g0135 ┆ 0.06812   ┆ 0.002795 │\n",
       "│ 8         ┆           ┆           ┆ to heat   ┆   ┆ 4         ┆ 800, Os01 ┆           ┆          │\n",
       "│           ┆           ┆           ┆           ┆   ┆           ┆ g0136000, ┆           ┆          │\n",
       "│           ┆           ┆           ┆           ┆   ┆           ┆ Os…       ┆           ┆          │\n",
       "│ GO:004254 ┆ BP        ┆ e         ┆ response  ┆ … ┆ 2.3832e-1 ┆ Os01g0135 ┆ 0.035422  ┆ 0.000744 │\n",
       "│ 2         ┆           ┆           ┆ to        ┆   ┆ 6         ┆ 800, Os01 ┆           ┆          │\n",
       "│           ┆           ┆           ┆ hydrogen  ┆   ┆           ┆ g0136000, ┆           ┆          │\n",
       "│           ┆           ┆           ┆ peroxide  ┆   ┆           ┆ Os…       ┆           ┆          │\n",
       "│ GO:005125 ┆ BP        ┆ e         ┆ protein   ┆ … ┆ 3.3361e-1 ┆ Os01g0135 ┆ 0.035422  ┆ 0.000769 │\n",
       "│ 9         ┆           ┆           ┆ complex   ┆   ┆ 6         ┆ 800, Os01 ┆           ┆          │\n",
       "│           ┆           ┆           ┆ oligomeri ┆   ┆           ┆ g0136000, ┆           ┆          │\n",
       "│           ┆           ┆           ┆ zatio…    ┆   ┆           ┆ Os…       ┆           ┆          │\n",
       "│ …         ┆ …         ┆ …         ┆ …         ┆ … ┆ …         ┆ …         ┆ …         ┆ …        │\n",
       "│ GO:006113 ┆ MF        ┆ e         ┆ peptidase ┆ … ┆ 0.004818  ┆ Os01g0124 ┆ 0.016349  ┆ 0.001718 │\n",
       "│ 4         ┆           ┆           ┆ regulator ┆   ┆           ┆ 000, Os01 ┆           ┆          │\n",
       "│           ┆           ┆           ┆ activity  ┆   ┆           ┆ g0124100, ┆           ┆          │\n",
       "│           ┆           ┆           ┆           ┆   ┆           ┆ Os…       ┆           ┆          │\n",
       "│ GO:009877 ┆ MF        ┆ e         ┆ molecular ┆ … ┆ 0.00515   ┆ Os01g0124 ┆ 0.043597  ┆ 0.013464 │\n",
       "│ 2         ┆           ┆           ┆ function  ┆   ┆           ┆ 000, Os01 ┆           ┆          │\n",
       "│           ┆           ┆           ┆ regulator ┆   ┆           ┆ g0124100, ┆           ┆          │\n",
       "│           ┆           ┆           ┆ a…        ┆   ┆           ┆ Os…       ┆           ┆          │\n",
       "│ GO:001646 ┆ MF        ┆ e         ┆ pyrophosp ┆ … ┆ 0.006033  ┆ Os01g0840 ┆ 0.051771  ┆ 0.018285 │\n",
       "│ 2         ┆           ┆           ┆ hatase    ┆   ┆           ┆ 100, Os02 ┆           ┆          │\n",
       "│           ┆           ┆           ┆ activity  ┆   ┆           ┆ g0115900, ┆           ┆          │\n",
       "│           ┆           ┆           ┆           ┆   ┆           ┆ Os…       ┆           ┆          │\n",
       "│ GO:001681 ┆ MF        ┆ e         ┆ hydrolase ┆ … ┆ 0.006586  ┆ Os01g0840 ┆ 0.051771  ┆ 0.018465 │\n",
       "│ 8         ┆           ┆           ┆ activity, ┆   ┆           ┆ 100, Os02 ┆           ┆          │\n",
       "│           ┆           ┆           ┆ acting on ┆   ┆           ┆ g0115900, ┆           ┆          │\n",
       "│           ┆           ┆           ┆ …         ┆   ┆           ┆ Os…       ┆           ┆          │\n",
       "│ GO:001681 ┆ MF        ┆ e         ┆ hydrolase ┆ … ┆ 0.007319  ┆ Os01g0840 ┆ 0.051771  ┆ 0.01867  │\n",
       "│ 7         ┆           ┆           ┆ activity, ┆   ┆           ┆ 100, Os02 ┆           ┆          │\n",
       "│           ┆           ┆           ┆ acting on ┆   ┆           ┆ g0115900, ┆           ┆          │\n",
       "│           ┆           ┆           ┆ …         ┆   ┆           ┆ Os…       ┆           ┆          │\n",
       "└───────────┴───────────┴───────────┴───────────┴───┴───────────┴───────────┴───────────┴──────────┘"
      ]
     },
     "metadata": {},
     "output_type": "display_data"
    }
   ],
   "source": [
    "def calculate_ratio(value: str) -> float:\n",
    "    numerator, denominator = value.split('/')\n",
    "    return int(numerator) / int(denominator)\n",
    "\n",
    "enrichment_result = enrichment_result.with_columns(\n",
    "    pl.col(\"ratio_in_study\").map_elements(\n",
    "        calculate_ratio,return_dtype=pl.Float64\n",
    "    ).alias(\"ratio in study\"),\n",
    "    pl.col(\"ratio_in_pop\").map_elements(\n",
    "        calculate_ratio,return_dtype=pl.Float64\n",
    "    ).alias(\"ratio in population\")\n",
    ")\n",
    "\n",
    "display(enrichment_result)"
   ]
  },
  {
   "cell_type": "code",
   "execution_count": 5,
   "metadata": {},
   "outputs": [
    {
     "data": {
      "text/html": [
       "<div><style>\n",
       ".dataframe > thead > tr,\n",
       ".dataframe > tbody > tr {\n",
       "  text-align: right;\n",
       "  white-space: pre-wrap;\n",
       "}\n",
       "</style>\n",
       "<small>shape: (76, 14)</small><table border=\"1\" class=\"dataframe\"><thead><tr><th>GO</th><th>GO domain</th><th>enrichment type</th><th>GO term name</th><th>ratio_in_study</th><th>ratio_in_pop</th><th>p_uncorrected</th><th>depth</th><th>study_count</th><th>p_fdr_bh</th><th>study_items</th><th>ratio in study</th><th>ratio in population</th><th>fold enrichment</th></tr><tr><td>str</td><td>str</td><td>str</td><td>str</td><td>str</td><td>str</td><td>f64</td><td>i64</td><td>i64</td><td>f64</td><td>str</td><td>f64</td><td>f64</td><td>f64</td></tr></thead><tbody><tr><td>&quot;GO:0045471&quot;</td><td>&quot;BP&quot;</td><td>&quot;e&quot;</td><td>&quot;response to ethanol&quot;</td><td>&quot;3/367&quot;</td><td>&quot;3/38993&quot;</td><td>8.2702e-7</td><td>5</td><td>3</td><td>0.000125</td><td>&quot;Os03g0266900, Os03g0267000, Os…</td><td>0.008174</td><td>0.000077</td><td>106.247956</td></tr><tr><td>&quot;GO:0046688&quot;</td><td>&quot;BP&quot;</td><td>&quot;e&quot;</td><td>&quot;response to copper ion&quot;</td><td>&quot;3/367&quot;</td><td>&quot;4/38993&quot;</td><td>0.000003</td><td>4</td><td>3</td><td>0.000436</td><td>&quot;Os03g0266900, Os03g0267000, Os…</td><td>0.008174</td><td>0.000103</td><td>79.685967</td></tr><tr><td>&quot;GO:0046685&quot;</td><td>&quot;BP&quot;</td><td>&quot;e&quot;</td><td>&quot;response to arsenic-containing…</td><td>&quot;3/367&quot;</td><td>&quot;5/38993&quot;</td><td>0.000008</td><td>3</td><td>3</td><td>0.000883</td><td>&quot;Os03g0266900, Os03g0267000, Os…</td><td>0.008174</td><td>0.000128</td><td>63.748774</td></tr><tr><td>&quot;GO:0042542&quot;</td><td>&quot;BP&quot;</td><td>&quot;e&quot;</td><td>&quot;response to hydrogen peroxide&quot;</td><td>&quot;13/367&quot;</td><td>&quot;29/38993&quot;</td><td>2.1784e-19</td><td>5</td><td>13</td><td>2.3832e-16</td><td>&quot;Os01g0135800, Os01g0136000, Os…</td><td>0.035422</td><td>0.000744</td><td>47.628394</td></tr><tr><td>&quot;GO:0051259&quot;</td><td>&quot;BP&quot;</td><td>&quot;e&quot;</td><td>&quot;protein complex oligomerizatio…</td><td>&quot;13/367&quot;</td><td>&quot;30/38993&quot;</td><td>3.8118e-19</td><td>6</td><td>13</td><td>3.3361e-16</td><td>&quot;Os01g0135800, Os01g0136000, Os…</td><td>0.035422</td><td>0.000769</td><td>46.040781</td></tr><tr><td>&hellip;</td><td>&hellip;</td><td>&hellip;</td><td>&hellip;</td><td>&hellip;</td><td>&hellip;</td><td>&hellip;</td><td>&hellip;</td><td>&hellip;</td><td>&hellip;</td><td>&hellip;</td><td>&hellip;</td><td>&hellip;</td><td>&hellip;</td></tr><tr><td>&quot;GO:0016818&quot;</td><td>&quot;MF&quot;</td><td>&quot;e&quot;</td><td>&quot;hydrolase activity, acting on …</td><td>&quot;19/367&quot;</td><td>&quot;720/38993&quot;</td><td>0.000064</td><td>4</td><td>19</td><td>0.006586</td><td>&quot;Os01g0840100, Os02g0115900, Os…</td><td>0.051771</td><td>0.018465</td><td>2.803766</td></tr><tr><td>&quot;GO:0016817&quot;</td><td>&quot;MF&quot;</td><td>&quot;e&quot;</td><td>&quot;hydrolase activity, acting on …</td><td>&quot;19/367&quot;</td><td>&quot;728/38993&quot;</td><td>0.000074</td><td>3</td><td>19</td><td>0.007319</td><td>&quot;Os01g0840100, Os02g0115900, Os…</td><td>0.051771</td><td>0.01867</td><td>2.772955</td></tr><tr><td>&quot;GO:0050896&quot;</td><td>&quot;BP&quot;</td><td>&quot;e&quot;</td><td>&quot;response to stimulus&quot;</td><td>&quot;66/367&quot;</td><td>&quot;2839/38993&quot;</td><td>8.8820e-12</td><td>1</td><td>66</td><td>2.1593e-9</td><td>&quot;Os01g0135800, Os01g0136000, Os…</td><td>0.179837</td><td>0.072808</td><td>2.470012</td></tr><tr><td>&quot;GO:0005737&quot;</td><td>&quot;CC&quot;</td><td>&quot;e&quot;</td><td>&quot;cytoplasm&quot;</td><td>&quot;52/367&quot;</td><td>&quot;2548/38993&quot;</td><td>1.7773e-7</td><td>2</td><td>52</td><td>0.00005</td><td>&quot;Os01g0105800, Os01g0135800, Os…</td><td>0.141689</td><td>0.065345</td><td>2.168326</td></tr><tr><td>&quot;GO:0005515&quot;</td><td>&quot;MF&quot;</td><td>&quot;e&quot;</td><td>&quot;protein binding&quot;</td><td>&quot;55/367&quot;</td><td>&quot;3139/38993&quot;</td><td>0.000007</td><td>2</td><td>55</td><td>0.001365</td><td>&quot;Os01g0135800, Os01g0136000, Os…</td><td>0.149864</td><td>0.080502</td><td>1.861624</td></tr></tbody></table></div>"
      ],
      "text/plain": [
       "shape: (76, 14)\n",
       "┌───────────┬───────────┬───────────┬───────────┬───┬───────────┬───────────┬───────────┬──────────┐\n",
       "│ GO        ┆ GO domain ┆ enrichmen ┆ GO term   ┆ … ┆ study_ite ┆ ratio in  ┆ ratio in  ┆ fold enr │\n",
       "│ ---       ┆ ---       ┆ t type    ┆ name      ┆   ┆ ms        ┆ study     ┆ populatio ┆ ichment  │\n",
       "│ str       ┆ str       ┆ ---       ┆ ---       ┆   ┆ ---       ┆ ---       ┆ n         ┆ ---      │\n",
       "│           ┆           ┆ str       ┆ str       ┆   ┆ str       ┆ f64       ┆ ---       ┆ f64      │\n",
       "│           ┆           ┆           ┆           ┆   ┆           ┆           ┆ f64       ┆          │\n",
       "╞═══════════╪═══════════╪═══════════╪═══════════╪═══╪═══════════╪═══════════╪═══════════╪══════════╡\n",
       "│ GO:004547 ┆ BP        ┆ e         ┆ response  ┆ … ┆ Os03g0266 ┆ 0.008174  ┆ 0.000077  ┆ 106.2479 │\n",
       "│ 1         ┆           ┆           ┆ to        ┆   ┆ 900, Os03 ┆           ┆           ┆ 56       │\n",
       "│           ┆           ┆           ┆ ethanol   ┆   ┆ g0267000, ┆           ┆           ┆          │\n",
       "│           ┆           ┆           ┆           ┆   ┆ Os…       ┆           ┆           ┆          │\n",
       "│ GO:004668 ┆ BP        ┆ e         ┆ response  ┆ … ┆ Os03g0266 ┆ 0.008174  ┆ 0.000103  ┆ 79.68596 │\n",
       "│ 8         ┆           ┆           ┆ to copper ┆   ┆ 900, Os03 ┆           ┆           ┆ 7        │\n",
       "│           ┆           ┆           ┆ ion       ┆   ┆ g0267000, ┆           ┆           ┆          │\n",
       "│           ┆           ┆           ┆           ┆   ┆ Os…       ┆           ┆           ┆          │\n",
       "│ GO:004668 ┆ BP        ┆ e         ┆ response  ┆ … ┆ Os03g0266 ┆ 0.008174  ┆ 0.000128  ┆ 63.74877 │\n",
       "│ 5         ┆           ┆           ┆ to arseni ┆   ┆ 900, Os03 ┆           ┆           ┆ 4        │\n",
       "│           ┆           ┆           ┆ c-contain ┆   ┆ g0267000, ┆           ┆           ┆          │\n",
       "│           ┆           ┆           ┆ ing…      ┆   ┆ Os…       ┆           ┆           ┆          │\n",
       "│ GO:004254 ┆ BP        ┆ e         ┆ response  ┆ … ┆ Os01g0135 ┆ 0.035422  ┆ 0.000744  ┆ 47.62839 │\n",
       "│ 2         ┆           ┆           ┆ to        ┆   ┆ 800, Os01 ┆           ┆           ┆ 4        │\n",
       "│           ┆           ┆           ┆ hydrogen  ┆   ┆ g0136000, ┆           ┆           ┆          │\n",
       "│           ┆           ┆           ┆ peroxide  ┆   ┆ Os…       ┆           ┆           ┆          │\n",
       "│ GO:005125 ┆ BP        ┆ e         ┆ protein   ┆ … ┆ Os01g0135 ┆ 0.035422  ┆ 0.000769  ┆ 46.04078 │\n",
       "│ 9         ┆           ┆           ┆ complex   ┆   ┆ 800, Os01 ┆           ┆           ┆ 1        │\n",
       "│           ┆           ┆           ┆ oligomeri ┆   ┆ g0136000, ┆           ┆           ┆          │\n",
       "│           ┆           ┆           ┆ zatio…    ┆   ┆ Os…       ┆           ┆           ┆          │\n",
       "│ …         ┆ …         ┆ …         ┆ …         ┆ … ┆ …         ┆ …         ┆ …         ┆ …        │\n",
       "│ GO:001681 ┆ MF        ┆ e         ┆ hydrolase ┆ … ┆ Os01g0840 ┆ 0.051771  ┆ 0.018465  ┆ 2.803766 │\n",
       "│ 8         ┆           ┆           ┆ activity, ┆   ┆ 100, Os02 ┆           ┆           ┆          │\n",
       "│           ┆           ┆           ┆ acting on ┆   ┆ g0115900, ┆           ┆           ┆          │\n",
       "│           ┆           ┆           ┆ …         ┆   ┆ Os…       ┆           ┆           ┆          │\n",
       "│ GO:001681 ┆ MF        ┆ e         ┆ hydrolase ┆ … ┆ Os01g0840 ┆ 0.051771  ┆ 0.01867   ┆ 2.772955 │\n",
       "│ 7         ┆           ┆           ┆ activity, ┆   ┆ 100, Os02 ┆           ┆           ┆          │\n",
       "│           ┆           ┆           ┆ acting on ┆   ┆ g0115900, ┆           ┆           ┆          │\n",
       "│           ┆           ┆           ┆ …         ┆   ┆ Os…       ┆           ┆           ┆          │\n",
       "│ GO:005089 ┆ BP        ┆ e         ┆ response  ┆ … ┆ Os01g0135 ┆ 0.179837  ┆ 0.072808  ┆ 2.470012 │\n",
       "│ 6         ┆           ┆           ┆ to        ┆   ┆ 800, Os01 ┆           ┆           ┆          │\n",
       "│           ┆           ┆           ┆ stimulus  ┆   ┆ g0136000, ┆           ┆           ┆          │\n",
       "│           ┆           ┆           ┆           ┆   ┆ Os…       ┆           ┆           ┆          │\n",
       "│ GO:000573 ┆ CC        ┆ e         ┆ cytoplasm ┆ … ┆ Os01g0105 ┆ 0.141689  ┆ 0.065345  ┆ 2.168326 │\n",
       "│ 7         ┆           ┆           ┆           ┆   ┆ 800, Os01 ┆           ┆           ┆          │\n",
       "│           ┆           ┆           ┆           ┆   ┆ g0135800, ┆           ┆           ┆          │\n",
       "│           ┆           ┆           ┆           ┆   ┆ Os…       ┆           ┆           ┆          │\n",
       "│ GO:000551 ┆ MF        ┆ e         ┆ protein   ┆ … ┆ Os01g0135 ┆ 0.149864  ┆ 0.080502  ┆ 1.861624 │\n",
       "│ 5         ┆           ┆           ┆ binding   ┆   ┆ 800, Os01 ┆           ┆           ┆          │\n",
       "│           ┆           ┆           ┆           ┆   ┆ g0136000, ┆           ┆           ┆          │\n",
       "│           ┆           ┆           ┆           ┆   ┆ Os…       ┆           ┆           ┆          │\n",
       "└───────────┴───────────┴───────────┴───────────┴───┴───────────┴───────────┴───────────┴──────────┘"
      ]
     },
     "metadata": {},
     "output_type": "display_data"
    }
   ],
   "source": [
    "# fold enrichment\n",
    "def fold_enrichment(df):\n",
    "    fold_enrichment = (pl.col(\"ratio in study\") / pl.col(\"ratio in population\")).alias(\"fold enrichment\")\n",
    "    df = df.with_columns([\n",
    "        fold_enrichment\n",
    "    ]).sort(\"fold enrichment\", descending=True)\n",
    "    return df\n",
    "\n",
    "df_fold_enrichment = fold_enrichment(enrichment_result)\n",
    "display(df_fold_enrichment)"
   ]
  },
  {
   "cell_type": "markdown",
   "metadata": {},
   "source": [
    "&nbsp;\n",
    "\n",
    "&nbsp;"
   ]
  },
  {
   "cell_type": "markdown",
   "metadata": {},
   "source": [
    "### (3) convert p-value"
   ]
  },
  {
   "cell_type": "code",
   "execution_count": 6,
   "metadata": {},
   "outputs": [
    {
     "data": {
      "text/html": [
       "<div><style>\n",
       ".dataframe > thead > tr,\n",
       ".dataframe > tbody > tr {\n",
       "  text-align: right;\n",
       "  white-space: pre-wrap;\n",
       "}\n",
       "</style>\n",
       "<small>shape: (76, 16)</small><table border=\"1\" class=\"dataframe\"><thead><tr><th>GO</th><th>GO term name</th><th>GO domain</th><th>depth</th><th>enrichment type</th><th>study_count</th><th>ratio_in_study</th><th>ratio_in_pop</th><th>ratio in study</th><th>ratio in population</th><th>fold enrichment</th><th>p_uncorrected</th><th>p_fdr_bh</th><th>-log10(p-value_uncorrected)</th><th>-log10(p-value_fdr_bh)</th><th>study_items</th></tr><tr><td>str</td><td>str</td><td>str</td><td>i64</td><td>str</td><td>i64</td><td>str</td><td>str</td><td>f64</td><td>f64</td><td>f64</td><td>f64</td><td>f64</td><td>f64</td><td>f64</td><td>str</td></tr></thead><tbody><tr><td>&quot;GO:0006457&quot;</td><td>&quot;protein folding&quot;</td><td>&quot;BP&quot;</td><td>2</td><td>&quot;e&quot;</td><td>45</td><td>&quot;45/367&quot;</td><td>&quot;222/38993&quot;</td><td>0.122616</td><td>0.005693</td><td>21.536748</td><td>2.5492e-46</td><td>1.1155e-42</td><td>45.593599</td><td>41.952522</td><td>&quot;Os01g0135800, Os01g0136000, Os…</td></tr><tr><td>&quot;GO:0051082&quot;</td><td>&quot;unfolded protein binding&quot;</td><td>&quot;MF&quot;</td><td>3</td><td>&quot;e&quot;</td><td>30</td><td>&quot;30/367&quot;</td><td>&quot;127/38993&quot;</td><td>0.081744</td><td>0.003257</td><td>25.097942</td><td>2.5344e-33</td><td>6.5438e-30</td><td>32.596126</td><td>29.18417</td><td>&quot;Os01g0135800, Os01g0136000, Os…</td></tr><tr><td>&quot;GO:0009266&quot;</td><td>&quot;response to temperature stimul…</td><td>&quot;BP&quot;</td><td>3</td><td>&quot;e&quot;</td><td>32</td><td>&quot;32/367&quot;</td><td>&quot;208/38993&quot;</td><td>0.087193</td><td>0.005334</td><td>16.345839</td><td>3.8320e-29</td><td>8.3845e-26</td><td>28.416573</td><td>25.076525</td><td>&quot;Os01g0135800, Os01g0136000, Os…</td></tr><tr><td>&quot;GO:0009408&quot;</td><td>&quot;response to heat&quot;</td><td>&quot;BP&quot;</td><td>4</td><td>&quot;e&quot;</td><td>25</td><td>&quot;25/367&quot;</td><td>&quot;109/38993&quot;</td><td>0.06812</td><td>0.002795</td><td>24.368797</td><td>1.3223e-27</td><td>1.9288e-24</td><td>26.878677</td><td>23.714721</td><td>&quot;Os01g0135800, Os01g0136000, Os…</td></tr><tr><td>&quot;GO:0042542&quot;</td><td>&quot;response to hydrogen peroxide&quot;</td><td>&quot;BP&quot;</td><td>5</td><td>&quot;e&quot;</td><td>13</td><td>&quot;13/367&quot;</td><td>&quot;29/38993&quot;</td><td>0.035422</td><td>0.000744</td><td>47.628394</td><td>2.1784e-19</td><td>2.3832e-16</td><td>18.661866</td><td>15.622848</td><td>&quot;Os01g0135800, Os01g0136000, Os…</td></tr><tr><td>&hellip;</td><td>&hellip;</td><td>&hellip;</td><td>&hellip;</td><td>&hellip;</td><td>&hellip;</td><td>&hellip;</td><td>&hellip;</td><td>&hellip;</td><td>&hellip;</td><td>&hellip;</td><td>&hellip;</td><td>&hellip;</td><td>&hellip;</td><td>&hellip;</td><td>&hellip;</td></tr><tr><td>&quot;GO:0098772&quot;</td><td>&quot;molecular function regulator a…</td><td>&quot;MF&quot;</td><td>1</td><td>&quot;e&quot;</td><td>16</td><td>&quot;16/367&quot;</td><td>&quot;525/38993&quot;</td><td>0.043597</td><td>0.013464</td><td>3.238033</td><td>0.000046</td><td>0.00515</td><td>4.338429</td><td>2.288201</td><td>&quot;Os01g0124000, Os01g0124100, Os…</td></tr><tr><td>&quot;GO:0016462&quot;</td><td>&quot;pyrophosphatase activity&quot;</td><td>&quot;MF&quot;</td><td>5</td><td>&quot;e&quot;</td><td>19</td><td>&quot;19/367&quot;</td><td>&quot;713/38993&quot;</td><td>0.051771</td><td>0.018285</td><td>2.831292</td><td>0.000056</td><td>0.006033</td><td>4.251218</td><td>2.219473</td><td>&quot;Os01g0840100, Os02g0115900, Os…</td></tr><tr><td>&quot;GO:0016818&quot;</td><td>&quot;hydrolase activity, acting on …</td><td>&quot;MF&quot;</td><td>4</td><td>&quot;e&quot;</td><td>19</td><td>&quot;19/367&quot;</td><td>&quot;720/38993&quot;</td><td>0.051771</td><td>0.018465</td><td>2.803766</td><td>0.000064</td><td>0.006586</td><td>4.195374</td><td>2.181358</td><td>&quot;Os01g0840100, Os02g0115900, Os…</td></tr><tr><td>&quot;GO:0016817&quot;</td><td>&quot;hydrolase activity, acting on …</td><td>&quot;MF&quot;</td><td>3</td><td>&quot;e&quot;</td><td>19</td><td>&quot;19/367&quot;</td><td>&quot;728/38993&quot;</td><td>0.051771</td><td>0.01867</td><td>2.772955</td><td>0.000074</td><td>0.007319</td><td>4.132528</td><td>2.135545</td><td>&quot;Os01g0840100, Os02g0115900, Os…</td></tr><tr><td>&quot;GO:0034663&quot;</td><td>&quot;endoplasmic reticulum chaperon…</td><td>&quot;CC&quot;</td><td>3</td><td>&quot;e&quot;</td><td>3</td><td>&quot;3/367&quot;</td><td>&quot;8/38993&quot;</td><td>0.008174</td><td>0.000205</td><td>39.842984</td><td>0.000045</td><td>0.009468</td><td>4.349542</td><td>2.023719</td><td>&quot;Os02g0115900, Os02g0710900, Os…</td></tr></tbody></table></div>"
      ],
      "text/plain": [
       "shape: (76, 16)\n",
       "┌────────────┬────────────┬───────────┬───────┬───┬────────────┬───────────┬───────────┬───────────┐\n",
       "│ GO         ┆ GO term    ┆ GO domain ┆ depth ┆ … ┆ p_fdr_bh   ┆ -log10(p- ┆ -log10(p- ┆ study_ite │\n",
       "│ ---        ┆ name       ┆ ---       ┆ ---   ┆   ┆ ---        ┆ value_unc ┆ value_fdr ┆ ms        │\n",
       "│ str        ┆ ---        ┆ str       ┆ i64   ┆   ┆ f64        ┆ orrected) ┆ _bh)      ┆ ---       │\n",
       "│            ┆ str        ┆           ┆       ┆   ┆            ┆ ---       ┆ ---       ┆ str       │\n",
       "│            ┆            ┆           ┆       ┆   ┆            ┆ f64       ┆ f64       ┆           │\n",
       "╞════════════╪════════════╪═══════════╪═══════╪═══╪════════════╪═══════════╪═══════════╪═══════════╡\n",
       "│ GO:0006457 ┆ protein    ┆ BP        ┆ 2     ┆ … ┆ 1.1155e-42 ┆ 45.593599 ┆ 41.952522 ┆ Os01g0135 │\n",
       "│            ┆ folding    ┆           ┆       ┆   ┆            ┆           ┆           ┆ 800, Os01 │\n",
       "│            ┆            ┆           ┆       ┆   ┆            ┆           ┆           ┆ g0136000, │\n",
       "│            ┆            ┆           ┆       ┆   ┆            ┆           ┆           ┆ Os…       │\n",
       "│ GO:0051082 ┆ unfolded   ┆ MF        ┆ 3     ┆ … ┆ 6.5438e-30 ┆ 32.596126 ┆ 29.18417  ┆ Os01g0135 │\n",
       "│            ┆ protein    ┆           ┆       ┆   ┆            ┆           ┆           ┆ 800, Os01 │\n",
       "│            ┆ binding    ┆           ┆       ┆   ┆            ┆           ┆           ┆ g0136000, │\n",
       "│            ┆            ┆           ┆       ┆   ┆            ┆           ┆           ┆ Os…       │\n",
       "│ GO:0009266 ┆ response   ┆ BP        ┆ 3     ┆ … ┆ 8.3845e-26 ┆ 28.416573 ┆ 25.076525 ┆ Os01g0135 │\n",
       "│            ┆ to tempera ┆           ┆       ┆   ┆            ┆           ┆           ┆ 800, Os01 │\n",
       "│            ┆ ture       ┆           ┆       ┆   ┆            ┆           ┆           ┆ g0136000, │\n",
       "│            ┆ stimul…    ┆           ┆       ┆   ┆            ┆           ┆           ┆ Os…       │\n",
       "│ GO:0009408 ┆ response   ┆ BP        ┆ 4     ┆ … ┆ 1.9288e-24 ┆ 26.878677 ┆ 23.714721 ┆ Os01g0135 │\n",
       "│            ┆ to heat    ┆           ┆       ┆   ┆            ┆           ┆           ┆ 800, Os01 │\n",
       "│            ┆            ┆           ┆       ┆   ┆            ┆           ┆           ┆ g0136000, │\n",
       "│            ┆            ┆           ┆       ┆   ┆            ┆           ┆           ┆ Os…       │\n",
       "│ GO:0042542 ┆ response   ┆ BP        ┆ 5     ┆ … ┆ 2.3832e-16 ┆ 18.661866 ┆ 15.622848 ┆ Os01g0135 │\n",
       "│            ┆ to         ┆           ┆       ┆   ┆            ┆           ┆           ┆ 800, Os01 │\n",
       "│            ┆ hydrogen   ┆           ┆       ┆   ┆            ┆           ┆           ┆ g0136000, │\n",
       "│            ┆ peroxide   ┆           ┆       ┆   ┆            ┆           ┆           ┆ Os…       │\n",
       "│ …          ┆ …          ┆ …         ┆ …     ┆ … ┆ …          ┆ …         ┆ …         ┆ …         │\n",
       "│ GO:0098772 ┆ molecular  ┆ MF        ┆ 1     ┆ … ┆ 0.00515    ┆ 4.338429  ┆ 2.288201  ┆ Os01g0124 │\n",
       "│            ┆ function   ┆           ┆       ┆   ┆            ┆           ┆           ┆ 000, Os01 │\n",
       "│            ┆ regulator  ┆           ┆       ┆   ┆            ┆           ┆           ┆ g0124100, │\n",
       "│            ┆ a…         ┆           ┆       ┆   ┆            ┆           ┆           ┆ Os…       │\n",
       "│ GO:0016462 ┆ pyrophosph ┆ MF        ┆ 5     ┆ … ┆ 0.006033   ┆ 4.251218  ┆ 2.219473  ┆ Os01g0840 │\n",
       "│            ┆ atase      ┆           ┆       ┆   ┆            ┆           ┆           ┆ 100, Os02 │\n",
       "│            ┆ activity   ┆           ┆       ┆   ┆            ┆           ┆           ┆ g0115900, │\n",
       "│            ┆            ┆           ┆       ┆   ┆            ┆           ┆           ┆ Os…       │\n",
       "│ GO:0016818 ┆ hydrolase  ┆ MF        ┆ 4     ┆ … ┆ 0.006586   ┆ 4.195374  ┆ 2.181358  ┆ Os01g0840 │\n",
       "│            ┆ activity,  ┆           ┆       ┆   ┆            ┆           ┆           ┆ 100, Os02 │\n",
       "│            ┆ acting on  ┆           ┆       ┆   ┆            ┆           ┆           ┆ g0115900, │\n",
       "│            ┆ …          ┆           ┆       ┆   ┆            ┆           ┆           ┆ Os…       │\n",
       "│ GO:0016817 ┆ hydrolase  ┆ MF        ┆ 3     ┆ … ┆ 0.007319   ┆ 4.132528  ┆ 2.135545  ┆ Os01g0840 │\n",
       "│            ┆ activity,  ┆           ┆       ┆   ┆            ┆           ┆           ┆ 100, Os02 │\n",
       "│            ┆ acting on  ┆           ┆       ┆   ┆            ┆           ┆           ┆ g0115900, │\n",
       "│            ┆ …          ┆           ┆       ┆   ┆            ┆           ┆           ┆ Os…       │\n",
       "│ GO:0034663 ┆ endoplasmi ┆ CC        ┆ 3     ┆ … ┆ 0.009468   ┆ 4.349542  ┆ 2.023719  ┆ Os02g0115 │\n",
       "│            ┆ c          ┆           ┆       ┆   ┆            ┆           ┆           ┆ 900, Os02 │\n",
       "│            ┆ reticulum  ┆           ┆       ┆   ┆            ┆           ┆           ┆ g0710900, │\n",
       "│            ┆ chaperon…  ┆           ┆       ┆   ┆            ┆           ┆           ┆ Os…       │\n",
       "└────────────┴────────────┴───────────┴───────┴───┴────────────┴───────────┴───────────┴───────────┘"
      ]
     },
     "metadata": {},
     "output_type": "display_data"
    }
   ],
   "source": [
    "# convert p-value to -log10(p-value)\n",
    "if \"p_uncorrected\" in df_fold_enrichment.columns:\n",
    "    df_fold_enrichment = df_fold_enrichment.with_columns(\n",
    "        (-np.log10(df_fold_enrichment[\"p_uncorrected\"]))\n",
    "        .alias(\"-log10(p-value_uncorrected)\")\n",
    "    )\n",
    "\n",
    "if \"p_fdr_bh\" in df_fold_enrichment.columns:\n",
    "    df_fold_enrichment = df_fold_enrichment.with_columns(\n",
    "        (-np.log10(df_fold_enrichment[\"p_fdr_bh\"]))\n",
    "        .alias(\"-log10(p-value_fdr_bh)\")\n",
    "        ).sort(\"-log10(p-value_fdr_bh)\", descending=True)\n",
    "    \n",
    "df_fold_enrichment = df_fold_enrichment.select(\n",
    "    \"GO\",\n",
    "    \"GO term name\",\n",
    "    \"GO domain\",\n",
    "    \"depth\",\n",
    "    \"enrichment type\",\n",
    "    \"study_count\",\n",
    "    \"ratio_in_study\",\n",
    "    \"ratio_in_pop\",\n",
    "    \"ratio in study\",\n",
    "    \"ratio in population\",\n",
    "    \"fold enrichment\",\n",
    "    \"p_uncorrected\",\n",
    "    \"p_fdr_bh\",\n",
    "    \"-log10(p-value_uncorrected)\",\n",
    "    \"-log10(p-value_fdr_bh)\",\n",
    "    \"study_items\"\n",
    ")\n",
    "\n",
    "display(df_fold_enrichment)"
   ]
  },
  {
   "cell_type": "code",
   "execution_count": 7,
   "metadata": {},
   "outputs": [],
   "source": [
    "df_fold_enrichment.write_csv(\n",
    "    f\"../Data/10_enrichment_result_viz/rice_go_enrichment_up_all_modified.tsv\", \n",
    "    separator=\"\\t\"\n",
    ")\n",
    "\n",
    "cc = df_fold_enrichment.filter((pl.col(\"GO domain\") == \"CC\"))\n",
    "cc.write_csv(f\"../Data/10_enrichment_result_viz/CC_enrichment_up_modified.tsv\", separator=\"\\t\")\n",
    "bp = df_fold_enrichment.filter((pl.col(\"GO domain\") == \"BP\"))\n",
    "bp.write_csv(f\"../Data/10_enrichment_result_viz/BP_enrichment_up_modified.tsv\", separator=\"\\t\")\n",
    "mf = df_fold_enrichment.filter((pl.col(\"GO domain\") == \"MF\"))\n",
    "mf.write_csv(f\"../Data/10_enrichment_result_viz/MF_enrichment_up_modified.tsv\", separator=\"\\t\")"
   ]
  },
  {
   "cell_type": "code",
   "execution_count": 8,
   "metadata": {},
   "outputs": [
    {
     "data": {
      "text/html": [
       "<div>\n",
       "<style scoped>\n",
       "    .dataframe tbody tr th:only-of-type {\n",
       "        vertical-align: middle;\n",
       "    }\n",
       "\n",
       "    .dataframe tbody tr th {\n",
       "        vertical-align: top;\n",
       "    }\n",
       "\n",
       "    .dataframe thead th {\n",
       "        text-align: right;\n",
       "    }\n",
       "</style>\n",
       "<table border=\"1\" class=\"dataframe\">\n",
       "  <thead>\n",
       "    <tr style=\"text-align: right;\">\n",
       "      <th></th>\n",
       "      <th>GO</th>\n",
       "      <th>GO term name</th>\n",
       "      <th>GO domain</th>\n",
       "      <th>depth</th>\n",
       "      <th>enrichment type</th>\n",
       "      <th>study_count</th>\n",
       "      <th>ratio_in_study</th>\n",
       "      <th>ratio_in_pop</th>\n",
       "      <th>ratio in study</th>\n",
       "      <th>ratio in population</th>\n",
       "      <th>fold enrichment</th>\n",
       "      <th>p_uncorrected</th>\n",
       "      <th>p_fdr_bh</th>\n",
       "      <th>-log10(p-value_uncorrected)</th>\n",
       "      <th>-log10(p-value_fdr_bh)</th>\n",
       "      <th>study_items</th>\n",
       "      <th>GO term</th>\n",
       "    </tr>\n",
       "  </thead>\n",
       "  <tbody>\n",
       "    <tr>\n",
       "      <th>0</th>\n",
       "      <td>GO:0005788</td>\n",
       "      <td>endoplasmic reticulum lumen</td>\n",
       "      <td>CC</td>\n",
       "      <td>5</td>\n",
       "      <td>e</td>\n",
       "      <td>6</td>\n",
       "      <td>6/367</td>\n",
       "      <td>24/38993</td>\n",
       "      <td>0.016349</td>\n",
       "      <td>0.000615</td>\n",
       "      <td>26.561989</td>\n",
       "      <td>7.784347e-08</td>\n",
       "      <td>0.000033</td>\n",
       "      <td>7.108778</td>\n",
       "      <td>4.481924</td>\n",
       "      <td>Os02g0115900, Os03g0832200, Os05g0156500, Os05...</td>\n",
       "      <td>GO:0005788: endoplasmic reticulum lumen</td>\n",
       "    </tr>\n",
       "    <tr>\n",
       "      <th>1</th>\n",
       "      <td>GO:0005783</td>\n",
       "      <td>endoplasmic reticulum</td>\n",
       "      <td>CC</td>\n",
       "      <td>5</td>\n",
       "      <td>e</td>\n",
       "      <td>22</td>\n",
       "      <td>22/367</td>\n",
       "      <td>587/38993</td>\n",
       "      <td>0.059946</td>\n",
       "      <td>0.015054</td>\n",
       "      <td>3.982036</td>\n",
       "      <td>5.505487e-08</td>\n",
       "      <td>0.000033</td>\n",
       "      <td>7.259204</td>\n",
       "      <td>4.481924</td>\n",
       "      <td>Os01g0606900, Os02g0115900, Os03g0271400, Os03...</td>\n",
       "      <td>GO:0005783: endoplasmic reticulum</td>\n",
       "    </tr>\n",
       "    <tr>\n",
       "      <th>2</th>\n",
       "      <td>GO:0005737</td>\n",
       "      <td>cytoplasm</td>\n",
       "      <td>CC</td>\n",
       "      <td>2</td>\n",
       "      <td>e</td>\n",
       "      <td>52</td>\n",
       "      <td>52/367</td>\n",
       "      <td>2548/38993</td>\n",
       "      <td>0.141689</td>\n",
       "      <td>0.065345</td>\n",
       "      <td>2.168326</td>\n",
       "      <td>1.777328e-07</td>\n",
       "      <td>0.000050</td>\n",
       "      <td>6.750232</td>\n",
       "      <td>4.299470</td>\n",
       "      <td>Os01g0105800, Os01g0135800, Os01g0136000, Os01...</td>\n",
       "      <td>GO:0005737: cytoplasm</td>\n",
       "    </tr>\n",
       "    <tr>\n",
       "      <th>3</th>\n",
       "      <td>GO:0034663</td>\n",
       "      <td>endoplasmic reticulum chaperone complex</td>\n",
       "      <td>CC</td>\n",
       "      <td>3</td>\n",
       "      <td>e</td>\n",
       "      <td>3</td>\n",
       "      <td>3/367</td>\n",
       "      <td>8/38993</td>\n",
       "      <td>0.008174</td>\n",
       "      <td>0.000205</td>\n",
       "      <td>39.842984</td>\n",
       "      <td>4.471545e-05</td>\n",
       "      <td>0.009468</td>\n",
       "      <td>4.349542</td>\n",
       "      <td>2.023719</td>\n",
       "      <td>Os02g0115900, Os02g0710900, Os05g0428600</td>\n",
       "      <td>GO:0034663: endoplasmic reticulum chaperone co...</td>\n",
       "    </tr>\n",
       "  </tbody>\n",
       "</table>\n",
       "</div>"
      ],
      "text/plain": [
       "           GO                             GO term name GO domain  depth  \\\n",
       "0  GO:0005788              endoplasmic reticulum lumen        CC      5   \n",
       "1  GO:0005783                    endoplasmic reticulum        CC      5   \n",
       "2  GO:0005737                                cytoplasm        CC      2   \n",
       "3  GO:0034663  endoplasmic reticulum chaperone complex        CC      3   \n",
       "\n",
       "  enrichment type  study_count ratio_in_study ratio_in_pop  ratio in study  \\\n",
       "0               e            6          6/367     24/38993        0.016349   \n",
       "1               e           22         22/367    587/38993        0.059946   \n",
       "2               e           52         52/367   2548/38993        0.141689   \n",
       "3               e            3          3/367      8/38993        0.008174   \n",
       "\n",
       "   ratio in population  fold enrichment  p_uncorrected  p_fdr_bh  \\\n",
       "0             0.000615        26.561989   7.784347e-08  0.000033   \n",
       "1             0.015054         3.982036   5.505487e-08  0.000033   \n",
       "2             0.065345         2.168326   1.777328e-07  0.000050   \n",
       "3             0.000205        39.842984   4.471545e-05  0.009468   \n",
       "\n",
       "   -log10(p-value_uncorrected)  -log10(p-value_fdr_bh)  \\\n",
       "0                     7.108778                4.481924   \n",
       "1                     7.259204                4.481924   \n",
       "2                     6.750232                4.299470   \n",
       "3                     4.349542                2.023719   \n",
       "\n",
       "                                         study_items  \\\n",
       "0  Os02g0115900, Os03g0832200, Os05g0156500, Os05...   \n",
       "1  Os01g0606900, Os02g0115900, Os03g0271400, Os03...   \n",
       "2  Os01g0105800, Os01g0135800, Os01g0136000, Os01...   \n",
       "3           Os02g0115900, Os02g0710900, Os05g0428600   \n",
       "\n",
       "                                             GO term  \n",
       "0            GO:0005788: endoplasmic reticulum lumen  \n",
       "1                  GO:0005783: endoplasmic reticulum  \n",
       "2                              GO:0005737: cytoplasm  \n",
       "3  GO:0034663: endoplasmic reticulum chaperone co...  "
      ]
     },
     "metadata": {},
     "output_type": "display_data"
    }
   ],
   "source": [
    "# Join term columns\n",
    "df_to_pd = df_fold_enrichment.with_columns(\n",
    "    (pl.col(\"GO\") + \": \" + pl.col(\"GO term name\")).alias(\"GO term\")\n",
    ").to_pandas()\n",
    "\n",
    "#Separate dataframes by GO domain\n",
    "cc_pd = cc.with_columns(\n",
    "    (pl.col(\"GO\") + \": \" + pl.col(\"GO term name\")).alias(\"GO term\")\n",
    ").to_pandas()\n",
    "bp_pd = bp.with_columns(\n",
    "    (pl.col(\"GO\") + \": \" + pl.col(\"GO term name\")).alias(\"GO term\")\n",
    ").to_pandas()\n",
    "mf_pd = mf.with_columns(\n",
    "    (pl.col(\"GO\") + \": \" + pl.col(\"GO term name\")).alias(\"GO term\")\n",
    ").to_pandas()\n",
    "\n",
    "display(cc_pd.head())"
   ]
  },
  {
   "cell_type": "code",
   "execution_count": 9,
   "metadata": {},
   "outputs": [],
   "source": [
    "# enrichment result plot function\n",
    "current_fig = None # global variable\n",
    "\n",
    "def plot_goa_dotplot_with_lines(data, col1, goa_col, col2, col3, ylabel_suffix='', width=11, height=14, palette=\"flare\"):\n",
    "\n",
    "    # 1. figure size\n",
    "    global current_fig\n",
    "    figsize = (width, height)\n",
    "    current_fig, ax = plt.subplots(figsize=figsize)\n",
    "\n",
    "    # 2. color normalization\n",
    "    norm = mcolors.Normalize(vmin=data[col3].min(), vmax=data[col3].max())\n",
    "\n",
    "    # 3.color palette\n",
    "    color_palette = sns.color_palette(palette, as_cmap=True)\n",
    "\n",
    "    # 4.plotting\n",
    "    sns.scatterplot(\n",
    "        data=data,\n",
    "        x=col1,\n",
    "        y=goa_col,\n",
    "        size=col2, \n",
    "        hue=col3,     \n",
    "        palette=palette, \n",
    "        legend='brief',\n",
    "        ax=ax\n",
    "    )\n",
    "    # 5.lines \n",
    "    for index, row in data.iterrows():\n",
    "        ax.plot([0, row[col1]], [row[goa_col], row[goa_col]], color=color_palette(norm(row[col3])), lw=1)\n",
    "    \n",
    "    ax.grid(color='b', linestyle=':', linewidth=0.1)\n",
    "    ax.set_xlabel(col1)\n",
    "    ylabel_text = 'GO Terms' + ('' + ylabel_suffix  if ylabel_suffix else '' )\n",
    "    ax.set_ylabel(ylabel_text)\n",
    "\n",
    "    # 6.legend\n",
    "    handles, labels = ax.get_legend_handles_labels()\n",
    "    handles = [\"-log10(FDR)\" if label == \"-log10(p-value_fdr_bh)\" else label for label in handles]\n",
    "    labels = ['Genes' if label == 'study_count' else label for label in labels]\n",
    "    ax.legend(handles, labels, prop={'size': 14})\n",
    "\n",
    "    plt.show()"
   ]
  },
  {
   "cell_type": "code",
   "execution_count": 10,
   "metadata": {},
   "outputs": [],
   "source": [
    "# interactive setting\n",
    "filename_text = widgets.Text(value='', description='File Name:')\n",
    "\n",
    "def save_plot(button):\n",
    "    global current_fig\n",
    "    if current_fig:\n",
    "        filename = filename_text.value\n",
    "        if filename:  \n",
    "            current_fig.savefig(f'../Data/10_enrichment_result_viz/{filename}.png', dpi=800, bbox_inches='tight')\n",
    "        else:\n",
    "            current_fig.savefig(f'../Data/10_enrichment_result_viz/enrichment_result.png', dpi=800, bbox_inches='tight')\n",
    "\n",
    "\n",
    "save_button = widgets.Button(description=\"Save Plot\")\n",
    "save_button.on_click(save_plot)\n",
    "\n",
    "def interactive_plot(data):\n",
    "    w = interactive(\n",
    "        plot_goa_dotplot_with_lines,\n",
    "        data=widgets.fixed(data),\n",
    "        col1=widgets.Dropdown(options= [('fold enrichment', 'fold enrichment'), \n",
    "                                        ('-log10(p-value)', '-log10(p-value_uncorrected)'), \n",
    "                                        ('-log10(FDR)', '-log10(p-value_fdr_bh)')], \n",
    "                                        value='fold enrichment', \n",
    "                                        description='x-axis:'),\n",
    "        goa_col=widgets.fixed('GO term'),\n",
    "        col2=widgets.Dropdown(\n",
    "            options=[('Genes', 'study_count')] + [(col, col) for col in data.columns if col != 'study_count'], \n",
    "            value='study_count', \n",
    "            description='size:'),\n",
    "        col3=widgets.Dropdown(options= [('fold enrichment', 'fold enrichment'), \n",
    "                                        ('-log10(p-value)', '-log10(p-value_uncorrected)'), \n",
    "                                        ('-log10(FDR)', '-log10(p-value_fdr_bh)')], \n",
    "                                        value='-log10(p-value_fdr_bh)', \n",
    "                                        description='hue:'),\n",
    "        ylabel_suffix=widgets.Dropdown(\n",
    "            options=[('', ''), \n",
    "                     ('cc', '(Cellular Component)'), \n",
    "                     ('bp', '(Biological Process)'), \n",
    "                     ('mf', '(Molecular Function)')],\n",
    "            value='',\n",
    "            description='y-label suffix:'),\n",
    "        width=widgets.IntSlider(min=1, max=50, step=1, value=11, description='width:', readout_format='0.0f'),\n",
    "        height=widgets.IntSlider(min=1, max=50, step=1, value=14, description='height:', readout_format='0.0f'),\n",
    "        palette=widgets.Dropdown(options=['flare', 'magma', 'viridis'], value='flare', description='color palette:')\n",
    "        \n",
    "    )\n",
    "    display(w, filename_text, save_button)"
   ]
  },
  {
   "cell_type": "code",
   "execution_count": 11,
   "metadata": {},
   "outputs": [
    {
     "data": {
      "application/vnd.jupyter.widget-view+json": {
       "model_id": "62e4aee9860141e28e65096279cdf1da",
       "version_major": 2,
       "version_minor": 0
      },
      "text/plain": [
       "interactive(children=(Dropdown(description='x-axis:', options=(('fold enrichment', 'fold enrichment'), ('-log1…"
      ]
     },
     "metadata": {},
     "output_type": "display_data"
    },
    {
     "data": {
      "application/vnd.jupyter.widget-view+json": {
       "model_id": "e7ff8badbc0a4b44afcc8cb98a4c4db7",
       "version_major": 2,
       "version_minor": 0
      },
      "text/plain": [
       "Text(value='', description='File Name:')"
      ]
     },
     "metadata": {},
     "output_type": "display_data"
    },
    {
     "data": {
      "application/vnd.jupyter.widget-view+json": {
       "model_id": "561c6d69cce74ce68e9f93f5f677588a",
       "version_major": 2,
       "version_minor": 0
      },
      "text/plain": [
       "Button(description='Save Plot', style=ButtonStyle())"
      ]
     },
     "metadata": {},
     "output_type": "display_data"
    }
   ],
   "source": [
    "interactive_plot(bp_pd.copy())"
   ]
  },
  {
   "cell_type": "code",
   "execution_count": 12,
   "metadata": {},
   "outputs": [
    {
     "data": {
      "application/vnd.jupyter.widget-view+json": {
       "model_id": "a6bc8a8af38344cfb1e8642e12dd69f2",
       "version_major": 2,
       "version_minor": 0
      },
      "text/plain": [
       "interactive(children=(Dropdown(description='x-axis:', options=(('fold enrichment', 'fold enrichment'), ('-log1…"
      ]
     },
     "metadata": {},
     "output_type": "display_data"
    },
    {
     "data": {
      "application/vnd.jupyter.widget-view+json": {
       "model_id": "e7ff8badbc0a4b44afcc8cb98a4c4db7",
       "version_major": 2,
       "version_minor": 0
      },
      "text/plain": [
       "Text(value='BP_enrichment_modified', description='File Name:')"
      ]
     },
     "metadata": {},
     "output_type": "display_data"
    },
    {
     "data": {
      "application/vnd.jupyter.widget-view+json": {
       "model_id": "561c6d69cce74ce68e9f93f5f677588a",
       "version_major": 2,
       "version_minor": 0
      },
      "text/plain": [
       "Button(description='Save Plot', style=ButtonStyle())"
      ]
     },
     "metadata": {},
     "output_type": "display_data"
    }
   ],
   "source": [
    "interactive_plot(cc_pd.copy())"
   ]
  },
  {
   "cell_type": "code",
   "execution_count": 13,
   "metadata": {},
   "outputs": [
    {
     "data": {
      "application/vnd.jupyter.widget-view+json": {
       "model_id": "7ffb4dbac930497ea3c390ce4fc97371",
       "version_major": 2,
       "version_minor": 0
      },
      "text/plain": [
       "interactive(children=(Dropdown(description='x-axis:', options=(('fold enrichment', 'fold enrichment'), ('-log1…"
      ]
     },
     "metadata": {},
     "output_type": "display_data"
    },
    {
     "data": {
      "application/vnd.jupyter.widget-view+json": {
       "model_id": "e7ff8badbc0a4b44afcc8cb98a4c4db7",
       "version_major": 2,
       "version_minor": 0
      },
      "text/plain": [
       "Text(value='CC_enrichment_modified', description='File Name:')"
      ]
     },
     "metadata": {},
     "output_type": "display_data"
    },
    {
     "data": {
      "application/vnd.jupyter.widget-view+json": {
       "model_id": "561c6d69cce74ce68e9f93f5f677588a",
       "version_major": 2,
       "version_minor": 0
      },
      "text/plain": [
       "Button(description='Save Plot', style=ButtonStyle())"
      ]
     },
     "metadata": {},
     "output_type": "display_data"
    }
   ],
   "source": [
    "interactive_plot(mf_pd.copy())"
   ]
  }
 ],
 "metadata": {
  "kernelspec": {
   "display_name": "Python 3",
   "language": "python",
   "name": "python3"
  },
  "language_info": {
   "codemirror_mode": {
    "name": "ipython",
    "version": 3
   },
   "file_extension": ".py",
   "mimetype": "text/x-python",
   "name": "python",
   "nbconvert_exporter": "python",
   "pygments_lexer": "ipython3",
   "version": "3.11.4"
  }
 },
 "nbformat": 4,
 "nbformat_minor": 2
}

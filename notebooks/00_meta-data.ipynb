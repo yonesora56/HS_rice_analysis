{
 "cells": [
  {
   "cell_type": "markdown",
   "metadata": {},
   "source": [
    "## metadata process notebook"
   ]
  },
  {
   "cell_type": "code",
   "execution_count": 1,
   "metadata": {},
   "outputs": [],
   "source": [
    "import polars as pl\n",
    "import matplotlib.pyplot as plt\n",
    "import seaborn as sns"
   ]
  },
  {
   "cell_type": "code",
   "execution_count": 2,
   "metadata": {},
   "outputs": [
    {
     "data": {
      "text/html": [
       "<div><style>\n",
       ".dataframe > thead > tr,\n",
       ".dataframe > tbody > tr {\n",
       "  text-align: right;\n",
       "  white-space: pre-wrap;\n",
       "}\n",
       "</style>\n",
       "<small>shape: (5, 24)</small><table border=\"1\" class=\"dataframe\"><thead><tr><th>All-pair</th><th>Project-pair</th><th>Organism</th><th>Sub-species</th><th>Cultivar</th><th>Genotype</th><th>SRP accession</th><th>GEO Accession</th><th>Stress</th><th>Control</th><th>Library_Layout</th><th>Stress temperature (day/night) (℃)</th><th>Control temperature (day/night)(℃)</th><th>Time</th><th>Heat recovery</th><th>Treatment condition</th><th>Tissue</th><th>Period</th><th>Instrument</th><th>LibrarySelection</th><th>DOI</th><th>GSM_Pair_name</th><th>note</th><th>Technical Note</th></tr><tr><td>i64</td><td>i64</td><td>str</td><td>str</td><td>str</td><td>str</td><td>str</td><td>str</td><td>str</td><td>str</td><td>str</td><td>str</td><td>str</td><td>str</td><td>str</td><td>str</td><td>str</td><td>str</td><td>str</td><td>str</td><td>str</td><td>str</td><td>str</td><td>str</td></tr></thead><tbody><tr><td>1</td><td>1</td><td>&quot;O.sativa&quot;</td><td>&quot;ssp. japonica&quot;</td><td>&quot;Lagrue&quot;</td><td>&quot;WT&quot;</td><td>&quot;SRP413097&quot;</td><td>&quot;GSE220996&quot;</td><td>&quot;SRR22741460&quot;</td><td>&quot;SRR22741464&quot;</td><td>&quot;PAIRED&quot;</td><td>&quot;30/28&quot;</td><td>&quot;30/22.2&quot;</td><td>&quot;10h&quot;</td><td>null</td><td>&quot;green house&quot;</td><td>&quot;seed, endosperm, R6 caryopsis&quot;</td><td>&quot;R2 stage (booting) - R6 stage …</td><td>&quot;Illumina HiSeq 2000&quot;</td><td>&quot;cDNA&quot;</td><td>&quot;10.1038/s41598-023-31399-w&quot;</td><td>null</td><td>&quot;LaGrue(HNT-tolerant), high-nig…</td><td>null</td></tr><tr><td>2</td><td>2</td><td>&quot;O.sativa&quot;</td><td>&quot;ssp. japonica&quot;</td><td>&quot;Lagrue&quot;</td><td>&quot;WT&quot;</td><td>&quot;SRP413097&quot;</td><td>&quot;GSE220996&quot;</td><td>&quot;SRR22741461&quot;</td><td>&quot;SRR22741465&quot;</td><td>&quot;PAIRED&quot;</td><td>&quot;30/28&quot;</td><td>&quot;30/22.2&quot;</td><td>&quot;10h&quot;</td><td>null</td><td>&quot;green house&quot;</td><td>&quot;seed, endosperm, R6 caryopsis&quot;</td><td>&quot;R2 stage (booting) - R6 stage …</td><td>&quot;Illumina HiSeq 2000&quot;</td><td>&quot;cDNA&quot;</td><td>&quot;10.1038/s41598-023-31399-w&quot;</td><td>null</td><td>&quot;LaGrue(HNT-tolerant), high-nig…</td><td>null</td></tr><tr><td>3</td><td>3</td><td>&quot;O.sativa&quot;</td><td>&quot;ssp. japonica&quot;</td><td>&quot;Lagrue&quot;</td><td>&quot;WT&quot;</td><td>&quot;SRP413097&quot;</td><td>&quot;GSE220996&quot;</td><td>&quot;SRR22741462&quot;</td><td>&quot;SRR22741466&quot;</td><td>&quot;PAIRED&quot;</td><td>&quot;30/28&quot;</td><td>&quot;30/22.2&quot;</td><td>&quot;10h&quot;</td><td>null</td><td>&quot;green house&quot;</td><td>&quot;seed, endosperm, R6 caryopsis&quot;</td><td>&quot;R2 stage (booting) - R6 stage …</td><td>&quot;Illumina HiSeq 2000&quot;</td><td>&quot;cDNA&quot;</td><td>&quot;10.1038/s41598-023-31399-w&quot;</td><td>null</td><td>&quot;LaGrue(HNT-tolerant), high-nig…</td><td>null</td></tr><tr><td>4</td><td>4</td><td>&quot;O.sativa&quot;</td><td>&quot;ssp. japonica&quot;</td><td>&quot;Lagrue&quot;</td><td>&quot;WT&quot;</td><td>&quot;SRP413097&quot;</td><td>&quot;GSE220996&quot;</td><td>&quot;SRR22741463&quot;</td><td>&quot;SRR22741467&quot;</td><td>&quot;PAIRED&quot;</td><td>&quot;30/28&quot;</td><td>&quot;30/22.2&quot;</td><td>&quot;10h&quot;</td><td>null</td><td>&quot;green house&quot;</td><td>&quot;seed, endosperm, R6 caryopsis&quot;</td><td>&quot;R2 stage (booting) - R6 stage …</td><td>&quot;Illumina HiSeq 2000&quot;</td><td>&quot;cDNA&quot;</td><td>&quot;10.1038/s41598-023-31399-w&quot;</td><td>null</td><td>&quot;LaGrue(HNT-tolerant), high-nig…</td><td>null</td></tr><tr><td>5</td><td>5</td><td>&quot;O.sativa&quot;</td><td>&quot;ssp. japonica&quot;</td><td>&quot;Cypress&quot;</td><td>&quot;WT&quot;</td><td>&quot;SRP413097&quot;</td><td>&quot;GSE220996&quot;</td><td>&quot;SRR22741468&quot;</td><td>&quot;SRR22741472&quot;</td><td>&quot;PAIRED&quot;</td><td>&quot;30/28&quot;</td><td>&quot;30/22.2&quot;</td><td>&quot;10h&quot;</td><td>null</td><td>&quot;green house&quot;</td><td>&quot;seed, endosperm, R6 caryopsis&quot;</td><td>&quot;R2 stage (booting) - R6 stage …</td><td>&quot;Illumina HiSeq 2000&quot;</td><td>&quot;cDNA&quot;</td><td>&quot;10.1038/s41598-023-31399-w&quot;</td><td>null</td><td>&quot;Cypress(HNT-sensitive), high-n…</td><td>null</td></tr></tbody></table></div>"
      ],
      "text/plain": [
       "shape: (5, 24)\n",
       "┌──────────┬────────────┬──────────┬───────────┬───┬───────────┬───────────┬───────────┬───────────┐\n",
       "│ All-pair ┆ Project-pa ┆ Organism ┆ Sub-speci ┆ … ┆ DOI       ┆ GSM_Pair_ ┆ note      ┆ Technical │\n",
       "│ ---      ┆ ir         ┆ ---      ┆ es        ┆   ┆ ---       ┆ name      ┆ ---       ┆ Note      │\n",
       "│ i64      ┆ ---        ┆ str      ┆ ---       ┆   ┆ str       ┆ ---       ┆ str       ┆ ---       │\n",
       "│          ┆ i64        ┆          ┆ str       ┆   ┆           ┆ str       ┆           ┆ str       │\n",
       "╞══════════╪════════════╪══════════╪═══════════╪═══╪═══════════╪═══════════╪═══════════╪═══════════╡\n",
       "│ 1        ┆ 1          ┆ O.sativa ┆ ssp.      ┆ … ┆ 10.1038/s ┆ null      ┆ LaGrue(HN ┆ null      │\n",
       "│          ┆            ┆          ┆ japonica  ┆   ┆ 41598-023 ┆           ┆ T-toleran ┆           │\n",
       "│          ┆            ┆          ┆           ┆   ┆ -31399-w  ┆           ┆ t),       ┆           │\n",
       "│          ┆            ┆          ┆           ┆   ┆           ┆           ┆ high-nig… ┆           │\n",
       "│ 2        ┆ 2          ┆ O.sativa ┆ ssp.      ┆ … ┆ 10.1038/s ┆ null      ┆ LaGrue(HN ┆ null      │\n",
       "│          ┆            ┆          ┆ japonica  ┆   ┆ 41598-023 ┆           ┆ T-toleran ┆           │\n",
       "│          ┆            ┆          ┆           ┆   ┆ -31399-w  ┆           ┆ t),       ┆           │\n",
       "│          ┆            ┆          ┆           ┆   ┆           ┆           ┆ high-nig… ┆           │\n",
       "│ 3        ┆ 3          ┆ O.sativa ┆ ssp.      ┆ … ┆ 10.1038/s ┆ null      ┆ LaGrue(HN ┆ null      │\n",
       "│          ┆            ┆          ┆ japonica  ┆   ┆ 41598-023 ┆           ┆ T-toleran ┆           │\n",
       "│          ┆            ┆          ┆           ┆   ┆ -31399-w  ┆           ┆ t),       ┆           │\n",
       "│          ┆            ┆          ┆           ┆   ┆           ┆           ┆ high-nig… ┆           │\n",
       "│ 4        ┆ 4          ┆ O.sativa ┆ ssp.      ┆ … ┆ 10.1038/s ┆ null      ┆ LaGrue(HN ┆ null      │\n",
       "│          ┆            ┆          ┆ japonica  ┆   ┆ 41598-023 ┆           ┆ T-toleran ┆           │\n",
       "│          ┆            ┆          ┆           ┆   ┆ -31399-w  ┆           ┆ t),       ┆           │\n",
       "│          ┆            ┆          ┆           ┆   ┆           ┆           ┆ high-nig… ┆           │\n",
       "│ 5        ┆ 5          ┆ O.sativa ┆ ssp.      ┆ … ┆ 10.1038/s ┆ null      ┆ Cypress(H ┆ null      │\n",
       "│          ┆            ┆          ┆ japonica  ┆   ┆ 41598-023 ┆           ┆ NT-sensit ┆           │\n",
       "│          ┆            ┆          ┆           ┆   ┆ -31399-w  ┆           ┆ ive),     ┆           │\n",
       "│          ┆            ┆          ┆           ┆   ┆           ┆           ┆ high-n…   ┆           │\n",
       "└──────────┴────────────┴──────────┴───────────┴───┴───────────┴───────────┴───────────┴───────────┘"
      ]
     },
     "metadata": {},
     "output_type": "display_data"
    }
   ],
   "source": [
    "rice_meta_data = pl.read_csv(\"../Data/01_Meta-data/HS_rice_meta-data.csv\", separator = \",\")\n",
    "display(rice_meta_data.head())"
   ]
  },
  {
   "cell_type": "code",
   "execution_count": 11,
   "metadata": {},
   "outputs": [
    {
     "name": "stdout",
     "output_type": "stream",
     "text": [
      "shape: (1, 1)\n",
      "┌───────────────┐\n",
      "│ SRP accession │\n",
      "│ ---           │\n",
      "│ u32           │\n",
      "╞═══════════════╡\n",
      "│ 13            │\n",
      "└───────────────┘\n",
      "shape: (1, 1)\n",
      "┌──────────┐\n",
      "│ Cultivar │\n",
      "│ ---      │\n",
      "│ u32      │\n",
      "╞══════════╡\n",
      "│ 18       │\n",
      "└──────────┘\n",
      "shape: (1, 1)\n",
      "┌─────────────────────┐\n",
      "│ Treatment condition │\n",
      "│ ---                 │\n",
      "│ u32                 │\n",
      "╞═════════════════════╡\n",
      "│ 9                   │\n",
      "└─────────────────────┘\n",
      "shape: (1, 1)\n",
      "┌────────┐\n",
      "│ Tissue │\n",
      "│ ---    │\n",
      "│ u32    │\n",
      "╞════════╡\n",
      "│ 15     │\n",
      "└────────┘\n"
     ]
    }
   ],
   "source": [
    "print(rice_meta_data.select(pl.col(\"SRP accession\").n_unique()))\n",
    "print(rice_meta_data.select(pl.col(\"Cultivar\").n_unique()))\n",
    "print(rice_meta_data.select(pl.col(\"Treatment condition\").n_unique()))\n",
    "print(rice_meta_data.select(pl.col(\"Tissue\").n_unique()))"
   ]
  },
  {
   "cell_type": "code",
   "execution_count": 10,
   "metadata": {},
   "outputs": [
    {
     "data": {
      "text/html": [
       "<div><style>\n",
       ".dataframe > thead > tr,\n",
       ".dataframe > tbody > tr {\n",
       "  text-align: right;\n",
       "  white-space: pre-wrap;\n",
       "}\n",
       "</style>\n",
       "<small>shape: (3, 3)</small><table border=\"1\" class=\"dataframe\"><thead><tr><th>Sub-species</th><th>SRP_accession_count</th><th>Tissue_count</th></tr><tr><td>str</td><td>u32</td><td>u32</td></tr></thead><tbody><tr><td>&quot;ssp. japonica&quot;</td><td>10</td><td>13</td></tr><tr><td>&quot;ssp. indica&quot;</td><td>5</td><td>7</td></tr><tr><td>&quot;no description&quot;</td><td>1</td><td>1</td></tr></tbody></table></div>"
      ],
      "text/plain": [
       "shape: (3, 3)\n",
       "┌────────────────┬─────────────────────┬──────────────┐\n",
       "│ Sub-species    ┆ SRP_accession_count ┆ Tissue_count │\n",
       "│ ---            ┆ ---                 ┆ ---          │\n",
       "│ str            ┆ u32                 ┆ u32          │\n",
       "╞════════════════╪═════════════════════╪══════════════╡\n",
       "│ ssp. japonica  ┆ 10                  ┆ 13           │\n",
       "│ ssp. indica    ┆ 5                   ┆ 7            │\n",
       "│ no description ┆ 1                   ┆ 1            │\n",
       "└────────────────┴─────────────────────┴──────────────┘"
      ]
     },
     "metadata": {},
     "output_type": "display_data"
    }
   ],
   "source": [
    "rice_meta_data_extract_group = rice_meta_data.group_by(\n",
    "    ['Sub-species']\n",
    ").agg(\n",
    "    pl.col(\"SRP accession\").n_unique().alias(\"SRP_accession_count\"),\n",
    "    pl.col(\"Tissue\").n_unique().alias(\"Tissue_count\")\n",
    ")\n",
    "\n",
    "display(rice_meta_data_extract_group)"
   ]
  },
  {
   "cell_type": "markdown",
   "metadata": {},
   "source": [
    "&nbsp;\n",
    "\n",
    "&nbsp;\n",
    "\n",
    "&nbsp;"
   ]
  },
  {
   "cell_type": "markdown",
   "metadata": {},
   "source": [
    "## Separate dataframe based on read type"
   ]
  },
  {
   "cell_type": "code",
   "execution_count": 5,
   "metadata": {},
   "outputs": [
    {
     "data": {
      "text/html": [
       "<div><style>\n",
       ".dataframe > thead > tr,\n",
       ".dataframe > tbody > tr {\n",
       "  text-align: right;\n",
       "  white-space: pre-wrap;\n",
       "}\n",
       "</style>\n",
       "<small>shape: (5, 24)</small><table border=\"1\" class=\"dataframe\"><thead><tr><th>All-pair</th><th>Project-pair</th><th>Organism</th><th>Sub-species</th><th>Cultivar</th><th>Genotype</th><th>SRP accession</th><th>GEO Accession</th><th>Stress</th><th>Control</th><th>Library_Layout</th><th>Stress temperature (day/night) (℃)</th><th>Control temperature (day/night)(℃)</th><th>Time</th><th>Heat recovery</th><th>Treatment condition</th><th>Tissue</th><th>Period</th><th>Instrument</th><th>LibrarySelection</th><th>DOI</th><th>GSM_Pair_name</th><th>note</th><th>Technical Note</th></tr><tr><td>i64</td><td>i64</td><td>str</td><td>str</td><td>str</td><td>str</td><td>str</td><td>str</td><td>str</td><td>str</td><td>str</td><td>str</td><td>str</td><td>str</td><td>str</td><td>str</td><td>str</td><td>str</td><td>str</td><td>str</td><td>str</td><td>str</td><td>str</td><td>str</td></tr></thead><tbody><tr><td>15</td><td>1</td><td>&quot;O.sativa&quot;</td><td>&quot;ssp. japonica&quot;</td><td>&quot;Nipponbare&quot;</td><td>&quot;WT&quot;</td><td>&quot;SRP167327&quot;</td><td>&quot;GSE122021&quot;</td><td>&quot;SRR8140273&quot;</td><td>&quot;SRR8140267&quot;</td><td>&quot;SINGLE&quot;</td><td>&quot;45&quot;</td><td>&quot;29&quot;</td><td>&quot;3h&quot;</td><td>null</td><td>&quot;pre-warmed water&quot;</td><td>&quot;seedling (8-day old)&quot;</td><td>null</td><td>&quot;Illumina HiSeq 2000&quot;</td><td>&quot;cDNA&quot;</td><td>&quot;10.1111/pbi.13297&quot;</td><td>&quot;NIP_heat_1 vs NIP_control_1&quot;</td><td>null</td><td>&quot;WT and OsNTL3 knockout mutants…</td></tr><tr><td>16</td><td>2</td><td>&quot;O.sativa&quot;</td><td>&quot;ssp. japonica&quot;</td><td>&quot;Nipponbare&quot;</td><td>&quot;WT&quot;</td><td>&quot;SRP167327&quot;</td><td>&quot;GSE122021&quot;</td><td>&quot;SRR8140274&quot;</td><td>&quot;SRR8140268&quot;</td><td>&quot;SINGLE&quot;</td><td>&quot;45&quot;</td><td>&quot;29&quot;</td><td>&quot;3h&quot;</td><td>null</td><td>&quot;pre-warmed water&quot;</td><td>&quot;seedling (8-day old)&quot;</td><td>null</td><td>&quot;Illumina HiSeq 2000&quot;</td><td>&quot;cDNA&quot;</td><td>&quot;10.1111/pbi.13297&quot;</td><td>&quot;NIP_heat_1 vs NIP_control_1&quot;</td><td>null</td><td>&quot;WT and OsNTL3 knockout mutants…</td></tr><tr><td>17</td><td>3</td><td>&quot;O.sativa&quot;</td><td>&quot;ssp. japonica&quot;</td><td>&quot;Nipponbare&quot;</td><td>&quot;WT&quot;</td><td>&quot;SRP167327&quot;</td><td>&quot;GSE122021&quot;</td><td>&quot;SRR8140275&quot;</td><td>&quot;SRR8140269&quot;</td><td>&quot;SINGLE&quot;</td><td>&quot;45&quot;</td><td>&quot;29&quot;</td><td>&quot;3h&quot;</td><td>null</td><td>&quot;pre-warmed water&quot;</td><td>&quot;seedling (8-day old)&quot;</td><td>null</td><td>&quot;Illumina HiSeq 2000&quot;</td><td>&quot;cDNA&quot;</td><td>&quot;10.1111/pbi.13297&quot;</td><td>&quot;NIP_heat_2 vs NIP_control_2&quot;</td><td>null</td><td>&quot;WT and OsNTL3 knockout mutants…</td></tr><tr><td>18</td><td>4</td><td>&quot;O.sativa&quot;</td><td>&quot;ssp. japonica&quot;</td><td>&quot;Nipponbare&quot;</td><td>&quot;WT&quot;</td><td>&quot;SRP167327&quot;</td><td>&quot;GSE122021&quot;</td><td>&quot;SRR8140276&quot;</td><td>&quot;SRR8140270&quot;</td><td>&quot;SINGLE&quot;</td><td>&quot;45&quot;</td><td>&quot;29&quot;</td><td>&quot;3h&quot;</td><td>null</td><td>&quot;pre-warmed water&quot;</td><td>&quot;seedling (8-day old)&quot;</td><td>null</td><td>&quot;Illumina HiSeq 2000&quot;</td><td>&quot;cDNA&quot;</td><td>&quot;10.1111/pbi.13297&quot;</td><td>&quot;NIP_heat_2 vs NIP_control_2&quot;</td><td>null</td><td>&quot;WT and OsNTL3 knockout mutants…</td></tr><tr><td>19</td><td>5</td><td>&quot;O.sativa&quot;</td><td>&quot;ssp. japonica&quot;</td><td>&quot;Nipponbare&quot;</td><td>&quot;WT&quot;</td><td>&quot;SRP167327&quot;</td><td>&quot;GSE122021&quot;</td><td>&quot;SRR8140277&quot;</td><td>&quot;SRR8140271&quot;</td><td>&quot;SINGLE&quot;</td><td>&quot;45&quot;</td><td>&quot;29&quot;</td><td>&quot;3h&quot;</td><td>null</td><td>&quot;pre-warmed water&quot;</td><td>&quot;seedling (8-day old)&quot;</td><td>null</td><td>&quot;Illumina HiSeq 2000&quot;</td><td>&quot;cDNA&quot;</td><td>&quot;10.1111/pbi.13297&quot;</td><td>&quot;NIP_heat_3 vs NIP_control_3&quot;</td><td>null</td><td>&quot;WT and OsNTL3 knockout mutants…</td></tr></tbody></table></div>"
      ],
      "text/plain": [
       "shape: (5, 24)\n",
       "┌──────────┬─────────────┬──────────┬────────────┬───┬────────────┬────────────┬──────┬────────────┐\n",
       "│ All-pair ┆ Project-pai ┆ Organism ┆ Sub-specie ┆ … ┆ DOI        ┆ GSM_Pair_n ┆ note ┆ Technical  │\n",
       "│ ---      ┆ r           ┆ ---      ┆ s          ┆   ┆ ---        ┆ ame        ┆ ---  ┆ Note       │\n",
       "│ i64      ┆ ---         ┆ str      ┆ ---        ┆   ┆ str        ┆ ---        ┆ str  ┆ ---        │\n",
       "│          ┆ i64         ┆          ┆ str        ┆   ┆            ┆ str        ┆      ┆ str        │\n",
       "╞══════════╪═════════════╪══════════╪════════════╪═══╪════════════╪════════════╪══════╪════════════╡\n",
       "│ 15       ┆ 1           ┆ O.sativa ┆ ssp.       ┆ … ┆ 10.1111/pb ┆ NIP_heat_1 ┆ null ┆ WT and     │\n",
       "│          ┆             ┆          ┆ japonica   ┆   ┆ i.13297    ┆ vs NIP_con ┆      ┆ OsNTL3     │\n",
       "│          ┆             ┆          ┆            ┆   ┆            ┆ trol_1     ┆      ┆ knockout   │\n",
       "│          ┆             ┆          ┆            ┆   ┆            ┆            ┆      ┆ mutants…   │\n",
       "│ 16       ┆ 2           ┆ O.sativa ┆ ssp.       ┆ … ┆ 10.1111/pb ┆ NIP_heat_1 ┆ null ┆ WT and     │\n",
       "│          ┆             ┆          ┆ japonica   ┆   ┆ i.13297    ┆ vs NIP_con ┆      ┆ OsNTL3     │\n",
       "│          ┆             ┆          ┆            ┆   ┆            ┆ trol_1     ┆      ┆ knockout   │\n",
       "│          ┆             ┆          ┆            ┆   ┆            ┆            ┆      ┆ mutants…   │\n",
       "│ 17       ┆ 3           ┆ O.sativa ┆ ssp.       ┆ … ┆ 10.1111/pb ┆ NIP_heat_2 ┆ null ┆ WT and     │\n",
       "│          ┆             ┆          ┆ japonica   ┆   ┆ i.13297    ┆ vs NIP_con ┆      ┆ OsNTL3     │\n",
       "│          ┆             ┆          ┆            ┆   ┆            ┆ trol_2     ┆      ┆ knockout   │\n",
       "│          ┆             ┆          ┆            ┆   ┆            ┆            ┆      ┆ mutants…   │\n",
       "│ 18       ┆ 4           ┆ O.sativa ┆ ssp.       ┆ … ┆ 10.1111/pb ┆ NIP_heat_2 ┆ null ┆ WT and     │\n",
       "│          ┆             ┆          ┆ japonica   ┆   ┆ i.13297    ┆ vs NIP_con ┆      ┆ OsNTL3     │\n",
       "│          ┆             ┆          ┆            ┆   ┆            ┆ trol_2     ┆      ┆ knockout   │\n",
       "│          ┆             ┆          ┆            ┆   ┆            ┆            ┆      ┆ mutants…   │\n",
       "│ 19       ┆ 5           ┆ O.sativa ┆ ssp.       ┆ … ┆ 10.1111/pb ┆ NIP_heat_3 ┆ null ┆ WT and     │\n",
       "│          ┆             ┆          ┆ japonica   ┆   ┆ i.13297    ┆ vs NIP_con ┆      ┆ OsNTL3     │\n",
       "│          ┆             ┆          ┆            ┆   ┆            ┆ trol_3     ┆      ┆ knockout   │\n",
       "│          ┆             ┆          ┆            ┆   ┆            ┆            ┆      ┆ mutants…   │\n",
       "└──────────┴─────────────┴──────────┴────────────┴───┴────────────┴────────────┴──────┴────────────┘"
      ]
     },
     "metadata": {},
     "output_type": "display_data"
    },
    {
     "data": {
      "text/html": [
       "<div><style>\n",
       ".dataframe > thead > tr,\n",
       ".dataframe > tbody > tr {\n",
       "  text-align: right;\n",
       "  white-space: pre-wrap;\n",
       "}\n",
       "</style>\n",
       "<small>shape: (5, 24)</small><table border=\"1\" class=\"dataframe\"><thead><tr><th>All-pair</th><th>Project-pair</th><th>Organism</th><th>Sub-species</th><th>Cultivar</th><th>Genotype</th><th>SRP accession</th><th>GEO Accession</th><th>Stress</th><th>Control</th><th>Library_Layout</th><th>Stress temperature (day/night) (℃)</th><th>Control temperature (day/night)(℃)</th><th>Time</th><th>Heat recovery</th><th>Treatment condition</th><th>Tissue</th><th>Period</th><th>Instrument</th><th>LibrarySelection</th><th>DOI</th><th>GSM_Pair_name</th><th>note</th><th>Technical Note</th></tr><tr><td>i64</td><td>i64</td><td>str</td><td>str</td><td>str</td><td>str</td><td>str</td><td>str</td><td>str</td><td>str</td><td>str</td><td>str</td><td>str</td><td>str</td><td>str</td><td>str</td><td>str</td><td>str</td><td>str</td><td>str</td><td>str</td><td>str</td><td>str</td><td>str</td></tr></thead><tbody><tr><td>1</td><td>1</td><td>&quot;O.sativa&quot;</td><td>&quot;ssp. japonica&quot;</td><td>&quot;Lagrue&quot;</td><td>&quot;WT&quot;</td><td>&quot;SRP413097&quot;</td><td>&quot;GSE220996&quot;</td><td>&quot;SRR22741460&quot;</td><td>&quot;SRR22741464&quot;</td><td>&quot;PAIRED&quot;</td><td>&quot;30/28&quot;</td><td>&quot;30/22.2&quot;</td><td>&quot;10h&quot;</td><td>null</td><td>&quot;green house&quot;</td><td>&quot;seed, endosperm, R6 caryopsis&quot;</td><td>&quot;R2 stage (booting) - R6 stage …</td><td>&quot;Illumina HiSeq 2000&quot;</td><td>&quot;cDNA&quot;</td><td>&quot;10.1038/s41598-023-31399-w&quot;</td><td>null</td><td>&quot;LaGrue(HNT-tolerant), high-nig…</td><td>null</td></tr><tr><td>2</td><td>2</td><td>&quot;O.sativa&quot;</td><td>&quot;ssp. japonica&quot;</td><td>&quot;Lagrue&quot;</td><td>&quot;WT&quot;</td><td>&quot;SRP413097&quot;</td><td>&quot;GSE220996&quot;</td><td>&quot;SRR22741461&quot;</td><td>&quot;SRR22741465&quot;</td><td>&quot;PAIRED&quot;</td><td>&quot;30/28&quot;</td><td>&quot;30/22.2&quot;</td><td>&quot;10h&quot;</td><td>null</td><td>&quot;green house&quot;</td><td>&quot;seed, endosperm, R6 caryopsis&quot;</td><td>&quot;R2 stage (booting) - R6 stage …</td><td>&quot;Illumina HiSeq 2000&quot;</td><td>&quot;cDNA&quot;</td><td>&quot;10.1038/s41598-023-31399-w&quot;</td><td>null</td><td>&quot;LaGrue(HNT-tolerant), high-nig…</td><td>null</td></tr><tr><td>3</td><td>3</td><td>&quot;O.sativa&quot;</td><td>&quot;ssp. japonica&quot;</td><td>&quot;Lagrue&quot;</td><td>&quot;WT&quot;</td><td>&quot;SRP413097&quot;</td><td>&quot;GSE220996&quot;</td><td>&quot;SRR22741462&quot;</td><td>&quot;SRR22741466&quot;</td><td>&quot;PAIRED&quot;</td><td>&quot;30/28&quot;</td><td>&quot;30/22.2&quot;</td><td>&quot;10h&quot;</td><td>null</td><td>&quot;green house&quot;</td><td>&quot;seed, endosperm, R6 caryopsis&quot;</td><td>&quot;R2 stage (booting) - R6 stage …</td><td>&quot;Illumina HiSeq 2000&quot;</td><td>&quot;cDNA&quot;</td><td>&quot;10.1038/s41598-023-31399-w&quot;</td><td>null</td><td>&quot;LaGrue(HNT-tolerant), high-nig…</td><td>null</td></tr><tr><td>4</td><td>4</td><td>&quot;O.sativa&quot;</td><td>&quot;ssp. japonica&quot;</td><td>&quot;Lagrue&quot;</td><td>&quot;WT&quot;</td><td>&quot;SRP413097&quot;</td><td>&quot;GSE220996&quot;</td><td>&quot;SRR22741463&quot;</td><td>&quot;SRR22741467&quot;</td><td>&quot;PAIRED&quot;</td><td>&quot;30/28&quot;</td><td>&quot;30/22.2&quot;</td><td>&quot;10h&quot;</td><td>null</td><td>&quot;green house&quot;</td><td>&quot;seed, endosperm, R6 caryopsis&quot;</td><td>&quot;R2 stage (booting) - R6 stage …</td><td>&quot;Illumina HiSeq 2000&quot;</td><td>&quot;cDNA&quot;</td><td>&quot;10.1038/s41598-023-31399-w&quot;</td><td>null</td><td>&quot;LaGrue(HNT-tolerant), high-nig…</td><td>null</td></tr><tr><td>5</td><td>5</td><td>&quot;O.sativa&quot;</td><td>&quot;ssp. japonica&quot;</td><td>&quot;Cypress&quot;</td><td>&quot;WT&quot;</td><td>&quot;SRP413097&quot;</td><td>&quot;GSE220996&quot;</td><td>&quot;SRR22741468&quot;</td><td>&quot;SRR22741472&quot;</td><td>&quot;PAIRED&quot;</td><td>&quot;30/28&quot;</td><td>&quot;30/22.2&quot;</td><td>&quot;10h&quot;</td><td>null</td><td>&quot;green house&quot;</td><td>&quot;seed, endosperm, R6 caryopsis&quot;</td><td>&quot;R2 stage (booting) - R6 stage …</td><td>&quot;Illumina HiSeq 2000&quot;</td><td>&quot;cDNA&quot;</td><td>&quot;10.1038/s41598-023-31399-w&quot;</td><td>null</td><td>&quot;Cypress(HNT-sensitive), high-n…</td><td>null</td></tr></tbody></table></div>"
      ],
      "text/plain": [
       "shape: (5, 24)\n",
       "┌──────────┬────────────┬──────────┬───────────┬───┬───────────┬───────────┬───────────┬───────────┐\n",
       "│ All-pair ┆ Project-pa ┆ Organism ┆ Sub-speci ┆ … ┆ DOI       ┆ GSM_Pair_ ┆ note      ┆ Technical │\n",
       "│ ---      ┆ ir         ┆ ---      ┆ es        ┆   ┆ ---       ┆ name      ┆ ---       ┆ Note      │\n",
       "│ i64      ┆ ---        ┆ str      ┆ ---       ┆   ┆ str       ┆ ---       ┆ str       ┆ ---       │\n",
       "│          ┆ i64        ┆          ┆ str       ┆   ┆           ┆ str       ┆           ┆ str       │\n",
       "╞══════════╪════════════╪══════════╪═══════════╪═══╪═══════════╪═══════════╪═══════════╪═══════════╡\n",
       "│ 1        ┆ 1          ┆ O.sativa ┆ ssp.      ┆ … ┆ 10.1038/s ┆ null      ┆ LaGrue(HN ┆ null      │\n",
       "│          ┆            ┆          ┆ japonica  ┆   ┆ 41598-023 ┆           ┆ T-toleran ┆           │\n",
       "│          ┆            ┆          ┆           ┆   ┆ -31399-w  ┆           ┆ t),       ┆           │\n",
       "│          ┆            ┆          ┆           ┆   ┆           ┆           ┆ high-nig… ┆           │\n",
       "│ 2        ┆ 2          ┆ O.sativa ┆ ssp.      ┆ … ┆ 10.1038/s ┆ null      ┆ LaGrue(HN ┆ null      │\n",
       "│          ┆            ┆          ┆ japonica  ┆   ┆ 41598-023 ┆           ┆ T-toleran ┆           │\n",
       "│          ┆            ┆          ┆           ┆   ┆ -31399-w  ┆           ┆ t),       ┆           │\n",
       "│          ┆            ┆          ┆           ┆   ┆           ┆           ┆ high-nig… ┆           │\n",
       "│ 3        ┆ 3          ┆ O.sativa ┆ ssp.      ┆ … ┆ 10.1038/s ┆ null      ┆ LaGrue(HN ┆ null      │\n",
       "│          ┆            ┆          ┆ japonica  ┆   ┆ 41598-023 ┆           ┆ T-toleran ┆           │\n",
       "│          ┆            ┆          ┆           ┆   ┆ -31399-w  ┆           ┆ t),       ┆           │\n",
       "│          ┆            ┆          ┆           ┆   ┆           ┆           ┆ high-nig… ┆           │\n",
       "│ 4        ┆ 4          ┆ O.sativa ┆ ssp.      ┆ … ┆ 10.1038/s ┆ null      ┆ LaGrue(HN ┆ null      │\n",
       "│          ┆            ┆          ┆ japonica  ┆   ┆ 41598-023 ┆           ┆ T-toleran ┆           │\n",
       "│          ┆            ┆          ┆           ┆   ┆ -31399-w  ┆           ┆ t),       ┆           │\n",
       "│          ┆            ┆          ┆           ┆   ┆           ┆           ┆ high-nig… ┆           │\n",
       "│ 5        ┆ 5          ┆ O.sativa ┆ ssp.      ┆ … ┆ 10.1038/s ┆ null      ┆ Cypress(H ┆ null      │\n",
       "│          ┆            ┆          ┆ japonica  ┆   ┆ 41598-023 ┆           ┆ NT-sensit ┆           │\n",
       "│          ┆            ┆          ┆           ┆   ┆ -31399-w  ┆           ┆ ive),     ┆           │\n",
       "│          ┆            ┆          ┆           ┆   ┆           ┆           ┆ high-n…   ┆           │\n",
       "└──────────┴────────────┴──────────┴───────────┴───┴───────────┴───────────┴───────────┴───────────┘"
      ]
     },
     "metadata": {},
     "output_type": "display_data"
    }
   ],
   "source": [
    "rice_meta_data_se = rice_meta_data.filter(pl.col('Library_Layout') == 'SINGLE')\n",
    "rice_meta_data_se.write_csv('../Data/01_Meta-data/HS_rice_meta-data_SE.csv', separator=',')\n",
    "\n",
    "rice_meta_data_pe = rice_meta_data.filter(pl.col('Library_Layout') == 'PAIRED')\n",
    "rice_meta_data_pe.write_csv('../Data/01_Meta-data/HS_rice_meta-data_PE.csv', separator=',')\n",
    "\n",
    "display(rice_meta_data_se.head(), rice_meta_data_pe.head())"
   ]
  }
 ],
 "metadata": {
  "kernelspec": {
   "display_name": "Python 3",
   "language": "python",
   "name": "python3"
  },
  "language_info": {
   "codemirror_mode": {
    "name": "ipython",
    "version": 3
   },
   "file_extension": ".py",
   "mimetype": "text/x-python",
   "name": "python",
   "nbconvert_exporter": "python",
   "pygments_lexer": "ipython3",
   "version": "3.11.4"
  }
 },
 "nbformat": 4,
 "nbformat_minor": 2
}

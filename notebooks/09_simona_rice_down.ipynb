{
 "cells": [
  {
   "cell_type": "code",
   "execution_count": 1,
   "metadata": {
    "vscode": {
     "languageId": "r"
    }
   },
   "outputs": [
    {
     "data": {
      "text/plain": [
       "R version 4.4.1 (2024-06-14)\n",
       "Platform: aarch64-unknown-linux-gnu\n",
       "Running under: Debian GNU/Linux 11 (bullseye)\n",
       "\n",
       "Matrix products: default\n",
       "BLAS:   /usr/lib/aarch64-linux-gnu/openblas-pthread/libblas.so.3 \n",
       "LAPACK: /usr/lib/aarch64-linux-gnu/openblas-pthread/libopenblasp-r0.3.13.so;  LAPACK version 3.9.0\n",
       "\n",
       "locale:\n",
       " [1] LC_CTYPE=C.UTF-8       LC_NUMERIC=C           LC_TIME=C.UTF-8       \n",
       " [4] LC_COLLATE=C.UTF-8     LC_MONETARY=C.UTF-8    LC_MESSAGES=C.UTF-8   \n",
       " [7] LC_PAPER=C.UTF-8       LC_NAME=C              LC_ADDRESS=C          \n",
       "[10] LC_TELEPHONE=C         LC_MEASUREMENT=C.UTF-8 LC_IDENTIFICATION=C   \n",
       "\n",
       "time zone: Etc/UTC\n",
       "tzcode source: system (glibc)\n",
       "\n",
       "attached base packages:\n",
       "[1] stats     graphics  grDevices utils     datasets  methods   base     \n",
       "\n",
       "loaded via a namespace (and not attached):\n",
       " [1] digest_0.6.37     IRdisplay_1.1     base64enc_0.1-3   fastmap_1.2.0    \n",
       " [5] glue_1.8.0        htmltools_0.5.8.1 repr_1.1.7        lifecycle_1.0.4  \n",
       " [9] cli_3.6.5         vctrs_0.6.5       pbdZMQ_0.3-14     compiler_4.4.1   \n",
       "[13] tools_4.4.1       evaluate_1.0.3    pillar_1.10.2     rlang_1.1.6      \n",
       "[17] jsonlite_2.0.0    crayon_1.5.3      IRkernel_1.3.2    uuid_1.2-1       "
      ]
     },
     "metadata": {},
     "output_type": "display_data"
    }
   ],
   "source": [
    "sessionInfo()"
   ]
  },
  {
   "cell_type": "code",
   "execution_count": 2,
   "metadata": {
    "vscode": {
     "languageId": "r"
    }
   },
   "outputs": [
    {
     "name": "stderr",
     "output_type": "stream",
     "text": [
      "========================================\n",
      "simona version 1.4.0\n",
      "Bioconductor page: http://bioconductor.org/packages/simona/\n",
      "Github page: https://github.com/jokergoo/simona\n",
      "Documentation: https://jokergoo.github.io/simona/\n",
      "\n",
      "If you use it in published research, please cite:\n",
      "Gu, Z. simona: a Comprehensive R package for Semantic Similarity \n",
      "  Analysis on Bio-Ontologies. BMC Genomics, 2024.\n",
      "\n",
      "This message can be suppressed by:\n",
      "  suppressPackageStartupMessages(library(simona))\n",
      "========================================\n",
      "\n",
      "\n",
      "\n",
      "\n",
      "========================================\n",
      "simplifyEnrichment version 2.0.0\n",
      "Bioconductor page: https://bioconductor.org/packages/simplifyEnrichment/\n",
      "Github page: https://github.com/jokergoo/simplifyEnrichment\n",
      "Documentation: https://jokergoo.github.io/simplifyEnrichment/\n",
      "Examples: https://simplifyenrichment.github.io/\n",
      "\n",
      "If you use it in published research, please cite:\n",
      "Gu, Z. simplifyEnrichment: an R/Bioconductor package for Clustering and \n",
      "  Visualizing Functional Enrichment Results, Genomics, Proteomics & \n",
      "  Bioinformatics 2022.\n",
      "\n",
      "This message can be suppressed by:\n",
      "  suppressPackageStartupMessages(library(simplifyEnrichment))\n",
      "========================================\n",
      "\n",
      "\n",
      "Loading required package: grid\n",
      "\n",
      "========================================\n",
      "ComplexHeatmap version 2.22.0\n",
      "Bioconductor page: http://bioconductor.org/packages/ComplexHeatmap/\n",
      "Github page: https://github.com/jokergoo/ComplexHeatmap\n",
      "Documentation: http://jokergoo.github.io/ComplexHeatmap-reference\n",
      "\n",
      "If you use it in published research, please cite either one:\n",
      "- Gu, Z. Complex Heatmap Visualization. iMeta 2022.\n",
      "- Gu, Z. Complex heatmaps reveal patterns and correlations in multidimensional \n",
      "    genomic data. Bioinformatics 2016.\n",
      "\n",
      "\n",
      "The new InteractiveComplexHeatmap package can directly export static \n",
      "complex heatmaps into an interactive Shiny app with zero effort. Have a try!\n",
      "\n",
      "This message can be suppressed by:\n",
      "  suppressPackageStartupMessages(library(ComplexHeatmap))\n",
      "========================================\n",
      "\n",
      "\n"
     ]
    }
   ],
   "source": [
    "library(simona)\n",
    "library(simplifyEnrichment)\n",
    "library(ComplexHeatmap)\n",
    "library(Cairo)"
   ]
  },
  {
   "cell_type": "code",
   "execution_count": 3,
   "metadata": {
    "vscode": {
     "languageId": "r"
    }
   },
   "outputs": [
    {
     "name": "stdout",
     "output_type": "stream",
     "text": [
      " [1] \"Sim_Lin_1998\"         \"Sim_Resnik_1999\"      \"Sim_FaITH_2010\"      \n",
      " [4] \"Sim_Relevance_2006\"   \"Sim_SimIC_2010\"       \"Sim_XGraSM_2013\"     \n",
      " [7] \"Sim_EISI_2015\"        \"Sim_AIC_2014\"         \"Sim_Zhang_2006\"      \n",
      "[10] \"Sim_universal\"        \"Sim_Wang_2007\"        \"Sim_GOGO_2018\"       \n",
      "[13] \"Sim_Rada_1989\"        \"Sim_Resnik_edge_2005\" \"Sim_Leocock_1998\"    \n",
      "[16] \"Sim_WP_1994\"          \"Sim_Slimani_2006\"     \"Sim_Shenoy_2012\"     \n",
      "[19] \"Sim_Pekar_2002\"       \"Sim_Stojanovic_2001\"  \"Sim_Wang_edge_2012\"  \n",
      "[22] \"Sim_Zhong_2002\"       \"Sim_AlMubaid_2006\"    \"Sim_Li_2003\"         \n",
      "[25] \"Sim_RSS_2013\"         \"Sim_HRSS_2013\"        \"Sim_Shen_2010\"       \n",
      "[28] \"Sim_SSDD_2013\"        \"Sim_Jiang_1997\"       \"Sim_Kappa\"           \n",
      "[31] \"Sim_Jaccard\"          \"Sim_Dice\"             \"Sim_Overlap\"         \n",
      "[34] \"Sim_Ancestor\"        \n"
     ]
    }
   ],
   "source": [
    "print(all_term_sim_methods())"
   ]
  },
  {
   "cell_type": "markdown",
   "metadata": {},
   "source": [
    "&nbsp;\n",
    "\n",
    "&nbsp;\n",
    "\n",
    "&nbsp;"
   ]
  },
  {
   "cell_type": "markdown",
   "metadata": {},
   "source": [
    "# Biological process"
   ]
  },
  {
   "cell_type": "markdown",
   "metadata": {},
   "source": [
    "### 1) Get Gene Ontology DAGs"
   ]
  },
  {
   "cell_type": "code",
   "execution_count": 4,
   "metadata": {
    "vscode": {
     "languageId": "r"
    }
   },
   "outputs": [
    {
     "name": "stderr",
     "output_type": "stream",
     "text": [
      "relations: is_a, part_of, regulates, negatively_regulates, positively_regulates\n",
      "\n"
     ]
    }
   ],
   "source": [
    "# <https://jokergoo.github.io/simona/articles/v02_GO.html>\n",
    "dag_bp <- create_ontology_DAG_from_GO_db(\"BP\", relations = c(\"part of\", \"regulates\")) # nolint"
   ]
  },
  {
   "cell_type": "code",
   "execution_count": 5,
   "metadata": {
    "vscode": {
     "languageId": "r"
    }
   },
   "outputs": [
    {
     "name": "stdout",
     "output_type": "stream",
     "text": [
      "[1] \"GO:0006879\" \"GO:0006826\" \"GO:0060586\" \"GO:0140962\" \"GO:0048871\"\n",
      "[6] \"GO:0000041\" \"GO:0098771\" \"GO:0030003\"\n"
     ]
    }
   ],
   "source": [
    "rice_goa_enrichment_result_bp <- read.table(\n",
    "  \"../Data/10_enrichment_result_viz/BP_enrichment_down_modified.tsv\", # nolint\n",
    "  header = TRUE,\n",
    "  sep = \"\\t\"\n",
    ")\n",
    "\n",
    "rice_top_go_ids_bp <- rice_goa_enrichment_result_bp$GO\n",
    "show(rice_top_go_ids_bp)"
   ]
  },
  {
   "cell_type": "code",
   "execution_count": 6,
   "metadata": {
    "vscode": {
     "languageId": "r"
    }
   },
   "outputs": [
    {
     "name": "stderr",
     "output_type": "stream",
     "text": [
      "term_sim_method: Sim_WP_1994\n",
      "\n",
      "collecting all ancestors of input terms ...\n",
      "\n",
      "\n",
      "going through 0 / 23 ancestors ...\n",
      "\n",
      "going through 23 / 23 ancestors ... Done.\n",
      "\n",
      "collecting all ancestors of input terms ...\n",
      "\n",
      "\n",
      "going through 0 / 23 ancestors ...\n",
      "\n",
      "going through 23 / 23 ancestors ... Done.\n",
      "\n"
     ]
    },
    {
     "name": "stdout",
     "output_type": "stream",
     "text": [
      "           GO:0006879 GO:0006826 GO:0060586 GO:0140962 GO:0048871 GO:0000041\n",
      "GO:0006879  1.0000000  0.0000000  0.7272727  0.4444444  0.2500000  0.0000000\n",
      "GO:0006826  0.0000000  1.0000000  0.0000000  0.0000000  0.0000000  0.9333333\n",
      "GO:0060586  0.7272727  0.0000000  1.0000000  0.8571429  0.6666667  0.0000000\n",
      "GO:0140962  0.4444444  0.0000000  0.8571429  1.0000000  0.8000000  0.0000000\n",
      "GO:0048871  0.2500000  0.0000000  0.6666667  0.8000000  1.0000000  0.0000000\n",
      "GO:0000041  0.0000000  0.9333333  0.0000000  0.0000000  0.0000000  1.0000000\n",
      "GO:0098771  0.8571429  0.0000000  0.8571429  0.6666667  0.4000000  0.0000000\n",
      "GO:0030003  0.9090909  0.0000000  0.8000000  0.5000000  0.2857143  0.0000000\n",
      "           GO:0098771 GO:0030003\n",
      "GO:0006879  0.8571429  0.9090909\n",
      "GO:0006826  0.0000000  0.0000000\n",
      "GO:0060586  0.8571429  0.8000000\n",
      "GO:0140962  0.6666667  0.5000000\n",
      "GO:0048871  0.4000000  0.2857143\n",
      "GO:0000041  0.0000000  0.0000000\n",
      "GO:0098771  1.0000000  0.5000000\n",
      "GO:0030003  0.5000000  1.0000000\n"
     ]
    }
   ],
   "source": [
    "mat_bp <- term_sim(dag_bp, rice_top_go_ids_bp, method = \"Sim_WP_1994\")\n",
    "print(mat_bp)"
   ]
  },
  {
   "cell_type": "code",
   "execution_count": 7,
   "metadata": {
    "vscode": {
     "languageId": "r"
    }
   },
   "outputs": [
    {
     "name": "stderr",
     "output_type": "stream",
     "text": [
      "Cluster 8 terms by 'binary_cut'...\n",
      " 2 clusters, used 0.01514387 secs.\n",
      "\n",
      "Perform keywords enrichment for 2 GO lists...\n",
      "\n"
     ]
    },
    {
     "data": {
      "text/html": [
       "<strong>pdf:</strong> 2"
      ],
      "text/latex": [
       "\\textbf{pdf:} 2"
      ],
      "text/markdown": [
       "**pdf:** 2"
      ],
      "text/plain": [
       "pdf \n",
       "  2 "
      ]
     },
     "metadata": {},
     "output_type": "display_data"
    }
   ],
   "source": [
    "png(\"../Data/11_sem_sim_viz/rice_down_bp_enrichment_cluster_modified.png\", width = 2300, height = 1600, res = 300) # nolint\n",
    "simplifyGO(mat_bp)\n",
    "dev.off()"
   ]
  },
  {
   "cell_type": "markdown",
   "metadata": {},
   "source": [
    "&nbsp;\n",
    "\n",
    "&nbsp;\n",
    "\n",
    "&nbsp;"
   ]
  },
  {
   "cell_type": "markdown",
   "metadata": {},
   "source": [
    "# Cellular Component"
   ]
  },
  {
   "cell_type": "markdown",
   "metadata": {},
   "source": [
    "### 1) Get Gene Ontology DAGs"
   ]
  },
  {
   "cell_type": "code",
   "execution_count": 8,
   "metadata": {
    "vscode": {
     "languageId": "r"
    }
   },
   "outputs": [
    {
     "name": "stderr",
     "output_type": "stream",
     "text": [
      "relations: is_a, part_of, regulates, negatively_regulates, positively_regulates\n",
      "\n"
     ]
    }
   ],
   "source": [
    "# <https://jokergoo.github.io/simona/articles/v02_GO.html>\n",
    "dag_cc <- create_ontology_DAG_from_GO_db(\"CC\", relations = c(\"part of\", \"regulates\")) # nolint"
   ]
  },
  {
   "cell_type": "code",
   "execution_count": 9,
   "metadata": {
    "vscode": {
     "languageId": "r"
    }
   },
   "outputs": [
    {
     "name": "stdout",
     "output_type": "stream",
     "text": [
      "[1] \"GO:0005576\" \"GO:0048046\"\n"
     ]
    }
   ],
   "source": [
    "rice_goa_enrichment_result_cc <- read.table(\n",
    "  \"../Data/10_enrichment_result_viz/CC_enrichment_down_modified.tsv\", # nolint\n",
    "  header = TRUE,\n",
    "  sep = \"\\t\"\n",
    ")\n",
    "rice_top_go_ids_cc <- rice_goa_enrichment_result_cc$GO\n",
    "show(rice_top_go_ids_cc)"
   ]
  },
  {
   "cell_type": "code",
   "execution_count": 10,
   "metadata": {
    "vscode": {
     "languageId": "r"
    }
   },
   "outputs": [
    {
     "name": "stderr",
     "output_type": "stream",
     "text": [
      "term_sim_method: Sim_WP_1994\n",
      "\n",
      "collecting all ancestors of input terms ...\n",
      "\n",
      "\n",
      "going through 0 / 4 ancestors ...\n",
      "\n",
      "going through 4 / 4 ancestors ... Done.\n",
      "\n",
      "collecting all ancestors of input terms ...\n",
      "\n",
      "\n",
      "going through 0 / 4 ancestors ...\n",
      "\n",
      "going through 4 / 4 ancestors ... Done.\n",
      "\n"
     ]
    },
    {
     "name": "stdout",
     "output_type": "stream",
     "text": [
      "           GO:0005576 GO:0048046\n",
      "GO:0005576        1.0        0.8\n",
      "GO:0048046        0.8        1.0\n"
     ]
    }
   ],
   "source": [
    "mat_cc <- term_sim(dag_cc, rice_top_go_ids_cc, method = \"Sim_WP_1994\")\n",
    "print(mat_cc)"
   ]
  },
  {
   "cell_type": "code",
   "execution_count": 12,
   "metadata": {
    "vscode": {
     "languageId": "r"
    }
   },
   "outputs": [
    {
     "name": "stderr",
     "output_type": "stream",
     "text": [
      "Cluster 2 terms by 'binary_cut'...\n",
      " 1 clusters, used 0.004441023 secs.\n",
      "\n",
      "Perform keywords enrichment for 1 GO lists...\n",
      "\n"
     ]
    },
    {
     "data": {
      "text/html": [
       "<strong>pdf:</strong> 2"
      ],
      "text/latex": [
       "\\textbf{pdf:} 2"
      ],
      "text/markdown": [
       "**pdf:** 2"
      ],
      "text/plain": [
       "pdf \n",
       "  2 "
      ]
     },
     "metadata": {},
     "output_type": "display_data"
    }
   ],
   "source": [
    "png(\"../Data/11_sem_sim_viz/rice_down_cc_enrichment_cluster_modified.png\", width = 1000, height = 800, res = 200) # nolint\n",
    "simplifyGO(mat_cc)\n",
    "dev.off()"
   ]
  },
  {
   "cell_type": "markdown",
   "metadata": {},
   "source": [
    "&nbsp;\n",
    "\n",
    "&nbsp;\n",
    "\n",
    "&nbsp;"
   ]
  },
  {
   "cell_type": "markdown",
   "metadata": {},
   "source": [
    "# Molecular Function\n",
    "### 1) Get Gene Ontology DAGs"
   ]
  },
  {
   "cell_type": "code",
   "execution_count": 13,
   "metadata": {
    "vscode": {
     "languageId": "r"
    }
   },
   "outputs": [
    {
     "name": "stderr",
     "output_type": "stream",
     "text": [
      "relations: is_a, part_of, regulates, negatively_regulates, positively_regulates\n",
      "\n"
     ]
    }
   ],
   "source": [
    "# <https://jokergoo.github.io/simona/articles/v02_GO.html>\n",
    "dag_mf <- create_ontology_DAG_from_GO_db(\"MF\", relations = c(\"part of\", \"regulates\")) # nolint"
   ]
  },
  {
   "cell_type": "code",
   "execution_count": 14,
   "metadata": {
    "vscode": {
     "languageId": "r"
    }
   },
   "outputs": [
    {
     "name": "stdout",
     "output_type": "stream",
     "text": [
      "[1] \"GO:0004497\" \"GO:0020037\" \"GO:0046906\" \"GO:0016705\" \"GO:0005506\"\n",
      "[6] \"GO:0016491\" \"GO:0010333\"\n"
     ]
    }
   ],
   "source": [
    "rice_goa_enrichment_result_mf <- read.table(\n",
    "  \"../Data/10_enrichment_result_viz/MF_enrichment_down_modified.tsv\", # nolint\n",
    "  header = TRUE,\n",
    "  sep = \"\\t\"\n",
    ")\n",
    "rice_top_go_ids_mf <- rice_goa_enrichment_result_mf$GO\n",
    "show(rice_top_go_ids_mf)"
   ]
  },
  {
   "cell_type": "code",
   "execution_count": 15,
   "metadata": {
    "vscode": {
     "languageId": "r"
    }
   },
   "outputs": [
    {
     "name": "stderr",
     "output_type": "stream",
     "text": [
      "term_sim_method: Sim_WP_1994\n",
      "\n",
      "collecting all ancestors of input terms ...\n",
      "\n",
      "\n",
      "going through 0 / 19 ancestors ...\n",
      "\n",
      "going through 19 / 19 ancestors ... Done.\n",
      "\n",
      "collecting all ancestors of input terms ...\n",
      "\n",
      "\n",
      "going through 0 / 19 ancestors ...\n",
      "\n",
      "going through 19 / 19 ancestors ... Done.\n",
      "\n"
     ]
    },
    {
     "name": "stdout",
     "output_type": "stream",
     "text": [
      "           GO:0004497 GO:0020037 GO:0046906 GO:0016705 GO:0005506 GO:0016491\n",
      "GO:0004497  1.0000000  0.0000000  0.0000000  0.6666667  0.0000000  0.8000000\n",
      "GO:0020037  0.0000000  1.0000000  0.8571429  0.0000000  0.1818182  0.0000000\n",
      "GO:0046906  0.0000000  0.8571429  1.0000000  0.0000000  0.2000000  0.0000000\n",
      "GO:0016705  0.6666667  0.0000000  0.0000000  1.0000000  0.0000000  0.8000000\n",
      "GO:0005506  0.0000000  0.1818182  0.2000000  0.0000000  1.0000000  0.0000000\n",
      "GO:0016491  0.8000000  0.0000000  0.0000000  0.8000000  0.0000000  1.0000000\n",
      "GO:0010333  0.2500000  0.0000000  0.0000000  0.2500000  0.0000000  0.2857143\n",
      "           GO:0010333\n",
      "GO:0004497  0.2500000\n",
      "GO:0020037  0.0000000\n",
      "GO:0046906  0.0000000\n",
      "GO:0016705  0.2500000\n",
      "GO:0005506  0.0000000\n",
      "GO:0016491  0.2857143\n",
      "GO:0010333  1.0000000\n"
     ]
    }
   ],
   "source": [
    "mat_mf <- term_sim(dag_mf, rice_top_go_ids_mf, method = \"Sim_WP_1994\")\n",
    "print(mat_mf)"
   ]
  },
  {
   "cell_type": "code",
   "execution_count": 16,
   "metadata": {
    "vscode": {
     "languageId": "r"
    }
   },
   "outputs": [
    {
     "name": "stderr",
     "output_type": "stream",
     "text": [
      "Cluster 7 terms by 'binary_cut'...\n",
      " 2 clusters, used 0.01658201 secs.\n",
      "\n",
      "Perform keywords enrichment for 2 GO lists...\n",
      "\n"
     ]
    },
    {
     "data": {
      "text/html": [
       "<strong>pdf:</strong> 2"
      ],
      "text/latex": [
       "\\textbf{pdf:} 2"
      ],
      "text/markdown": [
       "**pdf:** 2"
      ],
      "text/plain": [
       "pdf \n",
       "  2 "
      ]
     },
     "metadata": {},
     "output_type": "display_data"
    }
   ],
   "source": [
    "png(\"../Data/11_sem_sim_viz/rice_down_mf_enrichment_cluster_modified.png\", width = 1150, height = 1000, res = 200) # nolint\n",
    "simplifyGO(mat_mf)\n",
    "dev.off()"
   ]
  }
 ],
 "metadata": {
  "kernelspec": {
   "display_name": "R",
   "language": "R",
   "name": "ir"
  },
  "language_info": {
   "codemirror_mode": "r",
   "file_extension": ".r",
   "mimetype": "text/x-r-source",
   "name": "R",
   "pygments_lexer": "r",
   "version": "4.4.1"
  }
 },
 "nbformat": 4,
 "nbformat_minor": 2
}

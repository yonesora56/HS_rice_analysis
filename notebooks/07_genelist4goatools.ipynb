{
 "cells": [
  {
   "cell_type": "code",
   "execution_count": 1,
   "metadata": {},
   "outputs": [],
   "source": [
    "import requests\n",
    "import json\n",
    "import time\n",
    "import polars as pl"
   ]
  },
  {
   "cell_type": "markdown",
   "metadata": {},
   "source": [
    "## Create Gene List"
   ]
  },
  {
   "cell_type": "code",
   "execution_count": 3,
   "metadata": {},
   "outputs": [
    {
     "data": {
      "text/html": [
       "<div><style>\n",
       ".dataframe > thead > tr,\n",
       ".dataframe > tbody > tr {\n",
       "  text-align: right;\n",
       "  white-space: pre-wrap;\n",
       "}\n",
       "</style>\n",
       "<small>shape: (5, 1)</small><table border=\"1\" class=\"dataframe\"><thead><tr><th>GENEID</th></tr><tr><td>str</td></tr></thead><tbody><tr><td>&quot;Os04g0107900&quot;</td></tr><tr><td>&quot;Os01g0136100&quot;</td></tr><tr><td>&quot;Os02g0259900&quot;</td></tr><tr><td>&quot;Os02g0259850&quot;</td></tr><tr><td>&quot;Os03g0245800&quot;</td></tr></tbody></table></div>"
      ],
      "text/plain": [
       "shape: (5, 1)\n",
       "┌──────────────┐\n",
       "│ GENEID       │\n",
       "│ ---          │\n",
       "│ str          │\n",
       "╞══════════════╡\n",
       "│ Os04g0107900 │\n",
       "│ Os01g0136100 │\n",
       "│ Os02g0259900 │\n",
       "│ Os02g0259850 │\n",
       "│ Os03g0245800 │\n",
       "└──────────────┘"
      ]
     },
     "metadata": {},
     "output_type": "display_data"
    },
    {
     "data": {
      "text/html": [
       "<div><style>\n",
       ".dataframe > thead > tr,\n",
       ".dataframe > tbody > tr {\n",
       "  text-align: right;\n",
       "  white-space: pre-wrap;\n",
       "}\n",
       "</style>\n",
       "<small>shape: (5, 1)</small><table border=\"1\" class=\"dataframe\"><thead><tr><th>GENEID</th></tr><tr><td>str</td></tr></thead><tbody><tr><td>&quot;Os01g0192900&quot;</td></tr><tr><td>&quot;Os01g0248701&quot;</td></tr><tr><td>&quot;Os01g0813800&quot;</td></tr><tr><td>&quot;Os01g0940700&quot;</td></tr><tr><td>&quot;Os01g0949900&quot;</td></tr></tbody></table></div>"
      ],
      "text/plain": [
       "shape: (5, 1)\n",
       "┌──────────────┐\n",
       "│ GENEID       │\n",
       "│ ---          │\n",
       "│ str          │\n",
       "╞══════════════╡\n",
       "│ Os01g0192900 │\n",
       "│ Os01g0248701 │\n",
       "│ Os01g0813800 │\n",
       "│ Os01g0940700 │\n",
       "│ Os01g0949900 │\n",
       "└──────────────┘"
      ]
     },
     "metadata": {},
     "output_type": "display_data"
    }
   ],
   "source": [
    "upgenelist = pl.read_csv(\n",
    "    \"../Data/07_extract_gene/HN5_genelist_rice_2505/HN5_genes_up_rice.tsv\", \n",
    "    separator=\"\\t\"\n",
    ").select(\n",
    "    \"GENEID\"\n",
    ")\n",
    "\n",
    "downgenelist = pl.read_csv(\n",
    "    \"../Data/07_extract_gene/HN5_genelist_rice_2505/HN5_genes_down_rice.tsv\", \n",
    "    separator=\"\\t\"\n",
    ").select(\n",
    "    \"GENEID\"\n",
    ")\n",
    "\n",
    "display(upgenelist.head(), downgenelist.head())"
   ]
  },
  {
   "cell_type": "code",
   "execution_count": 4,
   "metadata": {},
   "outputs": [],
   "source": [
    "# save as .txt (no header) for goatools\n",
    "upgenelist.write_csv(\n",
    "    \"../Data/09_goatools/HN5_genes_up_rice.txt\", \n",
    "    separator=\"\\t\", \n",
    "    include_header=False\n",
    ")\n",
    "\n",
    "downgenelist.write_csv(\n",
    "    \"../Data/09_goatools/HN5_genes_down_rice.txt\", \n",
    "    separator=\"\\t\", \n",
    "    include_header=False\n",
    ")"
   ]
  },
  {
   "cell_type": "markdown",
   "metadata": {},
   "source": [
    "&nbsp;\n",
    "\n",
    "&nbsp;\n",
    "\n",
    "&nbsp;"
   ]
  },
  {
   "cell_type": "markdown",
   "metadata": {},
   "source": [
    "## Create Gene-Gene Ontology association file"
   ]
  },
  {
   "cell_type": "code",
   "execution_count": 5,
   "metadata": {},
   "outputs": [
    {
     "data": {
      "text/html": [
       "<div><style>\n",
       ".dataframe > thead > tr,\n",
       ".dataframe > tbody > tr {\n",
       "  text-align: right;\n",
       "  white-space: pre-wrap;\n",
       "}\n",
       "</style>\n",
       "<small>shape: (119_976, 2)</small><table border=\"1\" class=\"dataframe\"><thead><tr><th>Gene stable ID</th><th>GO term accession</th></tr><tr><td>str</td><td>str</td></tr></thead><tbody><tr><td>&quot;Os01g0100100&quot;</td><td>&quot;GO:0090630&quot;</td></tr><tr><td>&quot;Os01g0100100&quot;</td><td>&quot;GO:0005096&quot;</td></tr><tr><td>&quot;Os01g0100300&quot;</td><td>&quot;GO:0005506&quot;</td></tr><tr><td>&quot;Os01g0100300&quot;</td><td>&quot;GO:0020037&quot;</td></tr><tr><td>&quot;Os01g0100300&quot;</td><td>&quot;GO:0016705&quot;</td></tr><tr><td>&hellip;</td><td>&hellip;</td></tr><tr><td>&quot;gene-rps8&quot;</td><td>&quot;GO:0003735&quot;</td></tr><tr><td>&quot;gene-rps8&quot;</td><td>&quot;GO:1990904&quot;</td></tr><tr><td>&quot;gene-rps8&quot;</td><td>&quot;GO:0009507&quot;</td></tr><tr><td>&quot;gene-rps8&quot;</td><td>&quot;GO:0009536&quot;</td></tr><tr><td>&quot;gene-rps8&quot;</td><td>&quot;GO:0003723&quot;</td></tr></tbody></table></div>"
      ],
      "text/plain": [
       "shape: (119_976, 2)\n",
       "┌────────────────┬───────────────────┐\n",
       "│ Gene stable ID ┆ GO term accession │\n",
       "│ ---            ┆ ---               │\n",
       "│ str            ┆ str               │\n",
       "╞════════════════╪═══════════════════╡\n",
       "│ Os01g0100100   ┆ GO:0090630        │\n",
       "│ Os01g0100100   ┆ GO:0005096        │\n",
       "│ Os01g0100300   ┆ GO:0005506        │\n",
       "│ Os01g0100300   ┆ GO:0020037        │\n",
       "│ Os01g0100300   ┆ GO:0016705        │\n",
       "│ …              ┆ …                 │\n",
       "│ gene-rps8      ┆ GO:0003735        │\n",
       "│ gene-rps8      ┆ GO:1990904        │\n",
       "│ gene-rps8      ┆ GO:0009507        │\n",
       "│ gene-rps8      ┆ GO:0009536        │\n",
       "│ gene-rps8      ┆ GO:0003723        │\n",
       "└────────────────┴───────────────────┘"
      ]
     },
     "metadata": {},
     "output_type": "display_data"
    }
   ],
   "source": [
    "#load data (retrieved from ensembl plants release 58)\n",
    "all_gene_GOA = pl.read_csv(\n",
    "    \"../Data/09_goatools/ensembl/rice_go_annotation_r58.tsv\",\n",
    "    separator=\"\\t\"\n",
    ").select(\n",
    "    \"Gene stable ID\",\n",
    "    \"GO term accession\"\n",
    ").filter(\n",
    "    pl.col(\"GO term accession\").is_not_null()\n",
    ").sort(\n",
    "    \"Gene stable ID\"\n",
    ").unique(\n",
    "    subset=[\"Gene stable ID\", \"GO term accession\"],\n",
    "    maintain_order=True\n",
    ")\n",
    "\n",
    "display(all_gene_GOA)"
   ]
  },
  {
   "cell_type": "code",
   "execution_count": 7,
   "metadata": {},
   "outputs": [
    {
     "data": {
      "text/html": [
       "<div><style>\n",
       ".dataframe > thead > tr,\n",
       ".dataframe > tbody > tr {\n",
       "  text-align: right;\n",
       "  white-space: pre-wrap;\n",
       "}\n",
       "</style>\n",
       "<small>shape: (22_868, 2)</small><table border=\"1\" class=\"dataframe\"><thead><tr><th>Gene stable ID</th><th>GO term accessions</th></tr><tr><td>str</td><td>str</td></tr></thead><tbody><tr><td>&quot;Os01g0100100&quot;</td><td>&quot;GO:0090630;GO:0005096&quot;</td></tr><tr><td>&quot;Os01g0100300&quot;</td><td>&quot;GO:0005506;GO:0020037;GO:00167…</td></tr><tr><td>&quot;Os01g0100400&quot;</td><td>&quot;GO:0016491;GO:0005507;GO:00058…</td></tr><tr><td>&quot;Os01g0100500&quot;</td><td>&quot;GO:0016020&quot;</td></tr><tr><td>&quot;Os01g0100600&quot;</td><td>&quot;GO:0003676&quot;</td></tr><tr><td>&hellip;</td><td>&hellip;</td></tr><tr><td>&quot;gene-rps4&quot;</td><td>&quot;GO:0015935;GO:0019843;GO:00057…</td></tr><tr><td>&quot;gene-rps7&quot;</td><td>&quot;GO:0006412;GO:0005840;GO:00159…</td></tr><tr><td>&quot;gene-rps7-2&quot;</td><td>&quot;GO:0006412;GO:0005840;GO:00159…</td></tr><tr><td>&quot;gene-rps7-3&quot;</td><td>&quot;GO:0006412;GO:0015935;GO:00057…</td></tr><tr><td>&quot;gene-rps8&quot;</td><td>&quot;GO:0006412;GO:0005840;GO:00198…</td></tr></tbody></table></div>"
      ],
      "text/plain": [
       "shape: (22_868, 2)\n",
       "┌────────────────┬─────────────────────────────────┐\n",
       "│ Gene stable ID ┆ GO term accessions              │\n",
       "│ ---            ┆ ---                             │\n",
       "│ str            ┆ str                             │\n",
       "╞════════════════╪═════════════════════════════════╡\n",
       "│ Os01g0100100   ┆ GO:0090630;GO:0005096           │\n",
       "│ Os01g0100300   ┆ GO:0005506;GO:0020037;GO:00167… │\n",
       "│ Os01g0100400   ┆ GO:0016491;GO:0005507;GO:00058… │\n",
       "│ Os01g0100500   ┆ GO:0016020                      │\n",
       "│ Os01g0100600   ┆ GO:0003676                      │\n",
       "│ …              ┆ …                               │\n",
       "│ gene-rps4      ┆ GO:0015935;GO:0019843;GO:00057… │\n",
       "│ gene-rps7      ┆ GO:0006412;GO:0005840;GO:00159… │\n",
       "│ gene-rps7-2    ┆ GO:0006412;GO:0005840;GO:00159… │\n",
       "│ gene-rps7-3    ┆ GO:0006412;GO:0015935;GO:00057… │\n",
       "│ gene-rps8      ┆ GO:0006412;GO:0005840;GO:00198… │\n",
       "└────────────────┴─────────────────────────────────┘"
      ]
     },
     "metadata": {},
     "output_type": "display_data"
    }
   ],
   "source": [
    "gene_go_concatenated = all_gene_GOA.group_by(\n",
    "    \"Gene stable ID\"\n",
    ").agg(\n",
    "    pl.col(\"GO term accession\").map_elements(\n",
    "        lambda x: \";\".join(x),return_dtype=pl.String\n",
    "    ).alias(\"GO term accessions\")\n",
    ").sort(\n",
    "    \"Gene stable ID\"\n",
    ")\n",
    "\n",
    "gene_go_concatenated.write_csv(\n",
    "    \"../Data/09_goatools/rice_go_annotation_r58_concatenated.txt\",\n",
    "    separator=\"\\t\",\n",
    "    include_header=False\n",
    ")\n",
    "\n",
    "display(gene_go_concatenated)"
   ]
  },
  {
   "cell_type": "code",
   "execution_count": 6,
   "metadata": {},
   "outputs": [],
   "source": [
    "# rice_all_gene_list = pl.read_csv(\n",
    "#     \"../Data/Biomart/rice_all_genelist.tsv\",\n",
    "#     separator=\"\\t\"\n",
    "# )\n",
    "\n",
    "# rice_all_genelist_txt = rice_all_gene_list.select(\n",
    "#     \"Gene stable ID\"\n",
    "# ).write_csv(\n",
    "#     \"../Data/Biomart/rice_all_genelist.txt\",\n",
    "#     separator=\"\\t\",\n",
    "#     include_header=False\n",
    "# )\n",
    "\n",
    "# protein_coding_txt = rice_all_gene_list.filter(\n",
    "#     pl.col(\"Gene type\") == \"protein_coding\"\n",
    "# ).select(\n",
    "#     \"Gene stable ID\"\n",
    "# ).write_csv(\n",
    "#     \"../Data/Biomart/rice_all_genelist_protein_coding.txt\",\n",
    "#     separator=\"\\t\",\n",
    "#     include_header=False\n",
    "# )"
   ]
  }
 ],
 "metadata": {
  "kernelspec": {
   "display_name": "Python 3",
   "language": "python",
   "name": "python3"
  },
  "language_info": {
   "codemirror_mode": {
    "name": "ipython",
    "version": 3
   },
   "file_extension": ".py",
   "mimetype": "text/x-python",
   "name": "python",
   "nbconvert_exporter": "python",
   "pygments_lexer": "ipython3",
   "version": "3.11.4"
  }
 },
 "nbformat": 4,
 "nbformat_minor": 2
}
